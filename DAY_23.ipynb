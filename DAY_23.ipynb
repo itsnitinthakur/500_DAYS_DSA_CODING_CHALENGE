{
 "cells": [
  {
   "cell_type": "markdown",
   "metadata": {},
   "source": [
    "# N-th Tribonacci Number\n",
    "\n",
    "The Tribonacci sequence Tn is defined as follows: \n",
    "\n",
    "T0 = 0, T1 = 1, T2 = 1, and Tn+3 = Tn + Tn+1 + Tn+2 for n >= 0.\n",
    "\n",
    "Given n, return the value of Tn.\n",
    "\n",
    " \n",
    "\n",
    "Example 1:\n",
    "\n",
    "Input: n = 4\n",
    "Output: 4\n",
    "Explanation:\n",
    "T_3 = 0 + 1 + 1 = 2\n",
    "T_4 = 1 + 1 + 2 = 4\n",
    "Example 2:\n",
    "\n",
    "Input: n = 25\n",
    "Output: 1389537\n",
    " \n",
    "\n",
    "Constraints:\n",
    "\n",
    "0 <= n <= 37\n",
    "The answer is guaranteed to fit within a 32-bit integer, ie. answer <= 2^31 - 1."
   ]
  },
  {
   "cell_type": "code",
   "execution_count": 7,
   "metadata": {},
   "outputs": [
    {
     "data": {
      "text/plain": [
       "1389537"
      ]
     },
     "execution_count": 7,
     "metadata": {},
     "output_type": "execute_result"
    }
   ],
   "source": [
    "def f(n):\n",
    "    if n==0:\n",
    "        return 0\n",
    "    elif n==1:\n",
    "        return 1\n",
    "    elif n==2:\n",
    "        return 1\n",
    "    else:\n",
    "        return f(n-1)+f(n-2)+f(n-3)\n",
    "f(25)"
   ]
  },
  {
   "cell_type": "code",
   "execution_count": null,
   "metadata": {},
   "outputs": [],
   "source": [
    "class Solution:\n",
    "    def tribonacci(self, n):\n",
    "        if n<3:\n",
    "            return n if n<=1 else 1\n",
    "        arr = [0]*(n+1)\n",
    "        arr[1], arr[2] = 1, 1\n",
    "        for i in range(3, n+1):\n",
    "            arr[i] = arr[i-1] + arr[i-2] + arr[i-3]\n",
    "        return arr[-1]"
   ]
  },
  {
   "cell_type": "code",
   "execution_count": null,
   "metadata": {},
   "outputs": [],
   "source": [
    "from functools import cache\n",
    "class Solution:\n",
    "    @cache\n",
    "    def tribonacci(self, n):\n",
    "        if n<3:\n",
    "            return n if n<=1 else 1\n",
    "        else:\n",
    "            return self.tribonacci(n-1) + self.tribonacci(n-2) + self.tribonacci(n-3)"
   ]
  },
  {
   "cell_type": "code",
   "execution_count": null,
   "metadata": {},
   "outputs": [],
   "source": [
    "class Solution:\n",
    "    def tribonacci(self, n: int) -> int:\n",
    "        if n == 0: \n",
    "            return 0\n",
    "        if n == 1:\n",
    "            return 1\n",
    "        memo=[-1]*(n+1)\n",
    "        memo[0]=0\n",
    "        memo[1]=1\n",
    "        memo[2]=1\n",
    "        def helper(n):\n",
    "            if n <= 2: \n",
    "                return memo[n]\n",
    "            elif memo[n] != -1: \n",
    "                return memo[n]\n",
    "            else: \n",
    "                memo[n] = helper(n-1)+helper(n-2)+helper(n-3)\n",
    "                return memo[n]\n",
    "        return helper(n)"
   ]
  },
  {
   "cell_type": "code",
   "execution_count": null,
   "metadata": {},
   "outputs": [],
   "source": [
    "def find_num(n, cache = {}):\n",
    "    if cache.get(n) != None:return cache[n]\n",
    "    if 1<=n<=2:\n",
    "        return 1 \n",
    "    if n==0:\n",
    "        return 0\n",
    "    cache[n] = find_num(n-1, cache) + find_num(n-2, cache)+find_num(n-3, cache)\n",
    "    return cache[n]\n",
    "class Solution:\n",
    "    def tribonacci(self, n: int) -> int:\n",
    "        return find_num(n)"
   ]
  },
  {
   "cell_type": "code",
   "execution_count": null,
   "metadata": {},
   "outputs": [],
   "source": [
    "class Solution:\n",
    "    def tribonacci(self, n: int) -> int:\n",
    "        hmap = {}\n",
    "        hmap[0] = 0\n",
    "        hmap[1] = 1\n",
    "        hmap[2] = 1\n",
    "        \n",
    "        def trib(n):\n",
    "            if n in hmap:\n",
    "                return hmap[n]\n",
    "            else:\n",
    "                val = trib(n-1) + trib(n-2) + trib(n-3)\n",
    "                hmap[n] = val\n",
    "                return val\n",
    "        return trib(n)"
   ]
  },
  {
   "cell_type": "code",
   "execution_count": null,
   "metadata": {},
   "outputs": [],
   "source": []
  }
 ],
 "metadata": {
  "kernelspec": {
   "display_name": "Python 3",
   "language": "python",
   "name": "python3"
  },
  "language_info": {
   "codemirror_mode": {
    "name": "ipython",
    "version": 3
   },
   "file_extension": ".py",
   "mimetype": "text/x-python",
   "name": "python",
   "nbconvert_exporter": "python",
   "pygments_lexer": "ipython3",
   "version": "3.8.5"
  }
 },
 "nbformat": 4,
 "nbformat_minor": 4
}
