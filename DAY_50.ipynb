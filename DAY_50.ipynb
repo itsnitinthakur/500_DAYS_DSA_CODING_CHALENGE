{
 "cells": [
  {
   "cell_type": "code",
   "execution_count": null,
   "metadata": {},
   "outputs": [],
   "source": [
    "class Solution:\n",
    "    def moveZeroes(self, nums):\n",
    "        j=0\n",
    "        for num in nums:\n",
    "            if(num!=0):\n",
    "                nums[j]=num\n",
    "                j+=1\n",
    "        for x in range(j,len(nums)):\n",
    "            nums[x]=0\n",
    "        print(nums)\n",
    "s=Solution()\n",
    "s.moveZeroes([0,2,0,1,4])"
   ]
  },
  {
   "cell_type": "code",
   "execution_count": 1,
   "metadata": {},
   "outputs": [
    {
     "name": "stdout",
     "output_type": "stream",
     "text": [
      "4\n"
     ]
    }
   ],
   "source": [
    "people = [3,5,3,4]\n",
    "limit = 5\n",
    "people.sort()\n",
    "left=0\n",
    "right=len(people)-1\n",
    "b=0\n",
    "while left<=right:\n",
    "    if left==right:\n",
    "        b+=1\n",
    "        break\n",
    "    if people[left]+people[right]<=limit:\n",
    "        left = left+1\n",
    "        right = right-1\n",
    "        b+=1\n",
    "    else:\n",
    "        right=right-1\n",
    "        b+=1\n",
    "print(b)\n",
    "        "
   ]
  },
  {
   "cell_type": "code",
   "execution_count": 2,
   "metadata": {},
   "outputs": [
    {
     "name": "stdout",
     "output_type": "stream",
     "text": [
      "4\n"
     ]
    }
   ],
   "source": [
    "#fastest\n",
    "\n",
    "class Solution:\n",
    "    def lengthOfLongestSubstring(self, s: str) -> int:\n",
    "        m = {}\n",
    "        left = 0\n",
    "        right = 0\n",
    "        ans = 0\n",
    "        n = len(s)\n",
    "        while(left<n and right<n):\n",
    "            el = s[right]\n",
    "            if(el in m):\n",
    "                left = max(left,m[el]+1)\n",
    "            m[el] = right\n",
    "            ans = max(ans,right-left+1)\n",
    "            right+=1\n",
    "        return ans\n",
    "s=Solution()\n",
    "answer=s.lengthOfLongestSubstring(\"fhvwvwi\")\n",
    "print(answer)"
   ]
  },
  {
   "cell_type": "code",
   "execution_count": null,
   "metadata": {},
   "outputs": [],
   "source": [
    "from typing import List\n",
    "class Solution:\n",
    "    def missingNumber(self, nums: List[int]):\n",
    "        curr = sum(nums)\n",
    "        n=len(nums)\n",
    "        sums=n*(n+1)/2\n",
    "        return int(sums-curr)\n",
    "s = Solution()\n",
    "s.missingNumber([3,0,1])\n"
   ]
  },
  {
   "cell_type": "code",
   "execution_count": null,
   "metadata": {},
   "outputs": [],
   "source": [
    "class Solution:\n",
    "    def countPrimes(self, n: int) -> int:\n",
    "        sum, sieve = 0, ([True] * n)\n",
    "        for i in range(2, n): \n",
    "            if sieve[i]:\n",
    "                sum = sum + 1\n",
    "                for i in range(i * i, n, i):\n",
    "                    sieve[i] = False\n",
    "        return sum"
   ]
  },
  {
   "cell_type": "code",
   "execution_count": null,
   "metadata": {},
   "outputs": [],
   "source": [
    "from typing import List\n",
    "class Solution:\n",
    "    def containsDuplicate(self, nums: List[int]) -> bool:\n",
    "        set_num = set(nums)\n",
    "        return len(set_num) != len(nums)\n",
    "s = Solution()\n",
    "s.containsDuplicate([1,3,3,4])"
   ]
  },
  {
   "cell_type": "code",
   "execution_count": 3,
   "metadata": {},
   "outputs": [
    {
     "data": {
      "text/plain": [
       "[['eat', 'tea', 'ate'], ['tan', 'nat'], ['bat']]"
      ]
     },
     "execution_count": 3,
     "metadata": {},
     "output_type": "execute_result"
    }
   ],
   "source": [
    "from typing import List\n",
    "class Solution:\n",
    "    def findHash(self,s):\n",
    "        return ''.join(sorted(s))\n",
    "    def groupAnagrams(self, strs: List[str]) -> List[List[str]]:\n",
    "        answers = []\n",
    "        m = {}\n",
    "\n",
    "        for s in strs:\n",
    "            hashed = self.findHash(s)\n",
    "            if(hashed not in m):\n",
    "                m[hashed] = []\n",
    "            m[hashed].append(s)\n",
    "        \n",
    "        for p in m.values():\n",
    "            answers.append(p)\n",
    "        \n",
    "        return answers\n",
    "s=Solution()\n",
    "s.groupAnagrams([\"eat\",\"tea\",\"tan\",\"ate\",\"nat\",\"bat\"])"
   ]
  },
  {
   "cell_type": "markdown",
   "metadata": {},
   "source": [
    "# INTERVIEW QUESTIONS"
   ]
  },
  {
   "cell_type": "markdown",
   "metadata": {},
   "source": [
    "Find the repeating and the missing | Added 3 new methods\n",
    "Difficulty Level : Medium\n",
    "Last Updated : 08 Apr, 2021\n",
    "Given an unsorted array of size n. Array elements are in the range from 1 to n. One number from set {1, 2, …n} is missing and one number occurs twice in the array. Find these two numbers.\n",
    "\n",
    "Examples: \n",
    "\n",
    " Input: arr[] = {3, 1, 3}\n",
    "Output: Missing = 2, Repeating = 3\n",
    "Explanation: In the array, \n",
    "2 is missing and 3 occurs twice \n",
    "\n",
    "Input: arr[] = {4, 3, 6, 2, 1, 1}\n",
    "Output: Missing = 5, Repeating = 1"
   ]
  },
  {
   "cell_type": "code",
   "execution_count": 7,
   "metadata": {},
   "outputs": [
    {
     "name": "stdout",
     "output_type": "stream",
     "text": [
      "Repeating = 1\n",
      "Missing = 5\n"
     ]
    }
   ],
   "source": [
    "# Python3 program to find the\n",
    "# repeating and missing elements\n",
    "# using Maps\n",
    "def main():\n",
    "\t\n",
    "\tarr = [ 4, 3, 6, 2, 1, 1 ]\n",
    "\t\n",
    "\tnumberMap = {}\n",
    "\t\n",
    "\tmax = len(arr)\n",
    "    #TO FIND DUPLICATE\n",
    "\tfor i in arr:\n",
    "\t\tif not i in numberMap:\n",
    "\t\t\tnumberMap[i] = True\n",
    "\t\t\t\n",
    "\t\telse:\n",
    "\t\t\tprint(\"Repeating =\", i)\n",
    "\t#TO MISIING NUMBER\n",
    "\tfor i in range(1, max + 1):\n",
    "\t\tif not i in numberMap:\n",
    "\t\t\tprint(\"Missing =\", i)\n",
    "main()\n",
    "\n",
    "# This code is contributed by stutipathak31jan\n"
   ]
  },
  {
   "cell_type": "code",
   "execution_count": 4,
   "metadata": {},
   "outputs": [
    {
     "name": "stdout",
     "output_type": "stream",
     "text": [
      "The repeating element is 5\n",
      "and the missing element is 1\n"
     ]
    }
   ],
   "source": [
    "def printTwoElements( arr, size):\n",
    "    #for \n",
    "    for i in range(size):\n",
    "        if arr[abs(arr[i])-1] > 0:\n",
    "            arr[abs(arr[i])-1] = -arr[abs(arr[i])-1]\n",
    "        else:\n",
    "            print(\"The repeating element is\", abs(arr[i]))\n",
    "              \n",
    "    for i in range(size):\n",
    "        if arr[i]>0:\n",
    "            print(\"and the missing element is\", i + 1)\n",
    "  \n",
    "# program to test above function \n",
    "arr = [7, 3, 4, 5, 5, 6, 2]\n",
    "n = len(arr)\n",
    "printTwoElements(arr, n)"
   ]
  },
  {
   "cell_type": "code",
   "execution_count": 5,
   "metadata": {},
   "outputs": [
    {
     "name": "stdout",
     "output_type": "stream",
     "text": [
      "The missing element is 7 and the repeating number is 5\n"
     ]
    }
   ],
   "source": [
    "\n",
    "# Python3 program to find the repeating\n",
    "# and missing elements\n",
    "\n",
    "# The output of this function is stored\n",
    "# at x and y\n",
    "def getTwoElements(arr, n):\n",
    "\t\n",
    "\tglobal x, y\n",
    "\tx = 0\n",
    "\ty = 0\n",
    "\t\n",
    "\t# Will hold xor of all elements\n",
    "\t# and numbers from 1 to n\n",
    "\txor1 = arr[0]\n",
    "\t\n",
    "\t# Get the xor of all array elements\n",
    "\tfor i in range(1, n):\n",
    "\t\txor1 = xor1 ^ arr[i]\n",
    "\t\t\n",
    "\t# XOR the previous result with numbers\n",
    "\t# from 1 to n\n",
    "\tfor i in range(1, n + 1):\n",
    "\t\txor1 = xor1 ^ i\n",
    "\t\n",
    "\t# Will have only single set bit of xor1\n",
    "\tset_bit_no = xor1 & ~(xor1 - 1)\n",
    "\t\n",
    "\t# Now divide elements into two\n",
    "\t# sets by comparing a rightmost set\n",
    "\t# bit of xor1 with the bit at the same\n",
    "\t# position in each element. Also,\n",
    "\t# get XORs of two sets. The two\n",
    "\t# XORs are the output elements.\n",
    "\t# The following two for loops\n",
    "\t# serve the purpose\n",
    "\tfor i in range(n):\n",
    "\t\tif (arr[i] & set_bit_no) != 0:\n",
    "\t\t\t\n",
    "\t\t\t# arr[i] belongs to first set\n",
    "\t\t\tx = x ^ arr[i]\n",
    "\t\telse:\n",
    "\t\t\t\n",
    "\t\t\t# arr[i] belongs to second set\n",
    "\t\t\ty = y ^ arr[i]\n",
    "\t\t\t\n",
    "\tfor i in range(1, n + 1):\n",
    "\t\tif (i & set_bit_no) != 0:\n",
    "\t\t\t\n",
    "\t\t\t# i belongs to first set\n",
    "\t\t\tx = x ^ i\n",
    "\t\telse:\n",
    "\t\t\t\n",
    "\t\t\t# i belongs to second set\n",
    "\t\t\ty = y ^ i\n",
    "\t\t\n",
    "\t# x and y hold the desired\n",
    "\t# output elements\n",
    "\t\n",
    "# Driver code\n",
    "arr = [ 1, 3, 4, 5, 5, 6, 2 ]\n",
    "n = len(arr)\n",
    "\t\n",
    "getTwoElements(arr, n)\n",
    "\n",
    "print(\"The missing element is\", x,\n",
    "\t\"and the repeating number is\", y)\n",
    "\t\n",
    "# This code is contributed by stutipathak31jan\n"
   ]
  },
  {
   "cell_type": "code",
   "execution_count": 8,
   "metadata": {},
   "outputs": [
    {
     "name": "stdout",
     "output_type": "stream",
     "text": [
      "6 5 "
     ]
    }
   ],
   "source": [
    "def repeatedNumber(A):\n",
    "\t\n",
    "\tlength = len(A)\n",
    "\tSum_N = (length * (length + 1)) // 2\n",
    "\tSum_NSq = ((length * (length + 1) *\n",
    "\t\t\t\t\t(2 * length + 1)) // 6)\n",
    "\t\n",
    "\tmissingNumber, repeating = 0, 0\n",
    "\t\n",
    "\tfor i in range(len(A)):\n",
    "\t\tSum_N -= A[i]\n",
    "\t\tSum_NSq -= A[i] * A[i]\n",
    "\t\t\n",
    "\tmissingNumber = (Sum_N + Sum_NSq //\n",
    "\t\t\t\t\t\t\tSum_N) // 2\n",
    "\trepeating = missingNumber - Sum_N\n",
    "\t\n",
    "\tans = []\n",
    "\tans.append(repeating)\n",
    "\tans.append(missingNumber)\n",
    "\t\n",
    "\treturn ans\n",
    "\n",
    "# Driver code\n",
    "v = [ 4, 3, 6, 2, 1, 6, 7 ]\n",
    "res = repeatedNumber(v)\n",
    "\n",
    "for i in res:\n",
    "\tprint(i, end = \" \")\n",
    "\n",
    "# This code is contributed by stutipathak31jan\n"
   ]
  },
  {
   "cell_type": "markdown",
   "metadata": {},
   "source": [
    "# 55. Jump Game\n",
    "\n",
    "Given an array of non-negative integers nums, you are initially positioned at the first index of the array.\n",
    "\n",
    "Each element in the array represents your maximum jump length at that position.\n",
    "\n",
    "Determine if you are able to reach the last index.\n",
    "\n",
    " \n",
    "\n",
    "Example 1:\n",
    "\n",
    "Input: nums = [2,3,1,1,4]\n",
    "Output: true\n",
    "Explanation: Jump 1 step from index 0 to 1, then 3 steps to the last index.\n",
    "Example 2:\n",
    "\n",
    "Input: nums = [3,2,1,0,4]\n",
    "Output: false\n",
    "Explanation: You will always arrive at index 3 no matter what. Its maximum jump length is 0, which makes it impossible to reach the last index."
   ]
  },
  {
   "cell_type": "code",
   "execution_count": 19,
   "metadata": {},
   "outputs": [
    {
     "name": "stdout",
     "output_type": "stream",
     "text": [
      "0\n",
      "#########\n",
      "1\n",
      "1\n",
      "#########\n",
      "3\n",
      "2\n",
      "#########\n",
      "3\n",
      "3\n",
      "#########\n",
      "4\n",
      "4\n",
      "#########\n",
      "4\n"
     ]
    },
    {
     "data": {
      "text/plain": [
       "True"
      ]
     },
     "execution_count": 19,
     "metadata": {},
     "output_type": "execute_result"
    }
   ],
   "source": [
    "from typing import List\n",
    "class Solution:\n",
    "    def canJump(self, nums: List[int]) -> bool:\n",
    "        index = 0\n",
    "        for i, num in enumerate(nums):\n",
    "            if i > index:\n",
    "                return False\n",
    "            index = max(num + i, index)\n",
    "            print(i)\n",
    "            print(\"#########\")\n",
    "            print(index)\n",
    "        return True\n",
    "s=Solution()\n",
    "s.canJump([1,2,1,1,0])"
   ]
  },
  {
   "cell_type": "code",
   "execution_count": null,
   "metadata": {},
   "outputs": [],
   "source": [
    "class Solution:\n",
    "    def canJump(self, nums: List[int]) -> bool:\n",
    "        if len(nums)==1:\n",
    "            return True\n",
    "        n=len(nums)\n",
    "        a=nums[0]\n",
    "        b=nums[0]\n",
    "        i=1\n",
    "        while i<n:\n",
    "            a-=1\n",
    "            b-=1\n",
    "            if a<0:\n",
    "                return False\n",
    "            if i==n-1:\n",
    "                return True\n",
    "            if b<nums[i]:\n",
    "                b=nums[i]\n",
    "            if a==0:\n",
    "                a=b\n",
    "            i+=1"
   ]
  },
  {
   "cell_type": "code",
   "execution_count": null,
   "metadata": {},
   "outputs": [],
   "source": [
    "class Solution:\n",
    "    def canJump(self, array: List[int]) -> bool:\n",
    "        if(array[0]==0 and len(array)==1):\n",
    "            return(True)\n",
    "        if(array[0]==0):\n",
    "            return(False)\n",
    "        reachable=0\n",
    "        n=len(array)\n",
    "        if(0 not in array[:n-1]):\n",
    "            return(True)\n",
    "        for i in range(n-1):\n",
    "            reach=i+array[i]\n",
    "            reachable=max(reachable,reach)\n",
    "            if(array[i]==0 and reachable==i):\n",
    "                return(False)\n",
    "        if(reachable>=n-1):\n",
    "            return(True)\n",
    "        else:\n",
    "            return(False)"
   ]
  },
  {
   "cell_type": "markdown",
   "metadata": {},
   "source": [
    "we check if from any cell, we can jump to the nearest cell from which reaching target through jumps is possible. Of course you can jump farther from that !\n",
    "but we only need to know whether we can reach the target from that cell or not.\n",
    "Pos array to store posssibility: true or false\n",
    "lti or lastrue points to the nearest element whose pos is True\n",
    "pos[-1]=True\n",
    "loop from len(nums)-2 to 0:\n",
    "reqjump=lastrueindex-currentindex=4\n",
    "maxjumpfromindex=nums[currentindex]\n",
    "if maxjummpfromindex>=reqjump:\n",
    "pos[currentindex]=True\n",
    "lasttrueindex=currentindex"
   ]
  },
  {
   "cell_type": "code",
   "execution_count": null,
   "metadata": {},
   "outputs": [],
   "source": [
    "class Solution:\n",
    "    def canJump(self, nums: List[int]) -> bool:\n",
    "        if len(nums)==1:\n",
    "            return True\n",
    "        \n",
    "        pos=[False for f in range(0,len(nums))]\n",
    "        pos[-1]=True\n",
    "        lti=len(nums)-1\n",
    "        \n",
    "        for ci in range(len(nums)-2,-1,-1):\n",
    "            if lti-ci<=nums[ci]:\n",
    "                pos[ci]=True\n",
    "                lti=ci\n",
    "        \n",
    "        return pos[0]"
   ]
  },
  {
   "cell_type": "markdown",
   "metadata": {},
   "source": [
    "Minimum number of characters to be replaced to make a given string Palindrome\n",
    "Difficulty Level : Easy\n",
    "Last Updated : 25 May, 2021\n",
    "Given string str, the task is to find the minimum number of characters to be replaced to make a given string palindrome. Replacing a character means replacing it with any single character in the same position. We are not allowed to remove or add any characters. \n",
    "If there are multiple answers, print the lexicographically smallest string.\n",
    "\n",
    "Examples:  \n",
    "\n",
    "Input: str = \"geeks\"\n",
    "Output: 2\n",
    "geeks can be converted to geeeg to make it palindrome\n",
    "by replacing minimum characters.\n",
    "\n",
    "Input: str = \"ameba\"\n",
    "Output: 1\n",
    "We can get \"abeba\" or \"amema\" with only 1 change. "
   ]
  },
  {
   "cell_type": "code",
   "execution_count": 28,
   "metadata": {},
   "outputs": [
    {
     "name": "stdout",
     "output_type": "stream",
     "text": [
      "Minimum characters to be replaced =  6\n",
      "abafhdfkfdhfaba\n"
     ]
    }
   ],
   "source": [
    "# Python Implementation of the above approach\n",
    "\n",
    "# Function to find the minimum number\n",
    "# character change required\n",
    "import math as ma\n",
    "def change(s):\n",
    "\n",
    "\t# Finding the length of the string\n",
    "\tn = len(s)\n",
    "\n",
    "\t# To store the number of replacement operations\n",
    "\tcc = 0\n",
    "\n",
    "\tfor i in range(n//2):\n",
    "\n",
    "\t\t# If the characters at location\n",
    "\t\t# i and n-i-1 are same then\n",
    "\t\t# no change is required\n",
    "\t\tif(s[i]== s[n-i-1]):\n",
    "\t\t\tcontinue\n",
    "\n",
    "\t\t# Counting one change operation\n",
    "\t\tcc+= 1\n",
    "\n",
    "\t\t# Changing the character with higher\n",
    "\t\t# ascii value with lower ascii value\n",
    "\t\tif(s[i]!=s[n-i-1]):\n",
    "\t\t\ts[n-i-1]= s[i]\n",
    "\t\telse:\n",
    "\t\t\ts[i]= s[n-i-1]\n",
    "\n",
    "\tprint(\"Minimum characters to be replaced = \", str(cc))\n",
    "\tprint(*s, sep =\"\")\n",
    "\t\n",
    "# Driver code\n",
    "s = \"abafhdfkukjhbbg\"\n",
    "change(list(s))\n"
   ]
  },
  {
   "cell_type": "code",
   "execution_count": null,
   "metadata": {},
   "outputs": [],
   "source": []
  }
 ],
 "metadata": {
  "kernelspec": {
   "display_name": "Python 3",
   "language": "python",
   "name": "python3"
  },
  "language_info": {
   "codemirror_mode": {
    "name": "ipython",
    "version": 3
   },
   "file_extension": ".py",
   "mimetype": "text/x-python",
   "name": "python",
   "nbconvert_exporter": "python",
   "pygments_lexer": "ipython3",
   "version": "3.8.5"
  }
 },
 "nbformat": 4,
 "nbformat_minor": 4
}
