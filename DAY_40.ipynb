{
 "cells": [
  {
   "cell_type": "markdown",
   "metadata": {},
   "source": [
    "# Remove All Adjacent Duplicates In String\n",
    "\n",
    "You are given a string s consisting of lowercase English letters. A duplicate removal consists of choosing two adjacent and equal letters and removing them.\n",
    "\n",
    "We repeatedly make duplicate removals on s until we no longer can.\n",
    "\n",
    "Return the final string after all such duplicate removals have been made. It can be proven that the answer is unique.\n",
    "\n",
    " \n",
    "\n",
    "Example 1:\n",
    "\n",
    "Input: s = \"abbaca\"\n",
    "Output: \"ca\"\n",
    "Explanation: \n",
    "For example, in \"abbaca\" we could remove \"bb\" since the letters are adjacent and equal, and this is the only possible move.  The result of this move is that the string is \"aaca\", of which only \"aa\" is possible, so the final string is \"ca\".\n",
    "Example 2:\n",
    "\n",
    "Input: s = \"azxxzy\"\n",
    "Output: \"ay\"\n",
    " \n",
    "\n",
    "Constraints:\n",
    "\n",
    "1 <= s.length <= 105\n",
    "s consists of lowercase English letters."
   ]
  },
  {
   "cell_type": "code",
   "execution_count": 4,
   "metadata": {},
   "outputs": [
    {
     "name": "stdout",
     "output_type": "stream",
     "text": [
      "{'a', 'b', 'c'}\n"
     ]
    }
   ],
   "source": [
    "s = \"abbaca\"\n",
    "st = set(s)\n",
    "print(st)"
   ]
  },
  {
   "cell_type": "code",
   "execution_count": null,
   "metadata": {},
   "outputs": [],
   "source": [
    "#fastest\n",
    "class Solution:\n",
    "\tdef removeDuplicates(self, st: str) -> str:        \n",
    "\t\ts = set(st)\n",
    "\n",
    "\t\twhile True:\n",
    "\t\t\tflag = False\n",
    "\n",
    "\t\t\tfor k in s:\n",
    "\t\t\t\tif k*2 in st:\n",
    "\t\t\t\t\tst = st.replace(k*2, '')\n",
    "\t\t\t\t\tflag = True\n",
    "\n",
    "\t\t\tif not flag:\n",
    "\t\t\t\tbreak\n",
    "\n",
    "\t\treturn st"
   ]
  },
  {
   "cell_type": "code",
   "execution_count": null,
   "metadata": {},
   "outputs": [],
   "source": [
    "import collections\n",
    "\n",
    "class Solution:\n",
    "    def removeDuplicates(self, s: str) -> str:\n",
    "        stack=collections.deque()\n",
    "        stack.append(s[0])\n",
    "        for index in range(1,len(s)):\n",
    "            if(stack and stack[-1]==s[index]):\n",
    "                stack.pop()\n",
    "            else:\n",
    "                stack.append(s[index])\n",
    "        return \"\".join(stack)"
   ]
  },
  {
   "cell_type": "code",
   "execution_count": null,
   "metadata": {},
   "outputs": [],
   "source": [
    "\tstack = [0]\n",
    "        for i in s:\n",
    "            if stack[-1]==i: stack.pop()\n",
    "            else: stack.append(i)\n",
    "        stack.pop(0)\n",
    "        ans = ''.join([str(char) for char in stack])\n",
    "        return ans"
   ]
  },
  {
   "cell_type": "code",
   "execution_count": null,
   "metadata": {},
   "outputs": [],
   "source": [
    "class Solution:\n",
    "    def removeDuplicates(self, s: str) -> str:\n",
    "        l = []\n",
    "        for i in s:\n",
    "            if len(l)>0:\n",
    "                if i == l[-1]:\n",
    "                    l.pop()\n",
    "                else:\n",
    "                    l.append(i)\n",
    "            else:            \n",
    "                l.append(i)\n",
    "        return ''.join(l)"
   ]
  },
  {
   "cell_type": "code",
   "execution_count": null,
   "metadata": {},
   "outputs": [],
   "source": [
    "n=len(S)\n",
    "        if n==1:\n",
    "            return S\n",
    "        l=n-1\n",
    "        while l!=n:\n",
    "            n=l\n",
    "            for i in range(len(S)-1):\n",
    "                if S[i]==S[i+1]:\n",
    "                    S=S[:i]+S[i+2:]\n",
    "                    break\n",
    "            l=len(S)\n",
    "        return S"
   ]
  },
  {
   "cell_type": "code",
   "execution_count": null,
   "metadata": {},
   "outputs": [],
   "source": [
    "class Solution:\n",
    "    def removeDuplicates(self, S: str) -> str:\n",
    "        \n",
    "        \n",
    "        stack=[]\n",
    "        \n",
    "        for i in S:\n",
    "            if len(stack)!=0:\n",
    "            \n",
    "                if i==stack[-1]:\n",
    "                    stack.pop()\n",
    "            \n",
    "                else:\n",
    "                    stack.append(i)\n",
    "            else:\n",
    "                stack.append(i)\n",
    "                \n",
    "        return \"\".join(stack)"
   ]
  },
  {
   "cell_type": "code",
   "execution_count": null,
   "metadata": {},
   "outputs": [],
   "source": [
    "class Solution:\n",
    "    def removeDuplicates(self,S: str) -> str:\n",
    "        stac = []\n",
    "        for letter in S:\n",
    "            if stac and letter == stac[-1]:\n",
    "                stac.pop()\n",
    "                continue\n",
    "            else:\n",
    "                stac.append(letter)\n",
    "        \n",
    "        return \"\".join(stac)\n",
    "stack"
   ]
  },
  {
   "cell_type": "code",
   "execution_count": null,
   "metadata": {},
   "outputs": [],
   "source": [
    "class Solution:\n",
    "    def removeDuplicates(self, S: str) -> str:\n",
    "        stack=[]\n",
    "        stack.append(S[0])\n",
    "        for i in range(1,len(S)):\n",
    "            if len(stack)>0 and stack[-1]==S[i]:\n",
    "                stack.pop()\n",
    "            else:\n",
    "                if (len(stack)==0) or (len(stack)>0 and not(stack[-1]==S[i])):\n",
    "                    stack.append(S[i])\n",
    "        s=\"\"\n",
    "        return s.join(stack)\n"
   ]
  },
  {
   "cell_type": "code",
   "execution_count": null,
   "metadata": {},
   "outputs": [],
   "source": [
    "class Solution:\n",
    "    def removeDuplicates(self, s: str) -> str:\n",
    "        stack=[]\n",
    "        for i in s:\n",
    "            if stack and stack[-1][0]==i:\n",
    "                stack[-1][1]+=1\n",
    "            else:\n",
    "                stack.append([i,1])\n",
    "            if stack and stack[-1][1]==2:\n",
    "                stack.pop()\n",
    "        return ''.join([str*count for str,count in stack])"
   ]
  },
  {
   "cell_type": "code",
   "execution_count": 5,
   "metadata": {},
   "outputs": [
    {
     "name": "stdout",
     "output_type": "stream",
     "text": [
      "5 sqaured is not larger than 500\n",
      "3 sqaured is not larger than 500\n",
      "6 sqaured is not larger than 500\n"
     ]
    },
    {
     "ename": "NameError",
     "evalue": "name 'sqaure' is not defined",
     "output_type": "error",
     "traceback": [
      "\u001b[1;31m---------------------------------------------------------------------------\u001b[0m",
      "\u001b[1;31mNameError\u001b[0m                                 Traceback (most recent call last)",
      "\u001b[1;32m<ipython-input-5-2c8717c473e1>\u001b[0m in \u001b[0;36m<module>\u001b[1;34m\u001b[0m\n\u001b[0;32m      4\u001b[0m \u001b[1;32mwhile\u001b[0m \u001b[0mi\u001b[0m\u001b[1;33m<\u001b[0m \u001b[0mlen\u001b[0m\u001b[1;33m(\u001b[0m\u001b[0mnumbers\u001b[0m\u001b[1;33m)\u001b[0m\u001b[1;33m:\u001b[0m\u001b[1;33m\u001b[0m\u001b[1;33m\u001b[0m\u001b[0m\n\u001b[0;32m      5\u001b[0m     \u001b[1;32mif\u001b[0m \u001b[0mnumbers\u001b[0m\u001b[1;33m[\u001b[0m\u001b[0mi\u001b[0m\u001b[1;33m]\u001b[0m \u001b[1;33m**\u001b[0m \u001b[1;36m2\u001b[0m \u001b[1;33m>\u001b[0m\u001b[0msquare\u001b[0m\u001b[1;33m:\u001b[0m\u001b[1;33m\u001b[0m\u001b[1;33m\u001b[0m\u001b[0m\n\u001b[1;32m----> 6\u001b[1;33m         \u001b[0mprint\u001b[0m\u001b[1;33m(\u001b[0m\u001b[0mnumbers\u001b[0m\u001b[1;33m[\u001b[0m\u001b[0mi\u001b[0m\u001b[1;33m]\u001b[0m\u001b[1;33m,\u001b[0m\u001b[1;34m\"square is larger than\"\u001b[0m\u001b[1;33m,\u001b[0m \u001b[0msqaure\u001b[0m\u001b[1;33m)\u001b[0m\u001b[1;33m\u001b[0m\u001b[1;33m\u001b[0m\u001b[0m\n\u001b[0m\u001b[0;32m      7\u001b[0m         \u001b[1;32mbreak\u001b[0m\u001b[1;33m\u001b[0m\u001b[1;33m\u001b[0m\u001b[0m\n\u001b[0;32m      8\u001b[0m     \u001b[0mprint\u001b[0m\u001b[1;33m(\u001b[0m\u001b[0mnumbers\u001b[0m\u001b[1;33m[\u001b[0m\u001b[0mi\u001b[0m\u001b[1;33m]\u001b[0m\u001b[1;33m,\u001b[0m\u001b[1;34m\"sqaured is not larger than\"\u001b[0m\u001b[1;33m,\u001b[0m\u001b[0msquare\u001b[0m\u001b[1;33m)\u001b[0m\u001b[1;33m\u001b[0m\u001b[1;33m\u001b[0m\u001b[0m\n",
      "\u001b[1;31mNameError\u001b[0m: name 'sqaure' is not defined"
     ]
    }
   ],
   "source": [
    "numbers = [5,3,6,70,4,2,4,3]\n",
    "i=0\n",
    "square = 500\n",
    "while i< len(numbers):\n",
    "    if numbers[i] ** 2 >square:\n",
    "        print(numbers[i],\"square is larger than\", sqaure)\n",
    "        break\n",
    "    print(numbers[i],\"sqaured is not larger than\",square)\n",
    "    i += 1\n",
    "else:\n",
    "    print(\"None squared are larger than\",square)"
   ]
  },
  {
   "cell_type": "code",
   "execution_count": 6,
   "metadata": {},
   "outputs": [
    {
     "name": "stdout",
     "output_type": "stream",
     "text": [
      "5 sqaured is not larger than 500\n",
      "3 sqaured is not larger than 500\n",
      "6 sqaured is not larger than 500\n"
     ]
    },
    {
     "ename": "NameError",
     "evalue": "name 'sqaure' is not defined",
     "output_type": "error",
     "traceback": [
      "\u001b[1;31m---------------------------------------------------------------------------\u001b[0m",
      "\u001b[1;31mNameError\u001b[0m                                 Traceback (most recent call last)",
      "\u001b[1;32m<ipython-input-6-6f53ce663b54>\u001b[0m in \u001b[0;36m<module>\u001b[1;34m\u001b[0m\n\u001b[0;32m      5\u001b[0m \u001b[1;32mwhile\u001b[0m \u001b[0mi\u001b[0m\u001b[1;33m<\u001b[0m \u001b[0mlen\u001b[0m\u001b[1;33m(\u001b[0m\u001b[0mnumbers\u001b[0m\u001b[1;33m)\u001b[0m\u001b[1;33m:\u001b[0m\u001b[1;33m\u001b[0m\u001b[1;33m\u001b[0m\u001b[0m\n\u001b[0;32m      6\u001b[0m     \u001b[1;32mif\u001b[0m \u001b[0mnumbers\u001b[0m\u001b[1;33m[\u001b[0m\u001b[0mi\u001b[0m\u001b[1;33m]\u001b[0m \u001b[1;33m**\u001b[0m \u001b[1;36m2\u001b[0m \u001b[1;33m>\u001b[0m\u001b[0msquare\u001b[0m\u001b[1;33m:\u001b[0m\u001b[1;33m\u001b[0m\u001b[1;33m\u001b[0m\u001b[0m\n\u001b[1;32m----> 7\u001b[1;33m         \u001b[0mprint\u001b[0m\u001b[1;33m(\u001b[0m\u001b[0mnumbers\u001b[0m\u001b[1;33m[\u001b[0m\u001b[0mi\u001b[0m\u001b[1;33m]\u001b[0m\u001b[1;33m,\u001b[0m\u001b[1;34m\"square is larger than\"\u001b[0m\u001b[1;33m,\u001b[0m \u001b[0msqaure\u001b[0m\u001b[1;33m)\u001b[0m\u001b[1;33m\u001b[0m\u001b[1;33m\u001b[0m\u001b[0m\n\u001b[0m\u001b[0;32m      8\u001b[0m         \u001b[1;32mbreak\u001b[0m\u001b[1;33m\u001b[0m\u001b[1;33m\u001b[0m\u001b[0m\n\u001b[0;32m      9\u001b[0m     \u001b[0mprint\u001b[0m\u001b[1;33m(\u001b[0m\u001b[0mnumbers\u001b[0m\u001b[1;33m[\u001b[0m\u001b[0mi\u001b[0m\u001b[1;33m]\u001b[0m\u001b[1;33m,\u001b[0m\u001b[1;34m\"sqaured is not larger than\"\u001b[0m\u001b[1;33m,\u001b[0m\u001b[0msquare\u001b[0m\u001b[1;33m)\u001b[0m\u001b[1;33m\u001b[0m\u001b[1;33m\u001b[0m\u001b[0m\n",
      "\u001b[1;31mNameError\u001b[0m: name 'sqaure' is not defined"
     ]
    }
   ],
   "source": [
    "numbers = [5,3,6,70,4,2,4,3]\n",
    "i=0\n",
    "square = 500\n",
    "sucess = False\n",
    "while i< len(numbers):\n",
    "    if numbers[i] ** 2 >square:\n",
    "        print(numbers[i],\"square is larger than\", sqaure)\n",
    "        break\n",
    "    print(numbers[i],\"sqaured is not larger than\",square)\n",
    "    i += 1\n",
    "else:\n",
    "    print(\"None squared are larger than\",square)"
   ]
  },
  {
   "cell_type": "code",
   "execution_count": null,
   "metadata": {},
   "outputs": [],
   "source": []
  }
 ],
 "metadata": {
  "kernelspec": {
   "display_name": "Python 3",
   "language": "python",
   "name": "python3"
  },
  "language_info": {
   "codemirror_mode": {
    "name": "ipython",
    "version": 3
   },
   "file_extension": ".py",
   "mimetype": "text/x-python",
   "name": "python",
   "nbconvert_exporter": "python",
   "pygments_lexer": "ipython3",
   "version": "3.8.5"
  }
 },
 "nbformat": 4,
 "nbformat_minor": 4
}
