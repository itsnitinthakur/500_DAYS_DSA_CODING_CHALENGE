{
 "cells": [
  {
   "cell_type": "code",
   "execution_count": 1,
   "metadata": {},
   "outputs": [
    {
     "data": {
      "text/plain": [
       "9"
      ]
     },
     "execution_count": 1,
     "metadata": {},
     "output_type": "execute_result"
    }
   ],
   "source": [
    "19//2\n"
   ]
  },
  {
   "cell_type": "code",
   "execution_count": 8,
   "metadata": {},
   "outputs": [
    {
     "data": {
      "text/plain": [
       "1"
      ]
     },
     "execution_count": 8,
     "metadata": {},
     "output_type": "execute_result"
    }
   ],
   "source": [
    "19//10\n"
   ]
  },
  {
   "cell_type": "code",
   "execution_count": 9,
   "metadata": {},
   "outputs": [
    {
     "data": {
      "text/plain": [
       "19"
      ]
     },
     "execution_count": 9,
     "metadata": {},
     "output_type": "execute_result"
    }
   ],
   "source": [
    "192//10"
   ]
  },
  {
   "cell_type": "code",
   "execution_count": 10,
   "metadata": {},
   "outputs": [
    {
     "data": {
      "text/plain": [
       "1"
      ]
     },
     "execution_count": 10,
     "metadata": {},
     "output_type": "execute_result"
    }
   ],
   "source": [
    "19//10"
   ]
  },
  {
   "cell_type": "code",
   "execution_count": 11,
   "metadata": {},
   "outputs": [
    {
     "data": {
      "text/plain": [
       "10"
      ]
     },
     "execution_count": 11,
     "metadata": {},
     "output_type": "execute_result"
    }
   ],
   "source": [
    "100//10"
   ]
  },
  {
   "cell_type": "markdown",
   "metadata": {},
   "source": [
    "## Happy Number\n",
    "\n",
    "Write an algorithm to determine if a number n is happy.\n",
    "\n",
    "A happy number is a number defined by the following process:\n",
    "\n",
    "Starting with any positive integer, replace the number by the sum of the squares of its digits.\n",
    "Repeat the process until the number equals 1 (where it will stay), or it loops endlessly in a cycle which does not include 1.\n",
    "Those numbers for which this process ends in 1 are happy.\n",
    "Return true if n is a happy number, and false if not.\n",
    "\n",
    " \n",
    "\n",
    "Example 1:\n",
    "\n",
    "Input: n = 19\n",
    "Output: true\n",
    "Explanation:\n",
    "12 + 92 = 82\n",
    "82 + 22 = 68\n",
    "62 + 82 = 100\n",
    "12 + 02 + 02 = 1\n",
    "Example 2:\n",
    "\n",
    "Input: n = 2\n",
    "Output: false\n",
    " \n",
    "\n",
    "Constraints:\n",
    "\n",
    "1 <= n <= 231 - 1\n",
    "\n",
    "\n",
    "## solution 1 \n",
    "A key point to notice is that if a number is NOT a Happy Number, it will always return 4 as the sum of digits. Apart from this, if a number IS a Happy Number, it returns 1 or 7 as the sum of digits."
   ]
  },
  {
   "cell_type": "code",
   "execution_count": null,
   "metadata": {},
   "outputs": [],
   "source": [
    "    def isHappy(self, n):\n",
    "        while(True):\n",
    "            s = 0\n",
    "            while(n>0):\n",
    "                s = s + (n%10)*(n%10)\n",
    "                n //= 10\n",
    "            if s == 1 or s==7:\n",
    "                return True\n",
    "            elif s == 4:\n",
    "                return False\n",
    "            else:\n",
    "                n = s"
   ]
  },
  {
   "cell_type": "code",
   "execution_count": null,
   "metadata": {},
   "outputs": [],
   "source": [
    "    flag=True\n",
    "    l=[]\n",
    "    while(n!=1):\n",
    "        \n",
    "        if(n not in l):\n",
    "            l.append(n)\n",
    "        else:\n",
    "            flag=False\n",
    "            break\n",
    "        \n",
    "        \n",
    "        \n",
    "        \n",
    "        s=0\n",
    "        while(n>0):\n",
    "            k=n%10\n",
    "            s=s+k*k\n",
    "            n=n//10\n",
    "        \n",
    "        n=s\n",
    "        \n",
    "   \n",
    "    return flag"
   ]
  },
  {
   "cell_type": "code",
   "execution_count": null,
   "metadata": {},
   "outputs": [],
   "source": [
    "class Solution(object):\n",
    "    def isHappy(self, n):\n",
    "        \"\"\"\n",
    "        :type n: int\n",
    "        :rtype: bool\n",
    "        \"\"\"\n",
    "        examples = []\n",
    "        while n:\n",
    "            if n == 1:\n",
    "                return True\n",
    "            n = self.helper(n)****\n",
    "            if n in examples:\n",
    "                return False\n",
    "            examples.append(n)\n",
    "    \n",
    "    def helper(self, n):\n",
    "        new = [int(i)**2 for i in str(n)]\n",
    "        return sum(new)"
   ]
  },
  {
   "cell_type": "code",
   "execution_count": null,
   "metadata": {},
   "outputs": [],
   "source": [
    "class Solution:\n",
    "def isHappy(self, n: int) -> bool:\n",
    "import math\n",
    "while n//10!=0:\n",
    "son=0\n",
    "while n!=0:\n",
    "son=son+math.pow(n%10,2)\n",
    "n=n//10\n",
    "n=son\n",
    "if ((n==1)or(n==7)):\n",
    "return True\n",
    "return False"
   ]
  },
  {
   "cell_type": "code",
   "execution_count": null,
   "metadata": {},
   "outputs": [],
   "source": [
    "class Solution:\n",
    "    \n",
    "    def __init__(self):\n",
    "        \n",
    "        # keep track of all of the squares we have tried (ints)\n",
    "        self.squares = []\n",
    "    \n",
    "    def isHappy(self, n: int) -> bool:\n",
    "        \n",
    "        # call helper function for input number\n",
    "        return self.helper(n)\n",
    "        \n",
    "    def helper(self, n):\n",
    "        \n",
    "        # convert input number to a list of ints (don't take 0 values)      \n",
    "        vals = [int(val) for val in str(n) if val != '0'] \n",
    "        \n",
    "        # if only 1 in list, we have satisfied condition\n",
    "        if len(vals) == 1 and vals[0] == 1:\n",
    "            return True\n",
    "               \n",
    "        # calc sum of squares of each int\n",
    "        sum = 0\n",
    "        for val in vals:\n",
    "            sum += val **2\n",
    "            \n",
    "        # if we are trying to add the # to list twice, then we have infinite loop\n",
    "        if int(sum) not in self.squares:\n",
    "            self.squares.append(int(sum))\n",
    "        else:\n",
    "            return False\n",
    "\n",
    "        return self.helper(sum)"
   ]
  },
  {
   "cell_type": "code",
   "execution_count": null,
   "metadata": {},
   "outputs": [],
   "source": [
    "class Solution:\n",
    "    def __init__(self):\n",
    "        self.l = []\n",
    "    def isHappy(self, n: int) -> bool:\n",
    "        self.l.append(n)\n",
    "        if n == 1:\n",
    "            return True\n",
    "        else:\n",
    "            x = 0\n",
    "            for i in str(n):\n",
    "                x += int(i)**2\n",
    "        if x not in self.l:        \n",
    "            return self.isHappy(x)\n",
    "        else:\n",
    "            return False"
   ]
  },
  {
   "cell_type": "code",
   "execution_count": 25,
   "metadata": {},
   "outputs": [
    {
     "data": {
      "text/plain": [
       "1"
      ]
     },
     "execution_count": 25,
     "metadata": {},
     "output_type": "execute_result"
    }
   ],
   "source": [
    "7%2"
   ]
  },
  {
   "cell_type": "code",
   "execution_count": 26,
   "metadata": {},
   "outputs": [
    {
     "data": {
      "text/plain": [
       "1"
      ]
     },
     "execution_count": 26,
     "metadata": {},
     "output_type": "execute_result"
    }
   ],
   "source": [
    "5%2"
   ]
  },
  {
   "cell_type": "code",
   "execution_count": 27,
   "metadata": {},
   "outputs": [
    {
     "data": {
      "text/plain": [
       "1"
      ]
     },
     "execution_count": 27,
     "metadata": {},
     "output_type": "execute_result"
    }
   ],
   "source": [
    "23%2"
   ]
  },
  {
   "cell_type": "code",
   "execution_count": 29,
   "metadata": {},
   "outputs": [
    {
     "data": {
      "text/plain": [
       "1"
      ]
     },
     "execution_count": 29,
     "metadata": {},
     "output_type": "execute_result"
    }
   ],
   "source": [
    "35"
   ]
  },
  {
   "cell_type": "markdown",
   "metadata": {},
   "source": [
    "# Count Primes\n",
    "\n",
    "Count the number of prime numbers less than a non-negative number, n.\n",
    "\n",
    " \n",
    "\n",
    "Example 1:\n",
    "\n",
    "Input: n = 10\n",
    "Output: 4\n",
    "Explanation: There are 4 prime numbers less than 10, they are 2, 3, 5, 7.\n",
    "Example 2:\n",
    "\n",
    "Input: n = 0\n",
    "Output: 0\n",
    "Example 3:\n",
    "\n",
    "Input: n = 1\n",
    "Output: 0"
   ]
  },
  {
   "cell_type": "code",
   "execution_count": null,
   "metadata": {},
   "outputs": [],
   "source": [
    "class Solution:\n",
    "    def countPrimes(self, n: int) -> int:\n",
    "        if n <= 2:\n",
    "            return 0\n",
    "        \n",
    "        numbers = {}\n",
    "        for p in range(2, int(sqrt(n)) + 1):\n",
    "            if p not in numbers:\n",
    "                for multiple in range(p*p, n, p):\n",
    "                    numbers[multiple] = 1\n",
    "        \n",
    "        # Exclude \"1\" and the number \"n\" itself.\n",
    "        return n - len(numbers) - 2"
   ]
  },
  {
   "cell_type": "markdown",
   "metadata": {},
   "source": [
    "# REFRESHER OF DICTIONARY FUNCTION"
   ]
  },
  {
   "cell_type": "code",
   "execution_count": 33,
   "metadata": {},
   "outputs": [
    {
     "name": "stdout",
     "output_type": "stream",
     "text": [
      "dict_items([('Harry', 'Burger'), ('Rohan', 'Fish'), ('SkillF', 'Roti'), ('shubham', {'B': 'maggie', 'L': 'Roti', 'D': 'Chicken'}), ('Ankit', 'junk food')])\n"
     ]
    }
   ],
   "source": [
    "d2 = {\"Harry\":\"Burger\",\"Rohan\":\"Fish\",\"SkillF\":\"Roti\",\n",
    "     \"shubham\": {\"B\":\"maggie\", \"L\":\"Roti\",\"D\":\"Chicken\"}}\n",
    "\n",
    "d2[\"Ankit\"] = \"junk food\"\n",
    "print(d2.items())"
   ]
  },
  {
   "cell_type": "code",
   "execution_count": 37,
   "metadata": {},
   "outputs": [
    {
     "name": "stdout",
     "output_type": "stream",
     "text": [
      "dict_items([('Harry', 'Burger'), ('Rohan', 'Fish'), ('SkillF', 'Roti'), ('shubham', {'B': 'maggie', 'L': 'Roti', 'D': 'Chicken'}), ('Ankit', 'junk food'), (420, 'kebabas')])\n"
     ]
    }
   ],
   "source": [
    "d2 = {\"Harry\":\"Burger\",\"Rohan\":\"Fish\",\"SkillF\":\"Roti\",\n",
    "     \"shubham\": {\"B\":\"maggie\", \"L\":\"Roti\",\"D\":\"Chicken\"}}\n",
    "\n",
    "d2[\"Ankit\"] = \"junk food\"\n",
    "d2[420] = \"kebabas\"\n",
    "print(d2.items())"
   ]
  },
  {
   "cell_type": "code",
   "execution_count": 40,
   "metadata": {},
   "outputs": [
    {
     "name": "stdout",
     "output_type": "stream",
     "text": [
      "{'Harry': 'Burger', 'Rohan': 'Fish', 'SkillF': 'Roti', 'shubham': {'B': 'maggie', 'L': 'Roti', 'D': 'Chicken'}, 'Ankit': 'junk food', 420: 'kebabas'}\n",
      "{'Harry': 'Burger', 'Rohan': 'Fish', 'SkillF': 'Roti', 'shubham': {'B': 'maggie', 'L': 'Roti', 'D': 'Chicken'}, 'Ankit': 'junk food'}\n"
     ]
    }
   ],
   "source": [
    "d2 = {\"Harry\":\"Burger\",\"Rohan\":\"Fish\",\"SkillF\":\"Roti\",\n",
    "     \"shubham\": {\"B\":\"maggie\", \"L\":\"Roti\",\"D\":\"Chicken\"}}\n",
    "\n",
    "d2[\"Ankit\"] = \"junk food\"\n",
    "d2[420] = \"kebabas\"\n",
    "print(d2)\n",
    "del d2[420]\n",
    "print(d2)\n"
   ]
  },
  {
   "cell_type": "code",
   "execution_count": 41,
   "metadata": {},
   "outputs": [
    {
     "name": "stdout",
     "output_type": "stream",
     "text": [
      "{'Harry': 'Burger', 'Rohan': 'Fish', 'SkillF': 'Roti', 'shubham': {'B': 'maggie', 'L': 'Roti', 'D': 'Chicken'}, 'Ankit': 'junk food', 420: 'kebabas'}\n",
      "{'B': 'maggie', 'L': 'Roti', 'D': 'Chicken'}\n"
     ]
    }
   ],
   "source": [
    "d2 = {\"Harry\":\"Burger\",\"Rohan\":\"Fish\",\"SkillF\":\"Roti\",\n",
    "     \"shubham\": {\"B\":\"maggie\", \"L\":\"Roti\",\"D\":\"Chicken\"}}\n",
    "\n",
    "d2[\"Ankit\"] = \"junk food\"\n",
    "d2[420] = \"kebabas\"\n",
    "print(d2)\n",
    "print(d2[\"shubham\"])"
   ]
  },
  {
   "cell_type": "code",
   "execution_count": 46,
   "metadata": {},
   "outputs": [
    {
     "name": "stdout",
     "output_type": "stream",
     "text": [
      "{'Harry': 'Burger', 'Rohan': 'Fish', 'SkillF': 'Roti', 'shubham': {'B': 'maggie', 'L': 'Roti', 'D': 'Chicken'}, 'Ankit': 'junk food', 420: 'kebabas'}\n",
      "{'Rohan': 'Fish', 'SkillF': 'Roti', 'shubham': {'B': 'maggie', 'L': 'Roti', 'D': 'Chicken'}, 'Ankit': 'junk food', 420: 'kebabas'}\n"
     ]
    }
   ],
   "source": [
    "d2 = {\"Harry\":\"Burger\",\"Rohan\":\"Fish\",\"SkillF\":\"Roti\",\n",
    "     \"shubham\": {\"B\":\"maggie\", \"L\":\"Roti\",\"D\":\"Chicken\"}}\n",
    "\n",
    "d2[\"Ankit\"] = \"junk food\"\n",
    "d2[420] = \"kebabas\"\n",
    "#print(d2)\n",
    "d3= d2.copy()\n",
    "#print(d3)\n",
    "del d3[\"Harry\"]\n",
    "print(d2)\n",
    "print(d3)"
   ]
  },
  {
   "cell_type": "code",
   "execution_count": 48,
   "metadata": {},
   "outputs": [
    {
     "name": "stdout",
     "output_type": "stream",
     "text": [
      "{'Harry': 'Burger', 'Rohan': 'Fish', 'SkillF': 'Roti', 'shubham': {'B': 'maggie', 'L': 'Roti', 'D': 'Chicken'}, 'Ankit': 'junk food', 420: 'kebabas'}\n",
      "{'Harry': 'Burger', 'Rohan': 'Fish', 'SkillF': 'Roti', 'shubham': {'B': 'maggie', 'L': 'Roti', 'D': 'Chicken'}, 'Ankit': 'junk food', 420: 'kebabas', 'Leena': 'Toffee'}\n"
     ]
    }
   ],
   "source": [
    "d2 = {\"Harry\":\"Burger\",\"Rohan\":\"Fish\",\"SkillF\":\"Roti\",\n",
    "     \"shubham\": {\"B\":\"maggie\", \"L\":\"Roti\",\"D\":\"Chicken\"}}\n",
    "\n",
    "d2[\"Ankit\"] = \"junk food\"\n",
    "d2[420] = \"kebabas\"\n",
    "print(d2)\n",
    "d2.update({\"Leena\":\"Toffee\"})\n",
    "print(d2)\n"
   ]
  },
  {
   "cell_type": "code",
   "execution_count": null,
   "metadata": {},
   "outputs": [],
   "source": [
    "class Solution:\n",
    "    def countPrimes(self, n: int) -> int:\n",
    "        sum, sieve = 0, ([True] * n)\n",
    "        for i in range(2, n): \n",
    "            if sieve[i]:\n",
    "                sum = sum + 1\n",
    "                for i in range(i * i, n, i):\n",
    "                    sieve[i] = False\n",
    "        return sum"
   ]
  },
  {
   "cell_type": "code",
   "execution_count": null,
   "metadata": {},
   "outputs": [],
   "source": [
    "class Solution:\n",
    "    def countPrimes(self, n: int) -> int:\n",
    "        if n < 2:\n",
    "            return 0\n",
    "        res = [1] * n\n",
    "        res[0] = 0\n",
    "        res[1] = 0\n",
    "        for i in range(2, int(sqrt(n)) + 1):\n",
    "            if res[i] == 1:\n",
    "                for j in range(i + i, n, i):\n",
    "                    res[j] = 0\n",
    "        return sum(res)"
   ]
  },
  {
   "cell_type": "code",
   "execution_count": null,
   "metadata": {},
   "outputs": [],
   "source": [
    "class Solution:\n",
    "    def countPrimes(self, n: int) -> int:\n",
    "        l = [True for x in range(n+1)]\n",
    "        try:\n",
    "            l[0] = False\n",
    "            l[1] = False\n",
    "        except Exception as e:\n",
    "            return 0\n",
    "    \n",
    "        p = 2\n",
    "        while (p * p < n):\n",
    "            if l[p] == True:\n",
    "                for j in range(p * p, n+1, p):\n",
    "                    l[j] = False\n",
    "            \n",
    "            p += 1\n",
    "            \n",
    "        return l[:n].count(True)"
   ]
  },
  {
   "cell_type": "code",
   "execution_count": null,
   "metadata": {},
   "outputs": [],
   "source": [
    "class Solution:\n",
    "    def countPrimes(self, n: int) -> int:\n",
    "        def isPrime(x):\n",
    "            if x < 2:\n",
    "                return False\n",
    "            for i in range(2, x):\n",
    "                if x%i == 0:\n",
    "                    return False\n",
    "            return True\n",
    "        j = [i for i in range(n) if isPrime(i)]\n",
    "        return len(j)"
   ]
  },
  {
   "cell_type": "code",
   "execution_count": null,
   "metadata": {},
   "outputs": [],
   "source": [
    "def isprime(n):\n",
    "    end = int(n**.5) + 1\n",
    "\tif n < 2:\n",
    "\t\treturn False\n",
    "    if n == 2:\n",
    "        return True\n",
    "    for num in range(2,end):\n",
    "        if n % num == 0:\n",
    "            return False\n",
    "    return True\n",
    "\n",
    "def countPrime(n):\n",
    "    Count = 0\n",
    "    for s in range(2,n):\n",
    "        if isprime(s) == True:\n",
    "            Count += 1\n",
    "    return Count"
   ]
  },
  {
   "cell_type": "code",
   "execution_count": null,
   "metadata": {},
   "outputs": [],
   "source": [
    "def SieveOfEratosthenes(n):\n",
    " \n",
    "    # Create a boolean array\n",
    "    # \"prime[0..n]\" and initialize\n",
    "    #  all entries it as true.\n",
    "    # A value in prime[i] will\n",
    "    # finally be false if i is\n",
    "    # Not a prime, else true.\n",
    "    prime = [True for i in range(n+1)]\n",
    "    p = 2\n",
    "    while (p * p <= n):\n",
    " \n",
    "        # If prime[p] is not\n",
    "        # changed, then it is a prime\n",
    "        if (prime[p] == True):\n",
    " \n",
    "            # Update all multiples of p\n",
    "            for i in range(p * p, n+1, p):\n",
    "                prime[i] = False\n",
    "        p += 1\n",
    " \n",
    "    # Print all prime numbers\n",
    "    for p in range(2, n+1):\n",
    "        if prime[p]:\n",
    "            print p,\n",
    " \n",
    " \n",
    "# Driver code\n",
    "if __name__ == '__main__':\n",
    "    n = 30\n",
    "    print \"Following are the prime numbers smaller\",\n",
    "    print \"than or equal to\", n\n",
    "    SieveOfEratosthenes(n)\n"
   ]
  },
  {
   "cell_type": "code",
   "execution_count": null,
   "metadata": {},
   "outputs": [],
   "source": [
    "def countPrimes(self, n: int) -> int:\n",
    "        prime = [True] * (n - 2)\n",
    "        prime2 = [False, False] + prime\n",
    "        i = 0\n",
    "        if n <= 2:\n",
    "            return 0\n",
    "        else:\n",
    "            while i*i < n:\n",
    "\n",
    "                if prime2[i]:\n",
    "                    for j in range(i**2, n, i):\n",
    "                        prime2[j] = False\n",
    "                i += 1\n",
    "        \n",
    "        return sum(prime2)"
   ]
  },
  {
   "cell_type": "code",
   "execution_count": null,
   "metadata": {},
   "outputs": [],
   "source": []
  },
  {
   "cell_type": "code",
   "execution_count": null,
   "metadata": {},
   "outputs": [],
   "source": []
  },
  {
   "cell_type": "code",
   "execution_count": null,
   "metadata": {},
   "outputs": [],
   "source": []
  },
  {
   "cell_type": "code",
   "execution_count": null,
   "metadata": {},
   "outputs": [],
   "source": []
  },
  {
   "cell_type": "code",
   "execution_count": null,
   "metadata": {},
   "outputs": [],
   "source": []
  },
  {
   "cell_type": "code",
   "execution_count": null,
   "metadata": {},
   "outputs": [],
   "source": []
  }
 ],
 "metadata": {
  "kernelspec": {
   "display_name": "Python 3",
   "language": "python",
   "name": "python3"
  },
  "language_info": {
   "codemirror_mode": {
    "name": "ipython",
    "version": 3
   },
   "file_extension": ".py",
   "mimetype": "text/x-python",
   "name": "python",
   "nbconvert_exporter": "python",
   "pygments_lexer": "ipython3",
   "version": "3.8.5"
  }
 },
 "nbformat": 4,
 "nbformat_minor": 4
}
