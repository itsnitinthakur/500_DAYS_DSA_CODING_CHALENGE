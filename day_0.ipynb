{
 "cells": [
  {
   "cell_type": "code",
   "execution_count": 12,
   "metadata": {},
   "outputs": [
    {
     "name": "stdout",
     "output_type": "stream",
     "text": [
      "1021\n",
      "[1, 0, 2, 1]\n"
     ]
    }
   ],
   "source": [
    "num = [2,1,5]\n",
    "k = 806\n",
    "s = [str(i) for i in num]\n",
    "res = int(\"\".join(s))\n",
    "t = res+k\n",
    "print(t)\n",
    "p = [int(x) for x in str(t)]\n",
    "print (p)"
   ]
  },
  {
   "cell_type": "code",
   "execution_count": 11,
   "metadata": {},
   "outputs": [],
   "source": [
    "num = [2,1,5]\n",
    "k =806\n",
    "class Solution:\n",
    "    def addToArrayForm(self, num, k):\n",
    "        return list(str(k + int(''.join(list(map(str, num))))))"
   ]
  },
  {
   "cell_type": "code",
   "execution_count": null,
   "metadata": {},
   "outputs": [],
   "source": [
    "from collections import deque\n",
    "class Solution:\n",
    "    def addToArrayForm(self, num: List[int], k: int) -> List[int]:\n",
    "        num[-1] += k\n",
    "        q = deque(num)\n",
    "        carry = 0\n",
    "        for i in range(len(num) - 1, -1, -1):\n",
    "            carry, q[i] = divmod(q[i], 10)\n",
    "            if i: q[i - 1] += carry\n",
    "        while carry:\n",
    "            quot, rem = divmod(carry, 10)\n",
    "            q.appendleft(rem)\n",
    "            carry = quot\n",
    "        return q"
   ]
  },
  {
   "cell_type": "code",
   "execution_count": null,
   "metadata": {},
   "outputs": [],
   "source": [
    "class Solution:\n",
    "    def addToArrayForm(self, num: List[int], k: int) -> List[int]:\n",
    "        string = \"\"\n",
    "        for x in num:\n",
    "            string += str(x)\n",
    "        \n",
    "        add = int(string) + k\n",
    "        return [x for x in str(add)]"
   ]
  },
  {
   "cell_type": "code",
   "execution_count": null,
   "metadata": {},
   "outputs": [],
   "source": [
    "class Solution:\n",
    "    def addToArrayForm(self, num: List[int], k: int) -> List[int]:\n",
    "        \n",
    "        val = 0\n",
    "        \n",
    "        for n in num:\n",
    "            val = val*10 + n\n",
    "            \n",
    "        new_val = val + k\n",
    "        \n",
    "        return list(map(int,str(new_val)))"
   ]
  },
  {
   "cell_type": "code",
   "execution_count": 16,
   "metadata": {},
   "outputs": [
    {
     "name": "stdout",
     "output_type": "stream",
     "text": [
      "[]\n"
     ]
    }
   ],
   "source": [
    "string = '98299402'\n",
    "s = list(string)\n",
    "print(list())"
   ]
  },
  {
   "cell_type": "code",
   "execution_count": null,
   "metadata": {},
   "outputs": [],
   "source": []
  },
  {
   "cell_type": "code",
   "execution_count": null,
   "metadata": {},
   "outputs": [],
   "source": []
  },
  {
   "cell_type": "code",
   "execution_count": 17,
   "metadata": {},
   "outputs": [
    {
     "ename": "NameError",
     "evalue": "name 'A' is not defined",
     "output_type": "error",
     "traceback": [
      "\u001b[1;31m---------------------------------------------------------------------------\u001b[0m",
      "\u001b[1;31mNameError\u001b[0m                                 Traceback (most recent call last)",
      "\u001b[1;32m<ipython-input-17-5559b8db07fa>\u001b[0m in \u001b[0;36m<module>\u001b[1;34m\u001b[0m\n\u001b[1;32m----> 1\u001b[1;33m \u001b[0mlength\u001b[0m \u001b[1;33m=\u001b[0m \u001b[0mlen\u001b[0m\u001b[1;33m(\u001b[0m\u001b[0mA\u001b[0m\u001b[1;33m)\u001b[0m\u001b[1;33m\u001b[0m\u001b[1;33m\u001b[0m\u001b[0m\n\u001b[0m\u001b[0;32m      2\u001b[0m \u001b[0moutput\u001b[0m \u001b[1;33m=\u001b[0m \u001b[1;33m[\u001b[0m\u001b[1;33m]\u001b[0m\u001b[1;33m\u001b[0m\u001b[1;33m\u001b[0m\u001b[0m\n\u001b[0;32m      3\u001b[0m \u001b[1;32mfor\u001b[0m \u001b[0mi\u001b[0m \u001b[1;32min\u001b[0m \u001b[0mA\u001b[0m\u001b[1;33m[\u001b[0m\u001b[1;36m0\u001b[0m\u001b[1;33m]\u001b[0m\u001b[1;33m:\u001b[0m\u001b[1;33m\u001b[0m\u001b[1;33m\u001b[0m\u001b[0m\n\u001b[0;32m      4\u001b[0m         \u001b[0mcheck\u001b[0m \u001b[1;33m=\u001b[0m \u001b[1;32mTrue\u001b[0m\u001b[1;33m\u001b[0m\u001b[1;33m\u001b[0m\u001b[0m\n\u001b[0;32m      5\u001b[0m         \u001b[1;32mfor\u001b[0m \u001b[0mj\u001b[0m \u001b[1;32min\u001b[0m \u001b[0mrange\u001b[0m\u001b[1;33m(\u001b[0m\u001b[1;36m1\u001b[0m\u001b[1;33m,\u001b[0m \u001b[0mlength\u001b[0m\u001b[1;33m)\u001b[0m\u001b[1;33m:\u001b[0m\u001b[1;33m\u001b[0m\u001b[1;33m\u001b[0m\u001b[0m\n",
      "\u001b[1;31mNameError\u001b[0m: name 'A' is not defined"
     ]
    }
   ],
   "source": [
    "length = len(A)\n",
    "output = []\n",
    "for i in A[0]:\n",
    "\tcheck = True\n",
    "\tfor j in range(1, length):\n",
    "\t\tif i in A[j] and check:\n",
    "\t\t\tA[j] = A[j].replace(i, \"\", 1)\n",
    "\t\t\tcheck = i\n",
    "\t\telse:\n",
    "\t\t\tcheck = None\n",
    "\tif check == i:\n",
    "\t\toutput.append(i)\n",
    "\n",
    "return output"
   ]
  },
  {
   "cell_type": "code",
   "execution_count": null,
   "metadata": {},
   "outputs": [],
   "source": [
    "    for ch in A[0]:\n",
    "        if ch in d:\n",
    "            d[ch] += 1\n",
    "        else:\n",
    "            d[ch] = 1\n",
    "            \n",
    "    for k in d:\n",
    "        for word in A[1:]:\n",
    "            cnt = word.count(k)\n",
    "            if cnt < d[k]:\n",
    "                d[k] = cnt\n",
    "                \n",
    "    commonChars = []\n",
    "    \n",
    "    for k in d:\n",
    "        if d[k] > 0:\n",
    "            commonChars += [k] * d[k]\n",
    "            \n",
    "    return commonChars"
   ]
  },
  {
   "cell_type": "code",
   "execution_count": null,
   "metadata": {},
   "outputs": [],
   "source": [
    "class Solution:\n",
    "    def commonChars(self, A: List[str]) -> List[str]:\n",
    "temp = set(A[0])\n",
    "    for key in A[1:]:\n",
    "    temp = temp.intersection(set(key))\n",
    "    res=[]\n",
    "    for key in temp:\n",
    "        for i in range(min([word.count(key) for word in A])):\n",
    "            res.append(key)\n",
    "    \n",
    "    return res"
   ]
  },
  {
   "cell_type": "code",
   "execution_count": null,
   "metadata": {},
   "outputs": [],
   "source": [
    "common_chars = []\n",
    "\n",
    "for letter in A[0]:\n",
    "\n",
    "\tfor w in range(1, len(A)):\n",
    "\n",
    "\t\tif letter not in A[w]:\n",
    "\t\t\tbreak\n",
    "\n",
    "\t\tA[w] = A[w].replace(letter, '', 1)\n",
    "\n",
    "\telse:\n",
    "\t\tcommon_chars.append(letter)\n",
    "\n",
    "return common_chars"
   ]
  },
  {
   "cell_type": "code",
   "execution_count": null,
   "metadata": {},
   "outputs": [],
   "source": [
    "class Solution:\n",
    "    def commonChars(self, A: List[str]) -> List[str]:\n",
    "        result = []\n",
    "\t\t# iterrate set of shortest word\n",
    "        for ch in set(min(A, key=len)):\n",
    "            result.extend(ch for _ in range(min([word.count(ch) for word in A], default=0)))\n",
    "        return result"
   ]
  },
  {
   "cell_type": "code",
   "execution_count": null,
   "metadata": {},
   "outputs": [],
   "source": [
    "def commonChars(self, A: List[str]) -> List[str]:\n",
    "        n = len(A)\n",
    "        res = Counter(A[0])        \n",
    "        comm_keys = set(res.keys())\n",
    "        for j in range(1, n):\n",
    "            tmp = Counter(A[j])\n",
    "            comm_keys = comm_keys.intersection(tmp.keys())\n",
    "            for k in comm_keys:\n",
    "                res[k]=min(res[k], tmp[k])\n",
    "            \n",
    "        out = [] \n",
    "        for k in comm_keys:\n",
    "            out.extend([k]* res[k])\n",
    "        return (out)"
   ]
  },
  {
   "cell_type": "code",
   "execution_count": null,
   "metadata": {},
   "outputs": [],
   "source": [
    "class Solution:\n",
    "    def commonChars(self, A: List[str]) -> List[str]:\n",
    "        m_occurence = {}\n",
    "        \n",
    "        output = []\n",
    "        \n",
    "        for i in A:\n",
    "            temp = Counter(i)\n",
    "            for k, v in temp.items():\n",
    "                if k in m_occurence.keys():\n",
    "                    m_occurence[k].append(v)\n",
    "                else:\n",
    "                    m_occurence[k] = [v]\n",
    "                    \n",
    "        for k, v in m_occurence.items():\n",
    "            if len(v) >= len(A):\n",
    "                for i in range(min(v)):\n",
    "                    output.append(k)\n",
    "                    \n",
    "        \n",
    "        return output"
   ]
  },
  {
   "cell_type": "code",
   "execution_count": null,
   "metadata": {},
   "outputs": [],
   "source": []
  },
  {
   "cell_type": "code",
   "execution_count": null,
   "metadata": {},
   "outputs": [],
   "source": []
  },
  {
   "cell_type": "code",
   "execution_count": null,
   "metadata": {},
   "outputs": [],
   "source": []
  },
  {
   "cell_type": "code",
   "execution_count": null,
   "metadata": {},
   "outputs": [],
   "source": []
  },
  {
   "cell_type": "code",
   "execution_count": null,
   "metadata": {},
   "outputs": [],
   "source": []
  }
 ],
 "metadata": {
  "kernelspec": {
   "display_name": "Python 3",
   "language": "python",
   "name": "python3"
  },
  "language_info": {
   "codemirror_mode": {
    "name": "ipython",
    "version": 3
   },
   "file_extension": ".py",
   "mimetype": "text/x-python",
   "name": "python",
   "nbconvert_exporter": "python",
   "pygments_lexer": "ipython3",
   "version": "3.8.5"
  }
 },
 "nbformat": 4,
 "nbformat_minor": 4
}
