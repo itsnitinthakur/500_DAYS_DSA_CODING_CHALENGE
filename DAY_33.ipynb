{
 "cells": [
  {
   "cell_type": "code",
   "execution_count": 9,
   "metadata": {},
   "outputs": [
    {
     "name": "stdout",
     "output_type": "stream",
     "text": [
      "1\n"
     ]
    }
   ],
   "source": [
    "nums = [4,5,0,-2,-3,1]\n",
    "k = 5\n",
    "i=0\n",
    "j=0\n",
    "c=0\n",
    "while j<=len(nums):\n",
    "    z=sum(nums[i:j])\n",
    "    if z%k==0:\n",
    "        c+=1\n",
    "    j+=1\n",
    "    if j==len(nums):\n",
    "        i+=1\n",
    "print(c)\n",
    "        "
   ]
  },
  {
   "cell_type": "code",
   "execution_count": 19,
   "metadata": {},
   "outputs": [
    {
     "name": "stdout",
     "output_type": "stream",
     "text": [
      "1\n"
     ]
    }
   ],
   "source": [
    "nums = [1,-3,2,3,-4]\n",
    "i=0\n",
    "j=1\n",
    "best=0\n",
    "while j<=len(nums)+1:\n",
    "    z=sum(s[i:j])\n",
    "    best=max(z,best)\n",
    "    j+=1\n",
    "    if j==len(nums):\n",
    "        i+=1\n",
    "print(best)\n"
   ]
  },
  {
   "cell_type": "code",
   "execution_count": 15,
   "metadata": {},
   "outputs": [
    {
     "name": "stdout",
     "output_type": "stream",
     "text": [
      "6\n"
     ]
    }
   ],
   "source": [
    "s=[1,-2,-3,-2]\n",
    "print(abs(sum(s)))"
   ]
  },
  {
   "cell_type": "code",
   "execution_count": 26,
   "metadata": {},
   "outputs": [
    {
     "name": "stdout",
     "output_type": "stream",
     "text": [
      "['blue', 'is', 'sky', 'the']\n",
      " blue is sky the\n"
     ]
    }
   ],
   "source": [
    "s = \"the sky is blue\"\n",
    "x=\"\"\n",
    "l = list(s.split(\" \"))\n",
    "print(l[::-1])\n",
    "for i in l[::-1]:\n",
    "    x=x+\" \"+i\n",
    "print(x)"
   ]
  },
  {
   "cell_type": "markdown",
   "metadata": {},
   "source": [
    "# Reverse Words in a String\n",
    "\n",
    "Given an input string s, reverse the order of the words.\n",
    "\n",
    "A word is defined as a sequence of non-space characters. The words in s will be separated by at least one space.\n",
    "\n",
    "Return a string of the words in reverse order concatenated by a single space.\n",
    "\n",
    "Note that s may contain leading or trailing spaces or multiple spaces between two words. The returned string should only have a single space separating the words. Do not include any extra spaces.\n",
    "\n",
    " \n",
    "\n",
    "Example 1:\n",
    "\n",
    "Input: s = \"the sky is blue\"\n",
    "Output: \"blue is sky the\"\n",
    "Example 2:\n",
    "\n",
    "Input: s = \"  hello world  \"\n",
    "Output: \"world hello\"\n",
    "Explanation: Your reversed string should not contain leading or trailing spaces.\n",
    "Example 3:\n",
    "\n",
    "Input: s = \"a good   example\"\n",
    "Output: \"example good a\"\n",
    "Explanation: You need to reduce multiple spaces between two words to a single space in the reversed string.\n",
    "Example 4:\n",
    "\n",
    "Input: s = \"  Bob    Loves  Alice   \"\n",
    "Output: \"Alice Loves Bob\"\n",
    "Example 5:\n",
    "\n",
    "Input: s = \"Alice does not even like bob\"\n",
    "Output: \"bob like even not does Alice\"\n",
    " \n",
    "\n",
    "Constraints:\n",
    "\n",
    "1 <= s.length <= 104\n",
    "s contains English letters (upper-case and lower-case), digits, and spaces ' '.\n",
    "There is at least one word in s."
   ]
  },
  {
   "cell_type": "code",
   "execution_count": null,
   "metadata": {},
   "outputs": [],
   "source": [
    "class Solution:\n",
    "    def reverseWords(self, s: str) -> str:\n",
    "        return  \" \".join(s.split()[::-1])"
   ]
  },
  {
   "cell_type": "code",
   "execution_count": null,
   "metadata": {},
   "outputs": [],
   "source": [
    "def reverseWords(self, s: str) -> str:\n",
    "\t#split the string in array elements, this will effectively ignore the extra spaces\n",
    "    s = s.split()\n",
    "\t\n",
    "\t#reverse the  list\n",
    "    s = s[::-1]\n",
    "\t\n",
    "\t#join all the elements in the string with space in them\n",
    "    return \" \".join(s)"
   ]
  },
  {
   "cell_type": "code",
   "execution_count": null,
   "metadata": {},
   "outputs": [],
   "source": [
    "def reverseWords(self,s):\n",
    "    \n",
    "    l = []\n",
    "    \n",
    "    s = s.split()\n",
    "   \n",
    "    \n",
    "    for word in s:\n",
    "        \n",
    "        l.append(word)\n",
    "        \n",
    "    l.reverse()\n",
    "    \n",
    "    res = \"\".join (item + \" \" for item in l).strip()\n",
    "    return res"
   ]
  },
  {
   "cell_type": "code",
   "execution_count": null,
   "metadata": {},
   "outputs": [],
   "source": [
    "class Solution:\n",
    "    def reverseWords(self, s: str) -> str:\n",
    "        \n",
    "        rst = []\n",
    "        new_s = s.split(\" \")\n",
    "        for i in range(len(new_s)-1, -1, -1):\n",
    "            if new_s[i] != \"\":\n",
    "                rst.append(new_s[i])\n",
    "        \n",
    "        return \" \".join(rst)"
   ]
  },
  {
   "cell_type": "code",
   "execution_count": null,
   "metadata": {},
   "outputs": [],
   "source": [
    "def reverseWords(self, s: str) -> str:\n",
    "    string_list = s.split()\n",
    "    string_list.reverse()\n",
    "    return ' '.join(string_list)"
   ]
  },
  {
   "cell_type": "code",
   "execution_count": null,
   "metadata": {},
   "outputs": [],
   "source": [
    "class Solution:\n",
    "    def reverseWords(self, s: str) -> str:\n",
    "        words = []\n",
    "        l, r = 0, 1\n",
    "        while r < len(s):\n",
    "            while l < len(s) and s[l] == \" \":\n",
    "                l += 1\n",
    "            r = l + 1\n",
    "            while r < len(s) and s[r].isalnum():\n",
    "                r += 1\n",
    "            words.append(s[l:r])\n",
    "            l = r\n",
    "        if words[-1] == \"\": words.pop()\n",
    "        return \" \".join(reversed(words))"
   ]
  },
  {
   "cell_type": "code",
   "execution_count": null,
   "metadata": {},
   "outputs": [],
   "source": [
    "return \" \".join([i for i in s.split(\" \")[::-1] if i])"
   ]
  },
  {
   "cell_type": "code",
   "execution_count": null,
   "metadata": {},
   "outputs": [],
   "source": [
    "import re\n",
    "class Solution:\n",
    "    def reverseWords(self, s: str) -> str:\n",
    "        s = re.sub('\\s+',' ',s)\n",
    "        l_s = s.strip().split(' ')\n",
    "        l_s = list(reversed(l_s))\n",
    "        return \" \".join(l_s)"
   ]
  },
  {
   "cell_type": "code",
   "execution_count": null,
   "metadata": {},
   "outputs": [],
   "source": [
    "def reverseWords(self, s: str) -> str:\n",
    "\ts = s.strip()\n",
    "\ts = ' '.join(s.split()[::-1])\n",
    "\treturn s"
   ]
  },
  {
   "cell_type": "code",
   "execution_count": null,
   "metadata": {},
   "outputs": [],
   "source": []
  },
  {
   "cell_type": "code",
   "execution_count": null,
   "metadata": {},
   "outputs": [],
   "source": []
  }
 ],
 "metadata": {
  "kernelspec": {
   "display_name": "Python 3",
   "language": "python",
   "name": "python3"
  },
  "language_info": {
   "codemirror_mode": {
    "name": "ipython",
    "version": 3
   },
   "file_extension": ".py",
   "mimetype": "text/x-python",
   "name": "python",
   "nbconvert_exporter": "python",
   "pygments_lexer": "ipython3",
   "version": "3.8.5"
  }
 },
 "nbformat": 4,
 "nbformat_minor": 4
}
