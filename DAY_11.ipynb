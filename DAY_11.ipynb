{
 "cells": [
  {
   "cell_type": "markdown",
   "metadata": {},
   "source": [
    "# Word Pattern\n",
    "\n",
    "Given a pattern and a string s, find if s follows the same pattern.\n",
    "\n",
    "Here follow means a full match, such that there is a bijection between a letter in pattern and a non-empty word in s.\n",
    "\n",
    " \n",
    "\n",
    "Example 1:\n",
    "\n",
    "Input: pattern = \"abba\", s = \"dog cat cat dog\"\n",
    "Output: true\n",
    "Example 2:\n",
    "\n",
    "Input: pattern = \"abba\", s = \"dog cat cat fish\"\n",
    "Output: false\n",
    "Example 3:\n",
    "\n",
    "Input: pattern = \"aaaa\", s = \"dog cat cat dog\"\n",
    "Output: false\n",
    "Example 4:\n",
    "\n",
    "Input: pattern = \"abba\", s = \"dog dog dog dog\"\n",
    "Output: false\n",
    " \n",
    "\n",
    "Constraints:\n",
    "\n",
    "1 <= pattern.length <= 300\n",
    "pattern contains only lower-case English letters.\n",
    "1 <= s.length <= 3000\n",
    "s contains only lower-case English letters and spaces ' '.\n",
    "s does not contain any leading or trailing spaces.\n",
    "All the words in s are separated by a single space."
   ]
  },
  {
   "cell_type": "code",
   "execution_count": null,
   "metadata": {},
   "outputs": [],
   "source": [
    "# didnot worked\n",
    "import collections\n",
    "class Solution:\n",
    "    def wordPattern(self, pattern: str, s: str) -> bool:\n",
    "        f = collections.Counter(pattern)\n",
    "        z = collections.Counter(s)\n",
    "        d={}\n",
    "        r={}\n",
    "        for key , value in f.items():\n",
    "            d[value] = key\n",
    "        for key , value in z.items():\n",
    "            r[value] = key\n",
    "        return d.keys()==r.keys()"
   ]
  },
  {
   "cell_type": "code",
   "execution_count": null,
   "metadata": {},
   "outputs": [],
   "source": [
    "class Solution:\n",
    "    def wordPattern(self, pattern: str, s: str) -> bool:\n",
    "        s = s.split()\n",
    "        if len(pattern)!=len(s): return False\n",
    "        adict,bdict = {},{} \n",
    "        adict = {pattern[i]:i for i in range(len(pattern)) if pattern[i] not in adict}\n",
    "        bdict = {s[i]:i for i in range(len(s)) if s[i] not in bdict}\n",
    "        p1,p2 = [adict[c] for c in pattern], [bdict[w] for w in s]\n",
    "        return p1==p2"
   ]
  },
  {
   "cell_type": "code",
   "execution_count": null,
   "metadata": {},
   "outputs": [],
   "source": [
    "class Solution:\n",
    "    def wordPattern(self, pattern: str, s: str) -> bool:\n",
    "        dict={}\n",
    "        dict1={}\n",
    "        arr=s.split()\n",
    "        if len(pattern)!=len(arr):\n",
    "            return False\n",
    "        for i in range(len(arr)):\n",
    "            if arr[i] in dict:\n",
    "                if dict[arr[i]]!=pattern[i]:return False\n",
    "            else:\n",
    "                dict[arr[i]]=pattern[i]\n",
    "            if pattern[i] in dict1:\n",
    "                if dict1[pattern[i]]!=arr[i]:return False\n",
    "            else:\n",
    "                dict1[pattern[i]]=arr[i]\n",
    "        return True"
   ]
  },
  {
   "cell_type": "code",
   "execution_count": null,
   "metadata": {},
   "outputs": [],
   "source": [
    "class Solution:\n",
    "    def wordPattern(self, pattern: str, s: str) -> bool:\n",
    "        \n",
    "        news=s.split(\" \")\n",
    "        newp=list(pattern)\n",
    "        if len(news)!=len(newp):\n",
    "            return False\n",
    "        for i in range(len(pattern)):\n",
    "                if news.index(news[i])!=newp.index(newp[i]):\n",
    "                    return False\n",
    "        return True"
   ]
  },
  {
   "cell_type": "code",
   "execution_count": null,
   "metadata": {},
   "outputs": [],
   "source": [
    "class Solution:\n",
    "    def wordPattern(self, pattern: str, s: str) -> bool:\n",
    "        list1 = s.split(' ')\n",
    "        return len(set(zip(pattern,list1))) == len(set(list1)) == len(set(pattern)) and  len(list1) == len(pattern)"
   ]
  },
  {
   "cell_type": "code",
   "execution_count": null,
   "metadata": {},
   "outputs": [],
   "source": [
    "# fastest easy to understand\n",
    "class Solution:\n",
    "    def wordPattern(self, pattern: str, s: str) -> bool:\n",
    "        if not pattern or not s or len(pattern) == 0 or len(s) == 0:\n",
    "            return False\n",
    "\n",
    "        word_lst = s.split(\" \")\n",
    "        if len(pattern) != len(word_lst):\n",
    "            return False\n",
    "\n",
    "        pattern2word = {}\n",
    "        word2pattern = {}\n",
    "\n",
    "        length = len(pattern)\n",
    "        for i in range(length):\n",
    "            if pattern[i] not in pattern2word:\n",
    "                pattern2word[pattern[i]] = word_lst[i]\n",
    "            \n",
    "            if word_lst[i] not in word2pattern:\n",
    "                word2pattern[word_lst[i]] = pattern[i]\n",
    "\n",
    "            if word_lst[i] in word2pattern:\n",
    "                if word2pattern[word_lst[i]] != pattern[i]:\n",
    "                    return False\n",
    "\n",
    "            if pattern2word[pattern[i]] != word_lst[i]:\n",
    "                return False\n",
    "\n",
    "        return True"
   ]
  },
  {
   "cell_type": "code",
   "execution_count": null,
   "metadata": {},
   "outputs": [],
   "source": [
    "class Solution(object):\n",
    "    def wordPattern(self, pattern, s):\n",
    "        \"\"\"\n",
    "        :type pattern: str\n",
    "        :type s: str\n",
    "        :rtype: bool\n",
    "        \"\"\"\n",
    "        # Use dict to store char(from pattern)-word(from s) pairs\n",
    "        # To check bijection property, let's build two dict, one for pattern, one for s\n",
    "        # if pattern and s are the same, their dict should also be the same otherwise different\n",
    "        # Time O(2n)\n",
    "        s_list = s.split(' ')\n",
    "        dict1 = {}\n",
    "        dict2 = {}\n",
    "        \n",
    "        if len(pattern)!=len(s_list): # handling special case\n",
    "            return False\n",
    "        \n",
    "        for k, word in zip(pattern, s_list):\n",
    "            if k not in dict1 and word not in dict2:\n",
    "                dict1[k] = word\n",
    "                dict2[word] = k\n",
    "            else:\n",
    "                if (k in dict1 and word in dict2) and (dict1[k] == word and dict2[word] == k):\n",
    "                    continue\n",
    "                else:\n",
    "                    return False\n",
    "                    \n",
    "        return True"
   ]
  },
  {
   "cell_type": "code",
   "execution_count": null,
   "metadata": {},
   "outputs": [],
   "source": [
    "class Solution(object):\n",
    "    def wordPattern(self, pattern, s):\n",
    "        \"\"\"\n",
    "        :type pattern: str\n",
    "        :type s: str\n",
    "        :rtype: bool\n",
    "        \"\"\"\n",
    "    \n",
    "        x=[]\n",
    "        y=[]\n",
    "        for i in s.split(\" \"):\n",
    "            if i not in x:\n",
    "                x.append(i)\n",
    "        for i in pattern:\n",
    "            if i not in y:\n",
    "                y.append(i)\n",
    "        op=\"\"\n",
    "        if len(x)==len(y):\n",
    "            for i in pattern:\n",
    "                op=op+x[y.index(i)]+\" \"\n",
    "            op=op[0:len(s)]\n",
    "            if op==s:\n",
    "                return (True)\n",
    "            else:\n",
    "                return (False)\n",
    "        \n",
    "        return (False)"
   ]
  },
  {
   "cell_type": "markdown",
   "metadata": {},
   "source": [
    "# Isomorphic Strings\n",
    "\n",
    "Given two strings s and t, determine if they are isomorphic.\n",
    "\n",
    "Two strings s and t are isomorphic if the characters in s can be replaced to get t.\n",
    "\n",
    "All occurrences of a character must be replaced with another character while preserving the order of characters. No two characters may map to the same character, but a character may map to itself.\n",
    "\n",
    " \n",
    "\n",
    "Example 1:\n",
    "\n",
    "Input: s = \"egg\", t = \"add\"\n",
    "Output: true\n",
    "Example 2:\n",
    "\n",
    "Input: s = \"foo\", t = \"bar\"\n",
    "Output: false\n",
    "Example 3:\n",
    "\n",
    "Input: s = \"paper\", t = \"title\"\n",
    "Output: true\n",
    " \n",
    "\n",
    "Constraints:\n",
    "\n",
    "1 <= s.length <= 5 * 104\n",
    "t.length == s.length\n",
    "s and t consist of any valid ascii character."
   ]
  },
  {
   "cell_type": "code",
   "execution_count": null,
   "metadata": {},
   "outputs": [],
   "source": [
    "class Solution:\n",
    "    def isIsomorphic(self, s: str, t: str) -> bool:\n",
    "        dict_map = dict()\n",
    "        for a, b in zip(s, t):\n",
    "            if a in dict_map:\n",
    "                if not dict_map[a]==b:\n",
    "                    return False\n",
    "            else:\n",
    "                if b not in dict_map.values():\n",
    "                    dict_map[a]=b\n",
    "                else:\n",
    "                    return False\n",
    "        return True"
   ]
  },
  {
   "cell_type": "code",
   "execution_count": null,
   "metadata": {},
   "outputs": [],
   "source": [
    "class Solution:\n",
    "\tdef isIsomorphic(self, s: str, t: str) -> bool:\n",
    "\t\tmap_letters = {}\n",
    "\t\tlen_s = len(s)\n",
    "\t\tlen_t = len(t)\n",
    "\n",
    "\t\tif len_s != len_t:\n",
    "\t\t\treturn False\n",
    "\n",
    "\t\tfor i in range(0, len_s):\n",
    "\t\t\tif s[i] in map_letters and t[i] != map_letters[s[i]]:\n",
    "\t\t\t\treturn False\n",
    "\n",
    "\t\t\tif s[i] not in map_letters and t[i] in map_letters.values():\n",
    "\t\t\t\treturn False\n",
    "\n",
    "\t\t\tmap_letters[s[i]] = t[i]\n",
    "\n",
    "\t\treturn t == ''.join([map_letters.get(s[v]) for v in range(0, len_s) \n",
    "\t\t\t\t\t\t\t if map_letters.get(s[v]) is not None])"
   ]
  },
  {
   "cell_type": "markdown",
   "metadata": {},
   "source": [
    "I used one dictionary where I set the key for the first string 's' and the corresponding values for the second string 't'.\n",
    "\n",
    "If s = 'egg' and t = 'add', the dictionary would be:\n",
    "\n",
    "d = { e : a , g : d }\n",
    "\n",
    "Then, traverse the string (s) and check if the current character is present in the keys, and if the character of the second string (t) belongs to the values."
   ]
  },
  {
   "cell_type": "code",
   "execution_count": null,
   "metadata": {},
   "outputs": [],
   "source": [
    "def isIsomorphic(self, s: str, t: str) -> bool:\n",
    "\td = {}\n",
    "\tfor i in range(len(s)):\n",
    "\t\tif s[i] in d.keys():\n",
    "\t\t\tif d[s[i]] != t[i]:\n",
    "\t\t\t\treturn False\n",
    "\n",
    "\t\telse:\n",
    "\t\t\tif t[i] in d.values():\n",
    "\t\t\t\treturn False\n",
    "\t\t\td[s[i]] = t[i]\n",
    "\n",
    "\treturn True"
   ]
  },
  {
   "cell_type": "code",
   "execution_count": null,
   "metadata": {},
   "outputs": [],
   "source": [
    "def isIsomorphic(self, s: str, t: str) -> bool:\n",
    "        d={}\n",
    "        e={}\n",
    "        for i in range(len(s)):\n",
    "            if s[i] not in d:\n",
    "                d[s[i]]=t[i]\n",
    "            else:\n",
    "                if d[s[i]]!=t[i]:\n",
    "                    return False\n",
    "            if t[i] not in e:\n",
    "                e[t[i]]=s[i]\n",
    "            else:\n",
    "                if e[t[i]]!=s[i]:\n",
    "                    return False\n",
    "        return True"
   ]
  },
  {
   "cell_type": "code",
   "execution_count": null,
   "metadata": {},
   "outputs": [],
   "source": [
    "class Solution:\n",
    "    def isIsomorphic(self, s: str, t: str) -> bool:\n",
    "        \n",
    "        return [s.index(ch) for ch in s] == [t.index(ch) for ch in t]"
   ]
  },
  {
   "cell_type": "code",
   "execution_count": null,
   "metadata": {},
   "outputs": [],
   "source": [
    "class Solution:\n",
    "    def repeatedNTimes(self, A: List[int]) -> int:\n",
    "        d = {}\n",
    "        for i in A:\n",
    "            if i not in d:\n",
    "                d[i] = 1\n",
    "            else:\n",
    "                return i"
   ]
  },
  {
   "cell_type": "markdown",
   "metadata": {},
   "source": [
    "# stack with deque\n"
   ]
  },
  {
   "cell_type": "code",
   "execution_count": 4,
   "metadata": {},
   "outputs": [
    {
     "data": {
      "text/plain": [
       "['__add__',\n",
       " '__bool__',\n",
       " '__class__',\n",
       " '__contains__',\n",
       " '__copy__',\n",
       " '__delattr__',\n",
       " '__delitem__',\n",
       " '__dir__',\n",
       " '__doc__',\n",
       " '__eq__',\n",
       " '__format__',\n",
       " '__ge__',\n",
       " '__getattribute__',\n",
       " '__getitem__',\n",
       " '__gt__',\n",
       " '__hash__',\n",
       " '__iadd__',\n",
       " '__imul__',\n",
       " '__init__',\n",
       " '__init_subclass__',\n",
       " '__iter__',\n",
       " '__le__',\n",
       " '__len__',\n",
       " '__lt__',\n",
       " '__mul__',\n",
       " '__ne__',\n",
       " '__new__',\n",
       " '__reduce__',\n",
       " '__reduce_ex__',\n",
       " '__repr__',\n",
       " '__reversed__',\n",
       " '__rmul__',\n",
       " '__setattr__',\n",
       " '__setitem__',\n",
       " '__sizeof__',\n",
       " '__str__',\n",
       " '__subclasshook__',\n",
       " 'append',\n",
       " 'appendleft',\n",
       " 'clear',\n",
       " 'copy',\n",
       " 'count',\n",
       " 'extend',\n",
       " 'extendleft',\n",
       " 'index',\n",
       " 'insert',\n",
       " 'maxlen',\n",
       " 'pop',\n",
       " 'popleft',\n",
       " 'remove',\n",
       " 'reverse',\n",
       " 'rotate']"
      ]
     },
     "execution_count": 4,
     "metadata": {},
     "output_type": "execute_result"
    }
   ],
   "source": [
    "from collections import deque\n",
    "stack = deque()\n",
    "dir(stack)"
   ]
  },
  {
   "cell_type": "code",
   "execution_count": 7,
   "metadata": {},
   "outputs": [
    {
     "data": {
      "text/plain": [
       "deque(['www.1'])"
      ]
     },
     "execution_count": 7,
     "metadata": {},
     "output_type": "execute_result"
    }
   ],
   "source": [
    "from collections import deque\n",
    "stack = deque()\n",
    "stack.append(\"www.1\")\n",
    "stack"
   ]
  },
  {
   "cell_type": "code",
   "execution_count": 8,
   "metadata": {},
   "outputs": [
    {
     "data": {
      "text/plain": [
       "'www.1'"
      ]
     },
     "execution_count": 8,
     "metadata": {},
     "output_type": "execute_result"
    }
   ],
   "source": [
    "stack.pop()"
   ]
  },
  {
   "cell_type": "code",
   "execution_count": null,
   "metadata": {},
   "outputs": [],
   "source": []
  },
  {
   "cell_type": "code",
   "execution_count": null,
   "metadata": {},
   "outputs": [],
   "source": [
    "class Solution(object):\n",
    "    def findTheDifference(self, s, t):\n",
    "        return chr(sum(ord(char) for char in t) - sum(ord(char) for char in s))"
   ]
  },
  {
   "cell_type": "code",
   "execution_count": null,
   "metadata": {},
   "outputs": [],
   "source": [
    "class Solution:\n",
    "    def findTheDifference(self, s: str, t: str) -> str:\n",
    "        if len(s) == 0:\n",
    "            return t\n",
    "\n",
    "        sum_s, sum_t = 0, 0\n",
    "        for i in s:\n",
    "            sum_s += ord(i)\n",
    "        for j in t:\n",
    "            sum_t += ord(j)\n",
    "\n",
    "        return chr(sum_t - sum_s)"
   ]
  },
  {
   "cell_type": "code",
   "execution_count": null,
   "metadata": {},
   "outputs": [],
   "source": [
    "def findTheDifference(self, s: str, t: str) -> str:\n",
    "        dict = {}\n",
    "\t\n",
    "        for ele in s:\n",
    "            if ele in dict:\n",
    "                dict[ele] += 1\n",
    "            else:\n",
    "                dict[ele] = 1\n",
    "\n",
    "        for ele in t:\n",
    "            if ele in dict and dict[ele] > 0:\n",
    "                dict[ele] -= 1\n",
    "            else:\n",
    "                return ele"
   ]
  },
  {
   "cell_type": "code",
   "execution_count": null,
   "metadata": {},
   "outputs": [],
   "source": [
    "  def findTheDifference(self, s: str, t: str) -> str:\n",
    "        hashmap = {}\n",
    "        for i in s+t:\n",
    "            if i not in hashmap:\n",
    "                hashmap[i] = 1\n",
    "            else:\n",
    "                hashmap[i] += 1\n",
    "        for k, v in hashmap.items():\n",
    "            if v % 2 != 0:\n",
    "                return k"
   ]
  },
  {
   "cell_type": "code",
   "execution_count": null,
   "metadata": {},
   "outputs": [],
   "source": []
  },
  {
   "cell_type": "code",
   "execution_count": null,
   "metadata": {},
   "outputs": [],
   "source": []
  },
  {
   "cell_type": "code",
   "execution_count": null,
   "metadata": {},
   "outputs": [],
   "source": []
  }
 ],
 "metadata": {
  "kernelspec": {
   "display_name": "Python 3",
   "language": "python",
   "name": "python3"
  },
  "language_info": {
   "codemirror_mode": {
    "name": "ipython",
    "version": 3
   },
   "file_extension": ".py",
   "mimetype": "text/x-python",
   "name": "python",
   "nbconvert_exporter": "python",
   "pygments_lexer": "ipython3",
   "version": "3.8.5"
  }
 },
 "nbformat": 4,
 "nbformat_minor": 4
}
