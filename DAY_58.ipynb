{
 "cells": [
  {
   "cell_type": "markdown",
   "metadata": {},
   "source": [
    "# Climbing Stairs\n",
    "\n",
    "You are climbing a staircase. It takes n steps to reach the top.\n",
    "\n",
    "Each time you can either climb 1 or 2 steps. In how many distinct ways can you climb to the top?\n",
    "\n",
    " \n",
    "\n",
    "Example 1:\n",
    "\n",
    "Input: n = 2\n",
    "Output: 2\n",
    "Explanation: There are two ways to climb to the top.\n",
    "1. 1 step + 1 step\n",
    "2. 2 steps\n",
    "Example 2:\n",
    "\n",
    "Input: n = 3\n",
    "Output: 3\n",
    "Explanation: There are three ways to climb to the top.\n",
    "1. 1 step + 1 step + 1 step\n",
    "2. 1 step + 2 steps\n",
    "3. 2 steps + 1 step\n",
    " \n",
    "\n",
    "Constraints:\n",
    "\n",
    "1 <= n <= 45"
   ]
  },
  {
   "cell_type": "code",
   "execution_count": 3,
   "metadata": {},
   "outputs": [
    {
     "name": "stdout",
     "output_type": "stream",
     "text": [
      "[0, 1, 2, 3, 5, 8, 13]\n"
     ]
    },
    {
     "data": {
      "text/plain": [
       "13"
      ]
     },
     "execution_count": 3,
     "metadata": {},
     "output_type": "execute_result"
    }
   ],
   "source": [
    "\n",
    "class Solution:\n",
    "    def climbStairs(self, n: int) -> int:\n",
    "        if(n == 1):\n",
    "            return 1\n",
    "        dp = [0]*(n+1)\n",
    "        dp[1] = 1\n",
    "        dp[2] = 2\n",
    "\n",
    "        for i in range(3, n+1):\n",
    "            dp[i] = dp[i-1]+dp[i-2]\n",
    "        print(dp)\n",
    "\n",
    "        return dp[n]\n",
    "s=Solution()\n",
    "s.climbStairs(6)"
   ]
  },
  {
   "cell_type": "code",
   "execution_count": null,
   "metadata": {},
   "outputs": [],
   "source": [
    "class Solution:\n",
    "    def climbStairs(self, n: int) -> int:\n",
    "        self.array = [None] * (n + 1)\n",
    "        if n <= 2:\n",
    "            return n\n",
    "        return self.climbStairsRecursive(n)\n",
    "    \n",
    "    def climbStairsRecursive(self, n):\n",
    "        if n <= 2:\n",
    "            return n\n",
    "        if not self.array[n]:\n",
    "            self.array[n] = self.climbStairsRecursive(n - 1) + self.climbStairsRecursive(n - 2)\n",
    "        return self.array[n]"
   ]
  },
  {
   "cell_type": "markdown",
   "metadata": {},
   "source": [
    "# 322. Coin Change\n",
    "\n",
    "You are given an integer array coins representing coins of different denominations and an integer amount representing a total amount of money.\n",
    "\n",
    "Return the fewest number of coins that you need to make up that amount. If that amount of money cannot be made up by any combination of the coins, return -1.\n",
    "\n",
    "You may assume that you have an infinite number of each kind of coin.\n",
    "\n",
    " \n",
    "\n",
    "Example 1:\n",
    "\n",
    "Input: coins = [1,2,5], amount = 11\n",
    "Output: 3\n",
    "Explanation: 11 = 5 + 5 + 1\n",
    "Example 2:\n",
    "\n",
    "Input: coins = [2], amount = 3\n",
    "Output: -1\n",
    "Example 3:\n",
    "\n",
    "Input: coins = [1], amount = 0\n",
    "Output: 0\n",
    "Example 4:\n",
    "\n",
    "Input: coins = [1], amount = 1\n",
    "Output: 1\n",
    "Example 5:\n",
    "\n",
    "Input: coins = [1], amount = 2\n",
    "Output: 2\n",
    " \n",
    "\n",
    "Constraints:\n",
    "\n",
    "1 <= coins.length <= 12\n",
    "1 <= coins[i] <= 231 - 1\n",
    "0 <= amount <= 104"
   ]
  },
  {
   "cell_type": "code",
   "execution_count": 10,
   "metadata": {},
   "outputs": [
    {
     "name": "stdout",
     "output_type": "stream",
     "text": [
      "[0, 1, 1, 2, 2, 1, 2, 2, 3, 3, 2, 3]\n"
     ]
    },
    {
     "data": {
      "text/plain": [
       "3"
      ]
     },
     "execution_count": 10,
     "metadata": {},
     "output_type": "execute_result"
    }
   ],
   "source": [
    "from typing import List\n",
    "class Solution:\n",
    "    def coinChange(self, coins: List[int], amount: int) -> int:\n",
    "        if amount <= 0:\n",
    "            return 0\n",
    "        \n",
    "        if min(coins) > amount:\n",
    "            return -1\n",
    "\n",
    "        INT_MAX = 1<<32\n",
    "        dp = [INT_MAX] * (amount +1)\n",
    "        dp[0] = 0\n",
    "        \n",
    "        for i in range(1, amount + 1):\n",
    "            for coin in coins:\n",
    "                if coin <= i:\n",
    "                    dp[i] = min((dp[i-coin] + 1), dp[i])\n",
    "        print(dp)\n",
    "        return dp[amount] if dp[amount] != INT_MAX else -1\n",
    "s=Solution()\n",
    "s.coinChange([1,2,5],11)"
   ]
  },
  {
   "cell_type": "code",
   "execution_count": null,
   "metadata": {},
   "outputs": [],
   "source": [
    "from math import isinf\n",
    "class Solution(object):\n",
    "    def coinChange(self, coins, amount):\n",
    "        \"\"\"\n",
    "        :type coins: List[int]\n",
    "        :type amount: int\n",
    "        :rtype: int\n",
    "        \"\"\"\n",
    "        dp = [float('inf') for _ in range(amount + 1)]\n",
    "        dp[0] = 0\n",
    "        coins.sort()\n",
    "        for t in range(1, amount + 1):\n",
    "            for j in coins:\n",
    "                if j > t: break\n",
    "                dp[t] = min(dp[t], 1 + dp[t-j])\n",
    "        \n",
    "        return -1 if isinf(dp[amount]) else dp[amount]"
   ]
  },
  {
   "cell_type": "code",
   "execution_count": null,
   "metadata": {},
   "outputs": [],
   "source": [
    "#80percent space\n",
    "class Solution:\n",
    "    def coinChange(self, coins: List[int], amount: int) -> int:\n",
    "        dp = [10**18]*(amount+1)\n",
    "        dp[0] = 0\n",
    "        for i in range(1,amount+1):\n",
    "            ans = 10**18\n",
    "            for j in range(len(coins)):\n",
    "                x = i-coins[j]\n",
    "                if x < 0:\n",
    "                    continue\n",
    "                    \n",
    "                ans = min(1+dp[x],ans)\n",
    "                \n",
    "            dp[i] = ans\n",
    "        \n",
    "        if dp[amount] == 10**18:\n",
    "            return -1\n",
    "        \n",
    "        return dp[amount]"
   ]
  },
  {
   "cell_type": "code",
   "execution_count": null,
   "metadata": {},
   "outputs": [],
   "source": [
    "#fastest\n",
    "from collections import defaultdict\n",
    "class Solution:\n",
    "    @staticmethod\n",
    "    def missingkey():\n",
    "        return -1\n",
    "    \n",
    "    def coinChange(self, coins: List[int], amount: int) -> int:\n",
    "        \"\"\"\n",
    "        DP list, bottom up approach\n",
    "        \"\"\"\n",
    "        # Edge case\n",
    "        if amount == 0:\n",
    "            return 0\n",
    "        # Initialize the dp table in the form of amount : min coins.\n",
    "        # If the amount is not valid, then returns -1\n",
    "        dp = defaultdict(self.missingkey)\n",
    "        dp[0] = 0\n",
    "        for coin in coins:\n",
    "            dp[coin] = 1\n",
    "        \n",
    "        # Table recursion: bottom up\n",
    "        for i in range(amount + 1):  # including amount\n",
    "            # Goal: build dp[i]\n",
    "            # find the min for each coin\n",
    "            possible_counts = []\n",
    "            for coin in coins:\n",
    "                if i - coin in dp:\n",
    "                    possible_counts.append(dp[i-coin] + 1)\n",
    "            if possible_counts:\n",
    "                dp[i] = min(possible_counts)\n",
    "\n",
    "        return dp[amount]"
   ]
  },
  {
   "cell_type": "code",
   "execution_count": null,
   "metadata": {},
   "outputs": [],
   "source": []
  },
  {
   "cell_type": "code",
   "execution_count": null,
   "metadata": {},
   "outputs": [],
   "source": []
  },
  {
   "cell_type": "code",
   "execution_count": null,
   "metadata": {},
   "outputs": [],
   "source": []
  },
  {
   "cell_type": "code",
   "execution_count": null,
   "metadata": {},
   "outputs": [],
   "source": []
  },
  {
   "cell_type": "code",
   "execution_count": null,
   "metadata": {},
   "outputs": [],
   "source": []
  },
  {
   "cell_type": "code",
   "execution_count": null,
   "metadata": {},
   "outputs": [],
   "source": []
  }
 ],
 "metadata": {
  "kernelspec": {
   "display_name": "Python 3",
   "language": "python",
   "name": "python3"
  },
  "language_info": {
   "codemirror_mode": {
    "name": "ipython",
    "version": 3
   },
   "file_extension": ".py",
   "mimetype": "text/x-python",
   "name": "python",
   "nbconvert_exporter": "python",
   "pygments_lexer": "ipython3",
   "version": "3.8.5"
  }
 },
 "nbformat": 4,
 "nbformat_minor": 4
}
