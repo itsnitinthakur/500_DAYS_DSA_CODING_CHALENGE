{
 "cells": [
  {
   "cell_type": "markdown",
   "metadata": {},
   "source": [
    "# Number of Segments in a String\n",
    "\n",
    "You are given a string s, return the number of segments in the string. \n",
    "\n",
    "A segment is defined to be a contiguous sequence of non-space characters.\n",
    "\n",
    " \n",
    "\n",
    "Example 1:\n",
    "\n",
    "Input: s = \"Hello, my name is John\"\n",
    "Output: 5\n",
    "Explanation: The five segments are [\"Hello,\", \"my\", \"name\", \"is\", \"John\"]\n",
    "Example 2:\n",
    "\n",
    "Input: s = \"Hello\"\n",
    "Output: 1\n",
    "Example 3:\n",
    "\n",
    "Input: s = \"love live! mu'sic forever\"\n",
    "Output: 4\n",
    "Example 4:\n",
    "\n",
    "Input: s = \"\"\n",
    "Output: 0\n",
    " \n",
    "\n",
    "Constraints:\n",
    "\n",
    "0 <= s.length <= 300\n",
    "s consists of lower-case and upper-case English letters, digits or one of the following characters \"!@#$%^&*()_+-=',.:\".\n",
    "The only space character in s is ' '."
   ]
  },
  {
   "cell_type": "code",
   "execution_count": null,
   "metadata": {},
   "outputs": [],
   "source": [
    "class Solution:\n",
    "    def countSegments(self, s: str) -> int:\n",
    "        \n",
    "        i=0\n",
    "        count=0\n",
    "        while(i<len(s)):\n",
    "            if(s[i]!=' '):\n",
    "                count+=1\n",
    "                while(i<len(s) and s[i]!=' '):\n",
    "                    i+=1\n",
    "            else:\n",
    "                i+=1\n",
    "        return count"
   ]
  },
  {
   "cell_type": "code",
   "execution_count": null,
   "metadata": {},
   "outputs": [],
   "source": [
    "class Solution:\n",
    "    def countSegments(self, s: str) -> int:\n",
    "        s = s.strip()\n",
    "        if len(s) == 0:\n",
    "            return 0\n",
    "        \n",
    "        last_char = s[0]\n",
    "        count = 1\n",
    "        for char in s:\n",
    "            if char == ' ' and last_char != ' ':\n",
    "                count += 1\n",
    "            last_char = char\n",
    "        return count"
   ]
  },
  {
   "cell_type": "code",
   "execution_count": null,
   "metadata": {},
   "outputs": [],
   "source": [
    "class Solution:\n",
    "    def countSegments(self, s: str) -> int:\n",
    "        \n",
    "        i=0\n",
    "        count=0\n",
    "        while(i<len(s)):\n",
    "            if(s[i]!=' '):\n",
    "                count+=1\n",
    "                while(i<len(s) and s[i]!=' '):\n",
    "                    i+=1\n",
    "            else:\n",
    "                i+=1\n",
    "        return count"
   ]
  },
  {
   "cell_type": "raw",
   "metadata": {},
   "source": [
    "## Given a  2D Array, :\n",
    "\n",
    "1 1 1 0 0 0\n",
    "0 1 0 0 0 0\n",
    "1 1 1 0 0 0\n",
    "0 0 0 0 0 0\n",
    "0 0 0 0 0 0\n",
    "0 0 0 0 0 0\n",
    "An hourglass in  is a subset of values with indices falling in this pattern in 's graphical representation:\n",
    "\n",
    "a b c\n",
    "  d\n",
    "e f g\n",
    "There are  hourglasses in . An hourglass sum is the sum of an hourglass' values. Calculate the hourglass sum for every hourglass in , then print the maximum hourglass sum. The array will always be .\n",
    "\n",
    "Example\n",
    "\n",
    "\n",
    "-9 -9 -9  1 1 1 \n",
    " 0 -9  0  4 3 2\n",
    "-9 -9 -9  1 2 3\n",
    " 0  0  8  6 6 0\n",
    " 0  0  0 -2 0 0\n",
    " 0  0  1  2 4 0\n",
    "The  hourglass sums are:\n",
    "\n",
    "-63, -34, -9, 12, \n",
    "-10,   0, 28, 23, \n",
    "-27, -11, -2, 10, \n",
    "  9,  17, 25, 18\n",
    "The highest hourglass sum is  from the hourglass beginning at row , column :\n",
    "\n",
    "0 4 3\n",
    "  1\n",
    "8 6 6\n",
    "Note: If you have already solved the Java domain's Java 2D Array challenge, you may wish to skip this challenge.\n",
    "\n",
    "Function Description\n",
    "\n",
    "Complete the function hourglassSum in the editor below.\n",
    "\n",
    "hourglassSum has the following parameter(s):\n",
    "\n",
    "int arr[6][6]: an array of integers\n",
    "Returns\n",
    "\n",
    "int: the maximum hourglass sum\n",
    "Input Format\n",
    "\n",
    "Each of the  lines of inputs  contains  space-separated integers .\n",
    "\n",
    "Constraints\n",
    "\n",
    "Output Format\n",
    "\n",
    "Print the largest (maximum) hourglass sum found in .\n",
    "\n",
    "Sample Input\n",
    "\n",
    "1 1 1 0 0 0\n",
    "0 1 0 0 0 0\n",
    "1 1 1 0 0 0\n",
    "0 0 2 4 4 0\n",
    "0 0 0 2 0 0\n",
    "0 0 1 2 4 0\n",
    "Sample Output\n",
    "\n",
    "19\n",
    "https://www.youtube.com/watch?v=ulvgide_NWY"
   ]
  },
  {
   "cell_type": "code",
   "execution_count": null,
   "metadata": {},
   "outputs": [],
   "source": [
    "#!/bin/python3\n",
    "\n",
    "import math\n",
    "import os\n",
    "import random\n",
    "import re\n",
    "import sys\n",
    "\n",
    "  \n",
    "grid = list()\n",
    "\n",
    "for i in range(6):\n",
    "    row = input().strip().split(' ')\n",
    "    row = list(map(int, row))\n",
    "    grid.append(row)\n",
    "\n",
    "def _get_hourglass_sum(grid, i, j):\n",
    "    sum = 0\n",
    "    sum += grid[i-1][j-1]\n",
    "    sum += grid[i-1][j]\n",
    "    sum += grid[i-1][j+1]\n",
    "    sum += grid[i][j]\n",
    "    sum += grid[i+1][j-1]\n",
    "    sum += grid[i+1][j]\n",
    "    sum += grid[i+1][j+1]\n",
    "    return sum\n",
    "\n",
    "# start max_hourglass_sum at smallest possible hourglass\n",
    "max_hourglass_sum = -63\n",
    "for i in range(1,5):\n",
    "    for j in range(1, 5):\n",
    "        current_hourglass_sum = _get_hourglass_sum(grid, i, j)\n",
    "        if current_hourglass_sum > max_hourglass_sum:\n",
    "            max_hourglass_sum = current_hourglass_sum\n",
    "\n",
    "print(max_hourglass_sum)\n"
   ]
  },
  {
   "cell_type": "code",
   "execution_count": 1,
   "metadata": {},
   "outputs": [
    {
     "data": {
      "text/plain": [
       "9"
      ]
     },
     "execution_count": 1,
     "metadata": {},
     "output_type": "execute_result"
    }
   ],
   "source": [
    "19%10"
   ]
  },
  {
   "cell_type": "code",
   "execution_count": null,
   "metadata": {},
   "outputs": [],
   "source": []
  },
  {
   "cell_type": "code",
   "execution_count": null,
   "metadata": {},
   "outputs": [],
   "source": []
  },
  {
   "cell_type": "code",
   "execution_count": null,
   "metadata": {},
   "outputs": [],
   "source": []
  },
  {
   "cell_type": "code",
   "execution_count": null,
   "metadata": {},
   "outputs": [],
   "source": []
  },
  {
   "cell_type": "code",
   "execution_count": null,
   "metadata": {},
   "outputs": [],
   "source": []
  },
  {
   "cell_type": "code",
   "execution_count": null,
   "metadata": {},
   "outputs": [],
   "source": []
  },
  {
   "cell_type": "code",
   "execution_count": null,
   "metadata": {},
   "outputs": [],
   "source": []
  },
  {
   "cell_type": "code",
   "execution_count": null,
   "metadata": {},
   "outputs": [],
   "source": []
  },
  {
   "cell_type": "code",
   "execution_count": null,
   "metadata": {},
   "outputs": [],
   "source": []
  },
  {
   "cell_type": "code",
   "execution_count": null,
   "metadata": {},
   "outputs": [],
   "source": []
  },
  {
   "cell_type": "code",
   "execution_count": null,
   "metadata": {},
   "outputs": [],
   "source": []
  },
  {
   "cell_type": "code",
   "execution_count": null,
   "metadata": {},
   "outputs": [],
   "source": []
  },
  {
   "cell_type": "code",
   "execution_count": null,
   "metadata": {},
   "outputs": [],
   "source": []
  },
  {
   "cell_type": "code",
   "execution_count": null,
   "metadata": {},
   "outputs": [],
   "source": []
  },
  {
   "cell_type": "code",
   "execution_count": null,
   "metadata": {},
   "outputs": [],
   "source": []
  }
 ],
 "metadata": {
  "kernelspec": {
   "display_name": "Python 3",
   "language": "python",
   "name": "python3"
  },
  "language_info": {
   "codemirror_mode": {
    "name": "ipython",
    "version": 3
   },
   "file_extension": ".py",
   "mimetype": "text/x-python",
   "name": "python",
   "nbconvert_exporter": "python",
   "pygments_lexer": "ipython3",
   "version": "3.8.5"
  }
 },
 "nbformat": 4,
 "nbformat_minor": 4
}
