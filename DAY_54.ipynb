{
 "cells": [
  {
   "cell_type": "markdown",
   "metadata": {},
   "source": [
    "# jump game"
   ]
  },
  {
   "cell_type": "code",
   "execution_count": 10,
   "metadata": {},
   "outputs": [
    {
     "data": {
      "text/plain": [
       "False"
      ]
     },
     "execution_count": 10,
     "metadata": {},
     "output_type": "execute_result"
    }
   ],
   "source": [
    "from typing import List\n",
    "class Solution:\n",
    "    def canJump(self, nums: List[int]) -> bool:\n",
    "        maxReach=0\n",
    "        for i in range(len(nums)):\n",
    "#             print(i)\n",
    "            if i>maxReach:\n",
    "                return False\n",
    "            maxReach=max(maxReach,i+nums[i])\n",
    "           #print(maxReach)\n",
    "        return True\n",
    "s = Solution()\n",
    "s.canJump([3,2,1,0,4])"
   ]
  },
  {
   "cell_type": "code",
   "execution_count": 24,
   "metadata": {},
   "outputs": [
    {
     "name": "stdout",
     "output_type": "stream",
     "text": [
      "True\n"
     ]
    }
   ],
   "source": [
    "nums=[3,2,1,1,4]\n",
    "maxReach=0\n",
    "for i in range(len(nums)):\n",
    "    \n",
    "    if i>maxReach:\n",
    "        print('False')\n",
    "    maxReach=max(maxReach,i+nums[i])\n",
    "print('True')"
   ]
  },
  {
   "cell_type": "markdown",
   "metadata": {},
   "source": [
    "## Jump Game II\n",
    "\n",
    "Given an array of non-negative integers nums, you are initially positioned at the first index of the array.\n",
    "\n",
    "Each element in the array represents your maximum jump length at that position.\n",
    "\n",
    "Your goal is to reach the last index in the minimum number of jumps.\n",
    "\n",
    "You can assume that you can always reach the last index.\n",
    "\n",
    " \n",
    "\n",
    "Example 1:\n",
    "\n",
    "Input: nums = [2,3,1,1,4]\n",
    "Output: 2\n",
    "Explanation: The minimum number of jumps to reach the last index is 2. Jump 1 step from index 0 to 1, then 3 steps to the last index.\n",
    "Example 2:\n",
    "\n",
    "Input: nums = [2,3,0,1,4]\n",
    "Output: 2\n",
    " \n",
    "\n",
    "Constraints:\n",
    "\n",
    "1 <= nums.length <= 104\n",
    "0 <= nums[i] <= 1000\n",
    "Accepted\n",
    "375,673\n",
    "Submissions\n",
    "1,136,341"
   ]
  },
  {
   "cell_type": "code",
   "execution_count": 16,
   "metadata": {},
   "outputs": [
    {
     "data": {
      "text/plain": [
       "2"
      ]
     },
     "execution_count": 16,
     "metadata": {},
     "output_type": "execute_result"
    }
   ],
   "source": [
    "from typing import List\n",
    "class Solution:\n",
    "    def jump(self, nums: List[int]) -> int:\n",
    "        n=len(nums)\n",
    "        jumps=1\n",
    "        if n==1 or nums[0]==0:\n",
    "            return 0\n",
    "        farthest = nums[0]\n",
    "        curr_end=nums[0]\n",
    "        for i in range(1,n):\n",
    "            #this tells that we have reached to the end of the list\n",
    "            if i==n-1:\n",
    "                return jumps\n",
    "            farthest=max(farthest,i+nums[i])\n",
    "            #This is going to tell us how much jump have been made\n",
    "            #because whenever i= curr_end it means farthest range is changing \n",
    "            #with the increment of i\n",
    "            if i==curr_end:\n",
    "                jumps+=1\n",
    "                curr_end=farthest\n",
    "# un comment below code for own practice in your ide\n",
    "# s=Solution()\n",
    "# s.jump([2,3,1,1,4])"
   ]
  },
  {
   "cell_type": "code",
   "execution_count": 25,
   "metadata": {},
   "outputs": [
    {
     "data": {
      "text/plain": [
       "2"
      ]
     },
     "execution_count": 25,
     "metadata": {},
     "output_type": "execute_result"
    }
   ],
   "source": [
    "from typing import List\n",
    "class Solution:\n",
    "    def jump(self, nums: List[int]) -> int:\n",
    "        lastIndex = len(nums) - 1\n",
    "        stepCount = 0\n",
    "\n",
    "        while lastIndex != 0:\n",
    "            for i in range(0, lastIndex):\n",
    "                if i + nums[i] >= lastIndex:\n",
    "                    stepCount += 1\n",
    "                    lastIndex = i\n",
    "                    break\n",
    "\n",
    "        return stepCount\n",
    "s=Solution()\n",
    "s.jump([2,3,1,1,4])"
   ]
  },
  {
   "cell_type": "code",
   "execution_count": null,
   "metadata": {},
   "outputs": [],
   "source": []
  },
  {
   "cell_type": "code",
   "execution_count": null,
   "metadata": {},
   "outputs": [],
   "source": []
  },
  {
   "cell_type": "code",
   "execution_count": null,
   "metadata": {},
   "outputs": [],
   "source": []
  },
  {
   "cell_type": "code",
   "execution_count": null,
   "metadata": {},
   "outputs": [],
   "source": []
  }
 ],
 "metadata": {
  "kernelspec": {
   "display_name": "Python 3",
   "language": "python",
   "name": "python3"
  },
  "language_info": {
   "codemirror_mode": {
    "name": "ipython",
    "version": 3
   },
   "file_extension": ".py",
   "mimetype": "text/x-python",
   "name": "python",
   "nbconvert_exporter": "python",
   "pygments_lexer": "ipython3",
   "version": "3.8.5"
  }
 },
 "nbformat": 4,
 "nbformat_minor": 4
}
