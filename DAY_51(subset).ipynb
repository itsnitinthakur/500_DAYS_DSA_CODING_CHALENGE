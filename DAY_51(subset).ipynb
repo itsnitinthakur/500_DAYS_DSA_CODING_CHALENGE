{
 "cells": [
  {
   "cell_type": "markdown",
   "metadata": {},
   "source": [
    "# Subsets\n",
    "\n",
    "Given an integer array nums of unique elements, return all possible subsets (the power set).\n",
    "\n",
    "The solution set must not contain duplicate subsets. Return the solution in any order.\n",
    "\n",
    " \n",
    "\n",
    "Example 1:\n",
    "\n",
    "Input: nums = [1,2,3]\n",
    "Output: [[],[1],[2],[1,2],[3],[1,3],[2,3],[1,2,3]]\n",
    "Example 2:\n",
    "\n",
    "Input: nums = [0]\n",
    "Output: [[],[0]]"
   ]
  },
  {
   "cell_type": "code",
   "execution_count": 9,
   "metadata": {},
   "outputs": [
    {
     "name": "stdout",
     "output_type": "stream",
     "text": [
      "[[], [1], [1, 2]]\n",
      "[1, 2]\n",
      "[1]\n",
      "[[], [1], [1, 2]]\n",
      "[1]\n",
      "[]\n",
      "[[], [1], [1, 2], [2]]\n",
      "[2]\n",
      "[]\n"
     ]
    },
    {
     "data": {
      "text/plain": [
       "[[], [1], [1, 2], [2]]"
      ]
     },
     "execution_count": 9,
     "metadata": {},
     "output_type": "execute_result"
    }
   ],
   "source": [
    "from typing import List\n",
    "class Solution:\n",
    "    def solution(self,nums,ans,cur,index):\n",
    "        if(index>len(nums)):\n",
    "            return\n",
    "        ans.append(cur[:])\n",
    "        for i in range(index,len(nums)):\n",
    "            if(nums[i] not in cur):\n",
    "                cur.append(nums[i])\n",
    "                self.solution(nums,ans,cur,i)\n",
    "                print(ans)\n",
    "                print(cur)\n",
    "                cur.pop()\n",
    "                print(cur)\n",
    "        return \n",
    "    def subsets(self, nums: List[int]) -> List[List[int]]:\n",
    "        ans = []\n",
    "        cur = []\n",
    "        self.solution(nums,ans,cur,0)\n",
    "        return ans\n",
    "\n",
    "    \n",
    "z = Solution()\n",
    "z.subsets([1,2])"
   ]
  },
  {
   "cell_type": "code",
   "execution_count": null,
   "metadata": {},
   "outputs": [],
   "source": [
    "class Solution(object):\n",
    "    def subsets(self, nums):\n",
    "        subsets =[]\n",
    "        num_of_subsets = 2**len(nums)\n",
    "        n = len(nums)\n",
    "        for i in range(num_of_subsets):\n",
    "            binary = \"{0:b}\".format(i)\n",
    "            binary = '0'*(n-len(binary)) + binary\n",
    "            subset = []\n",
    "            for a,b in zip(binary,nums):\n",
    "                if a is not '0':\n",
    "                    subset.append(int(a)*b)\n",
    "            subsets.append(subset)\n",
    "        return subsets"
   ]
  },
  {
   "cell_type": "code",
   "execution_count": null,
   "metadata": {},
   "outputs": [],
   "source": [
    "from functools import reduce\n",
    "class Solution:\n",
    "    def subsets(self, nums: List[int]) -> List[List[int]]:\n",
    "        return reduce(lambda result, x: result + [subset + [x] for subset in result], nums, [[]])"
   ]
  },
  {
   "cell_type": "code",
   "execution_count": null,
   "metadata": {},
   "outputs": [],
   "source": [
    "class Solution:\n",
    "    def subsets(self, nums: List[int]) -> List[List[int]]:\n",
    "        lst=[]\n",
    "        for i in range(len(nums)+1):\n",
    "\t\t\t#different combinations of ith numbers\n",
    "            l=list(itertools.combinations(nums,i))\n",
    "\t\t\t#adding the  modules to the list\n",
    "            lst+=list(map(list,l))\n",
    "        return lst"
   ]
  },
  {
   "cell_type": "code",
   "execution_count": null,
   "metadata": {},
   "outputs": [],
   "source": [
    "class Solution(object):\n",
    "    def subsets(self, nums):\n",
    "        res =[]\n",
    "        for i in range(0,1<<len(nums)):\n",
    "            te =[]\n",
    "            for j in range(0,len(nums)):\n",
    "                if(i&(1<<j)>0):\n",
    "                    te.append(nums[j])\n",
    "            res.append(te)\n",
    "        return res"
   ]
  },
  {
   "cell_type": "raw",
   "metadata": {},
   "source": [
    "Set S[] = [1,2,3]\n",
    "Total number of subsets = pow(2, n) = pow(2, 3) = 8\n",
    "\n",
    "Value of integer Subsets\n",
    "000 -> Empty set\n",
    "001 -> 1\n",
    "010 -> 2\n",
    "011 -> 12\n",
    "100 -> 3\n",
    "101 -> 13\n",
    "110 -> 23\n",
    "111 -> 123\n",
    "\n",
    "Get the total number of subsets, subset_size = 2^n  or (1<<n)\n",
    "Loop for index from 0 to subset_size\n",
    "Loop for i = 0 to subset_size\n",
    "If the ith bit in the index is set then, append ith element from the array for this subset."
   ]
  },
  {
   "cell_type": "code",
   "execution_count": null,
   "metadata": {},
   "outputs": [],
   "source": []
  },
  {
   "cell_type": "code",
   "execution_count": null,
   "metadata": {},
   "outputs": [],
   "source": []
  },
  {
   "cell_type": "code",
   "execution_count": null,
   "metadata": {},
   "outputs": [],
   "source": []
  },
  {
   "cell_type": "code",
   "execution_count": null,
   "metadata": {},
   "outputs": [],
   "source": []
  },
  {
   "cell_type": "code",
   "execution_count": null,
   "metadata": {},
   "outputs": [],
   "source": []
  },
  {
   "cell_type": "code",
   "execution_count": null,
   "metadata": {},
   "outputs": [],
   "source": []
  },
  {
   "cell_type": "code",
   "execution_count": null,
   "metadata": {},
   "outputs": [],
   "source": []
  }
 ],
 "metadata": {
  "kernelspec": {
   "display_name": "Python 3",
   "language": "python",
   "name": "python3"
  },
  "language_info": {
   "codemirror_mode": {
    "name": "ipython",
    "version": 3
   },
   "file_extension": ".py",
   "mimetype": "text/x-python",
   "name": "python",
   "nbconvert_exporter": "python",
   "pygments_lexer": "ipython3",
   "version": "3.8.5"
  }
 },
 "nbformat": 4,
 "nbformat_minor": 4
}
