{
 "cells": [
  {
   "cell_type": "code",
   "execution_count": 1,
   "metadata": {},
   "outputs": [
    {
     "name": "stdout",
     "output_type": "stream",
     "text": [
      "1\n",
      "2\n",
      "3\n",
      "4\n",
      "5\n",
      "6\n",
      "7\n",
      "8\n",
      "9\n",
      "10\n"
     ]
    }
   ],
   "source": [
    "n=10\n",
    "for i in range(1,n+1):\n",
    "    print(i)"
   ]
  },
  {
   "cell_type": "code",
   "execution_count": 6,
   "metadata": {},
   "outputs": [
    {
     "name": "stdout",
     "output_type": "stream",
     "text": [
      "1 2 3 4 5 6 7 8 9 10 "
     ]
    }
   ],
   "source": [
    "N=10\n",
    "n=1\n",
    "def fun1():\n",
    "    global N,n ;\n",
    "    if (n<= N):\n",
    "        print(n,end=\" \")\n",
    "        n+=1\n",
    "        fun2()\n",
    "    else:\n",
    "        return\n",
    "def fun2():\n",
    "    global N,n\n",
    "    if (n<=N):\n",
    "        print(n, end= \" \")\n",
    "        n+=1\n",
    "        fun1()\n",
    "    else:\n",
    "        return\n",
    "# if __name__ == '__main__':\n",
    "#     fun1()\n",
    "fun1()"
   ]
  },
  {
   "cell_type": "code",
   "execution_count": 16,
   "metadata": {},
   "outputs": [
    {
     "name": "stdout",
     "output_type": "stream",
     "text": [
      "1 2 3 4 5 6 7 8 9 10 "
     ]
    }
   ],
   "source": [
    "N=10\n",
    "n=1\n",
    "def fun1():\n",
    "    global N,n ;\n",
    "    if (n<= N):\n",
    "        print(n,end=\" \")\n",
    "        n+=1\n",
    "        fun1()\n",
    "    else:\n",
    "        return\n",
    "fun1()"
   ]
  },
  {
   "cell_type": "code",
   "execution_count": 17,
   "metadata": {},
   "outputs": [
    {
     "name": "stdout",
     "output_type": "stream",
     "text": [
      "5 4 3 2 1 "
     ]
    }
   ],
   "source": [
    "# Python3 program to print all numbers between 1\n",
    "# to N in reverse order\n",
    "\n",
    "# Recursive function to print from N to 1\n",
    "def PrintReverseOrder(N):\n",
    "\n",
    "\t# if N is less than 1\n",
    "\t# then return void function\n",
    "\tif (N <= 0):\n",
    "\t\treturn;\n",
    "\telse:\n",
    "\t\tprint(N, end = \" \");\n",
    "\n",
    "\t\t# recursive call of the function\n",
    "\t\tPrintReverseOrder(N - 1);\n",
    "\t\t\n",
    "# Driver Code\n",
    "N = 5;\n",
    "PrintReverseOrder(N);\n",
    "\n",
    "# This code is contributed by Nidhi_biet\n"
   ]
  },
  {
   "cell_type": "code",
   "execution_count": null,
   "metadata": {},
   "outputs": [],
   "source": []
  }
 ],
 "metadata": {
  "kernelspec": {
   "display_name": "Python 3",
   "language": "python",
   "name": "python3"
  },
  "language_info": {
   "codemirror_mode": {
    "name": "ipython",
    "version": 3
   },
   "file_extension": ".py",
   "mimetype": "text/x-python",
   "name": "python",
   "nbconvert_exporter": "python",
   "pygments_lexer": "ipython3",
   "version": "3.8.5"
  }
 },
 "nbformat": 4,
 "nbformat_minor": 4
}
