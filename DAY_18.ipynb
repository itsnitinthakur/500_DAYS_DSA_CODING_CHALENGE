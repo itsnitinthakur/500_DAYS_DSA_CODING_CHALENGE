{
 "cells": [
  {
   "cell_type": "markdown",
   "metadata": {},
   "source": [
    "# Super Palindromes\n",
    "Let's say a positive integer is a super-palindrome if it is a palindrome, and it is also the square of a palindrome.\n",
    "\n",
    "Given two positive integers left and right represented as strings, return the number of super-palindromes integers in the inclusive range [left, right].\n",
    "\n",
    " \n",
    "\n",
    "Example 1:\n",
    "\n",
    "Input: left = \"4\", right = \"1000\"\n",
    "Output: 4\n",
    "Explanation: 4, 9, 121, and 484 are superpalindromes.\n",
    "Note that 676 is not a superpalindrome: 26 * 26 = 676, but 26 is not a palindrome.\n",
    "Example 2:\n",
    "\n",
    "Input: left = \"1\", right = \"2\"\n",
    "Output: 1\n",
    " \n",
    "\n",
    "Constraints:\n",
    "\n",
    "1 <= left.length, right.length <= 18\n",
    "left and right consist of only digits.\n",
    "left and right cannot have leading zeros.\n",
    "left and right represent integers in the range [1, 1018].\n",
    "left is less than or equal to right."
   ]
  },
  {
   "cell_type": "code",
   "execution_count": null,
   "metadata": {},
   "outputs": [],
   "source": [
    "class Solution:\n",
    "    def superpalindromesInRange(self, left: str, right: str) -> int:\n",
    "        ans = 0\n",
    "        l = int(left)\n",
    "        r = int(right)\n",
    "        for i in range(10**5):\n",
    "            s1 = str(i)\n",
    "            s2 = s1[-2::-1]\n",
    "            s = s1 + s2\n",
    "            num = int(s)**2\n",
    "            \n",
    "            if num > r:\n",
    "                break\n",
    "            if num >= 1 and str(num)== str(num)[::-1]:\n",
    "                ans +=1\n",
    "\n",
    "        for i in range(10**5):\n",
    "            s1 = str(i)\n",
    "            s2 = s1[::-1]\n",
    "            s = s1 + s2\n",
    "            num = int(s)**2\n",
    "            \n",
    "            if num > r:\n",
    "                break\n",
    "                \n",
    "            if num >= 1 and str(num) == str(num)[::-1]:\n",
    "                ans +=1\n",
    "        \n",
    "        return ans"
   ]
  },
  {
   "cell_type": "code",
   "execution_count": null,
   "metadata": {},
   "outputs": [],
   "source": [
    "n=27\n",
    "if n"
   ]
  },
  {
   "cell_type": "code",
   "execution_count": 8,
   "metadata": {},
   "outputs": [
    {
     "data": {
      "text/plain": [
       "0.5333333333333333"
      ]
     },
     "execution_count": 8,
     "metadata": {},
     "output_type": "execute_result"
    }
   ],
   "source": []
  },
  {
   "cell_type": "code",
   "execution_count": null,
   "metadata": {},
   "outputs": [],
   "source": [
    "n=27\n",
    "while n>1:\n",
    "    n/3\n",
    "    if n == 3:\n",
    "        return True\n",
    "    "
   ]
  },
  {
   "cell_type": "code",
   "execution_count": 21,
   "metadata": {},
   "outputs": [
    {
     "name": "stdout",
     "output_type": "stream",
     "text": [
      "false\n",
      "205891132094649\n"
     ]
    }
   ],
   "source": [
    "n=45\n",
    "for i in range(31):\n",
    "    x = 3**i\n",
    "    if x==n:\n",
    "        print('true')\n",
    "if x!=n:\n",
    "    print('false')\n",
    "print(x)\n",
    "    "
   ]
  },
  {
   "cell_type": "markdown",
   "metadata": {},
   "source": [
    "# Power of Three\n",
    "\n",
    "Given an integer n, return true if it is a power of three. Otherwise, return false.\n",
    "\n",
    "An integer n is a power of three, if there exists an integer x such that n == 3x.\n",
    "\n",
    " \n",
    "\n",
    "Example 1:\n",
    "\n",
    "Input: n = 27\n",
    "Output: true\n",
    "Example 2:\n",
    "\n",
    "Input: n = 0\n",
    "Output: false\n",
    "Example 3:\n",
    "\n",
    "Input: n = 9\n",
    "Output: true\n",
    "Example 4:\n",
    "\n",
    "Input: n = 45\n",
    "Output: false\n",
    " \n",
    "\n",
    "Constraints:\n",
    "\n",
    "-231 <= n <= 231 - 1\n",
    " \n",
    "\n",
    "Follow up: Could you solve it without loops/recursion?"
   ]
  },
  {
   "cell_type": "code",
   "execution_count": null,
   "metadata": {},
   "outputs": [],
   "source": [
    "class Solution:\n",
    "    def isPowerOfThree(self, n: int) -> bool:\n",
    "        if n<=0:\n",
    "            return False\n",
    "        while n%3 == 0:\n",
    "            n=n/3\n",
    "        if n==1:\n",
    "            return True\n",
    "        else:\n",
    "            return False"
   ]
  },
  {
   "cell_type": "code",
   "execution_count": null,
   "metadata": {},
   "outputs": [],
   "source": [
    "class Solution(object):\n",
    "    def isPowerOfThree(self, n):\n",
    "        \"\"\"\n",
    "        :type n: int\n",
    "        :rtype: bool\n",
    "        \"\"\"\n",
    "        if n <= 0:\n",
    "            return False\n",
    "        if n == 1:\n",
    "            return True\n",
    "        while n > 1:\n",
    "            n, r = divmod(n, 3)\n",
    "            if r:\n",
    "                return False\n",
    "        return True"
   ]
  },
  {
   "cell_type": "code",
   "execution_count": null,
   "metadata": {},
   "outputs": [],
   "source": [
    "import math\n",
    "class Solution:\n",
    "    def isPowerOfThree(self, n: int) -> bool:\n",
    "        max_power = 3**int((log(sys.maxsize)/log(3)))\n",
    "        return n > 0 and max_power%n == 0"
   ]
  },
  {
   "cell_type": "code",
   "execution_count": null,
   "metadata": {},
   "outputs": [],
   "source": [
    "class Solution:\n",
    "    def isPowerOfThree(self, n: int) -> bool:\n",
    "        if n<1:\n",
    "            return False\n",
    "        while n!=1:\n",
    "            if n%3 != 0:\n",
    "                return False\n",
    "            n//=3\n",
    "        return True"
   ]
  },
  {
   "cell_type": "code",
   "execution_count": null,
   "metadata": {},
   "outputs": [],
   "source": [
    "class Solution(object):\n",
    "    def isPowerOfThree(self, n):\n",
    "        res = 0\n",
    "        while (n%3 == 0 and n/3 !=0 ):\n",
    "            res = n%3\n",
    "            n=n/3\n",
    "        return n==1 and res ==0"
   ]
  },
  {
   "cell_type": "code",
   "execution_count": null,
   "metadata": {},
   "outputs": [],
   "source": [
    "def isPowerOfThree(self, n: int) -> bool:\n",
    "        if n <= 0:\n",
    "            return False\n",
    "        else:\n",
    "            f = math.log(n, 3)\n",
    "            return math.isclose(round(f), f, rel_tol=0.00000000001)\n"
   ]
  },
  {
   "cell_type": "code",
   "execution_count": null,
   "metadata": {},
   "outputs": [],
   "source": []
  },
  {
   "cell_type": "code",
   "execution_count": null,
   "metadata": {},
   "outputs": [],
   "source": []
  },
  {
   "cell_type": "code",
   "execution_count": null,
   "metadata": {},
   "outputs": [],
   "source": []
  },
  {
   "cell_type": "code",
   "execution_count": null,
   "metadata": {},
   "outputs": [],
   "source": []
  }
 ],
 "metadata": {
  "kernelspec": {
   "display_name": "Python 3",
   "language": "python",
   "name": "python3"
  },
  "language_info": {
   "codemirror_mode": {
    "name": "ipython",
    "version": 3
   },
   "file_extension": ".py",
   "mimetype": "text/x-python",
   "name": "python",
   "nbconvert_exporter": "python",
   "pygments_lexer": "ipython3",
   "version": "3.8.5"
  }
 },
 "nbformat": 4,
 "nbformat_minor": 4
}
