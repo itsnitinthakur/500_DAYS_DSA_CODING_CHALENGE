{
 "cells": [
  {
   "cell_type": "code",
   "execution_count": null,
   "metadata": {},
   "outputs": [],
   "source": []
  },
  {
   "cell_type": "code",
   "execution_count": 1,
   "metadata": {},
   "outputs": [
    {
     "name": "stdout",
     "output_type": "stream",
     "text": [
      "104\n"
     ]
    }
   ],
   "source": [
    "def maxSum(arr, windowSize):\n",
    "    arraySize = len(arr)\n",
    "    # n must be greater than k\n",
    "    if arraySize <= windowSize:\n",
    "        print(\"Invalid operation\")\n",
    "        return -1\n",
    "\n",
    "    # Compute sum of first window of size k\n",
    "    window_sum = sum([arr[i] for i in range(windowSize)])\n",
    "    max_sum = window_sum\n",
    "    # Compute sums of remaining windows by\n",
    "    # removing first element of previous\n",
    "    # window and adding last element of\n",
    "    # current window.\n",
    "    for i in range(arraySize-windowSize):\n",
    "        window_sum = window_sum - arr[i] + arr[i + windowSize]\n",
    "        max_sum = max(window_sum, max_sum)\n",
    "\n",
    "    return max_sum\n",
    "\n",
    "\n",
    "arr = [1, 2, 100, -1, 5]\n",
    "# maximum sum should be 104 => 100 + -1 + 5\n",
    "answer = maxSum(arr, 3)\n",
    "print(answer)"
   ]
  },
  {
   "cell_type": "markdown",
   "metadata": {},
   "source": [
    "# Longest Substring Without Repeating Characters\n"
   ]
  },
  {
   "cell_type": "code",
   "execution_count": 3,
   "metadata": {},
   "outputs": [
    {
     "name": "stdout",
     "output_type": "stream",
     "text": [
      "4\n"
     ]
    }
   ],
   "source": [
    "#fastest\n",
    "\n",
    "class Solution:\n",
    "    def lengthOfLongestSubstring(self, s: str) -> int:\n",
    "        m = {}\n",
    "        left = 0\n",
    "        right = 0\n",
    "        ans = 0\n",
    "        n = len(s)\n",
    "        while(left<n and right<n):\n",
    "            el = s[right]\n",
    "            if(el in m):\n",
    "                left = max(left,m[el]+1)\n",
    "            m[el] = right\n",
    "            ans = max(ans,right-left+1)\n",
    "            right+=1\n",
    "        return ans\n",
    "s=Solution()\n",
    "answer=s.lengthOfLongestSubstring(\"fhvwvwi\")\n",
    "print(answer)"
   ]
  },
  {
   "cell_type": "code",
   "execution_count": null,
   "metadata": {},
   "outputs": [],
   "source": [
    "#slowest\n",
    "class Solution:\n",
    "    def lengthOfLongestSubstring(self, s: str) -> int:\n",
    "        \n",
    "        i=0\n",
    "        j=1\n",
    "        l=[]\n",
    "        st=[]\n",
    "        if len(s)<1:\n",
    "            return 0\n",
    "\n",
    "        while j<=len(s):\n",
    "            z = s[i:j]\n",
    "            if len(z)== len(set(z)):\n",
    "                l.append(len(z))\n",
    "                st.append(z)\n",
    "                j+=1\n",
    "            elif len(z)!= len(set(z)):\n",
    "                i+=1\n",
    "        for i in st:\n",
    "            if len(i)==max(l):\n",
    "                return len(i)\n"
   ]
  },
  {
   "cell_type": "code",
   "execution_count": 12,
   "metadata": {},
   "outputs": [
    {
     "name": "stdout",
     "output_type": "stream",
     "text": [
      "[-1, -1]\n",
      "[1, 2, 3, 4, 5]\n"
     ]
    }
   ],
   "source": [
    "nums = [5,7,7,7,7,7,8,8,10]\n",
    "target = 7\n",
    "z=[]\n",
    "for i in range(len(nums)):\n",
    "    if nums[i]==target:\n",
    "        z.append(i)\n",
    "else:\n",
    "    print([-1,-1])\n",
    "print(z)"
   ]
  },
  {
   "cell_type": "code",
   "execution_count": null,
   "metadata": {},
   "outputs": [],
   "source": [
    "def binarySearch(arr, target):\n",
    "    left = 0\n",
    "    right = len(arr)-1\n",
    "    while left <= right:\n",
    "\n",
    "        mid = (left+right)//2\n",
    "\n",
    "        # Check if x is present at mid\n",
    "        if arr[mid] == target:\n",
    "            return mid\n",
    "\n",
    "        # If x is greater, ignore left half\n",
    "        elif arr[mid] < target:\n",
    "            left = mid + 1\n",
    "\n",
    "        # If x is smaller, ignore right half\n",
    "        else:\n",
    "            right = mid - 1\n",
    "\n",
    "    # If we reach here, then the element was not present\n",
    "    return -1\n",
    "\n",
    "\n",
    "arr = [1, 2, 3, 4, 5, 6]\n",
    "target = 6\n",
    "\n",
    "result = binarySearch(arr, target)\n",
    "\n",
    "if result != -1:\n",
    "    print(\"Element is present at index %d\" % result)\n",
    "else:\n",
    "    print(\"Element is not present in array\")"
   ]
  },
  {
   "cell_type": "code",
   "execution_count": null,
   "metadata": {},
   "outputs": [],
   "source": []
  },
  {
   "cell_type": "code",
   "execution_count": null,
   "metadata": {},
   "outputs": [],
   "source": []
  }
 ],
 "metadata": {
  "kernelspec": {
   "display_name": "Python 3",
   "language": "python",
   "name": "python3"
  },
  "language_info": {
   "codemirror_mode": {
    "name": "ipython",
    "version": 3
   },
   "file_extension": ".py",
   "mimetype": "text/x-python",
   "name": "python",
   "nbconvert_exporter": "python",
   "pygments_lexer": "ipython3",
   "version": "3.8.5"
  }
 },
 "nbformat": 4,
 "nbformat_minor": 4
}
