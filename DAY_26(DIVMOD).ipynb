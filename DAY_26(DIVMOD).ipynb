{
 "cells": [
  {
   "cell_type": "markdown",
   "metadata": {},
   "source": [
    "## Excel Sheet Column Title\n",
    "\n",
    "Given an integer columnNumber, return its corresponding column title as it appears in an Excel sheet.\n",
    "\n",
    "For example:\n",
    "\n",
    "A -> 1\n",
    "B -> 2\n",
    "C -> 3\n",
    "...\n",
    "Z -> 26\n",
    "AA -> 27\n",
    "AB -> 28 \n",
    "...\n",
    " \n",
    "\n",
    "Example 1:\n",
    "\n",
    "Input: columnNumber = 1\n",
    "Output: \"A\"\n",
    "Example 2:\n",
    "\n",
    "Input: columnNumber = 28\n",
    "Output: \"AB\"\n",
    "Example 3:\n",
    "\n",
    "Input: columnNumber = 701\n",
    "Output: \"ZY\"\n",
    "Example 4:\n",
    "\n",
    "Input: columnNumber = 2147483647\n",
    "Output: \"FXSHRXW\"\n",
    " \n",
    "\n",
    "Constraints:\n",
    "\n",
    "1 <= columnNumber <= 231 - 1"
   ]
  },
  {
   "cell_type": "code",
   "execution_count": 5,
   "metadata": {},
   "outputs": [
    {
     "data": {
      "text/plain": [
       "2"
      ]
     },
     "execution_count": 5,
     "metadata": {},
     "output_type": "execute_result"
    }
   ],
   "source": [
    "28%26"
   ]
  },
  {
   "cell_type": "code",
   "execution_count": 6,
   "metadata": {},
   "outputs": [
    {
     "data": {
      "text/plain": [
       "25"
      ]
     },
     "execution_count": 6,
     "metadata": {},
     "output_type": "execute_result"
    }
   ],
   "source": [
    "701%26"
   ]
  },
  {
   "cell_type": "code",
   "execution_count": 8,
   "metadata": {},
   "outputs": [
    {
     "data": {
      "text/plain": [
       "26"
      ]
     },
     "execution_count": 8,
     "metadata": {},
     "output_type": "execute_result"
    }
   ],
   "source": [
    "701//26"
   ]
  },
  {
   "cell_type": "code",
   "execution_count": null,
   "metadata": {},
   "outputs": [],
   "source": [
    "import math\n",
    "class Solution:\n",
    "    def convertToTitle(self, columnNumber: int) -> str:\n",
    "        j = 1\n",
    "        s = \"\"\n",
    "        while columnNumber > 0:\n",
    "            k1 = columnNumber % (26**(j))\n",
    "            if k1 == 0:\n",
    "                s = \"Z\" + s\n",
    "                columnNumber -= 26**(j)\n",
    "            else:\n",
    "                k2 = k1 // (26**(j-1))  \n",
    "                s = chr(64+k2)+s\n",
    "                columnNumber -= k2*(26**(j-1))    \n",
    "            j += 1\n",
    "        return s    "
   ]
  },
  {
   "cell_type": "code",
   "execution_count": null,
   "metadata": {},
   "outputs": [],
   "source": [
    "class Solution:\n",
    "    def convertToTitle(self, columnNumber: int) -> str:\n",
    "        nums = range(1, 27)\n",
    "        letters = 'ABCDEFGHIJKLMNOPQRSTUVWXYZ'\n",
    "        mapping = dict(zip(nums, letters))\n",
    "        \n",
    "        q = 1\n",
    "        n = columnNumber\n",
    "        title = []\n",
    "        while q > 0:\n",
    "            q = n // 26\n",
    "            r = n % 26\n",
    "            if r == 0:\n",
    "                r = 26\n",
    "                q -= 1\n",
    "                \n",
    "            title.insert(0, mapping[r])\n",
    "            n = q\n",
    "        return ''.join(title)"
   ]
  },
  {
   "cell_type": "code",
   "execution_count": null,
   "metadata": {},
   "outputs": [],
   "source": [
    "class Solution:\n",
    "    def convertToTitle(self, columnNumber: int) -> str:\n",
    "        digits = \"ABCDEFGHIJKLMNOPQRSTUVWXYZ\"\n",
    "        \n",
    "        x = (columnNumber-1) % 26\n",
    "        rest = (columnNumber-1) // 26\n",
    "        \n",
    "        if (rest == 0):\n",
    "            return digits[x]\n",
    "        return self.convertToTitle(rest) + digits[x]"
   ]
  },
  {
   "cell_type": "code",
   "execution_count": null,
   "metadata": {},
   "outputs": [],
   "source": [
    "class Solution:\n",
    "    def convertToTitle(self, columnNumber: int) -> str:\n",
    "        # ASCII Range 65 - 90\n",
    "        \n",
    "        if columnNumber % 26 == 0:\n",
    "            \n",
    "            if columnNumber <= 26:\n",
    "                return chr(columnNumber % 26 + 90)\n",
    "            \n",
    "            else:\n",
    "                return self.convertToTitle(columnNumber // 26 - 1) + chr(columnNumber % 26 + 90)\n",
    "        \n",
    "        if columnNumber <= 26:\n",
    "            return chr((64 + (columnNumber)))\n",
    "        \n",
    "        else:\n",
    "            return self.convertToTitle(columnNumber // 26) + chr(columnNumber % 26 + 64)"
   ]
  },
  {
   "cell_type": "code",
   "execution_count": null,
   "metadata": {},
   "outputs": [],
   "source": [
    "def convertToTitle(self, n: int) -> str:\n",
    "        # upper case\n",
    "        # 1step: ASCII CODE : character('A' + char) so MOD 26, THEN index1- 26 -> 0- 25\n",
    "        res = \"\"\n",
    "        # use while n > 0 and mod, division\n",
    "        while n > 0:\n",
    "            n -= 1  # 0-25\n",
    "            # 'a':65\n",
    "            res += chr(n % 26+65)\n",
    "            n //= 26\n",
    "        return res[::-1]"
   ]
  },
  {
   "cell_type": "code",
   "execution_count": null,
   "metadata": {},
   "outputs": [],
   "source": [
    "def convertToTitle(self, n):\n",
    "    \"\"\"\n",
    "    :type n: int\n",
    "    :rtype: str\n",
    "    \"\"\"\n",
    "    alpha=\"0ABCDEFGHIJKLMNOPQRSTUVWXYZ\"\n",
    "    res = 0\n",
    "    s= \"\"\n",
    "    m=len(s)\n",
    "    i =0\n",
    "    while n >0:\n",
    "        res = divmod(n,26)\n",
    "        rem = res[1]  \n",
    "        if rem ==0:\n",
    "            rem = 26\n",
    "            n =res[0] -1\n",
    "        else:\n",
    "            n =res[0]\n",
    "        print(alpha[rem])\n",
    "        s = alpha[rem] +  s \n",
    "    return s"
   ]
  },
  {
   "cell_type": "code",
   "execution_count": null,
   "metadata": {},
   "outputs": [],
   "source": [
    "class Solution:\n",
    "    def convertToTitle(self, n: int) -> str:\n",
    "        res=\"\"\n",
    "        while n>0:\n",
    "            if n%26 != 0:\n",
    "                res=chr(n%26+64)+res\n",
    "                n = n//26\n",
    "            else:\n",
    "                res=chr(n%26+90)+res\n",
    "                n=n//26-1                \n",
    "        return res"
   ]
  },
  {
   "cell_type": "code",
   "execution_count": null,
   "metadata": {},
   "outputs": [],
   "source": [
    "class Solution:\n",
    "    def convertToTitle(self, n: int) -> str:\n",
    "        a='ZABCDEFGHIJKLMNOPQRSTUVWXYZ'\n",
    "        if n<27:\n",
    "            return a[n]\n",
    "        if n%26==0:\n",
    "            return self.convertToTitle(n//27)+a[n%26]\n",
    "        return self.convertToTitle(n//26)+a[n%26]"
   ]
  },
  {
   "cell_type": "code",
   "execution_count": null,
   "metadata": {},
   "outputs": [],
   "source": [
    "def convertToTitle(n):\n",
    "    letters = \"ABCDEFGHIJKLMNOPQRSTUVWXYZ\"\n",
    "    result = \"\"\n",
    "    while n > 0:\n",
    "        result += letters[(int((n - 1) % 26))]\n",
    "        n = int((n - 1) / 26)\n",
    "    return result[::-1]"
   ]
  },
  {
   "cell_type": "code",
   "execution_count": null,
   "metadata": {},
   "outputs": [],
   "source": [
    "class Solution:\n",
    "    def convertToTitle(self, n: int) -> str:\n",
    "        word = \"\"\n",
    "        while n:\n",
    "            n -= 1\n",
    "            q, r = divmod(n, 26)\n",
    "            word = chr(r + 65) + word\n",
    "            n = q\n",
    "        return word"
   ]
  },
  {
   "cell_type": "code",
   "execution_count": 9,
   "metadata": {},
   "outputs": [
    {
     "name": "stdout",
     "output_type": "stream",
     "text": [
      "(5, 4) =  (1, 1)\n",
      "(10, 16) =  (0, 10)\n",
      "(11, 11) =  (1, 0)\n",
      "(15, 13) =  (1, 2)\n",
      "(8.0, 3) =  (2.0, 2.0)\n",
      "(3, 8.0) =  (0.0, 3.0)\n",
      "(7.5, 2.5) =  (3.0, 0.0)\n",
      "(2.6, 10.7) =  (5.0, 0.10000000000000009)\n"
     ]
    }
   ],
   "source": [
    "print('(5, 4) = ', divmod(5, 4))\n",
    "print('(10, 16) = ', divmod(10, 16))\n",
    "print('(11, 11) = ', divmod(11, 11))\n",
    "print('(15, 13) = ', divmod(15, 13))\n",
    " \n",
    "# divmod() with int and Floats\n",
    "print('(8.0, 3) = ', divmod(8.0, 3))\n",
    "print('(3, 8.0) = ', divmod(3, 8.0))\n",
    "print('(7.5, 2.5) = ', divmod(7.5, 2.5))\n",
    "print('(2.6, 10.7) = ', divmod(2.6, 0.5))"
   ]
  },
  {
   "cell_type": "code",
   "execution_count": 10,
   "metadata": {},
   "outputs": [
    {
     "name": "stdout",
     "output_type": "stream",
     "text": [
      "Not Prime\n"
     ]
    }
   ],
   "source": [
    "# Python code to find if a number is\n",
    "# prime or not using divmod()\n",
    " \n",
    "# Given integer\n",
    "n = 15\n",
    "x = n\n",
    " \n",
    "# Initialising counter to 0\n",
    "count = 0\n",
    "while x != 0:\n",
    "    p, q = divmod(n, x)\n",
    "    x-= 1\n",
    "    if q == 0:\n",
    "        count+= 1\n",
    "if count>2:\n",
    "    print('Not Prime')\n",
    "else:\n",
    "    print('Prime')"
   ]
  },
  {
   "cell_type": "code",
   "execution_count": 11,
   "metadata": {},
   "outputs": [
    {
     "name": "stdout",
     "output_type": "stream",
     "text": [
      "14\n"
     ]
    }
   ],
   "source": [
    "\n",
    "# Sum of digits of a number using divmod\n",
    "num = 86\n",
    "sums = 0\n",
    "while num!=0:\n",
    "    use = divmod(num, 10)\n",
    "    dig = use[1]\n",
    "    sums = sums + dig\n",
    "    num = use[0]\n",
    "print(sums)"
   ]
  },
  {
   "cell_type": "code",
   "execution_count": 12,
   "metadata": {},
   "outputs": [
    {
     "name": "stdout",
     "output_type": "stream",
     "text": [
      "231\n"
     ]
    }
   ],
   "source": [
    "\n",
    "# reversing a number using divmod\n",
    "num = 132\n",
    "pal = 0\n",
    "while num!=0:\n",
    "    use = divmod(num, 10)\n",
    "    dig = use[1]\n",
    "    pal = pal*10+dig\n",
    "    num = use[0]\n",
    "print(pal)"
   ]
  },
  {
   "cell_type": "code",
   "execution_count": null,
   "metadata": {},
   "outputs": [],
   "source": [
    "a = [3,2,3,4,5]\n",
    "k=2\n"
   ]
  },
  {
   "cell_type": "code",
   "execution_count": null,
   "metadata": {},
   "outputs": [],
   "source": []
  },
  {
   "cell_type": "code",
   "execution_count": null,
   "metadata": {},
   "outputs": [],
   "source": []
  },
  {
   "cell_type": "code",
   "execution_count": null,
   "metadata": {},
   "outputs": [],
   "source": []
  }
 ],
 "metadata": {
  "kernelspec": {
   "display_name": "Python 3",
   "language": "python",
   "name": "python3"
  },
  "language_info": {
   "codemirror_mode": {
    "name": "ipython",
    "version": 3
   },
   "file_extension": ".py",
   "mimetype": "text/x-python",
   "name": "python",
   "nbconvert_exporter": "python",
   "pygments_lexer": "ipython3",
   "version": "3.8.5"
  }
 },
 "nbformat": 4,
 "nbformat_minor": 4
}
