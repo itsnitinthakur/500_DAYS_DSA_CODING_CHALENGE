{
 "cells": [
  {
   "cell_type": "code",
   "execution_count": null,
   "metadata": {},
   "outputs": [],
   "source": []
  },
  {
   "cell_type": "code",
   "execution_count": 7,
   "metadata": {},
   "outputs": [
    {
     "name": "stdout",
     "output_type": "stream",
     "text": [
      "Delivering presents to Eric's house\n",
      "Delivering presents to Kenny's house\n",
      "Delivering presents to Kyle's house\n",
      "Delivering presents to Stan's house\n",
      "Delivering presents to Nitin's houese\n"
     ]
    }
   ],
   "source": [
    "houses = [\"Eric's house\", \"Kenny's house\", \"Kyle's house\", \"Stan's house\",\"Nitin's houese\"]\n",
    "\n",
    "# Each function call represents an elf doing his work \n",
    "def deliver_presents_recursively(houses):\n",
    "    # Worker elf doing his work\n",
    "    if len(houses) == 1:\n",
    "        house = houses[0]\n",
    "        print(\"Delivering presents to\", house)\n",
    "\n",
    "    # Manager elf doing his work\n",
    "    else:\n",
    "        mid = len(houses) // 2\n",
    "        first_half = houses[:mid]\n",
    "        second_half = houses[mid:]\n",
    "\n",
    "        # Divides his work among two elves\n",
    "        deliver_presents_recursively(first_half)\n",
    "        deliver_presents_recursively(second_half)\n",
    "deliver_presents_recursively(houses)"
   ]
  },
  {
   "cell_type": "markdown",
   "metadata": {},
   "source": []
  },
  {
   "cell_type": "code",
   "execution_count": 5,
   "metadata": {},
   "outputs": [
    {
     "data": {
      "text/plain": [
       "3"
      ]
     },
     "execution_count": 5,
     "metadata": {},
     "output_type": "execute_result"
    }
   ],
   "source": [
    "6//2"
   ]
  },
  {
   "cell_type": "markdown",
   "metadata": {},
   "source": [
    "283. Move Zeroes\n",
    "Easy\n",
    "\n",
    "5697\n",
    "\n",
    "174\n",
    "\n",
    "Add to List\n",
    "\n",
    "Share\n",
    "Given an integer array nums, move all 0's to the end of it while maintaining the relative order of the non-zero elements.\n",
    "\n",
    "Note that you must do this in-place without making a copy of the array.\n",
    "\n",
    " \n",
    "\n",
    "Example 1:\n",
    "\n",
    "Input: nums = [0,1,0,3,12]\n",
    "Output: [1,3,12,0,0]\n",
    "Example 2:\n",
    "\n",
    "Input: nums = [0]\n",
    "Output: [0]\n",
    " \n",
    "\n",
    "Constraints:\n",
    "\n",
    "1 <= nums.length <= 104\n",
    "-231 <= nums[i] <= 231 - 1"
   ]
  },
  {
   "cell_type": "code",
   "execution_count": 13,
   "metadata": {},
   "outputs": [],
   "source": [
    "from typing import List\n",
    "class Solution:\n",
    "    def moveZeroes(self, nums: List[int]) -> None:\n",
    "        l = len(nums)\n",
    "        \"\"\"\n",
    "        Do not return anything, modify nums in-place instead.\n",
    "        \"\"\"\n",
    "        for i in range (0,l):\n",
    "            if nums[i] == 0:\n",
    "                        z = nums[i]\n",
    "                        nums.remove(z)\n",
    "                        nums.insert(l,z)"
   ]
  },
  {
   "cell_type": "code",
   "execution_count": 11,
   "metadata": {},
   "outputs": [
    {
     "name": "stdout",
     "output_type": "stream",
     "text": [
      "[2, 1, 4, 0, 0]\n"
     ]
    }
   ],
   "source": [
    "class Solution:\n",
    "    def moveZeroes(self, nums):\n",
    "        j=0\n",
    "        for num in nums:\n",
    "            if(num!=0):\n",
    "                nums[j]=num\n",
    "                j+=1\n",
    "        for x in range(j,len(nums)):\n",
    "            nums[x]=0\n",
    "        print(nums)\n",
    "s=Solution()\n",
    "s.moveZeroes([0,2,0,1,4])"
   ]
  },
  {
   "cell_type": "markdown",
   "metadata": {},
   "source": [
    "## Boats to Save People\n",
    "\n",
    "You are given an array people where people[i] is the weight of the ith person, and an infinite number of boats where each boat can carry a maximum weight of limit. Each boat carries at most two people at the same time, provided the sum of the weight of those people is at most limit.\n",
    "\n",
    "Return the minimum number of boats to carry every given person.\n",
    "\n",
    " \n",
    "\n",
    "Example 1:\n",
    "\n",
    "Input: people = [1,2], limit = 3\n",
    "Output: 1\n",
    "Explanation: 1 boat (1, 2)\n",
    "Example 2:\n",
    "\n",
    "Input: people = [3,2,2,1], limit = 3\n",
    "Output: 3\n",
    "Explanation: 3 boats (1, 2), (2) and (3)\n",
    "Example 3:\n",
    "\n",
    "Input: people = [3,5,3,4], limit = 5\n",
    "Output: 4\n",
    "Explanation: 4 boats (3), (3), (4), (5)\n",
    " \n",
    "\n",
    "Constraints:\n",
    "\n",
    "1 <= people.length <= 5 * 104\n",
    "1 <= people[i] <= limit <= 3 * 104"
   ]
  },
  {
   "cell_type": "code",
   "execution_count": 18,
   "metadata": {},
   "outputs": [
    {
     "name": "stdout",
     "output_type": "stream",
     "text": [
      "4\n"
     ]
    }
   ],
   "source": [
    "people = [3,5,3,4]\n",
    "limit = 5\n",
    "people.sort()\n",
    "left=0\n",
    "right=len(people)-1\n",
    "b=0\n",
    "while left<=right:\n",
    "    if left==right:\n",
    "        b+=1\n",
    "        break\n",
    "    if people[left]+people[right]<=limit:\n",
    "        left = left+1\n",
    "        right = right-1\n",
    "        b+=1\n",
    "    else:\n",
    "        right=right-1\n",
    "        b+=1\n",
    "print(b)\n",
    "        "
   ]
  },
  {
   "cell_type": "code",
   "execution_count": null,
   "metadata": {},
   "outputs": [],
   "source": [
    "class Solution:\n",
    "    def numRescueBoats(self, people: List[int], limit: int) -> int:\n",
    "        people_counter = collections.Counter(people)\n",
    "        res = 0\n",
    "\n",
    "        for p in people:\n",
    "            if people_counter[p] == 0:\n",
    "                continue\n",
    "            people_counter[p] -= 1\n",
    "            weight_to_search = limit - p\n",
    "            res += 1\n",
    "            while weight_to_search > 0:\n",
    "                if people_counter[weight_to_search] > 0:\n",
    "                    people_counter[weight_to_search] -= 1\n",
    "                    break\n",
    "                weight_to_search -= 1\n",
    "\n",
    "        return res"
   ]
  },
  {
   "cell_type": "code",
   "execution_count": null,
   "metadata": {},
   "outputs": [],
   "source": [
    "var numRescueBoats = function(people, limit) {\n",
    "    people.sort((a, b) => b - a);\n",
    "    let count = 0, end = people.length-1;\n",
    "    \n",
    "    for(let start = 0; start <= end; start++) {\n",
    "        if(people[start] + people[end] <= limit) end--;\n",
    "        count++;\n",
    "    }\n",
    "    return count;\n",
    "};"
   ]
  },
  {
   "cell_type": "code",
   "execution_count": null,
   "metadata": {},
   "outputs": [],
   "source": []
  },
  {
   "cell_type": "code",
   "execution_count": null,
   "metadata": {},
   "outputs": [],
   "source": []
  }
 ],
 "metadata": {
  "kernelspec": {
   "display_name": "Python 3",
   "language": "python",
   "name": "python3"
  },
  "language_info": {
   "codemirror_mode": {
    "name": "ipython",
    "version": 3
   },
   "file_extension": ".py",
   "mimetype": "text/x-python",
   "name": "python",
   "nbconvert_exporter": "python",
   "pygments_lexer": "ipython3",
   "version": "3.8.5"
  }
 },
 "nbformat": 4,
 "nbformat_minor": 4
}
