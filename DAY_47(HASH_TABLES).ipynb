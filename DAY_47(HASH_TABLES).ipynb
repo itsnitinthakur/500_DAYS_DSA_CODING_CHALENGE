{
 "cells": [
  {
   "cell_type": "markdown",
   "metadata": {},
   "source": [
    " Two Sum\n",
    "\n",
    "Given an array of integers nums and an integer target, return indices of the two numbers such that they add up to target.\n",
    "\n",
    "You may assume that each input would have exactly one solution, and you may not use the same element twice.\n",
    "\n",
    "You can return the answer in any order.\n",
    "\n",
    " \n",
    "\n",
    "Example 1:\n",
    "\n",
    "Input: nums = [2,7,11,15], target = 9\n",
    "Output: [0,1]\n",
    "Output: Because nums[0] + nums[1] == 9, we return [0, 1].\n",
    "Example 2:\n",
    "\n",
    "Input: nums = [3,2,4], target = 6\n",
    "Output: [1,2]\n",
    "Example 3:\n",
    "\n",
    "Input: nums = [3,3], target = 6\n",
    "Output: [0,1]\n",
    " \n",
    "\n",
    "Constraints:\n",
    "\n",
    "2 <= nums.length <= 104\n",
    "-109 <= nums[i] <= 109\n",
    "-109 <= target <= 109\n",
    "Only one valid answer exists.\n",
    " \n",
    "\n",
    "Follow-up: Can you come up with an algorithm that is less than O(n2) time complexity?"
   ]
  },
  {
   "cell_type": "code",
   "execution_count": null,
   "metadata": {},
   "outputs": [],
   "source": [
    "class Solution:\n",
    "    def twoSum(self, nums, target):\n",
    "        \"\"\"\n",
    "        :type nums: List[int]\n",
    "        :type target: int\n",
    "        :rtype: List[int]\n",
    "        \"\"\"\n",
    "        h = {}\n",
    "        for i, num in enumerate(nums):\n",
    "            n = target - num\n",
    "            if n not in h:\n",
    "                h[num] = i\n",
    "            else:\n",
    "                return [h[n], i]"
   ]
  },
  {
   "cell_type": "code",
   "execution_count": null,
   "metadata": {},
   "outputs": [],
   "source": [
    "class Solution:\n",
    "    def twoSum(self, nums: List[int], target: int) -> List[int]:\n",
    "        m = {}\n",
    "        n = len(nums)\n",
    "        for i in range(0,n):\n",
    "            goal = target - nums[i]\n",
    "            if(goal in m):\n",
    "                return [m[goal], i]\n",
    "            m[nums[i]] = i\n",
    "        "
   ]
  },
  {
   "cell_type": "code",
   "execution_count": null,
   "metadata": {},
   "outputs": [],
   "source": []
  },
  {
   "cell_type": "code",
   "execution_count": null,
   "metadata": {},
   "outputs": [],
   "source": [
    "class Solution:\n",
    "    def containsDuplicate(self, nums: List[int]) -> bool:\n",
    "        set_num = set(nums)\n",
    "        return len(set_num) != len(nums)"
   ]
  },
  {
   "cell_type": "code",
   "execution_count": null,
   "metadata": {},
   "outputs": [],
   "source": [
    "from collections import defaultdict\n",
    "class Solution:\n",
    "    def containsDuplicate(self, nums: List[int]) -> bool:\n",
    "        m = defaultdict(int)\n",
    "        for num in nums:\n",
    "            if(m[num]):\n",
    "                return True\n",
    "            m[num]+=1\n",
    "        return False"
   ]
  },
  {
   "cell_type": "markdown",
   "metadata": {},
   "source": [
    "# Majority Element\n",
    "\n",
    "Given an array nums of size n, return the majority element.\n",
    "\n",
    "The majority element is the element that appears more than ⌊n / 2⌋ times. You may assume that the majority element always exists in the array.\n",
    "\n",
    " \n",
    "\n",
    "Example 1:\n",
    "\n",
    "Input: nums = [3,2,3]\n",
    "Output: 3\n",
    "Example 2:\n",
    "\n",
    "Input: nums = [2,2,1,1,1,2,2]\n",
    "Output: 2"
   ]
  },
  {
   "cell_type": "code",
   "execution_count": 4,
   "metadata": {},
   "outputs": [
    {
     "data": {
      "text/plain": [
       "2"
      ]
     },
     "execution_count": 4,
     "metadata": {},
     "output_type": "execute_result"
    }
   ],
   "source": [
    "from typing import List\n",
    "from collections import Counter\n",
    "class Solution:\n",
    "    def majorityElement(self, nums: List[int]) -> int:\n",
    "        temp = Counter(nums)\n",
    "        \n",
    "        for k,v in temp.items():\n",
    "            if v > int(len(nums) / 2):\n",
    "                return k\n",
    "s=Solution()\n",
    "s.majorityElement([2,2,1,1,1,2,2] )"
   ]
  },
  {
   "cell_type": "raw",
   "metadata": {},
   "source": [
    "\n",
    "class Solution:\n",
    "    def majorityElement(self, nums: List[int]) -> int:\n",
    "        m = {}\n",
    "        for num in nums:\n",
    "            m[num] = m.get(num,0)+1\n",
    "        for num in nums:\n",
    "            if(m[num]>len(nums)//2):\n",
    "                return num\n",
    "        \n",
    "        "
   ]
  },
  {
   "cell_type": "markdown",
   "metadata": {},
   "source": [
    "# Group Anagrams\n",
    "\n",
    "Given an array of strings strs, group the anagrams together. You can return the answer in any order.\n",
    "\n",
    "An Anagram is a word or phrase formed by rearranging the letters of a different word or phrase, typically using all the original letters exactly once.\n",
    "\n",
    " \n",
    "\n",
    "Example 1:\n",
    "\n",
    "Input: strs = [\"eat\",\"tea\",\"tan\",\"ate\",\"nat\",\"bat\"]\n",
    "Output: [[\"bat\"],[\"nat\",\"tan\"],[\"ate\",\"eat\",\"tea\"]]\n",
    "Example 2:\n",
    "\n",
    "Input: strs = [\"\"]\n",
    "Output: [[\"\"]]\n",
    "Example 3:\n",
    "\n",
    "Input: strs = [\"a\"]\n",
    "Output: [[\"a\"]]\n",
    " \n",
    "\n",
    "Constraints:\n",
    "\n",
    "1 <= strs.length <= 104\n",
    "0 <= strs[i].length <= 100\n",
    "strs[i] consists of lower-case English letters."
   ]
  },
  {
   "cell_type": "code",
   "execution_count": null,
   "metadata": {},
   "outputs": [],
   "source": [
    "class Solution:\n",
    "    def findHash(self,s):\n",
    "        return ''.join(sorted(s))\n",
    "    def groupAnagrams(self, strs: List[str]) -> List[List[str]]:\n",
    "        answers = []\n",
    "        m = {}\n",
    "\n",
    "        for s in strs:\n",
    "            hashed = self.findHash(s)\n",
    "            if(hashed not in m):\n",
    "                m[hashed] = []\n",
    "            m[hashed].append(s)\n",
    "        \n",
    "        for p in m.values():\n",
    "            answers.append(p)\n",
    "        \n",
    "        return answers"
   ]
  },
  {
   "cell_type": "code",
   "execution_count": null,
   "metadata": {},
   "outputs": [],
   "source": [
    "class Solution:\n",
    "    def groupAnagrams(self, strs: List[str]) -> List[List[str]]:\n",
    "        d=dict()\n",
    "        for i in strs:\n",
    "            si=''.join(sorted(i))\n",
    "            if si in d:\n",
    "                d[si].append(i)\n",
    "            else:\n",
    "                d[si]=[i]\n",
    "                \n",
    "        return d.values()"
   ]
  },
  {
   "cell_type": "code",
   "execution_count": null,
   "metadata": {},
   "outputs": [],
   "source": [
    "from collections import defaultdict as dd\n",
    "class Solution:\n",
    "    def groupAnagrams(self, strs: List[str]) -> List[List[str]]:\n",
    "        \n",
    "        '''\n",
    "        eat - tea = anagram, all have same\n",
    "        \n",
    "        is there an edge case that has duplicate chars that \n",
    "        could cause false alarm?\n",
    "        \n",
    "        len has to be equal\n",
    "        \n",
    "        sssea sseaa\n",
    "        \n",
    "        count is different even though len is equal, \n",
    "        so need to track count of all\n",
    "        \n",
    "        func(word) -> represents count of each char\n",
    "        \n",
    "        [a, b, c...]\n",
    "        \n",
    "        [2, 5, 2] ... then can compare array equality?\n",
    "        \n",
    "        or convert to standard string\n",
    "        \n",
    "        or can compare sorted?\n",
    "        \n",
    "        if all sorted and then stored?\n",
    "        \n",
    "        eat - aet\n",
    "        tea - aet\n",
    "        \n",
    "        so sort each word then store tuple in dict\n",
    "        '''\n",
    "        \n",
    "        d = dd(list)\n",
    "        for w in strs:\n",
    "            \n",
    "            key = sorted(w)\n",
    "            d[(\"\".join(key))] += [w]\n",
    "            \n",
    "        ans = []\n",
    "        \n",
    "        for group in d.values():\n",
    "            ans.append(group)\n",
    "        \n",
    "        return ans\n",
    "\t\t"
   ]
  },
  {
   "cell_type": "code",
   "execution_count": null,
   "metadata": {},
   "outputs": [],
   "source": [
    "#fastest\n",
    "class Solution:\n",
    "    def groupAnagrams(self, strs: List[str]) -> List[List[str]]:\n",
    "        ana={}\n",
    "\n",
    "        for s in strs:\n",
    "            skey = tuple(sorted(s))\n",
    "\n",
    "            if skey in ana.keys():\n",
    "                ana[skey].append(s)\n",
    "            else:\n",
    "                ana[skey]=[s]\n",
    "\n",
    "        return ana.values()"
   ]
  },
  {
   "cell_type": "code",
   "execution_count": null,
   "metadata": {},
   "outputs": [],
   "source": [
    "class Solution:\n",
    "    def groupAnagrams(self, strs: List[str]) -> List[List[str]]:\n",
    "        groups = dict()\n",
    "        for string in strs:\n",
    "            anagram_hash = tuple(sorted(string)).__hash__()\n",
    "            groups.setdefault(anagram_hash, [])\n",
    "            groups[anagram_hash].append(string)\n",
    "        return list(groups.values())"
   ]
  },
  {
   "cell_type": "code",
   "execution_count": null,
   "metadata": {},
   "outputs": [],
   "source": []
  },
  {
   "cell_type": "code",
   "execution_count": null,
   "metadata": {},
   "outputs": [],
   "source": []
  }
 ],
 "metadata": {
  "kernelspec": {
   "display_name": "Python 3",
   "language": "python",
   "name": "python3"
  },
  "language_info": {
   "codemirror_mode": {
    "name": "ipython",
    "version": 3
   },
   "file_extension": ".py",
   "mimetype": "text/x-python",
   "name": "python",
   "nbconvert_exporter": "python",
   "pygments_lexer": "ipython3",
   "version": "3.8.5"
  }
 },
 "nbformat": 4,
 "nbformat_minor": 4
}
