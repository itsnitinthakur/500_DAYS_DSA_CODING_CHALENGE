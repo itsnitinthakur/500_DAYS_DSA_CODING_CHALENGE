{
 "cells": [
  {
   "cell_type": "code",
   "execution_count": 2,
   "metadata": {},
   "outputs": [
    {
     "data": {
      "text/plain": [
       "1"
      ]
     },
     "execution_count": 2,
     "metadata": {},
     "output_type": "execute_result"
    }
   ],
   "source": [
    "17//10\n"
   ]
  },
  {
   "cell_type": "code",
   "execution_count": 4,
   "metadata": {},
   "outputs": [
    {
     "data": {
      "text/plain": [
       "0"
      ]
     },
     "execution_count": 4,
     "metadata": {},
     "output_type": "execute_result"
    }
   ],
   "source": [
    "64%2"
   ]
  },
  {
   "cell_type": "markdown",
   "metadata": {},
   "source": [
    "## Find Numbers with Even Number of Digits\n",
    "\n",
    "Given an array nums of integers, return how many of them contain an even number of digits.\n",
    " \n",
    "\n",
    "Example 1:\n",
    "\n",
    "Input: nums = [12,345,2,6,7896]\n",
    "Output: 2\n",
    "Explanation: \n",
    "12 contains 2 digits (even number of digits). \n",
    "345 contains 3 digits (odd number of digits). \n",
    "2 contains 1 digit (odd number of digits). \n",
    "6 contains 1 digit (odd number of digits). \n",
    "7896 contains 4 digits (even number of digits). \n",
    "Therefore only 12 and 7896 contain an even number of digits.\n",
    "Example 2:\n",
    "\n",
    "Input: nums = [555,901,482,1771]\n",
    "Output: 1 \n",
    "Explanation: \n",
    "Only 1771 contains an even number of digits.\n",
    " \n",
    "\n",
    "Constraints:\n",
    "\n",
    "1 <= nums.length <= 500\n",
    "1 <= nums[i] <= 10^5"
   ]
  },
  {
   "cell_type": "code",
   "execution_count": null,
   "metadata": {},
   "outputs": [],
   "source": [
    "class Solution:\n",
    "    def findNumbers(self, nums: List[int]) -> int:\n",
    "        res =0\n",
    "        for num in nums:\n",
    "            if (len(str(num))%2==0):\n",
    "                res+=1\n",
    "        return res"
   ]
  },
  {
   "cell_type": "code",
   "execution_count": null,
   "metadata": {},
   "outputs": [],
   "source": [
    "class Solution:\n",
    "    def findNumbers(self, nums: List[int]) -> int:\n",
    "        return len([i for i in nums if len(str(i))%2==0])"
   ]
  },
  {
   "cell_type": "code",
   "execution_count": null,
   "metadata": {},
   "outputs": [],
   "source": [
    "class Solution:\n",
    "    def findNumbers(self, nums: List[int]) -> int:\n",
    "        s = map(str,nums)\n",
    "        i =map(len,s)\n",
    "        j= filter(lambda e:e%2==0,i)\n",
    "        return len(list(j))\n",
    "        "
   ]
  },
  {
   "cell_type": "markdown",
   "metadata": {},
   "source": [
    "# Find N Unique Integers Sum up to Zero\n",
    "\n",
    "Given an integer n, return any array containing n unique integers such that they add up to 0.\n",
    "\n",
    " \n",
    "\n",
    "Example 1:\n",
    "\n",
    "Input: n = 5\n",
    "Output: [-7,-1,1,3,4]\n",
    "Explanation: These arrays also are accepted [-5,-1,1,2,3] , [-3,-1,2,-2,4].\n",
    "Example 2:\n",
    "\n",
    "Input: n = 3\n",
    "Output: [-1,0,1]\n",
    "Example 3:\n",
    "\n",
    "Input: n = 1\n",
    "Output: [0]\n",
    " \n",
    "\n",
    "Constraints:\n",
    "\n",
    "1 <= n <= 1000"
   ]
  },
  {
   "cell_type": "code",
   "execution_count": null,
   "metadata": {},
   "outputs": [],
   "source": [
    "# fastest\n",
    "class Solution:\n",
    "    def sumZero(self, n: int) -> List[int]:\n",
    "        res = [i+1 for i in range(0,(n-1))]\n",
    "        res.append(sum(res)*-1)\n",
    "        return res"
   ]
  },
  {
   "cell_type": "code",
   "execution_count": null,
   "metadata": {},
   "outputs": [],
   "source": [
    "class Solution:\n",
    "    def sumZero(self, n: int) -> List[int]:\n",
    "        result = []\n",
    "        for i in range(-(n // 2), n // 2 + 1):\n",
    "            result.append(i)\n",
    "        if n % 2 == 0:\n",
    "            result.remove(0)\n",
    "        return result"
   ]
  },
  {
   "cell_type": "code",
   "execution_count": null,
   "metadata": {},
   "outputs": [],
   "source": [
    "class Solution:\n",
    "    def sumZero(self, n: int) -> List[int]:\n",
    "        lenList = int(n/2)\n",
    "        leftList = [-x for x in range(1,lenList+1)]\n",
    "        rightList = [x for x in range(1,lenList+1)]\n",
    "        if n % 2 == 0:\n",
    "            return leftList+rightList\n",
    "        else:\n",
    "            return leftList+[0]+rightList"
   ]
  },
  {
   "cell_type": "markdown",
   "metadata": {},
   "source": [
    "#### A left rotation operation on an array of size  shifts each of the array's elements  unit to the left. Given an integer, , rotate the array that many steps left and return the result.\n",
    "\n",
    "Example\n",
    "\n",
    "\n",
    "After  rotations, .\n",
    "\n",
    "Function Description\n",
    "\n",
    "Complete the rotateLeft function in the editor below.\n",
    "\n",
    "rotateLeft has the following parameters:\n",
    "\n",
    "int d: the amount to rotate by\n",
    "int arr[n]: the array to rotate\n",
    "Returns\n",
    "\n",
    "int[n]: the rotated array\n",
    "Input Format\n",
    "\n",
    "The first line contains two space-separated integers that denote , the number of integers, and , the number of left rotations to perform.\n",
    "The second line contains  space-separated integers that describe .\n",
    "\n",
    "Constraints\n",
    "\n",
    "Sample Input\n",
    "\n",
    "5 4\n",
    "1 2 3 4 5\n",
    "Sample Output\n",
    "\n",
    "5 1 2 3 4"
   ]
  },
  {
   "cell_type": "code",
   "execution_count": 5,
   "metadata": {},
   "outputs": [
    {
     "name": "stdout",
     "output_type": "stream",
     "text": [
      "5 4\n",
      "4 5 6 7 1\n",
      "1 4 5 6 7 "
     ]
    }
   ],
   "source": [
    "first = input().strip().split(\" \")\n",
    "list_length = int(first[0])\n",
    "rotation = int(first[1])\n",
    "input_list = input().split(\" \")\n",
    "\n",
    "for i in range(rotation):\n",
    "    input_list.append(input_list.pop(0))\n",
    "\n",
    "for i in input_list:\n",
    "    print(i,end=\" \")"
   ]
  },
  {
   "cell_type": "markdown",
   "metadata": {},
   "source": [
    "### You have an empty sequence, and you will be given  queries. Each query is one of these three types:\n",
    "\n",
    "1 x  -Push the element x into the stack.\n",
    "2    -Delete the element present at the top of the stack.\n",
    "3    -Print the maximum element in the stack.\n",
    "Function Description\n",
    "\n",
    "Complete the getMax function in the editor below.\n",
    "\n",
    "getMax has the following parameters:\n",
    "- string operations[n]: operations as strings\n",
    "\n",
    "Returns\n",
    "- int[]: the answers to each type 3 query\n",
    "\n",
    "Input Format\n",
    "\n",
    "The first line of input contains an integer, . The next  lines each contain an above mentioned query.\n",
    "\n",
    "Constraints\n",
    "\n",
    "Constraints\n",
    "\n",
    "\n",
    "\n",
    "All queries are valid.\n",
    "\n",
    "Sample Input\n",
    "\n",
    "STDIN   Function\n",
    "-----   --------\n",
    "10      operations[] size n = 10\n",
    "1 97    operations = ['1 97', '2', '1 20', ....]\n",
    "2\n",
    "1 20\n",
    "2\n",
    "1 26\n",
    "1 20\n",
    "2\n",
    "3\n",
    "1 91\n",
    "3\n",
    "Sample Output\n",
    "\n",
    "26\n",
    "91"
   ]
  },
  {
   "cell_type": "code",
   "execution_count": null,
   "metadata": {},
   "outputs": [],
   "source": [
    "stack = []\n",
    "for _ in range(int(input())):\n",
    "    q = list(map(int, input().split()))\n",
    "    \n",
    "    if q[0] == 1:\n",
    "        if stack:\n",
    "            stack.append(max(stack[-1],q[1]))\n",
    "        else:\n",
    "            stack.append(q[1])\n",
    "    elif q[0] == 2:\n",
    "        stack.pop()\n",
    "    else:\n",
    "        print(stack[-1])"
   ]
  },
  {
   "cell_type": "code",
   "execution_count": null,
   "metadata": {},
   "outputs": [],
   "source": []
  },
  {
   "cell_type": "code",
   "execution_count": null,
   "metadata": {},
   "outputs": [],
   "source": []
  },
  {
   "cell_type": "code",
   "execution_count": null,
   "metadata": {},
   "outputs": [],
   "source": []
  }
 ],
 "metadata": {
  "kernelspec": {
   "display_name": "Python 3",
   "language": "python",
   "name": "python3"
  },
  "language_info": {
   "codemirror_mode": {
    "name": "ipython",
    "version": 3
   },
   "file_extension": ".py",
   "mimetype": "text/x-python",
   "name": "python",
   "nbconvert_exporter": "python",
   "pygments_lexer": "ipython3",
   "version": "3.8.5"
  }
 },
 "nbformat": 4,
 "nbformat_minor": 4
}
