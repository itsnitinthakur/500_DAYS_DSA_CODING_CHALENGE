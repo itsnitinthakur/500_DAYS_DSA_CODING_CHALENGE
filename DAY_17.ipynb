{
 "cells": [
  {
   "cell_type": "markdown",
   "metadata": {},
   "source": [
    "# Find Words That Can Be Formed by Characters\n",
    "\n",
    "You are given an array of strings words and a string chars.\n",
    "\n",
    "A string is good if it can be formed by characters from chars (each character can only be used once).\n",
    "\n",
    "Return the sum of lengths of all good strings in words.\n",
    "\n",
    " \n",
    "\n",
    "Example 1:\n",
    "\n",
    "Input: words = [\"cat\",\"bt\",\"hat\",\"tree\"], chars = \"atach\"\n",
    "Output: 6\n",
    "Explanation: \n",
    "The strings that can be formed are \"cat\" and \"hat\" so the answer is 3 + 3 = 6.\n",
    "Example 2:\n",
    "\n",
    "Input: words = [\"hello\",\"world\",\"leetcode\"], chars = \"welldonehoneyr\"\n",
    "Output: 10\n",
    "Explanation: \n",
    "The strings that can be formed are \"hello\" and \"world\" so the answer is 5 + 5 = 10.\n",
    " \n",
    "\n",
    "Note:\n",
    "\n",
    "1 <= words.length <= 1000\n",
    "1 <= words[i].length, chars.length <= 100\n",
    "All strings contain lowercase English letters only."
   ]
  },
  {
   "cell_type": "code",
   "execution_count": null,
   "metadata": {},
   "outputs": [],
   "source": [
    "class Solution:\n",
    "    def countCharacters(self, words: List[str], chars: str) -> int:\n",
    "        res=\"\"\n",
    "        d = collections.Counter(chars)\n",
    "        for word in words:\n",
    "            dict = collections.Counter(word)\n",
    "            for c in word:\n",
    "                if dict[c] > d[c]:\n",
    "                    break\n",
    "            else:\n",
    "                res += word\n",
    "        return len(res)"
   ]
  },
  {
   "cell_type": "code",
   "execution_count": null,
   "metadata": {},
   "outputs": [],
   "source": [
    "class Solution:\n",
    "    def countCharacters(self, words: List[str], chars: str) -> int:\n",
    "        res = 0\n",
    "        for word in words:\n",
    "            for w in word:\n",
    "                if word.count(w) > chars.count(w):\n",
    "                    break\n",
    "            else:\n",
    "                res += len(word) \n",
    "        return res"
   ]
  },
  {
   "cell_type": "code",
   "execution_count": null,
   "metadata": {},
   "outputs": [],
   "source": [
    "class Solution:\n",
    "    def countCharacters(self, words: List[str], chars: str) -> int:\n",
    "        chars = collections.Counter(chars)\n",
    "        res = 0\n",
    "        for word in words:\n",
    "            w = collections.Counter(word)\n",
    "            for key in w.keys():\n",
    "                if w.get(key, 0) > chars.get(key, 0):\n",
    "                    break\n",
    "            else:\n",
    "                res += len(word)\n",
    "        return res"
   ]
  },
  {
   "cell_type": "code",
   "execution_count": null,
   "metadata": {},
   "outputs": [],
   "source": [
    "class Solution:\n",
    "\tdef countCharacters(self, words: List[str], chars: str) -> int:\n",
    "\t\tres = 0\n",
    "\t\tfor word in words:\n",
    "\t\t\tfor w in word:\n",
    "\t\t\t\tif word.count(w) > chars.count(w):\n",
    "\t\t\t\t\tbreak\n",
    "\t\t\telse:\n",
    "\t\t\t\tres += len(word) \n",
    "\t\treturn res"
   ]
  },
  {
   "cell_type": "code",
   "execution_count": null,
   "metadata": {},
   "outputs": [],
   "source": [
    "def countCharacters(self, words: List[str], chars: str) -> int:\n",
    "        s = 0\n",
    "        for i in words:\n",
    "            b =False\n",
    "            for j in i:\n",
    "                if i.count(j) > chars.count(j):\n",
    "                    b = True\n",
    "                    break\n",
    "            if b is False:\n",
    "                s = s+len(i)\n",
    "            else:\n",
    "                b = False\n",
    "                \n",
    "        return  s "
   ]
  },
  {
   "cell_type": "markdown",
   "metadata": {},
   "source": [
    "## Height Checker\n",
    "A school is trying to take an annual photo of all the students. The students are asked to stand in a single file line in non-decreasing order by height. Let this ordering be represented by the integer array expected where expected[i] is the expected height of the ith student in line.\n",
    "\n",
    "You are given an integer array heights representing the current order that the students are standing in. Each heights[i] is the height of the ith student in line (0-indexed).\n",
    "\n",
    "Return the number of indices where heights[i] != expected[i].\n",
    "\n",
    " \n",
    "\n",
    "Example 1:\n",
    "\n",
    "Input: heights = [1,1,4,2,1,3]\n",
    "Output: 3\n",
    "Explanation: \n",
    "heights:  [1,1,4,2,1,3]\n",
    "expected: [1,1,1,2,3,4]\n",
    "Indices 2, 4, and 5 do not match.\n",
    "Example 2:\n",
    "\n",
    "Input: heights = [5,1,2,3,4]\n",
    "Output: 5\n",
    "Explanation:\n",
    "heights:  [5,1,2,3,4]\n",
    "expected: [1,2,3,4,5]\n",
    "All indices do not match.\n",
    "Example 3:\n",
    "\n",
    "Input: heights = [1,2,3,4,5]\n",
    "Output: 0\n",
    "Explanation:\n",
    "heights:  [1,2,3,4,5]\n",
    "expected: [1,2,3,4,5]\n",
    "All indices match.\n",
    " \n",
    "\n",
    "Constraints:\n",
    "\n",
    "1 <= heights.length <= 100\n",
    "1 <= heights[i] <= 100"
   ]
  },
  {
   "cell_type": "code",
   "execution_count": 34,
   "metadata": {},
   "outputs": [
    {
     "name": "stdout",
     "output_type": "stream",
     "text": [
      "dict_values([1, 1, 4, 2, 1, 3])\n",
      "None\n"
     ]
    }
   ],
   "source": [
    "heights = [1,1,4,2,1,3]\n",
    "d={}\n",
    "for i in range(len(heights)):\n",
    "    d[i]=heights[i]\n",
    "h=heights.sort()\n",
    "print(d.values())\n",
    "print(n)"
   ]
  },
  {
   "cell_type": "code",
   "execution_count": 37,
   "metadata": {},
   "outputs": [
    {
     "name": "stdout",
     "output_type": "stream",
     "text": [
      "{0: 1, 1: 1, 2: 4, 3: 2, 4: 1, 5: 3}\n",
      "[1, 1, 1, 2, 3, 4]\n",
      "{0: 1, 1: 1, 2: 1, 3: 2, 4: 3, 5: 4}\n",
      "3\n"
     ]
    }
   ],
   "source": [
    "heights = [1,1,4,2,1,3]\n",
    "d={}\n",
    "t={}\n",
    "c=0\n",
    "for i in range(len(heights)):\n",
    "    d[i]=heights[i]\n",
    "heights.sort()\n",
    "for i in range(len(heights)):\n",
    "    t[i]=heights[i]\n",
    "for i in range(len(heights)):\n",
    "    if d[i]==t[i]:\n",
    "        c+=1\n",
    "\n",
    "print(d)\n",
    "print(heights)\n",
    "print(t)\n",
    "print(c)"
   ]
  },
  {
   "cell_type": "code",
   "execution_count": 40,
   "metadata": {},
   "outputs": [
    {
     "name": "stdout",
     "output_type": "stream",
     "text": [
      "{0: 5, 1: 1, 2: 2, 3: 3, 4: 4}\n",
      "{0: 1, 1: 2, 2: 3, 3: 4, 4: 5}\n",
      "5\n"
     ]
    }
   ],
   "source": [
    "heights = [5,1,2,3,4]\n",
    "d={}\n",
    "t={}\n",
    "c=0\n",
    "for i in range(len(heights)):\n",
    "    d[i]=heights[i]\n",
    "heights.sort()\n",
    "for i in range(len(heights)):\n",
    "    t[i]=heights[i]\n",
    "for i in range(len(heights)):\n",
    "    if d[i]!=t[i]:\n",
    "        c+=1\n",
    "\n",
    "print(d)\n",
    "print(t)\n",
    "print(c)"
   ]
  },
  {
   "cell_type": "code",
   "execution_count": null,
   "metadata": {},
   "outputs": [],
   "source": [
    "class Solution:\n",
    "    def heightChecker(self, heights: List[int]) -> int:\n",
    "        s = sorted(heights)\n",
    "        res=0\n",
    "        for i in range(len(heights)): \n",
    "            if heights[i] != s[i]: \n",
    "                res+=1\n",
    "        return res"
   ]
  },
  {
   "cell_type": "code",
   "execution_count": null,
   "metadata": {},
   "outputs": [],
   "source": [
    "class Solution:\n",
    "    def heightChecker(self, heights: List[int]) -> int:\n",
    "        count = 0\n",
    "        expected = sorted(heights)\n",
    "        for i in range(0,len(heights)):\n",
    "            if(heights[i]!=expected[i]):\n",
    "                count+=1\n",
    "        return count"
   ]
  },
  {
   "cell_type": "code",
   "execution_count": null,
   "metadata": {},
   "outputs": [],
   "source": [
    "#fastest\n",
    "class Solution:\n",
    "    def heightChecker(self, heights: List[int]) -> int:\n",
    "        \n",
    "        expected = sorted(heights)\n",
    "        \n",
    "        counter = 0\n",
    "        \n",
    "        for i in range(len(expected)):\n",
    "            if expected[i] != heights[i]:\n",
    "                counter +=1\n",
    "        return counter"
   ]
  },
  {
   "cell_type": "code",
   "execution_count": null,
   "metadata": {},
   "outputs": [],
   "source": [
    "class Solution:\n",
    "    def heightChecker(self, heights: List[int]) -> int:\n",
    "        expected = heights.copy()\n",
    "        expected.sort()\n",
    "        c=0\n",
    "        for i in range(len(heights)):\n",
    "            if heights[i] != expected[i]:\n",
    "                c += 1\n",
    "                        \n",
    "        return c"
   ]
  },
  {
   "cell_type": "code",
   "execution_count": null,
   "metadata": {},
   "outputs": [],
   "source": []
  },
  {
   "cell_type": "code",
   "execution_count": null,
   "metadata": {},
   "outputs": [],
   "source": []
  },
  {
   "cell_type": "code",
   "execution_count": null,
   "metadata": {},
   "outputs": [],
   "source": []
  },
  {
   "cell_type": "code",
   "execution_count": null,
   "metadata": {},
   "outputs": [],
   "source": []
  },
  {
   "cell_type": "code",
   "execution_count": null,
   "metadata": {},
   "outputs": [],
   "source": []
  }
 ],
 "metadata": {
  "kernelspec": {
   "display_name": "Python 3",
   "language": "python",
   "name": "python3"
  },
  "language_info": {
   "codemirror_mode": {
    "name": "ipython",
    "version": 3
   },
   "file_extension": ".py",
   "mimetype": "text/x-python",
   "name": "python",
   "nbconvert_exporter": "python",
   "pygments_lexer": "ipython3",
   "version": "3.8.5"
  }
 },
 "nbformat": 4,
 "nbformat_minor": 4
}
