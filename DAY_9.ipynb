{
 "cells": [
  {
   "cell_type": "markdown",
   "metadata": {},
   "source": [
    "# Today i will try to do hash tables problems\n"
   ]
  },
  {
   "cell_type": "code",
   "execution_count": 2,
   "metadata": {},
   "outputs": [
    {
     "name": "stdout",
     "output_type": "stream",
     "text": [
      "{'a': 2, 'b': 4, 'c': 2}\n"
     ]
    }
   ],
   "source": [
    "import collections\n",
    "s = \"abcabcbb\"\n",
    "f= collections.Counter(s)\n",
    "r = {}\n",
    "for key, value in f.items():\n",
    "    if value > 1:\n",
    "        r[key] = value\n",
    "print(r)\n",
    "    "
   ]
  },
  {
   "cell_type": "code",
   "execution_count": null,
   "metadata": {},
   "outputs": [],
   "source": [
    "import collections\n",
    "s = \"abcabcbb\"\n",
    "curr=0\n",
    "best=0\n",
    "m=''\n",
    "\n",
    "f= collections.Counter(s)\n",
    "r = {}\n",
    "for key, value in f.items():\n",
    "    if value not in m:\n",
    "        m.append(value)\n",
    "    if value > 1:\n",
    "        r[key] = value"
   ]
  },
  {
   "cell_type": "code",
   "execution_count": null,
   "metadata": {},
   "outputs": [],
   "source": [
    "s = \"abcabcbb\"\n",
    "curr=''\n",
    "best=0\n",
    "m=''\n",
    "for i in range(1,len(s)):\n",
    "    while s[i-1] not in m:\n",
    "        m.append(s[i-1])\n",
    "    curr=append\n",
    "    best=max(len(best),len(curr))\n",
    "    "
   ]
  },
  {
   "cell_type": "markdown",
   "metadata": {},
   "source": [
    "# Method 1 (Simple : O(n3)):\n",
    "### We can consider all substrings one by one and check for each substring whether it contains all unique characters or not. There will be n*(n+1)/2 substrings. Whether a substring contains all unique characters or not can be checked in linear time by scanning it from left to right and keeping a map of visited characters. Time complexity of this solution would be O(n^3)."
   ]
  },
  {
   "cell_type": "code",
   "execution_count": 4,
   "metadata": {},
   "outputs": [
    {
     "name": "stdout",
     "output_type": "stream",
     "text": [
      "The input is  geeksforgeeks\n",
      "The length of the longest non-repeating character substring is  7\n"
     ]
    }
   ],
   "source": [
    "#Python3 program to find the length\n",
    "# of the longest substrring without\n",
    "# repeating characters\n",
    " \n",
    "# This functionr eturns true if all\n",
    "# characters in strr[i..j] are\n",
    "# distinct, otherwise returns false\n",
    "def areDistinct(strr, i, j):\n",
    " \n",
    "    # Note : Default values in visited are false\n",
    "    visited = [0] * (26)\n",
    " \n",
    "    for k in range(i, j + 1):\n",
    "        if (visited[ord(strr[k]) -\n",
    "                   ord('a')] == True):\n",
    "            return False\n",
    "             \n",
    "        visited[ord(strr[k]) -\n",
    "                ord('a')] = True\n",
    " \n",
    "    return True\n",
    " \n",
    "# Returns length of the longest substrring\n",
    "# with all distinct characters.\n",
    "def longestUniqueSubsttr(strr):\n",
    "     \n",
    "    n = len(strr)\n",
    "     \n",
    "    # Result\n",
    "    res = 0\n",
    "     \n",
    "    for i in range(n):\n",
    "        for j in range(i, n):\n",
    "            if (areDistinct(strr, i, j)):\n",
    "                res = max(res, j - i + 1)\n",
    "                 \n",
    "    return res\n",
    " \n",
    "# Driver code\n",
    "if __name__ == '__main__':\n",
    "     \n",
    "    strr = \"geeksforgeeks\"\n",
    "    print(\"The input is \", strr)\n",
    "     \n",
    "    len = longestUniqueSubsttr(strr)\n",
    "    print(\"The length of the longest \"\n",
    "          \"non-repeating character substring is \", len)"
   ]
  },
  {
   "cell_type": "markdown",
   "metadata": {},
   "source": [
    "### Method 2 (Better : O(n2)) The idea is to use window sliding. Whenever we see repitition, we remove the pervious occurrance and slide the window."
   ]
  },
  {
   "cell_type": "markdown",
   "metadata": {},
   "source": [
    "# WINDOW SLIDING\n",
    "# FIRST WITH BRUTE FORCE APPROACH\n",
    "Given an array of integers of size ‘n’.\n",
    "Our aim is to calculate the maximum sum of ‘k’ \n",
    "consecutive elements in the array.\n",
    "\n",
    "Input  : arr[] = {100, 200, 300, 400}\n",
    "         k = 2\n",
    "Output : 700\n",
    "\n",
    "Input  : arr[] = {1, 4, 2, 10, 23, 3, 1, 0, 20}\n",
    "         k = 4 \n",
    "Output : 39\n",
    "We get maximum sum by adding subarray {4, 2, 10, 23}\n",
    "of size 4.\n",
    "\n",
    "Input  : arr[] = {2, 3}\n",
    "         k = 3\n",
    "Output : Invalid\n",
    "There is no subarray of size 3 as size of whole\n",
    "array is 2.\n",
    "So, let’s analyze the problem with Brute Force Approach. We start with first index and sum till k-th element. We do it for all possible consecutive blocks or groups of k elements. This method requires nested for loop, the outer for loop starts with the sta"
   ]
  },
  {
   "cell_type": "code",
   "execution_count": 7,
   "metadata": {},
   "outputs": [
    {
     "ename": "TypeError",
     "evalue": "'int' object is not callable",
     "output_type": "error",
     "traceback": [
      "\u001b[1;31m---------------------------------------------------------------------------\u001b[0m",
      "\u001b[1;31mTypeError\u001b[0m                                 Traceback (most recent call last)",
      "\u001b[1;32m<ipython-input-7-12d5710ffe1d>\u001b[0m in \u001b[0;36m<module>\u001b[1;34m\u001b[0m\n\u001b[0;32m     30\u001b[0m        3, 1, 0, 20]\n\u001b[0;32m     31\u001b[0m \u001b[0mk\u001b[0m \u001b[1;33m=\u001b[0m \u001b[1;36m4\u001b[0m\u001b[1;33m\u001b[0m\u001b[1;33m\u001b[0m\u001b[0m\n\u001b[1;32m---> 32\u001b[1;33m \u001b[0mn\u001b[0m \u001b[1;33m=\u001b[0m \u001b[0mlen\u001b[0m\u001b[1;33m(\u001b[0m\u001b[0marr\u001b[0m\u001b[1;33m)\u001b[0m\u001b[1;33m\u001b[0m\u001b[1;33m\u001b[0m\u001b[0m\n\u001b[0m\u001b[0;32m     33\u001b[0m \u001b[0mprint\u001b[0m\u001b[1;33m(\u001b[0m\u001b[0mmaxSum\u001b[0m\u001b[1;33m(\u001b[0m\u001b[0marr\u001b[0m\u001b[1;33m,\u001b[0m \u001b[0mn\u001b[0m\u001b[1;33m,\u001b[0m \u001b[0mk\u001b[0m\u001b[1;33m)\u001b[0m\u001b[1;33m)\u001b[0m\u001b[1;33m\u001b[0m\u001b[1;33m\u001b[0m\u001b[0m\n",
      "\u001b[1;31mTypeError\u001b[0m: 'int' object is not callable"
     ]
    }
   ],
   "source": [
    "    # code\n",
    "    import sys\n",
    "    #print (\"GFG\")\n",
    "    # O(n * k) solution for finding\n",
    "    # maximum sum of a subarray of size k\n",
    "    INT_MIN = -sys.maxsize - 1\n",
    "\n",
    "    # Returns maximum sum in a\n",
    "    # subarray of size k.\n",
    "\n",
    "\n",
    "    def maxSum(arr, n, k):\n",
    "\n",
    "        # Initialize result\n",
    "        max_sum = INT_MIN\n",
    "\n",
    "        # Consider all blocks\n",
    "        # starting with i.\n",
    "        for i in range(n - k + 1):\n",
    "            current_sum = 0\n",
    "            for j in range(k):\n",
    "                current_sum = current_sum + arr[i + j]\n",
    "\n",
    "            # Update result if required.\n",
    "            max_sum = max(current_sum, max_sum)\n",
    "\n",
    "        return max_sum\n",
    "    # Driver code\n",
    "    arr = [1, 4, 2, 10, 2,\n",
    "           3, 1, 0, 20]\n",
    "    k = 4\n",
    "    n = len(arr)\n",
    "    print(maxSum(arr, n, k))"
   ]
  },
  {
   "attachments": {
    "image-2.png": {
     "image/png": "[encoded data removed]"
    },
    "image-3.png": {
     "image/png": "[encoded data removed]"
    },
    "image.png": {
     "image/png": "[encoded data removed]"
    }
   },
   "cell_type": "markdown",
   "metadata": {},
   "source": [
    "### Window Sliding Technique\n",
    "\n",
    "The technique can be best understood with the window pane in bus, consider a window of length n and the pane which is fixed in it of length k. Consider, initially the pane is at extreme left i.e., at 0 units from the left. Now, co-relate the window with array arr[] of size n and pane with current_sum of size k elements. Now, if we apply force on the window such that it moves a unit distance ahead. The pane will cover next k consecutive elements. \n",
    "Consider an array arr[] = {5, 2, -1, 0, 3} and value of k = 3 and n = 5\n",
    "Applying sliding window technique : \n",
    "\n",
    "We compute the sum of first k elements out of n terms using a linear loop and store the sum in variable window_sum.\n",
    "Then we will graze linearly over the array till it reaches the end and simultaneously keep track of maximum sum.\n",
    "To get the current sum of block of k elements just subtract the first element from the previous block and add the last element of the current block .\n",
    "The below representation will make it clear how the window slides over the array.\n",
    "This is the initial phase where we have calculated the initial window sum starting from index 0 . At this stage the window sum is 6. Now, we set the maximum_sum as current_window i.e 6. \n",
    "\n",
    "![image.png](attachment:image.png)\n",
    "\n",
    "Now, we slide our window by a unit index. Therefore, now it discards 5 from the window and adds 0 to the window. Hence, we will get our new window sum by subtracting 5 and then adding 0 to it. So, our window sum now becomes 1. Now, we will compare this window sum with the maximum_sum. As it is smaller we wont the change the maximum_sum. \n",
    "\n",
    "![image-2.png](attachment:image-2.png)\n",
    "\n",
    "Similarly, now once again we slide our window by a unit index and obtain the new window sum to be 2. Again we check if this current window sum is greater than the maximum_sum till now. Once, again it is smaller so we don’t change the maximum_sum.\n",
    "Therefore, for the above array our maximum_sum is 6.\n",
    "\n",
    "![image-3.png](attachment:image-3.png)"
   ]
  },
  {
   "cell_type": "code",
   "execution_count": null,
   "metadata": {},
   "outputs": [],
   "source": [
    "# O(n) solution for finding\n",
    "# maximum sum of a subarray of size k\n",
    " \n",
    " \n",
    " def maxSum(arr, k):\n",
    "    # length of the array\n",
    "    n = len(arr)\n",
    " \n",
    "    # n must be greater than k\n",
    "    if n < k:\n",
    "        print(\"Invalid\")\n",
    "        return -1\n",
    " \n",
    "    # Compute sum of first window of size k\n",
    "    window_sum = sum(arr[:k])\n",
    " \n",
    "    # first sum available\n",
    "    max_sum = window_sum\n",
    " \n",
    "    # Compute the sums of remaining windows by\n",
    "    # removing first element of previous\n",
    "    # window and adding last element of\n",
    "    # the current window.\n",
    "    for i in range(n - k):\n",
    "        window_sum = window_sum - arr[i] + arr[i + k]\n",
    "        max_sum = max(window_sum, max_sum)\n",
    " \n",
    "    return max_sum\n",
    " \n",
    " \n",
    " # Driver code\n",
    "arr = [1, 4, 2, 10, 2, 3, 1, 0, 20]\n",
    "k = 4\n",
    "print(maxSum(arr, k))"
   ]
  },
  {
   "cell_type": "code",
   "execution_count": 10,
   "metadata": {},
   "outputs": [
    {
     "ename": "TypeError",
     "evalue": "'int' object is not callable",
     "output_type": "error",
     "traceback": [
      "\u001b[1;31m---------------------------------------------------------------------------\u001b[0m",
      "\u001b[1;31mTypeError\u001b[0m                                 Traceback (most recent call last)",
      "\u001b[1;32m<ipython-input-10-87483b5c4a24>\u001b[0m in \u001b[0;36m<module>\u001b[1;34m\u001b[0m\n\u001b[0;32m      1\u001b[0m \u001b[0ms\u001b[0m \u001b[1;33m=\u001b[0m \u001b[1;34m\"abcabcbb\"\u001b[0m\u001b[1;33m\u001b[0m\u001b[1;33m\u001b[0m\u001b[0m\n\u001b[1;32m----> 2\u001b[1;33m \u001b[0mn\u001b[0m \u001b[1;33m=\u001b[0m \u001b[0mlen\u001b[0m\u001b[1;33m(\u001b[0m\u001b[0ms\u001b[0m\u001b[1;33m)\u001b[0m\u001b[1;33m\u001b[0m\u001b[1;33m\u001b[0m\u001b[0m\n\u001b[0m\u001b[0;32m      3\u001b[0m \u001b[0mst\u001b[0m\u001b[1;33m=\u001b[0m\u001b[1;36m0\u001b[0m\u001b[1;33m\u001b[0m\u001b[1;33m\u001b[0m\u001b[0m\n\u001b[0;32m      4\u001b[0m \u001b[0mmaxlen\u001b[0m \u001b[1;33m=\u001b[0m \u001b[1;36m0\u001b[0m\u001b[1;33m\u001b[0m\u001b[1;33m\u001b[0m\u001b[0m\n\u001b[0;32m      5\u001b[0m \u001b[0mstart\u001b[0m \u001b[1;33m=\u001b[0m \u001b[1;36m0\u001b[0m\u001b[1;33m\u001b[0m\u001b[1;33m\u001b[0m\u001b[0m\n",
      "\u001b[1;31mTypeError\u001b[0m: 'int' object is not callable"
     ]
    }
   ],
   "source": [
    "s = \"abcabcbb\"\n",
    "n = len(s)\n",
    "st=0\n",
    "maxlen = 0\n",
    "start = 0\n",
    "pos = {}\n",
    "pos[s[0]] = 0\n",
    "for i in rnage(1,n):\n",
    "    if s[i] not in pos:\n",
    "        pos[s[i]] = i\n",
    "    else:\n",
    "        if pos[s[i]] >=st:\n",
    "            \n",
    "            currlen = i - st\n",
    "            if maxlen < currlen:\n",
    "                maxlen = currlen\n",
    "                start = st\n",
    "            \n",
    "            st = pos[s[i]] + 1\n",
    "        \n",
    "        pos[s[i]] = i\n",
    "if maxlen < i - st:\n",
    "    maxlen = i - st\n",
    "    start = st\n",
    "print(s[start : start + maxlen])"
   ]
  },
  {
   "cell_type": "code",
   "execution_count": null,
   "metadata": {},
   "outputs": [],
   "source": []
  },
  {
   "cell_type": "code",
   "execution_count": null,
   "metadata": {},
   "outputs": [],
   "source": [
    "class Solution:\n",
    "    # O(n!)\n",
    "    def lengthOfLongestSubstring(self, s: str) -> int:\n",
    "        longest_substring_length = 0\n",
    "        for x in range(0, len(s)):\n",
    "            for y in range (x, len(s)):\n",
    "                substring = s[x:y + 1]\n",
    "                substring_length = len(substring)\n",
    "                if is_valid_substring(substring):\n",
    "                    if substring_length > longest_substring_length:\n",
    "                        longest_substring_length = substring_length\n",
    "        return longest_substring_length\n",
    "        \n",
    "        \n",
    "def is_valid_substring(substring):\n",
    "    frequency = {}\n",
    "    for character in substring:\n",
    "        if frequency.get(character, False) == True:\n",
    "            return False\n",
    "        else:\n",
    "            frequency[character] = True\n",
    "    return True\n"
   ]
  },
  {
   "cell_type": "code",
   "execution_count": null,
   "metadata": {},
   "outputs": [],
   "source": [
    "class Solution:\n",
    "    def lengthOfLongestSubstring(self, s: str) -> int:\n",
    "        if s == \"\":\n",
    "            return 0\n",
    "        i = 0 \n",
    "        j = 1\n",
    "        max_count = 0\n",
    "        count = 1\n",
    "        visited = {s[i] : 0}\n",
    "        s = list(s)\n",
    "        \n",
    "        if len(s) == 1:\n",
    "            return 1\n",
    "        \n",
    "        while j < len(s):\n",
    "            if s[j] not in visited:\n",
    "                visited[s[j]] = j\n",
    "                count += 1\n",
    "            else:\n",
    "                i = max(visited[s[j]] + 1, i)\n",
    "                visited[s[j]] = j\n",
    "                count = j - i + 1\n",
    "            \n",
    "            if count > max_count:\n",
    "                max_count = count\n",
    "            j+=1\n",
    "                \n",
    "        return max_count"
   ]
  },
  {
   "cell_type": "code",
   "execution_count": null,
   "metadata": {},
   "outputs": [],
   "source": [
    "def lengthOfLongestSubstring(self, s: str) -> int:\n",
    "    if len(s)<=1: return len(s)\n",
    "    maxCount = 0\n",
    "    dictionary = {}\n",
    "    left=0\n",
    "    for i in range(len(s)):\n",
    "        \n",
    "        if s[i] in dictionary:\n",
    "            left=max((dictionary[s[i]]+1),left)\n",
    "        \n",
    "        dictionary[s[i]] = i\n",
    "        count = i+1-left\n",
    "        maxCount = max(count, maxCount)\n",
    "        \n",
    "    return maxCount"
   ]
  },
  {
   "cell_type": "code",
   "execution_count": null,
   "metadata": {},
   "outputs": [],
   "source": [
    "    def lengthOfLongestSubstring(self, s):\n",
    "        arr=[];\n",
    "        m=[];\n",
    "        for i in range(len(s)):\n",
    "            if s[i] in arr:\n",
    "                m.append(len(arr))\n",
    "                del arr[:arr.index(s[i])+1]\n",
    "                arr.append(s[i])\n",
    "            else:\n",
    "                arr.append(s[i])\n",
    "        m.append(len(arr));\n",
    "        return max(m)"
   ]
  },
  {
   "cell_type": "code",
   "execution_count": null,
   "metadata": {},
   "outputs": [],
   "source": [
    "class Solution(object):\n",
    "    def lengthOfLongestSubstring(self, s):\n",
    "        dic = {}\n",
    "        i = 0\n",
    "        rs = 0\n",
    "        \n",
    "        for j in range(len(s)):\n",
    "            if s[j] in dic:\n",
    "                dic[s[j]] += 1\n",
    "            else:\n",
    "                dic[s[j]] = 1\n",
    "            \n",
    "            while dic[s[j]] > 1:\n",
    "                dic[s[i]] -= 1\n",
    "                i += 1\n",
    "                \n",
    "            rs = max(rs, j - i + 1)\n",
    "            \n",
    "        return rs\n",
    "\t\t"
   ]
  },
  {
   "cell_type": "code",
   "execution_count": null,
   "metadata": {},
   "outputs": [],
   "source": [
    "# fastest\n",
    "def lengthOfLongestSubstring(self, s):\n",
    "\t    start = result = 0\n",
    "        used  = {}\n",
    "        \n",
    "        for idx, char in enumerate(s):\n",
    "            if char in used and start <= used[char]:\n",
    "                start = used[char] + 1\n",
    "            else:\n",
    "                result = max(result, idx - start + 1)\n",
    "\n",
    "            used[char] = idx\n",
    "\n",
    "        return result"
   ]
  },
  {
   "cell_type": "code",
   "execution_count": null,
   "metadata": {},
   "outputs": [],
   "source": [
    "  # check if the char has been seen AND the char's index is after the start index\n",
    "\t\t\t\t\t\t\t\t\t\t\t\t\t  # eg: \"tmmuzxt\", the \"t\" has been seen when the index goes to end of the string,\n",
    "\t\t\t\t\t\t\t\t\t\t\t\t\t  # but it ONLY counts to the result, when the \"t\" appears after the second \"m\",\n",
    "\t\t\t\t\t\t\t\t\t\t\t\t\t  # which is the start index at that time. the first \"t\" won't count into it. period.\n",
    "\t\t\t\t\t\t\t\t\t\t\t\t\t"
   ]
  },
  {
   "cell_type": "code",
   "execution_count": 15,
   "metadata": {},
   "outputs": [],
   "source": [
    "import collections\n",
    "nums = [2,2,1]\n",
    "curr=0\n",
    "best=0\n",
    "\n",
    "f= collections.Counter(s)\n",
    "r = {}\n",
    "for key, value in f.items():\n",
    "    if value <2:\n",
    "        z = value\n",
    "        print(z)"
   ]
  },
  {
   "cell_type": "code",
   "execution_count": 25,
   "metadata": {},
   "outputs": [
    {
     "name": "stdout",
     "output_type": "stream",
     "text": [
      "{4: 'b'}\n"
     ]
    }
   ],
   "source": [
    "import collections\n",
    "s = \"abcabcbb\"\n",
    "f= collections.Counter(s)\n",
    "r = {}\n",
    "for key, value in f.items():\n",
    "    if value > 2:\n",
    "        r[value] = key\n",
    "print(r)"
   ]
  },
  {
   "cell_type": "markdown",
   "metadata": {},
   "source": [
    "## Single Number\n",
    "\n",
    "Given a non-empty array of integers nums, every element appears twice except for one. Find that single one.\n",
    "\n",
    "Follow up: Could you implement a solution with a linear runtime complexity and without using extra memory?\n",
    "\n",
    " \n",
    "\n",
    "Example 1:\n",
    "\n",
    "Input: nums = [2,2,1]\n",
    "Output: 1\n",
    "Example 2:\n",
    "\n",
    "Input: nums = [4,1,2,1,2]\n",
    "Output: 4\n",
    "Example 3:\n",
    "\n",
    "Input: nums = [1]\n",
    "Output: 1\n",
    " \n",
    "\n",
    "Constraints:\n",
    "\n",
    "1 <= nums.length <= 3 * 104\n",
    "-3 * 104 <= nums[i] <= 3 * 104\n",
    "Each element in the array appears twice except for one element which appears only once."
   ]
  },
  {
   "cell_type": "code",
   "execution_count": null,
   "metadata": {},
   "outputs": [],
   "source": [
    "class Solution:\n",
    "    def singleNumber(self, nums: List[int]) -> int:\n",
    "        count = {}\n",
    "        for i in range(len(nums)):\n",
    "            if nums[i] in count:\n",
    "                count[nums[i]] += 1\n",
    "            else:\n",
    "                count[nums[i]] = 1\n",
    "        for key in count:\n",
    "            if count[key] == 1:\n",
    "                return key"
   ]
  },
  {
   "cell_type": "code",
   "execution_count": null,
   "metadata": {},
   "outputs": [],
   "source": [
    "# speed 95% adn memory 7.5%\n",
    "class Solution:\n",
    "    def singleNumber(self, nums: List[int]) -> int:\n",
    "        return [item for item, count in collections.Counter(nums).items() if count == 1][0]"
   ]
  },
  {
   "cell_type": "code",
   "execution_count": null,
   "metadata": {},
   "outputs": [],
   "source": [
    "def singleNumber(self, nums: List[int]) -> int:\n",
    "        res=0\n",
    "        for i in nums:\n",
    "            res^=i\n",
    "        return res"
   ]
  },
  {
   "cell_type": "code",
   "execution_count": null,
   "metadata": {},
   "outputs": [],
   "source": [
    "class Solution:\n",
    "def singleNumber(self, nums: List[int]) -> int:\n",
    "    final=0\n",
    "    for i in range(len(nums)):\n",
    "        final=final^nums[i]\n",
    "    return final"
   ]
  },
  {
   "cell_type": "code",
   "execution_count": null,
   "metadata": {},
   "outputs": [],
   "source": [
    "def singleNumber(self, nums):\n",
    "        nums.sort()\n",
    "        nums.insert(0, None)\n",
    "        nums.insert(len(nums), None)\n",
    "        i, j = 1, len(nums)-2\n",
    "        while(i<=j):\n",
    "            if nums[i] != nums[i-1] and nums[i] != nums[i+1]:\n",
    "                return nums[i]\n",
    "            i += 1"
   ]
  },
  {
   "cell_type": "code",
   "execution_count": null,
   "metadata": {},
   "outputs": [],
   "source": [
    "    def singleNumber(self, nums):\n",
    "        a = 0\n",
    "        for i in nums:\n",
    "            a ^= i\n",
    "        return a"
   ]
  },
  {
   "cell_type": "code",
   "execution_count": null,
   "metadata": {},
   "outputs": [],
   "source": [
    "# 96 percent less memory\n",
    "class Solution:\n",
    "    def singleNumber(self, nums: List[int]) -> int:\n",
    "        \"\"\"\n",
    "        Idea:\n",
    "\n",
    "        Sort the numbers and alternatively add and subtract the\n",
    "        consecutive numbers from `count`. What remains in the end\n",
    "        is the single number.        \n",
    "        \"\"\"\n",
    "        nums.sort()\n",
    "        s = 0\n",
    "        sign = 1\n",
    "        for i in nums:\n",
    "            s += sign * i\n",
    "            sign *= -1\n",
    "            \n",
    "        return s"
   ]
  },
  {
   "cell_type": "code",
   "execution_count": null,
   "metadata": {},
   "outputs": [],
   "source": [
    "def singleNumber(self, nums):\n",
    "        if len(nums) == 0:\n",
    "            return False\n",
    "        \n",
    "        nums.sort()\n",
    "        previous_element = 0\n",
    "        index = 1\n",
    "        while index < len(nums):\n",
    "            if nums[previous_element] == nums[index]:\n",
    "                index += 2\n",
    "                previous_element += 2\n",
    "            elif nums[previous_element] != nums[index]:\n",
    "                return nums[previous_element]\n",
    "        return nums[-1]"
   ]
  },
  {
   "cell_type": "code",
   "execution_count": 31,
   "metadata": {},
   "outputs": [
    {
     "name": "stdout",
     "output_type": "stream",
     "text": [
      "4\n"
     ]
    }
   ],
   "source": [
    "x = 5\n",
    "x ^= 1\n",
    "print (x)"
   ]
  },
  {
   "cell_type": "code",
   "execution_count": null,
   "metadata": {},
   "outputs": [],
   "source": []
  },
  {
   "cell_type": "code",
   "execution_count": null,
   "metadata": {},
   "outputs": [],
   "source": []
  },
  {
   "cell_type": "code",
   "execution_count": null,
   "metadata": {},
   "outputs": [],
   "source": []
  }
 ],
 "metadata": {
  "kernelspec": {
   "display_name": "Python 3",
   "language": "python",
   "name": "python3"
  },
  "language_info": {
   "codemirror_mode": {
    "name": "ipython",
    "version": 3
   },
   "file_extension": ".py",
   "mimetype": "text/x-python",
   "name": "python",
   "nbconvert_exporter": "python",
   "pygments_lexer": "ipython3",
   "version": "3.8.5"
  }
 },
 "nbformat": 4,
 "nbformat_minor": 4
}
