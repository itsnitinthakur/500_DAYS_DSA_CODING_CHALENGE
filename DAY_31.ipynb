{
 "cells": [
  {
   "cell_type": "code",
   "execution_count": null,
   "metadata": {},
   "outputs": [],
   "source": [
    "s =\"bflabisbvie\"\n",
    "i=0\n",
    "j=1\n",
    "l=[]\n",
    "st=[]\n",
    "\n",
    "while j<=len(s)-2:\n",
    "    z = s[i:j]\n",
    "    if len(z)== len(set(z)):\n",
    "        l.append(len(z))\n",
    "        st.append(z)\n",
    "        j+=1\n",
    "    elif len(z)!= len(set(z)):\n",
    "        i+=1\n",
    "print(st)\n",
    "print(max(l))\n",
    "for i in st:\n",
    "    if len(i)==max(l):\n",
    "        print(i)\n",
    "    \n",
    "    "
   ]
  },
  {
   "cell_type": "markdown",
   "metadata": {},
   "source": [
    "# longest distinct substring"
   ]
  },
  {
   "cell_type": "code",
   "execution_count": null,
   "metadata": {},
   "outputs": [],
   "source": [
    "import collections\n",
    "s = \"aabacbebebe\"\n",
    "k=3\n",
    "i=0\n",
    "j=1\n",
    "x=[]\n",
    "h=[]\n",
    "while j<=len(s)-2:\n",
    "    z = s[i:j]\n",
    "    c=collections.Counter(z)\n",
    "    if k==len(c):\n",
    "        h.append(z)\n",
    "        x.append(sum(c.values()))\n",
    "        i+=1\n",
    "    elif len(c)>k:\n",
    "        x.append(sum(c.values()))\n",
    "        i+=1\n",
    "    else:\n",
    "        j+=1\n",
    "print(max(x))\n",
    "print(x)\n",
    "print(h)"
   ]
  },
  {
   "cell_type": "code",
   "execution_count": 1,
   "metadata": {},
   "outputs": [
    {
     "name": "stdout",
     "output_type": "stream",
     "text": [
      "{'b', 'a', 'd', 'k'}\n",
      "bkada\n"
     ]
    }
   ],
   "source": [
    "s=\"bkada\"\n",
    "b = set(s)\n",
    "print(b)\n",
    "print(s)"
   ]
  },
  {
   "cell_type": "code",
   "execution_count": null,
   "metadata": {},
   "outputs": [],
   "source": [
    "s = \"babad\"\n",
    "i=0\n",
    "j=1\n",
    "l=[]\n",
    "st=[]\n",
    "        \n",
    "while j<=len(s)-2:\n",
    "    z = s[i:j]\n",
    "    if len(z)==1:\n",
    "        l.append(len(z))\n",
    "        st.append(z)\n",
    "        j+=1\n",
    "    elif z== z[::-1] and len(z)>2:\n",
    "        l.append(len(z))\n",
    "        st.append(z)\n",
    "        j+=1\n",
    "\n",
    "\n",
    "print(st)\n",
    "print(l)\n",
    "for i in st:\n",
    "    if len(i)==max(l):\n",
    "        print(i)"
   ]
  },
  {
   "cell_type": "code",
   "execution_count": null,
   "metadata": {},
   "outputs": [],
   "source": [
    "s = \"babad\"\n",
    "i=0\n",
    "j=1\n",
    "z=\"\"\n",
    "l=[]\n",
    "st=[]\n",
    "        \n",
    "while j<=len(s)-2:\n",
    "    z = s[i:j]\n",
    "    if z== z[::-1] and len(z)>2:\n",
    "        l.append(len(z))\n",
    "        st.append(z)\n",
    "        j+=1\n",
    "    else:\n",
    "        j+=1\n",
    "print(st)"
   ]
  },
  {
   "cell_type": "code",
   "execution_count": null,
   "metadata": {},
   "outputs": [],
   "source": [
    "class Solution:\n",
    "    def longestPalindrome(self, s: str) -> str:\n",
    "        # Dynamic Programming\n",
    "        n = len(s)\n",
    "        # Default to pick the first element if no palindrom found longer than 1\n",
    "        longest, begin = 1, 0\n",
    "        dp = [[None] * n for _ in range(n)]\n",
    "        # All charactors itself is a palindrom:\\\n",
    "        for i in range(n):\n",
    "            dp[i][i] = True\n",
    "        # Try all possible substring lengths\n",
    "        for length in range(2, n + 1):\n",
    "            # Try all starting point\n",
    "            for start in range(n):\n",
    "                # Get ending index\n",
    "                end = start + length - 1\n",
    "                # Check if end index is larger than the total length\n",
    "                if end >= n:\n",
    "                    break\n",
    "                # s[start : end] will only be palindrom is the first and the last element is the same\n",
    "                if s[start] != s[end]:\n",
    "                    dp[start][end] = False\n",
    "                else:\n",
    "                    # s[start : end] will be a palendrom if [start + 1 : end - 1] is a panlindrom\n",
    "                    if length <= 2:\n",
    "                        dp[start][end] = True\n",
    "                    else:\n",
    "                        dp[start][end] = dp[start + 1][end - 1]\n",
    "                # If s[start : end] is palindrom, compare the length with max length\n",
    "                if dp[start][end]:\n",
    "                    if length > longest:\n",
    "                        longest = length\n",
    "                        begin = start\n",
    "        return s[begin : begin + longest]"
   ]
  },
  {
   "cell_type": "code",
   "execution_count": null,
   "metadata": {},
   "outputs": [],
   "source": [
    "def longestPalindrome(self, s: str) -> str:\n",
    "    \n",
    "    current=[0,1]\n",
    "    def getPalindrome(s,left,right):\n",
    "        while left>=0 and right<len(s):\n",
    "            if s[left]!=s[right]:\n",
    "                break\n",
    "\n",
    "            left-=1\n",
    "            right+=1\n",
    "        return [left+1,right]\n",
    "    for i in range(1,len(s)):\n",
    "        odd=getPalindrome(s,i-1,i+1)\n",
    "        even=getPalindrome(s,i-1,i)\n",
    "        longest=max(odd,even,key=lambda x:x[1]-x[0])\n",
    "        current=max(current,longest,key=lambda x:x[1]-x[0] )\n",
    "        \n",
    "    return s[current[0]:current[1]]"
   ]
  },
  {
   "cell_type": "code",
   "execution_count": null,
   "metadata": {},
   "outputs": [],
   "source": [
    "#fastest\n",
    "class Solution:\n",
    "def longestPalindrome(self, s: str) -> str:\n",
    "    res=\"\"\n",
    "    size=0\n",
    "    center = 0\n",
    "    n=len(s)\n",
    "    while center<n:\n",
    "        left = center-1\n",
    "        right= center+1\n",
    "        while right<n and s[right]==s[center]:\n",
    "            right+=1\n",
    "        while left>=0 and right<n and s[left]==s[right]:\n",
    "            left-=1\n",
    "            right+=1\n",
    "        if right-left-1>size:\n",
    "            size=right-left-1\n",
    "            res = s[left+1:right]\n",
    "        center+=1\n",
    "    return res"
   ]
  },
  {
   "cell_type": "code",
   "execution_count": null,
   "metadata": {},
   "outputs": [],
   "source": [
    "class Solution:\n",
    "def longestPalindrome(self, s: str) -> str:\n",
    "    n=len(s)\n",
    "    dp = [[0 for _ in range(n)] for _ in range(n)]\n",
    "    st=0\n",
    "    ed=0\n",
    "    res=1\n",
    "    for i in range(n-1):\n",
    "        dp[i][i]=1\n",
    "        if s[i]==s[i+1]:\n",
    "            dp[i][i+1]=1\n",
    "            res=2\n",
    "            st=i\n",
    "            ed=i+1\n",
    "    dp[n-1][n-1]=1\n",
    "    for i in range(2,n):\n",
    "        for j in range(n-i):\n",
    "            if s[j]==s[j+i]:\n",
    "                dp[j][j+i]=dp[j+1][j+i-1]\n",
    "            if dp[j][j+i]==1 and i+1>res:\n",
    "                st=j\n",
    "                ed=j+i\n",
    "    return s[st:ed+1]"
   ]
  },
  {
   "cell_type": "code",
   "execution_count": null,
   "metadata": {},
   "outputs": [],
   "source": [
    "class Solution:\n",
    "    def longestPalindrome(self, s: str) -> str:\n",
    "        def pali(idx1, idx2):\n",
    "            l = idx1\n",
    "            r = idx2 \n",
    "            while l>=0 and r<=len(s)-1 and s[l] == s[r]:\n",
    "                l -= 1\n",
    "                r += 1\n",
    "            return s[l+1: r]\n",
    "        \n",
    "        maxglobal = ''\n",
    "        for i in range(len(s)):\n",
    "            word1 = pali(i, i)\n",
    "            word2 = pali(i, i+1)\n",
    "            maxsofar = word1 if len(word1) > len(word2) else word2\n",
    "            maxglobal = maxglobal if len(maxglobal) > len(maxsofar) else maxsofar\n",
    "\n",
    "        return maxglobal"
   ]
  },
  {
   "cell_type": "code",
   "execution_count": null,
   "metadata": {},
   "outputs": [],
   "source": [
    "class Solution:\n",
    "    def longestPalindrome(self, s: str) -> str:\n",
    "        arr=[]\n",
    "        for i in range(len(s)):\n",
    "            k=''\n",
    "            o=''\n",
    "            for j in range(i,len(s)):\n",
    "                k=s[j]+k\n",
    "                o+=s[j]\n",
    "                if k==o:\n",
    "                    arr.append(k)\n",
    "        arr.sort(key=len,reverse=True)\n",
    "        return arr[0]"
   ]
  },
  {
   "cell_type": "code",
   "execution_count": null,
   "metadata": {},
   "outputs": [],
   "source": [
    "class Solution(object):\n",
    "    def longestPalindrome(self, s):\n",
    "        \"\"\"\n",
    "        :type s: str\n",
    "        :rtype: str\n",
    "        \"\"\"\n",
    "        n = len(s)        \n",
    "        pos = [[True]*n for i in range(n)]\n",
    "        \n",
    "        max_str = s[0]\n",
    "        for d in range(1, n):\n",
    "            for i in range(n-d):\n",
    "                if pos[i+1][i+d-1] and s[i]==s[i+d]:\n",
    "                    pos[i][i+d] = True\n",
    "                    if d+1>len(max_str):\n",
    "                        max_str = s[i:i+d+1]\n",
    "                else:\n",
    "                    pos[i][i+d] = False\n",
    "        return max_str"
   ]
  },
  {
   "cell_type": "code",
   "execution_count": null,
   "metadata": {},
   "outputs": [],
   "source": []
  },
  {
   "cell_type": "code",
   "execution_count": null,
   "metadata": {},
   "outputs": [],
   "source": []
  },
  {
   "cell_type": "code",
   "execution_count": null,
   "metadata": {},
   "outputs": [],
   "source": []
  },
  {
   "cell_type": "code",
   "execution_count": null,
   "metadata": {},
   "outputs": [],
   "source": [
    "\n"
   ]
  }
 ],
 "metadata": {
  "kernelspec": {
   "display_name": "Python 3",
   "language": "python",
   "name": "python3"
  },
  "language_info": {
   "codemirror_mode": {
    "name": "ipython",
    "version": 3
   },
   "file_extension": ".py",
   "mimetype": "text/x-python",
   "name": "python",
   "nbconvert_exporter": "python",
   "pygments_lexer": "ipython3",
   "version": "3.8.5"
  }
 },
 "nbformat": 4,
 "nbformat_minor": 4
}
