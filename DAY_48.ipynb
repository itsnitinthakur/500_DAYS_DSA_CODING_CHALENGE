{
 "cells": [
  {
   "cell_type": "markdown",
   "metadata": {},
   "source": [
    "# 4Sum II\n",
    "\n",
    "Given four integer arrays nums1, nums2, nums3, and nums4 all of length n, return the number of tuples (i, j, k, l) such that:\n",
    "\n",
    "0 <= i, j, k, l < n\n",
    "nums1[i] + nums2[j] + nums3[k] + nums4[l] == 0\n",
    " \n",
    "\n",
    "Example 1:\n",
    "\n",
    "Input: nums1 = [1,2], nums2 = [-2,-1], nums3 = [-1,2], nums4 = [0,2]\n",
    "Output: 2\n",
    "Explanation:\n",
    "The two tuples are:\n",
    "1. (0, 0, 0, 1) -> nums1[0] + nums2[0] + nums3[0] + nums4[1] = 1 + (-2) + (-1) + 2 = 0\n",
    "2. (1, 1, 0, 0) -> nums1[1] + nums2[1] + nums3[0] + nums4[0] = 2 + (-1) + (-1) + 0 = 0\n",
    "Example 2:\n",
    "\n",
    "Input: nums1 = [0], nums2 = [0], nums3 = [0], nums4 = [0]\n",
    "Output: 1\n",
    " \n",
    "\n",
    "Constraints:\n",
    "\n",
    "n == nums1.length\n",
    "n == nums2.length\n",
    "n == nums3.length\n",
    "n == nums4.length\n",
    "1 <= n <= 200\n",
    "-228 <= nums1[i], nums2[i], nums3[i], nums4[i] <= 228\n",
    "Accepted\n",
    "169.2K\n",
    "Submissions\n",
    "308.2K"
   ]
  },
  {
   "cell_type": "code",
   "execution_count": null,
   "metadata": {},
   "outputs": [],
   "source": [
    "\n",
    "class Solution:\n",
    "    def fourSumCount(self, nums1: List[int], nums2: List[int], nums3: List[int], nums4: List[int]) -> int:\n",
    "            nums1_counter=collections.Counter(nums1)\n",
    "            nums2_counter=collections.Counter(nums2)\n",
    "            two_sum_counter=collections.Counter([num3+num4 for num3 in nums3 for num4 in nums4])\n",
    "            counter=0\n",
    "            for key1,value1 in nums1_counter.items():\n",
    "                for key2,value2 in nums2_counter.items():\n",
    "                    two_sum=-(key1+key2)\n",
    "                    if( two_sum in two_sum_counter):\n",
    "                        counter+=(value1*value2*two_sum_counter[two_sum])\n",
    "            return counter"
   ]
  },
  {
   "cell_type": "code",
   "execution_count": null,
   "metadata": {},
   "outputs": [],
   "source": [
    "class Solution:\n",
    "    def fourSumCount(self, nums1: List[int], nums2: List[int], nums3: List[int], nums4: List[int]) -> int:\n",
    "        d1 = {}\n",
    "        count = 0\n",
    "        for i in range(len(nums3)):\n",
    "            for j in range(len(nums4)):\n",
    "                sum1 = -1 * (nums3[i] + nums4[j])\n",
    "                if sum1 not in d1:\n",
    "                    d1[sum1] = 1\n",
    "                else:\n",
    "                    d1[sum1] += 1\n",
    "        for n in range(len(nums1)):\n",
    "            for m in range(len(nums2)):\n",
    "                sum2 = nums1[n] + nums2[m]\n",
    "                if sum2 in d1:\n",
    "                    count += d1[sum2]\n",
    "        return count"
   ]
  },
  {
   "cell_type": "code",
   "execution_count": null,
   "metadata": {},
   "outputs": [],
   "source": [
    "class Solution:\n",
    "    def fourSumCount(self, A: List[int], B: List[int], C: List[int], D: List[int]) -> int:\n",
    "        m = {}\n",
    "        ans = 0\n",
    "\n",
    "        for i in range(0,len(A)):\n",
    "            x = A[i]\n",
    "            for j in range(0,len(B)):\n",
    "                y = B[j]\n",
    "                if(x+y not in m):\n",
    "                    m[x+y] = 0\n",
    "                m[x+y]+=1\n",
    "\n",
    "        for i in range(0,len(C)):\n",
    "            x = C[i]\n",
    "            for j in range(0,len(D)):\n",
    "                y = D[j]\n",
    "                target = -(x+y)\n",
    "                if(target in m):\n",
    "                    ans+=m[target]\n",
    "\n",
    "        return ans\n"
   ]
  },
  {
   "cell_type": "code",
   "execution_count": null,
   "metadata": {},
   "outputs": [],
   "source": [
    "class Solution:\n",
    "    def fourSumCount(self, nums1: List[int], nums2: List[int], nums3: List[int], nums4: List[int]) -> int:\n",
    "        d = {}\n",
    "        for a in nums1:\n",
    "            for b in nums2:\n",
    "                temp = a + b\n",
    "                if temp not in d:\n",
    "                    d[temp]=1\n",
    "                else:\n",
    "                    d[temp]+=1\n",
    "        ans = 0\n",
    "        for n1 in nums3:\n",
    "            for n2 in nums4:\n",
    "                tmp = 0  - (n1 + n2)\n",
    "                if tmp in d: \n",
    "                    ans += d[tmp]\n",
    "        return ans"
   ]
  },
  {
   "cell_type": "code",
   "execution_count": null,
   "metadata": {},
   "outputs": [],
   "source": []
  },
  {
   "cell_type": "code",
   "execution_count": null,
   "metadata": {},
   "outputs": [],
   "source": []
  }
 ],
 "metadata": {
  "kernelspec": {
   "display_name": "Python 3",
   "language": "python",
   "name": "python3"
  },
  "language_info": {
   "codemirror_mode": {
    "name": "ipython",
    "version": 3
   },
   "file_extension": ".py",
   "mimetype": "text/x-python",
   "name": "python",
   "nbconvert_exporter": "python",
   "pygments_lexer": "ipython3",
   "version": "3.8.5"
  }
 },
 "nbformat": 4,
 "nbformat_minor": 4
}
