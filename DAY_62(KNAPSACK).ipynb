{
 "cells": [
  {
   "cell_type": "code",
   "execution_count": null,
   "metadata": {},
   "outputs": [],
   "source": []
  },
  {
   "cell_type": "code",
   "execution_count": 2,
   "metadata": {},
   "outputs": [
    {
     "name": "stdout",
     "output_type": "stream",
     "text": [
      "220\n"
     ]
    }
   ],
   "source": [
    "# This is the memoization approach of\n",
    "# 0 / 1 Knapsack in Python in simple\n",
    "# we can say recursion + memoization = DP\n",
    "\n",
    "# driver code\n",
    "val = [60, 100, 120 ]\n",
    "wt = [10, 20, 30 ]\n",
    "W = 50\n",
    "n = len(val)\n",
    "\n",
    "# We initialize the matrix with -1 at first.\n",
    "t = [[-1 for i in range(W + 1)] for j in range(n + 1)]\n",
    "\n",
    "def knapsack(wt, val, W, n):\n",
    "\n",
    "\t# base conditions\n",
    "\tif n == 0 or W == 0:\n",
    "\t\treturn 0\n",
    "\tif t[n][W] != -1:\n",
    "\t\treturn t[n][W]\n",
    "\n",
    "\t# choice diagram code\n",
    "\tif wt[n-1] <= W:\n",
    "\t\tt[n][W] = max(\n",
    "\t\t\tval[n-1] + knapsack(\n",
    "\t\t\t\twt, val, W-wt[n-1], n-1),\n",
    "\t\t\tknapsack(wt, val, W, n-1))\n",
    "\t\treturn t[n][W]\n",
    "\telif wt[n-1] > W:\n",
    "\t\tt[n][W] = knapsack(wt, val, W, n-1)\n",
    "\t\treturn t[n][W]\n",
    "\n",
    "\n",
    "print(knapsack(wt, val, W, n))\n"
   ]
  },
  {
   "cell_type": "code",
   "execution_count": null,
   "metadata": {},
   "outputs": [],
   "source": []
  },
  {
   "cell_type": "code",
   "execution_count": 18,
   "metadata": {},
   "outputs": [
    {
     "name": "stdout",
     "output_type": "stream",
     "text": [
      "220\n"
     ]
    }
   ],
   "source": [
    "def knapSack(W, wt, val, n):\n",
    "\tK = [[0 for x in range(W + 1)] for x in range(n + 1)]\n",
    "\n",
    "\t# Build table K[][] in bottom up manner\n",
    "\tfor i in range(n + 1):\n",
    "\t\tfor w in range(W + 1):\n",
    "\t\t\tif i == 0 or w == 0:\n",
    "\t\t\t\tK[i][w] = 0\n",
    "\t\t\telif wt[i-1] <= w:\n",
    "\t\t\t\tK[i][w] = max(val[i-1]\n",
    "\t\t\t\t\t\t+ K[i-1][w-wt[i-1]],\n",
    "\t\t\t\t\t\t\tK[i-1][w])\n",
    "\t\t\telse:\n",
    "\t\t\t\tK[i][w] = K[i-1][w]\n",
    "\treturn K[n][W]\n",
    "\n",
    "\n",
    "# Driver code\n",
    "val = [60, 100, 120]\n",
    "wt = [10, 20, 30]\n",
    "W = 50\n",
    "n = len(val)\n",
    "print(knapSack(W, wt, val, n))\n"
   ]
  },
  {
   "cell_type": "code",
   "execution_count": 30,
   "metadata": {},
   "outputs": [
    {
     "name": "stdout",
     "output_type": "stream",
     "text": [
      "5\n",
      "[]\n"
     ]
    }
   ],
   "source": [
    "\n",
    "nums1 = [0,0,0,0,0]\n",
    "nums2 = [0,0,0,0,0]\n",
    "\n",
    "i=0\n",
    "j=0\n",
    "z=0\n",
    "k=[]\n",
    "n=len(nums1)\n",
    "while j!=n:\n",
    "    if i+j>=n:\n",
    "        break\n",
    "    if nums1[j+i]!=nums2[j]:\n",
    "        k.append(z)\n",
    "        i+=1\n",
    "    elif nums1[j+i]==nums2[j]:\n",
    "        z+=1\n",
    "        j+=1\n",
    "print(z)\n",
    "print(k)"
   ]
  },
  {
   "cell_type": "code",
   "execution_count": 22,
   "metadata": {},
   "outputs": [
    {
     "name": "stdout",
     "output_type": "stream",
     "text": [
      "5\n"
     ]
    }
   ],
   "source": [
    "nums1 = [0,0,0,0,0]\n",
    "nums2 = [0,0,0,0,0]\n",
    "\n",
    "i=0\n",
    "j=0\n",
    "z=0\n",
    "n=len(nums1)\n",
    "while j!=n:\n",
    "    if i+j>=n:\n",
    "        break\n",
    "    if nums1[j+i]!=nums2[j]:\n",
    "        i+=1\n",
    "    elif nums1[j+i]==nums2[j]:\n",
    "        z+=1\n",
    "        j+=1\n",
    "print(z)"
   ]
  },
  {
   "cell_type": "code",
   "execution_count": 31,
   "metadata": {},
   "outputs": [
    {
     "name": "stdout",
     "output_type": "stream",
     "text": [
      "3\n"
     ]
    }
   ],
   "source": [
    "\n",
    "# Python program to DP approach\n",
    "# to above solution\n",
    " \n",
    "# Function to find the maximum\n",
    "# length of equal subarray\n",
    " \n",
    " \n",
    "def FindMaxLength(A, B):\n",
    "    n = len(A)\n",
    "    m = len(B)\n",
    " \n",
    "    # Auxiliary dp[][] array\n",
    "    dp = [[0 for i in range(n + 1)] for i in range(m + 1)]\n",
    " \n",
    "    # Updating the dp[][] table\n",
    "    # in Bottom Up approach\n",
    "    for i in range(n - 1, -1, -1):\n",
    "        for j in range(m - 1, -1, -1):\n",
    " \n",
    "            # If A[i] is equal to B[i]\n",
    "            # then dp[j][i] = dp[j + 1][i + 1] + 1\n",
    "            if A[i] == B[j]:\n",
    "                dp[j][i] = dp[j + 1][i + 1] + 1\n",
    "    maxm = 0\n",
    " \n",
    "    # Find maximum of all the values\n",
    "    # in dp[][] array to get the\n",
    "    # maximum length\n",
    "    for i in dp:\n",
    "        for j in i:\n",
    " \n",
    "            # Update the length\n",
    "            maxm = max(maxm, j)\n",
    " \n",
    "    # Return the maximum length\n",
    "    return maxm\n",
    " \n",
    "if __name__ == '__main__':\n",
    "    A = [1, 2, 8, 2, 1]\n",
    "    B = [8, 2, 1, 4, 7]\n",
    " \n",
    "    # Function call to find\n",
    "    # maximum length of subarray\n",
    "    print(FindMaxLength(A, B))"
   ]
  },
  {
   "cell_type": "code",
   "execution_count": null,
   "metadata": {},
   "outputs": [],
   "source": []
  },
  {
   "cell_type": "code",
   "execution_count": null,
   "metadata": {},
   "outputs": [],
   "source": []
  },
  {
   "cell_type": "code",
   "execution_count": null,
   "metadata": {},
   "outputs": [],
   "source": []
  },
  {
   "cell_type": "code",
   "execution_count": null,
   "metadata": {},
   "outputs": [],
   "source": []
  },
  {
   "cell_type": "code",
   "execution_count": null,
   "metadata": {},
   "outputs": [],
   "source": []
  },
  {
   "cell_type": "code",
   "execution_count": null,
   "metadata": {},
   "outputs": [],
   "source": []
  }
 ],
 "metadata": {
  "kernelspec": {
   "display_name": "Python 3",
   "language": "python",
   "name": "python3"
  },
  "language_info": {
   "codemirror_mode": {
    "name": "ipython",
    "version": 3
   },
   "file_extension": ".py",
   "mimetype": "text/x-python",
   "name": "python",
   "nbconvert_exporter": "python",
   "pygments_lexer": "ipython3",
   "version": "3.8.5"
  }
 },
 "nbformat": 4,
 "nbformat_minor": 4
}
