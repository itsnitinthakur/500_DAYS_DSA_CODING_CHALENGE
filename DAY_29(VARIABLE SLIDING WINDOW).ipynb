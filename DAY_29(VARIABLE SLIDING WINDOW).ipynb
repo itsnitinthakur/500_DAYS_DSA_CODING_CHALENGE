{
 "cells": [
  {
   "cell_type": "code",
   "execution_count": 2,
   "metadata": {},
   "outputs": [
    {
     "name": "stdout",
     "output_type": "stream",
     "text": [
      "[-1, -1, -1]\n"
     ]
    }
   ],
   "source": [
    "a = [-1,2,-1,4,7,-1,6,8]\n",
    "k=3\n",
    "i=0\n",
    "j=k-1\n",
    "s=0\n",
    "best=[]\n",
    "while j<=len(a)-1 :\n",
    "    if a[i]<0:\n",
    "        \n",
    "        s= min(a[i:j+1])\n",
    "        best.append(s)\n",
    "        s=0\n",
    "    i+=1\n",
    "    j+=1\n",
    "print(best)"
   ]
  },
  {
   "cell_type": "markdown",
   "metadata": {},
   "source": [
    "## vairiable size of sliding window"
   ]
  },
  {
   "cell_type": "code",
   "execution_count": 4,
   "metadata": {},
   "outputs": [
    {
     "name": "stdout",
     "output_type": "stream",
     "text": [
      "4\n"
     ]
    }
   ],
   "source": [
    "a = [4,1,1,1,2,3,5]\n",
    "z=[]\n",
    "k=5\n",
    "i=0\n",
    "j=0\n",
    "while j<=len(a)-1:\n",
    "    s=sum(a[i:j+1])\n",
    "    if s==k:\n",
    "        z.append(j-i+1)\n",
    "        i+=1\n",
    "    else:\n",
    "        j+=1\n",
    "print(max(z))\n",
    "    "
   ]
  },
  {
   "cell_type": "code",
   "execution_count": 5,
   "metadata": {},
   "outputs": [
    {
     "name": "stdout",
     "output_type": "stream",
     "text": [
      "2\n"
     ]
    }
   ],
   "source": [
    "a=[1,2,1,2,1]\n",
    "z=[]\n",
    "k=3\n",
    "i=0\n",
    "j=0\n",
    "while j<=len(a)-1:\n",
    "    s=sum(a[i:j+1])\n",
    "    if s==k:\n",
    "        z.append(j-i+1)\n",
    "        i+=1\n",
    "    else:\n",
    "        j+=1\n",
    "print(max(z))"
   ]
  },
  {
   "cell_type": "code",
   "execution_count": null,
   "metadata": {},
   "outputs": [],
   "source": [
    "a=[1,2,3]\n",
    "z=[]\n",
    "k=3\n",
    "i=0\n",
    "j=0\n",
    "while j<=len(a)-1:\n",
    "    s=sum(a[i:j+1])\n",
    "    if s==k:\n",
    "        z.append(j-i+1)\n",
    "        i+=1\n",
    "    elif j+1==s:\n",
    "        z.append(1)\n",
    "    else:\n",
    "        j+=1\n",
    "print(len(z))"
   ]
  },
  {
   "cell_type": "code",
   "execution_count": null,
   "metadata": {},
   "outputs": [],
   "source": [
    "def subarraySum(self, nums: List[int], k: int) -> int:\n",
    "        dict={0:1}\n",
    "        curr=0\n",
    "        c=0\n",
    "        for i in range(len(nums)):\n",
    "            curr+=nums[i]\n",
    "            if curr-k in dict:\n",
    "                c+=dict[curr-k]\n",
    "            dict[curr]=dict.get(curr,0)+1\n",
    "        return c"
   ]
  },
  {
   "cell_type": "code",
   "execution_count": null,
   "metadata": {},
   "outputs": [],
   "source": [
    "class Solution:\n",
    "    def subarraySum(self, nums: List[int], k: int) -> int:\n",
    "        from collections import defaultdict\n",
    "        rollingSum = [0]\n",
    "        count = 0\n",
    "        seen = defaultdict(int)\n",
    "        seen[0] = 1\n",
    "        for i,n in enumerate(nums):\n",
    "            newsum = rollingSum[i] + n\n",
    "            rollingSum.append(newsum)\n",
    "            count += seen[newsum - k]\n",
    "            seen[newsum] += 1\n",
    "        return count"
   ]
  },
  {
   "cell_type": "code",
   "execution_count": null,
   "metadata": {},
   "outputs": [],
   "source": [
    "class Solution:\n",
    "    def subarraySum(self, nums: List[int], k: int) -> int:\n",
    "        \n",
    "        if len(nums)==0:\n",
    "            return 0\n",
    "        rSum=0\n",
    "        count=0\n",
    "        res_map={}\n",
    "        res_map[0]=1\n",
    "        for i in range(len(nums)):\n",
    "            rSum+=nums[i]\n",
    "            \n",
    "            compliment=rSum-k\n",
    "            if compliment in res_map:\n",
    "                count = count + res_map[compliment]\n",
    "            if rSum in res_map:\n",
    "                res_map[rSum]=res_map[rSum]+1\n",
    "            else:\n",
    "                res_map[rSum]=1\n",
    "        return count"
   ]
  },
  {
   "cell_type": "code",
   "execution_count": null,
   "metadata": {},
   "outputs": [],
   "source": [
    "from collections import defaultdict\n",
    "\n",
    "\n",
    "class Solution:\n",
    "    def subarraySum(self, nums: List[int], k: int) -> int:\n",
    "        d = defaultdict(int)\n",
    "\n",
    "        S = 0\n",
    "        d[S] = 1\n",
    "        count = 0\n",
    "        for num in nums:\n",
    "            S += num\n",
    "            count += d[S-k]\n",
    "            d[S] += 1\n",
    "\n",
    "        return count"
   ]
  },
  {
   "cell_type": "code",
   "execution_count": null,
   "metadata": {},
   "outputs": [],
   "source": [
    "#fastest\n",
    "class Solution:\n",
    "    def subarraySum(self, nums: List[int], k: int) -> int:\n",
    "        counts_dict = dict()\n",
    "        counts_dict[0] = 1\n",
    "        sums = 0\n",
    "        pairs_count = 0\n",
    "\n",
    "        for i in range(len(nums)):\n",
    "            \n",
    "            sums += nums[i]     \n",
    "            \n",
    "            if sums-k in counts_dict:\n",
    "                pairs_count += counts_dict[sums - k]\n",
    "            \n",
    "            if sums in counts_dict.keys():\n",
    "                counts_dict[sums] = counts_dict[sums] + 1\n",
    "            else:\n",
    "                counts_dict[sums] = 1\n",
    "\n",
    "        return pairs_count"
   ]
  },
  {
   "cell_type": "code",
   "execution_count": 46,
   "metadata": {},
   "outputs": [
    {
     "name": "stdout",
     "output_type": "stream",
     "text": [
      "dict_values([1, 2])\n",
      "dict_values([1, 1, 1])\n",
      "dict_values([1, 1, 1])\n",
      "dict_values([1, 2])\n",
      "dict_values([1, 2])\n",
      "dict_values([2, 1])\n",
      "dict_values([3])\n",
      "[]\n"
     ]
    }
   ],
   "source": [
    "import collections\n",
    "words = [\"abc\",\"deq\",\"mee\",\"aqq\",\"dkd\",\"ccc\"]\n",
    "pattern = \"abb\"\n",
    "c=collections.Counter(pattern)\n",
    "print(c.values())\n",
    "d=[]\n",
    "for word in words:\n",
    "    w=collections.Counter(word)\n",
    "    print(w.values())\n",
    "    if c[valu]==w.values:\n",
    "        d.append(word)\n",
    "    \n",
    "print(d)"
   ]
  },
  {
   "cell_type": "code",
   "execution_count": 52,
   "metadata": {
    "scrolled": true
   },
   "outputs": [
    {
     "ename": "AttributeError",
     "evalue": "'Counter' object has no attribute 'key'",
     "output_type": "error",
     "traceback": [
      "\u001b[1;31m---------------------------------------------------------------------------\u001b[0m",
      "\u001b[1;31mAttributeError\u001b[0m                            Traceback (most recent call last)",
      "\u001b[1;32m<ipython-input-52-649b0c44a2d7>\u001b[0m in \u001b[0;36m<module>\u001b[1;34m\u001b[0m\n\u001b[0;32m      2\u001b[0m \u001b[0mp\u001b[0m\u001b[1;33m=\u001b[0m\u001b[1;34m\"abb\"\u001b[0m\u001b[1;33m\u001b[0m\u001b[1;33m\u001b[0m\u001b[0m\n\u001b[0;32m      3\u001b[0m \u001b[0mc\u001b[0m\u001b[1;33m=\u001b[0m\u001b[0mcollections\u001b[0m\u001b[1;33m.\u001b[0m\u001b[0mCounter\u001b[0m\u001b[1;33m(\u001b[0m\u001b[0mp\u001b[0m\u001b[1;33m)\u001b[0m\u001b[1;33m\u001b[0m\u001b[1;33m\u001b[0m\u001b[0m\n\u001b[1;32m----> 4\u001b[1;33m \u001b[0mprint\u001b[0m\u001b[1;33m(\u001b[0m\u001b[0mc\u001b[0m\u001b[1;33m.\u001b[0m\u001b[0mkey\u001b[0m\u001b[1;33m)\u001b[0m\u001b[1;33m\u001b[0m\u001b[1;33m\u001b[0m\u001b[0m\n\u001b[0m",
      "\u001b[1;31mAttributeError\u001b[0m: 'Counter' object has no attribute 'key'"
     ]
    }
   ],
   "source": [
    "import collections\n",
    "p=\"abb\"\n",
    "c=collections.Counter(p)\n",
    "print(c.key)"
   ]
  },
  {
   "cell_type": "code",
   "execution_count": 44,
   "metadata": {},
   "outputs": [
    {
     "name": "stdout",
     "output_type": "stream",
     "text": [
      "dict_values([1])\n",
      "dict_values([1])\n",
      "dict_values([1])\n",
      "dict_values([1])\n",
      "['a']\n"
     ]
    }
   ],
   "source": [
    "import collections\n",
    "words = [\"a\",\"b\",\"c\"]\n",
    "pattern = \"a\"\n",
    "c=collections.Counter(pattern)\n",
    "print(c.values())\n",
    "d=[]\n",
    "for word in words:\n",
    "    w=collections.Counter(word)\n",
    "    print(w.values())\n",
    "    if c==w:\n",
    "        d.append(word)\n",
    "    \n",
    "print(d)"
   ]
  },
  {
   "cell_type": "code",
   "execution_count": null,
   "metadata": {},
   "outputs": [],
   "source": []
  },
  {
   "cell_type": "code",
   "execution_count": null,
   "metadata": {},
   "outputs": [],
   "source": []
  },
  {
   "cell_type": "code",
   "execution_count": null,
   "metadata": {},
   "outputs": [],
   "source": []
  },
  {
   "cell_type": "code",
   "execution_count": null,
   "metadata": {},
   "outputs": [],
   "source": []
  },
  {
   "cell_type": "code",
   "execution_count": null,
   "metadata": {},
   "outputs": [],
   "source": []
  },
  {
   "cell_type": "code",
   "execution_count": null,
   "metadata": {},
   "outputs": [],
   "source": []
  }
 ],
 "metadata": {
  "kernelspec": {
   "display_name": "Python 3",
   "language": "python",
   "name": "python3"
  },
  "language_info": {
   "codemirror_mode": {
    "name": "ipython",
    "version": 3
   },
   "file_extension": ".py",
   "mimetype": "text/x-python",
   "name": "python",
   "nbconvert_exporter": "python",
   "pygments_lexer": "ipython3",
   "version": "3.8.5"
  }
 },
 "nbformat": 4,
 "nbformat_minor": 4
}
