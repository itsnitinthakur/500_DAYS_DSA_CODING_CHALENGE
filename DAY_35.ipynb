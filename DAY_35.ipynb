{
 "cells": [
  {
   "cell_type": "code",
   "execution_count": 43,
   "metadata": {},
   "outputs": [
    {
     "name": "stdout",
     "output_type": "stream",
     "text": [
      ")\n"
     ]
    }
   ],
   "source": [
    "d = {')':'(','}':'{',']':'[','(':')','{':'}','[':']'}\n",
    "print(d['('])"
   ]
  },
  {
   "cell_type": "code",
   "execution_count": 27,
   "metadata": {},
   "outputs": [
    {
     "name": "stdout",
     "output_type": "stream",
     "text": [
      "['(']\n",
      "['(', '{']\n",
      "['(']\n",
      "[]\n",
      "true\n"
     ]
    }
   ],
   "source": [
    "\n",
    "d = {')':'(','}':'{',']':'[','(':')','{':'}','[':']'}\n",
    "l = ['(','{','}',')']\n",
    "stack = []\n",
    "for i in l:\n",
    "    if len(stack)>0:\n",
    "        print(stack)\n",
    "        \n",
    "        s= stack[-1]\n",
    "        if i==d[s]:\n",
    "            stack.pop()\n",
    "        else:\n",
    "            stack.append(i)\n",
    "    else:\n",
    "        stack.append(i)\n",
    "print(stack)   \n",
    "if len(stack)==0:\n",
    "    print('true')"
   ]
  },
  {
   "cell_type": "code",
   "execution_count": 6,
   "metadata": {},
   "outputs": [
    {
     "name": "stdout",
     "output_type": "stream",
     "text": [
      "['(']\n",
      "[]\n"
     ]
    }
   ],
   "source": [
    "stack = []\n",
    "stack.append('(')\n",
    "print(stack)\n",
    "if stack[-1]=='(':\n",
    "    stack.pop()\n",
    "print(stack)"
   ]
  },
  {
   "cell_type": "code",
   "execution_count": 30,
   "metadata": {},
   "outputs": [
    {
     "data": {
      "text/plain": [
       "6"
      ]
     },
     "execution_count": 30,
     "metadata": {},
     "output_type": "execute_result"
    }
   ],
   "source": [
    "27346209830709182346%10"
   ]
  },
  {
   "cell_type": "code",
   "execution_count": 42,
   "metadata": {},
   "outputs": [
    {
     "name": "stdout",
     "output_type": "stream",
     "text": [
      "['(']\n",
      "false\n"
     ]
    }
   ],
   "source": [
    "d = {')':'(','}':'{',']':'[','(':')','{':'}','[':']'}\n",
    "#s = \"(){}}{\"\n",
    "s = \"()\"\n",
    "stack = []\n",
    "for i in range (0,len(s)-1):\n",
    "    if len(stack)>0:\n",
    "        print(stack)\n",
    "        \n",
    "        z= stack[-1]\n",
    "        if s[i]==d[z]:\n",
    "            stack.pop()\n",
    "        else:\n",
    "            stack.append(s[i])\n",
    "    else:\n",
    "        stack.append(s[i])\n",
    "print(stack)   \n",
    "if len(stack)==0:\n",
    "    print('true')\n",
    "else:\n",
    "    print('false')"
   ]
  },
  {
   "cell_type": "code",
   "execution_count": null,
   "metadata": {},
   "outputs": [],
   "source": [
    "class Solution(object):\n",
    "    def isValid(self, s):\n",
    "        \"\"\"\n",
    "        :type s: str\n",
    "        :rtype: bool\n",
    "        \"\"\"\n",
    "\n",
    "        # The stack to keep track of opening brackets.\n",
    "        stack = []\n",
    "\n",
    "        # Hash map for keeping track of mappings. This keeps the code very clean.\n",
    "        # Also makes adding more types of parenthesis easier\n",
    "        mapping = {\")\": \"(\", \"}\": \"{\", \"]\": \"[\"}\n",
    "\n",
    "        # For every bracket in the expression.\n",
    "        for char in s:\n",
    "\n",
    "            # If the character is an closing bracket\n",
    "            if char in mapping:\n",
    "\n",
    "                # Pop the topmost element from the stack, if it is non empty\n",
    "                # Otherwise assign a dummy value of '#' to the top_element variable\n",
    "                top_element = stack.pop() if stack else '#'\n",
    "\n",
    "                # The mapping for the opening bracket in our hash and the top\n",
    "                # element of the stack don't match, return False\n",
    "                if mapping[char] != top_element:\n",
    "                    return False\n",
    "            else:\n",
    "                # We have an opening bracket, simply push it onto the stack.\n",
    "                stack.append(char)\n",
    "\n",
    "        # In the end, if the stack is empty, then we have a valid expression.\n",
    "        # The stack won't be empty for cases like ((()\n",
    "        return not stack"
   ]
  },
  {
   "cell_type": "code",
   "execution_count": null,
   "metadata": {},
   "outputs": [],
   "source": [
    "class Solution:\n",
    "    def isValid(self, s: str) -> bool:\n",
    "        dic = {'{': '}',  '[': ']', '(': ')', '?': '?'}\n",
    "        stack = ['?']\n",
    "        for c in s:\n",
    "            if c in dic: stack.append(c)\n",
    "            elif dic[stack.pop()] != c: return False \n",
    "        return len(stack) == 1\n"
   ]
  },
  {
   "cell_type": "code",
   "execution_count": null,
   "metadata": {},
   "outputs": [],
   "source": [
    "class Solution:\n",
    "    def isValid(self, s):\n",
    "        while '{}' in s or '()' in s or '[]' in s:\n",
    "            s = s.replace('{}', '')\n",
    "            s = s.replace('[]', '')\n",
    "            s = s.replace('()', '')\n",
    "        return s == ''\n",
    "17,18,5,4,6,1"
   ]
  },
  {
   "cell_type": "markdown",
   "metadata": {},
   "source": [
    "# Daily temperature\n",
    "According to the daily temperature list, please regenerate a list. The input of the corresponding position is how long you need to wait for the temperature to rise more than the number of days of the day. If it will not rise later, please use 0 instead.\n",
    "\n",
    "For example, given a listtemperatures = [73, 74, 75, 71, 69, 72, 76, 73], Your output should be[1, 1, 4, 2, 1, 1, 0, 0]。\n",
    "\n",
    "Tip: The range of the temperature list length is [1, 30000]. Each temperature value is Fahrenheit, which is an integer in the range [30, 100]."
   ]
  },
  {
   "cell_type": "code",
   "execution_count": null,
   "metadata": {},
   "outputs": [],
   "source": [
    "class Solution(object):\n",
    "    def dailyTemperatures(self,T):\n",
    "        nxt = [float('inf')] * 101  \n",
    "        #Why is 102? Because the temperature range is 0-100 degrees Celsius, consider the limit case: the problem on day i is 100 degrees Celsius, then T[i]+1=101\n",
    "        #Then 102? Because the index of nx is from 0 to 101, a total of 102. Limit case: range(101,102) refers to starting from subscript 101\n",
    "        ans = [0] * len(T)\n",
    "        for i in range(len(T) - 1, -1, -1):\n",
    "            #Use 102 so min(nxt[t]) has a default value\n",
    "            #Find the T[i] degrees Celsius, there are days with higher degrees Celsius\n",
    "            warmer_index = min(nxt[t] for t in range(T[i]+1, 102))\n",
    "\n",
    "            #If there is, write it to the i day of the array ans\n",
    "            if warmer_index < float('inf'): \n",
    "                ans[i] = warmer_index - i\n",
    "            \n",
    "            #Store the number of days with Celsius T[i] in the temperature array nxt\n",
    "            nxt[T[i]] = i  \n",
    "        return ans\n"
   ]
  },
  {
   "cell_type": "code",
   "execution_count": null,
   "metadata": {},
   "outputs": [],
   "source": [
    "class Solution(object):\n",
    "    def dailyTemperatures(self, T):\n",
    "        ans = [0] * len(T)\n",
    "        stack = [] #indexes from hottest to coldest\n",
    "        for i in range(len(T) - 1, -1, -1):\n",
    "            while stack and T[i] >= T[stack[-1]]:\n",
    "                stack.pop()\n",
    "            if stack:\n",
    "                ans[i] = stack[-1] - i\n",
    "            stack.append(i)\n",
    "        return ans\n"
   ]
  },
  {
   "cell_type": "code",
   "execution_count": null,
   "metadata": {},
   "outputs": [],
   "source": [
    "class Solution:\n",
    "    def dailyTemperatures(self, T: List[int]) -> List[int]:\n",
    "        ans=[0]*len(T)\n",
    "        stack = []\n",
    "\n",
    "        for idx, t in enumerate(T): \n",
    "            while stack and t > T[stack[-1]]: \n",
    "                ans[stack.pop()] = idx - stack[-1]  \n",
    "            stack.append(idx)\n",
    "        return ans\n"
   ]
  },
  {
   "cell_type": "raw",
   "metadata": {},
   "source": [
    "https://www.programmersought.com/article/27314537015/"
   ]
  },
  {
   "cell_type": "code",
   "execution_count": 74,
   "metadata": {},
   "outputs": [
    {
     "name": "stdout",
     "output_type": "stream",
     "text": [
      "[4]\n",
      "[4, 2]\n",
      "2\n"
     ]
    }
   ],
   "source": [
    "stack = []\n",
    "stack.append(4)\n",
    "print(stack)\n",
    "stack.append(2)\n",
    "print(stack)\n",
    "print(stack[-1])"
   ]
  },
  {
   "cell_type": "code",
   "execution_count": 75,
   "metadata": {},
   "outputs": [
    {
     "name": "stdout",
     "output_type": "stream",
     "text": [
      "['?', 1, 3, 2, 4]\n",
      "[-1, 3]\n",
      "[3, -1]\n"
     ]
    }
   ],
   "source": [
    "arr = [1,3,2,4]\n",
    "stack = ['?']\n",
    "z = []\n",
    "for i in range(len(arr)):\n",
    "    if len(stack)==1:\n",
    "        z.append(-1)\n",
    "    elif len(stack)>1 and stack[-1]>arr[i]:\n",
    "        z.append(stack[-1])\n",
    "    elif len(stack)>1 and stack[-1]>arr[i]:\n",
    "        while len(stack)>1 and stack[-1]<=arr[i]:\n",
    "            stack.pop()\n",
    "            if len(stack)==1:\n",
    "                z.append(-1)\n",
    "            else:\n",
    "                z.append(stack[-1])\n",
    "    stack.append(arr[i])\n",
    "print(stack)    \n",
    "print(z)\n",
    "print(z[::-1])\n"
   ]
  },
  {
   "cell_type": "code",
   "execution_count": 76,
   "metadata": {},
   "outputs": [
    {
     "name": "stdout",
     "output_type": "stream",
     "text": [
      "1 -- 3\n",
      "3 -- 4\n",
      "2 -- 4\n",
      "4 -- -1\n"
     ]
    }
   ],
   "source": [
    "# Function to print element and NGE pair for all elements of list\n",
    "def printNGE(arr):\n",
    "\n",
    "\tfor i in range(0, len(arr), 1):\n",
    "\n",
    "\t\tnext = -1\n",
    "\t\tfor j in range(i+1, len(arr), 1):\n",
    "\t\t\tif arr[i] < arr[j]:\n",
    "\t\t\t\tnext = arr[j]\n",
    "\t\t\t\tbreak\n",
    "\t\t\t\n",
    "\t\tprint(str(arr[i]) + \" -- \" + str(next))\n",
    "\n",
    "# Driver program to test above function\n",
    "arr = [1,3,2,4]\n",
    "printNGE(arr)\n",
    "\n",
    "# This code is contributed by Sunny Karira\n"
   ]
  },
  {
   "cell_type": "code",
   "execution_count": 64,
   "metadata": {},
   "outputs": [
    {
     "name": "stdout",
     "output_type": "stream",
     "text": [
      "17 -- 18\n",
      "4 -- 6\n",
      "5 -- 6\n",
      "1 -- -1\n",
      "6 -- -1\n",
      "18 -- -1\n"
     ]
    }
   ],
   "source": [
    "# Python program to print next greater element using stack\n",
    "\n",
    "# Stack Functions to be used by printNGE()\n",
    "\n",
    "\n",
    "def createStack():\n",
    "\tstack = []\n",
    "\treturn stack\n",
    "\n",
    "\n",
    "def isEmpty(stack):\n",
    "\treturn len(stack) == 0\n",
    "\n",
    "\n",
    "def push(stack, x):\n",
    "\tstack.append(x)\n",
    "\n",
    "\n",
    "def pop(stack):\n",
    "\tif isEmpty(stack):\n",
    "\t\tprint(\"Error : stack underflow\")\n",
    "\telse:\n",
    "\t\treturn stack.pop()\n",
    "\n",
    "\n",
    "'''prints element and NGE pair for all elements of\n",
    "arr[] '''\n",
    "\n",
    "\n",
    "def printNGE(arr):\n",
    "\ts = createStack()\n",
    "\telement = 0\n",
    "\tnext = 0\n",
    "\n",
    "\t# push the first element to stack\n",
    "\tpush(s, arr[0])\n",
    "\n",
    "\t# iterate for rest of the elements\n",
    "\tfor i in range(1, len(arr), 1):\n",
    "\t\tnext = arr[i]\n",
    "\n",
    "\t\tif isEmpty(s) == False:\n",
    "\n",
    "\t\t\t# if stack is not empty, then pop an element from stack\n",
    "\t\t\telement = pop(s)\n",
    "\n",
    "\t\t\t'''If the popped element is smaller than next, then\n",
    "\t\t\t\ta) print the pair\n",
    "\t\t\t\tb) keep popping while elements are smaller and\n",
    "\t\t\t\tstack is not empty '''\n",
    "\t\t\twhile element < next:\n",
    "\t\t\t\tprint(str(element) + \" -- \" + str(next))\n",
    "\t\t\t\tif isEmpty(s) == True:\n",
    "\t\t\t\t\tbreak\n",
    "\t\t\t\telement = pop(s)\n",
    "\n",
    "\t\t\t'''If element is greater than next, then push\n",
    "\t\t\tthe element back '''\n",
    "\t\t\tif element > next:\n",
    "\t\t\t\tpush(s, element)\n",
    "\n",
    "\t\t'''push next to stack so that we can find\n",
    "\t\tnext greater for it '''\n",
    "\t\tpush(s, next)\n",
    "\n",
    "\t'''After iterating over the loop, the remaining\n",
    "\telements in stack do not have the next greater\n",
    "\telement, so print -1 for them '''\n",
    "\n",
    "\twhile isEmpty(s) == False:\n",
    "\t\telement = pop(s)\n",
    "\t\tnext = -1\n",
    "\t\tprint(str(element) + \" -- \" + str(next))\n",
    "\n",
    "\n",
    "# Driver code\n",
    "arr = [17,18,5,4,6,1]\n",
    "printNGE(arr)\n",
    "\n",
    "# This code is contributed by Sunny Karira\n"
   ]
  },
  {
   "cell_type": "code",
   "execution_count": 69,
   "metadata": {},
   "outputs": [
    {
     "name": "stdout",
     "output_type": "stream",
     "text": [
      "[18, 6, 6, -1, -1, -1]\n"
     ]
    }
   ],
   "source": [
    "z=[]\n",
    "def createStack():\n",
    "\tstack = []\n",
    "\treturn stack\n",
    "\n",
    "\n",
    "def isEmpty(stack):\n",
    "\treturn len(stack) == 0\n",
    "\n",
    "\n",
    "def push(stack, x):\n",
    "\tstack.append(x)\n",
    "\n",
    "\n",
    "def pop(stack):\n",
    "\tif isEmpty(stack):\n",
    "\t\tprint(\"Error : stack underflow\")\n",
    "\telse:\n",
    "\t\treturn stack.pop()\n",
    "\n",
    "def printNGE(arr):\n",
    "\ts = createStack()\n",
    "\telement = 0\n",
    "\tnext = 0\n",
    "\n",
    "\t# push the first element to stack\n",
    "\tpush(s, arr[0])\n",
    "\n",
    "\t# iterate for rest of the elements\n",
    "\tfor i in range(1, len(arr), 1):\n",
    "\t\tnext = arr[i]\n",
    "\n",
    "\t\tif isEmpty(s) == False:\n",
    "\n",
    "\t\t\t# if stack is not empty, then pop an element from stack\n",
    "\t\t\telement = pop(s)\n",
    "\n",
    "\t\t\t'''If the popped element is smaller than next, then\n",
    "\t\t\t\ta) print the pair\n",
    "\t\t\t\tb) keep popping while elements are smaller and\n",
    "\t\t\t\tstack is not empty '''\n",
    "\t\t\twhile element < next:\n",
    "\t\t\t\tz.append(next)\n",
    "\t\t\t\tif isEmpty(s) == True:\n",
    "\t\t\t\t\tbreak\n",
    "\t\t\t\telement = pop(s)\n",
    "\n",
    "\t\t\t'''If element is greater than next, then push\n",
    "\t\t\tthe element back '''\n",
    "\t\t\tif element > next:\n",
    "\t\t\t\tpush(s, element)\n",
    "\n",
    "\t\t'''push next to stack so that we can find\n",
    "\t\tnext greater for it '''\n",
    "\t\tpush(s, next)\n",
    "\n",
    "\t'''After iterating over the loop, the remaining\n",
    "\telements in stack do not have the next greater\n",
    "\telement, so print -1 for them '''\n",
    "\n",
    "\twhile isEmpty(s) == False:\n",
    "\t\telement = pop(s)\n",
    "\t\tnext = -1\n",
    "\t\tz.append(next)\n",
    "\n",
    "\n",
    "# Driver code\n",
    "arr = [17,18,5,4,6,1]\n",
    "printNGE(arr)\n",
    "print(z)"
   ]
  },
  {
   "cell_type": "code",
   "execution_count": null,
   "metadata": {},
   "outputs": [],
   "source": []
  }
 ],
 "metadata": {
  "kernelspec": {
   "display_name": "Python 3",
   "language": "python",
   "name": "python3"
  },
  "language_info": {
   "codemirror_mode": {
    "name": "ipython",
    "version": 3
   },
   "file_extension": ".py",
   "mimetype": "text/x-python",
   "name": "python",
   "nbconvert_exporter": "python",
   "pygments_lexer": "ipython3",
   "version": "3.8.5"
  }
 },
 "nbformat": 4,
 "nbformat_minor": 4
}
