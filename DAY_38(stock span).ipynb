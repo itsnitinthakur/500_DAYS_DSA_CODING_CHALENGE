{
 "cells": [
  {
   "cell_type": "markdown",
   "metadata": {},
   "source": [
    "# stock span problem"
   ]
  },
  {
   "cell_type": "code",
   "execution_count": 11,
   "metadata": {},
   "outputs": [
    {
     "name": "stdout",
     "output_type": "stream",
     "text": [
      "[-1, 100, 80, 80, 70, 80, 100]\n",
      "[1, 0, 1, 1, 3, 1, 0]\n",
      "[1, 1, 1, 2, 1, 4, 6]\n"
     ]
    }
   ],
   "source": [
    "arr = [100,80,60,70,60,75,85]\n",
    "import math as mt\n",
    "n = len(arr)\n",
    "s = list();\n",
    "s.append(arr[0])\n",
    "z=[-1]\n",
    "x=[]\n",
    "e=[]\n",
    "for i in range(1, n):\n",
    "\twhile (len(s) > 0 and s[-1] < arr[i]):\n",
    "\t\ts.pop()\n",
    "\tif len(s) == 0:\n",
    "\t\tz.append(-1)\n",
    "\telse:\n",
    "\t\tz.append(s[-1])\n",
    "\ts.append(arr[i])\n",
    "print(z)\n",
    "for i in range(len(z)):\n",
    "    if z[i]==-1:\n",
    "        x.append(1)\n",
    "        e.append(1)\n",
    "    else:  \n",
    "        p = arr.index(z[i])\n",
    "        x.append(p)\n",
    "        e.append(i-p)\n",
    "print(x)\n",
    "print(e)\n"
   ]
  },
  {
   "cell_type": "code",
   "execution_count": 9,
   "metadata": {},
   "outputs": [
    {
     "ename": "SyntaxError",
     "evalue": "invalid syntax (<ipython-input-9-cafcc7ab7ef2>, line 2)",
     "output_type": "error",
     "traceback": [
      "\u001b[1;36m  File \u001b[1;32m\"<ipython-input-9-cafcc7ab7ef2>\"\u001b[1;36m, line \u001b[1;32m2\u001b[0m\n\u001b[1;33m    s = [[][]]\u001b[0m\n\u001b[1;37m            ^\u001b[0m\n\u001b[1;31mSyntaxError\u001b[0m\u001b[1;31m:\u001b[0m invalid syntax\n"
     ]
    }
   ],
   "source": [
    "arr = [100,80,60,70,60,75,85]\n",
    "s = [[][]]\n",
    "s.append(arr[0],0)"
   ]
  },
  {
   "cell_type": "code",
   "execution_count": null,
   "metadata": {},
   "outputs": [],
   "source": [
    "# Python program for brute force method to calculate stock span values\n",
    "\n",
    "# Fills list S[] with span values\n",
    "def calculateSpan(price, n, S):\n",
    "\t\n",
    "\t# Span value of first day is always 1\n",
    "\tS[0] = 1\n",
    "\n",
    "\t# Calculate span value of remaining days by linearly\n",
    "\t# checking previous days\n",
    "\tfor i in range(1, n, 1):\n",
    "\t\tS[i] = 1 # Initialize span value\n",
    "\n",
    "\t\t# Traverse left while the next element on left is\n",
    "\t\t# smaller than price[i]\n",
    "\t\tj = i - 1\n",
    "\t\twhile (j>= 0) and (price[i] >= price[j]) :\n",
    "\t\t\t\t\tS[i] += 1\n",
    "\t\t\t\t\tj -= 1\n",
    "\t\t\t\t\t\t\n",
    "# A utility function to print elements of array\n",
    "def printArray(arr, n):\n",
    "\n",
    "\tfor i in range(n):\n",
    "\t\tprint(arr[i], end = \" \")\n",
    "\n",
    "# Driver program to test above function\n",
    "price = [10, 4, 5, 90, 120, 80]\n",
    "n = len(price)\n",
    "S = [None] * n\n",
    "\n",
    "# Fill the span values in list S[]\n",
    "calculateSpan(price, n, S)\n",
    "\n",
    "# print the calculated span values\n",
    "printArray(S, n)\n",
    "\n",
    "\n",
    "# This code is contributed by Sunny Karira\n"
   ]
  },
  {
   "cell_type": "code",
   "execution_count": null,
   "metadata": {},
   "outputs": [],
   "source": [
    "def calculateSpan(price, S):\n",
    "\t\n",
    "\tn = len(price)\n",
    "\tst = []\n",
    "\tst.append(0)\n",
    "\tS[0] = 1\n",
    "\tfor i in range(1, n):\n",
    "\t\twhile( len(st) > 0 and price[st[-1]] <= price[i]):\n",
    "\t\t\tst.pop()\n",
    "\t\tS[i] = i + 1 if len(st) <= 0 else (i - st[-1])\n",
    "\t\tst.append(i)\n",
    "def printArray(arr, n):\n",
    "\tfor i in range(0, n):\n",
    "\t\tprint (arr[i], end =\" \")\n",
    "price = [10, 4, 5, 90, 120, 80]\n",
    "S = [0 for i in range(len(price)+1)]\n",
    "calculateSpan(price, S)\n",
    "printArray(S, len(price))\n",
    "\n",
    "# This code is contributed by Nikhil Kumar Singh (nickzuck_007)\n"
   ]
  },
  {
   "cell_type": "code",
   "execution_count": null,
   "metadata": {},
   "outputs": [],
   "source": []
  },
  {
   "cell_type": "code",
   "execution_count": 21,
   "metadata": {},
   "outputs": [
    {
     "name": "stdout",
     "output_type": "stream",
     "text": [
      "a\n",
      "1\n",
      "A\n",
      "2\n",
      "Counter({'a': 1, 'A': 1})\n",
      "Counter({'b': 4, 'A': 2, 'a': 1})\n",
      "3\n"
     ]
    }
   ],
   "source": [
    "import collections\n",
    "jewels = \"aA\"\n",
    "stones = \"aAAbbbb\"\n",
    "z=0\n",
    "c = collections.Counter(jewels)\n",
    "s = collections.Counter(stones)\n",
    "for key,val in c.items():\n",
    "    print(key)\n",
    "    if key in s:\n",
    "        print(s[key])\n",
    "        z+=s[key]\n",
    "print(c)\n",
    "print(s)\n",
    "print(z)"
   ]
  },
  {
   "cell_type": "code",
   "execution_count": null,
   "metadata": {},
   "outputs": [],
   "source": [
    "import collections\n",
    "class Solution:\n",
    "    def numJewelsInStones(self, jewels: str, stones: str) -> int:\n",
    "        z=0\n",
    "        c = collections.Counter(jewels)\n",
    "        s = collections.Counter(stones)\n",
    "        for key,val in c.items():\n",
    "            if key in s:\n",
    "                z+=s[key]\n",
    "        return z"
   ]
  },
  {
   "cell_type": "code",
   "execution_count": null,
   "metadata": {},
   "outputs": [],
   "source": [
    "class Solution(object):\n",
    "    def numJewelsInStones(self, jewels, stones):\n",
    "        \"\"\"\n",
    "        :type jewels: str\n",
    "        :type stones: str\n",
    "        :rtype: int\n",
    "        \"\"\"\n",
    "        sDict = {}\n",
    "        jDict= {}\n",
    "        \n",
    "        for item in stones:\n",
    "            try:\n",
    "                sDict[item]  += 1\n",
    "            except:\n",
    "                sDict[item]  = 1\n",
    "        \n",
    "        sj = 0\n",
    "        \n",
    "        for item in jewels:\n",
    "            try:\n",
    "                val = sDict[item]\n",
    "                sDict[item] = 0\n",
    "                sj += val\n",
    "            except:\n",
    "                pass\n",
    "        return sj"
   ]
  },
  {
   "cell_type": "code",
   "execution_count": null,
   "metadata": {},
   "outputs": [],
   "source": [
    "class Solution:    \n",
    "    def numJewelsInStones(self, jewels: str, stones: str) -> int:\n",
    "        def compounder(x):\n",
    "            if x in jewels:\n",
    "                return 1\n",
    "            return 0\n",
    "        \n",
    "        return sum(map(compounder, stones))"
   ]
  },
  {
   "cell_type": "code",
   "execution_count": null,
   "metadata": {},
   "outputs": [],
   "source": [
    "class Solution:\n",
    "    def numJewelsInStones(self, jewels: str, stones: str) -> int:\n",
    "        jewels = set(jewels)\n",
    "        c = 0\n",
    "        for stone in stones: c += stone in jewels\n",
    "        return c"
   ]
  },
  {
   "cell_type": "code",
   "execution_count": null,
   "metadata": {},
   "outputs": [],
   "source": [
    "class Solution:\n",
    "    def numJewelsInStones(self, jewels: str, stones: str) -> int:\n",
    "        count = 0\n",
    "        for stone in stones:\n",
    "            if stone in jewels:\n",
    "                count +=1\n",
    "                \n",
    "        return count"
   ]
  },
  {
   "cell_type": "code",
   "execution_count": 22,
   "metadata": {},
   "outputs": [
    {
     "name": "stdout",
     "output_type": "stream",
     "text": [
      "h\n",
      "l\n"
     ]
    }
   ],
   "source": [
    "words = [\"hello\",\"leetcode\"]\n",
    "order = \"hlabcdefgijkmnopqrstuvwxyz\"\n",
    "for i in words:\n",
    "    print(i[0])"
   ]
  },
  {
   "cell_type": "code",
   "execution_count": 24,
   "metadata": {},
   "outputs": [
    {
     "ename": "TypeError",
     "evalue": "'str' object is not callable",
     "output_type": "error",
     "traceback": [
      "\u001b[1;31m---------------------------------------------------------------------------\u001b[0m",
      "\u001b[1;31mTypeError\u001b[0m                                 Traceback (most recent call last)",
      "\u001b[1;32m<ipython-input-24-54857dbb12e1>\u001b[0m in \u001b[0;36m<module>\u001b[1;34m\u001b[0m\n\u001b[0;32m      1\u001b[0m \u001b[0morder\u001b[0m \u001b[1;33m=\u001b[0m \u001b[1;34m\"hlabcdefgijkmnopqrstuvwxyz\"\u001b[0m\u001b[1;33m\u001b[0m\u001b[1;33m\u001b[0m\u001b[0m\n\u001b[0;32m      2\u001b[0m \u001b[0md\u001b[0m\u001b[1;33m=\u001b[0m\u001b[1;33m{\u001b[0m\u001b[1;33m}\u001b[0m\u001b[1;33m\u001b[0m\u001b[1;33m\u001b[0m\u001b[0m\n\u001b[1;32m----> 3\u001b[1;33m \u001b[1;32mfor\u001b[0m \u001b[0mindex\u001b[0m\u001b[1;33m,\u001b[0m\u001b[0mval\u001b[0m \u001b[1;32min\u001b[0m \u001b[0morder\u001b[0m\u001b[1;33m(\u001b[0m\u001b[1;33m)\u001b[0m\u001b[1;33m:\u001b[0m\u001b[1;33m\u001b[0m\u001b[1;33m\u001b[0m\u001b[0m\n\u001b[0m\u001b[0;32m      4\u001b[0m     \u001b[0md\u001b[0m\u001b[1;33m[\u001b[0m\u001b[0mindex\u001b[0m\u001b[1;33m]\u001b[0m\u001b[1;33m=\u001b[0m\u001b[0mval\u001b[0m\u001b[1;33m\u001b[0m\u001b[1;33m\u001b[0m\u001b[0m\n",
      "\u001b[1;31mTypeError\u001b[0m: 'str' object is not callable"
     ]
    }
   ],
   "source": [
    "order = \"hlabcdefgijkmnopqrstuvwxyz\"\n",
    "d={}\n",
    "for index,val in order():\n",
    "    d[index]=val"
   ]
  },
  {
   "cell_type": "code",
   "execution_count": null,
   "metadata": {},
   "outputs": [],
   "source": []
  },
  {
   "cell_type": "code",
   "execution_count": null,
   "metadata": {},
   "outputs": [],
   "source": []
  },
  {
   "cell_type": "code",
   "execution_count": null,
   "metadata": {},
   "outputs": [],
   "source": []
  }
 ],
 "metadata": {
  "kernelspec": {
   "display_name": "Python 3",
   "language": "python",
   "name": "python3"
  },
  "language_info": {
   "codemirror_mode": {
    "name": "ipython",
    "version": 3
   },
   "file_extension": ".py",
   "mimetype": "text/x-python",
   "name": "python",
   "nbconvert_exporter": "python",
   "pygments_lexer": "ipython3",
   "version": "3.8.5"
  }
 },
 "nbformat": 4,
 "nbformat_minor": 4
}
