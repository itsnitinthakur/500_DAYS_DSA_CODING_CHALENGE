{
 "cells": [
  {
   "cell_type": "markdown",
   "metadata": {},
   "source": [
    "# Number of Matching Subsequences\n",
    "\n",
    "Given a string s and an array of strings words, return the number of words[i] that is a subsequence of s.\n",
    "\n",
    "A subsequence of a string is a new string generated from the original string with some characters (can be none) deleted without changing the relative order of the remaining characters.\n",
    "\n",
    "For example, \"ace\" is a subsequence of \"abcde\".\n",
    " \n",
    "\n",
    "Example 1:\n",
    "\n",
    "Input: s = \"abcde\", words = [\"a\",\"bb\",\"acd\",\"ace\"]\n",
    "Output: 3\n",
    "Explanation: There are three strings in words that are a subsequence of s: \"a\", \"acd\", \"ace\".\n",
    "Example 2:\n",
    "\n",
    "Input: s = \"dsahjpjauf\", words = [\"ahjpjau\",\"ja\",\"ahbwzgqnuk\",\"tnmlanowax\"]\n",
    "Output: 2\n",
    " \n",
    "\n",
    "Constraints:\n",
    "\n",
    "1 <= s.length <= 5 * 104\n",
    "1 <= words.length <= 5000\n",
    "1 <= words[i].length <= 50\n",
    "s and words[i] consist of only lowercase English letters."
   ]
  },
  {
   "cell_type": "code",
   "execution_count": null,
   "metadata": {},
   "outputs": [],
   "source": [
    "def numMatchingSubseq(self, s: str, words: List[str]) -> int:\n",
    "        count=0\n",
    "        for i in range(len(words)):\n",
    "            m=s\n",
    "            k=\"\"\n",
    "            for j in words[i]:\n",
    "                if j in m:\n",
    "                    m=m[m.index(j)+1:]\n",
    "                    k+=j\n",
    "            if k==words[i]:\n",
    "                count+=1\n",
    "        return (count)"
   ]
  },
  {
   "cell_type": "code",
   "execution_count": null,
   "metadata": {},
   "outputs": [],
   "source": [
    "class Solution:\n",
    "    def numMatchingSubseq(self, s: str, words: List[str]) -> int:\n",
    "        ctr = 0\n",
    "        mp = defaultdict(list)\n",
    "        \n",
    "        #STEP1 Create a map to store the indexes of characters in string\n",
    "        for i,c in enumerate(s):\n",
    "            mp[c].append(i)\n",
    "            \n",
    "        #STEP2 Iterate each word in words[] to check if it is subsequence\n",
    "        for w in words:\n",
    "            pre_pos = -1    #To keep track of the position of matched character\n",
    "            yes = True\n",
    "            for c in w:\n",
    "                if c not in mp:\n",
    "                    yes = False\n",
    "                    break\n",
    "                index = bisect.bisect_right(mp[c], pre_pos) #Perform binary search of previous position on list of indices of current character\n",
    "                \n",
    "                if index == len(mp[c]):     #Binary search failed\n",
    "                    yes = False\n",
    "                    break\n",
    "                pre_pos = mp[c][index]      #Update previous position of matched character\n",
    "            if yes:\n",
    "                ctr += 1                    \n",
    "        return ctr"
   ]
  },
  {
   "cell_type": "markdown",
   "metadata": {},
   "source": [
    "# Time Complexity Analysis:\n",
    "We assume the length of string s is L, the length of word list words is M and the maximum length of word is N.\n",
    "\n",
    "Binary Search:\n",
    "In this case, we do the binary search for each character in each word in words list. Then, for each binary search, we assume the length of the array we applying the binary search is the whole string s (where it can't be in most cases). So, the totaly time is MN logL, which is feasible by the given lengths.\n",
    "\n",
    "Array Method:\n",
    "This time, we want to iterate each character in each word and also walk through the entire string s. So, the total time should be L + MN, which is slight faster than the first case."
   ]
  },
  {
   "cell_type": "code",
   "execution_count": null,
   "metadata": {},
   "outputs": [],
   "source": [
    "class Solution:\n",
    "    def numMatchingSubseq(self, s: str, words: List[str]) -> int:\n",
    "        # Solution 1: Binary Search\n",
    "        # 620ms + 17.3MB\n",
    "        ind = defaultdict(list)\n",
    "        for i, char in enumerate(s):\n",
    "            ind[char].append(i)\n",
    "        res = 0\n",
    "        def check(word):\n",
    "            s = 0\n",
    "            for char in word:\n",
    "                if not ind[char]:\n",
    "                    return False\n",
    "                pos = bisect_left(ind[char], s)\n",
    "                if pos==len(ind[char]):\n",
    "                    return False\n",
    "                s = ind[char][pos]+1\n",
    "            return True\n",
    "        for word in words:\n",
    "            if check(word):\n",
    "                res += 1\n",
    "        return res\n",
    "        \n",
    "        # Solution 2: Tricky Array Method\n",
    "        # 508ms + 15.7MB\n",
    "        title = defaultdict(list)\n",
    "        for word in words:\n",
    "            title[word[0]].append(word)\n",
    "        res = 0\n",
    "        for char in s:\n",
    "            word_list = title[char]\n",
    "            title[char] = []\n",
    "            for word in word_list:\n",
    "                if len(word)==1:\n",
    "                    res += 1\n",
    "                else:\n",
    "                    title[word[1]].append(word[1:])\n",
    "        return res"
   ]
  },
  {
   "cell_type": "markdown",
   "metadata": {},
   "source": [
    "Algorithm:\n",
    "\n",
    "We first count the occurences of a word in words array and store in a final_count dictionary.\n",
    "Then we iterate throught the set(words).\n",
    "In the for loop we use iter which creates an iterator and will give us whether a letter of a word is present or not.\n",
    "If it is present we increment the value of i by the number of its occurences that we have stored in the final_count dictionary.\n",
    "\n",
    "\n",
    "Time: O(N*M)\n",
    "Space: O(N*M)\n",
    "where N - length of the words array, M - length of the string"
   ]
  },
  {
   "cell_type": "code",
   "execution_count": null,
   "metadata": {},
   "outputs": [],
   "source": [
    "class Solution:\n",
    "    def numMatchingSubseq(self, s: str, words: List[str]) -> int:\n",
    "        \n",
    "        i = 0\n",
    "        \n",
    "        final_count = Counter(words)\n",
    "        \n",
    "        for word in set(words):\n",
    "            it = iter(s)\n",
    "            if all(letter in it for letter in word):\n",
    "                i += final_count[word]\n",
    "        \n",
    "        return i"
   ]
  },
  {
   "cell_type": "code",
   "execution_count": 1,
   "metadata": {},
   "outputs": [
    {
     "data": {
      "text/plain": [
       "2"
      ]
     },
     "execution_count": 1,
     "metadata": {},
     "output_type": "execute_result"
    }
   ],
   "source": [
    "5//2\n"
   ]
  },
  {
   "cell_type": "code",
   "execution_count": 2,
   "metadata": {},
   "outputs": [
    {
     "data": {
      "text/plain": [
       "2"
      ]
     },
     "execution_count": 2,
     "metadata": {},
     "output_type": "execute_result"
    }
   ],
   "source": [
    "4//2"
   ]
  },
  {
   "cell_type": "markdown",
   "metadata": {},
   "source": [
    "# Flip String to Monotone Increasing\n",
    "\n",
    "\n",
    "A string of '0's and '1's is monotone increasing if it consists of some number of '0's (possibly 0), followed by some number of '1's (also possibly 0.)\n",
    "\n",
    "We are given a string S of '0's and '1's, and we may flip any '0' to a '1' or a '1' to a '0'.\n",
    "\n",
    "Return the minimum number of flips to make S monotone increasing.\n",
    "\n",
    " \n",
    "\n",
    "Example 1:\n",
    "\n",
    "Input: \"00110\"\n",
    "Output: 1\n",
    "Explanation: We flip the last digit to get 00111.\n",
    "Example 2:\n",
    "\n",
    "Input: \"010110\"\n",
    "Output: 2\n",
    "Explanation: We flip to get 011111, or alternatively 000111.\n",
    "Example 3:\n",
    "\n",
    "Input: \"00011000\"\n",
    "Output: 2\n",
    "Explanation: We flip to get 00000000.\n",
    " \n",
    "\n",
    "Note:\n",
    "\n",
    "1 <= S.length <= 20000\n",
    "S only consists of '0' and '1' characters."
   ]
  },
  {
   "cell_type": "markdown",
   "metadata": {},
   "source": [
    "## Approach 1: Prefix Sums\n",
    "Intuition\n",
    "\n",
    "For say a 5 digit string, the answer is either '00000', '00001', '00011', '00111', '01111', or '11111'. Let's try to calculate the cost of switching to that answer. The answer has two halves, a left (zero) half, and a right (one) half.\n",
    "\n",
    "Evidently, it comes down to a question of knowing, for each candidate half: how many ones are in the left half, and how many zeros are in the right half.\n",
    "\n",
    "We can use prefix sums. Say P[i+1] = A[0] + A[1] + ... + A[i], where A[i] = 1 if S[i] == '1', else A[i] = 0. We can calculate P in linear time.\n",
    "\n",
    "Then if we want x zeros followed by N-x ones, there are P[x] ones in the start that must be flipped, plus (N-x) - (P[N] - P[x]) zeros that must be flipped. The last calculation comes from the fact that there are P[N] - P[x] ones in the later segment of length N-x, but we want the number of zeros.\n",
    "\n",
    "## Algorithm\n",
    "\n",
    "For example, with S = \"010110\": we have P = [0, 0, 1, 1, 2, 3, 3]. Now say we want to evaluate having x=3 zeros.\n",
    "\n",
    "There are P[3] = 1 ones in the first 3 characters, and P[6] - P[3] = 2 ones in the later N-x = 3 characters.\n",
    "\n",
    "So, there is (N-x) - (P[N] - P[x]) = 1 zero in the later N-x characters.\n",
    "\n",
    "We take the minimum among all candidate answers to arrive at the final answer.\n",
    "\n",
    "\n",
    "## Complexity Analysis\n",
    "\n",
    "Time Complexity: O(N)O(N), where NN is the length of S.\n",
    "\n",
    "Space Complexity: O(N)O(N)."
   ]
  },
  {
   "cell_type": "code",
   "execution_count": null,
   "metadata": {},
   "outputs": [],
   "source": [
    "# didnot works\n",
    "def minFlipsMonoIncr(self, S: str) -> int:\n",
    "    num_ones_seen = 0\n",
    "    min_cost = 0\n",
    "    for letter in S:\n",
    "        if letter == '1':\n",
    "            num_ones_seen += 1\n",
    "        else:\n",
    "            min_cost = min(min_cost + 1, num_ones_seen)\n",
    "    return min_cost"
   ]
  },
  {
   "cell_type": "code",
   "execution_count": null,
   "metadata": {},
   "outputs": [],
   "source": [
    "class Solution:\n",
    "    def minFlipsMonoIncr(self, S: str) -> int:\n",
    "        nums = list(map(int, list(S)))\n",
    "        n = len(S)\n",
    "        dp = [[0 for _ in range(n)] for _ in range(2)]\n",
    "        dp[0][0] = int(nums[0] != 0)\n",
    "        dp[1][0] = 1 - dp[0][0]\n",
    "        for i in range(1,n):\n",
    "            if nums[i]==1:\n",
    "                dp[0][i] = dp[0][i-1] + 1\n",
    "                dp[1][i] = min(dp[1][i-1], dp[0][i-1])\n",
    "            else:\n",
    "                dp[0][i] = dp[0][i-1]\n",
    "                dp[1][i] = min(dp[1][i-1], dp[0][i-1]) + 1\n",
    "        return min(dp[0][n-1], dp[1][n-1])"
   ]
  },
  {
   "cell_type": "code",
   "execution_count": null,
   "metadata": {},
   "outputs": [],
   "source": [
    "class Solution:\n",
    "    def minFlipsMonoIncr(self, S: str) -> int:\n",
    "        zeroes = S.count('0')\n",
    "        min_flips, prefix_ones = float(inf), 0\n",
    "        \n",
    "        for i,num in enumerate(S):\n",
    "            suffix_zeroes = zeroes - i + prefix_ones\n",
    "            min_flips = min(prefix_ones + suffix_zeroes - (not int(num)), min_flips)            \n",
    "            prefix_ones += int(num)\n",
    "\n",
    "        return min_flips"
   ]
  },
  {
   "cell_type": "code",
   "execution_count": null,
   "metadata": {},
   "outputs": [],
   "source": [
    "class Solution:\n",
    "def minFlipsMonoIncr(self, S: str) -> int:\n",
    "    left=0\n",
    "    right=S.count('1')\n",
    "    ls=[]\n",
    "    ls.append(len(S)-right)\n",
    "    \n",
    "    for i in range(len(S)):\n",
    "        if S[i]=='0':\n",
    "            left+=1\n",
    "        else:\n",
    "            right-=1\n",
    "        \n",
    "        ls.append((i+1-left)+(len(S)-i-1-right))\n",
    "            \n",
    "    return min(ls)"
   ]
  },
  {
   "cell_type": "markdown",
   "metadata": {},
   "source": [
    "### *We tend to find an index that all the \"1\" on the left will be flipped to \"0\" and all the \"0\" on the right will be flipped to \"1\". Keep in mind that this index may not exit, this is equivalent to say flip all the \"0\" to \"1\" or all the \"1\" to \"0\".\n",
    "*Below \"left\" stores the number of \"0\" and \"1\" on the left(including current position), while \"right\" stores the number of \"0\" and \"1\" on the right(do not include current position). The number of flips we have to take is left[1]+right[0]."
   ]
  },
  {
   "cell_type": "code",
   "execution_count": null,
   "metadata": {},
   "outputs": [],
   "source": [
    "def minFlipsMonoIncr(self, S: str) -> int:\n",
    "    left = [0,0]\n",
    "    right = [S.count(\"0\"),S.count(\"1\")]\n",
    "    diff = min(right[0],right[1])\n",
    "    for x in S:\n",
    "        if x == \"0\":\n",
    "            left[0]+=1\n",
    "            right[0]-=1\n",
    "        else:\n",
    "            left[1]+=1\n",
    "            right[1]-=1\n",
    "        diff = min(diff, left[1]+right[0])\n",
    "    return diff"
   ]
  },
  {
   "cell_type": "markdown",
   "metadata": {},
   "source": [
    "# Partition Array Into Three Parts With Equal Sum\n",
    "\n",
    "Given an array of integers arr, return true if we can partition the array into three non-empty parts with equal sums.\n",
    "\n",
    "Formally, we can partition the array if we can find indexes i + 1 < j with (arr[0] + arr[1] + ... + arr[i] == arr[i + 1] + arr[i + 2] + ... + arr[j - 1] == arr[j] + arr[j + 1] + ... + arr[arr.length - 1])\n",
    "\n",
    " \n",
    "\n",
    "Example 1:\n",
    "\n",
    "Input: arr = [0,2,1,-6,6,-7,9,1,2,0,1]\n",
    "Output: true\n",
    "Explanation: 0 + 2 + 1 = -6 + 6 - 7 + 9 + 1 = 2 + 0 + 1\n",
    "Example 2:\n",
    "\n",
    "Input: arr = [0,2,1,-6,6,7,9,-1,2,0,1]\n",
    "Output: false\n",
    "Example 3:\n",
    "\n",
    "Input: arr = [3,3,6,5,-2,2,5,1,-9,4]\n",
    "Output: true\n",
    "Explanation: 3 + 3 = 6 = 5 - 2 + 2 + 5 + 1 - 9 + 4\n",
    " \n",
    "\n",
    "Constraints:\n",
    "\n",
    "3 <= arr.length <= 5 * 104\n",
    "-104 <= arr[i] <= 104"
   ]
  },
  {
   "cell_type": "code",
   "execution_count": null,
   "metadata": {},
   "outputs": [],
   "source": [
    "class Solution:\n",
    "    def canThreePartsEqualSum(self, arr: List[int]) -> bool:\n",
    "        s = sum(arr)\n",
    "        if (s%3)!=0:\n",
    "            return False\n",
    "        avg = s/3\n",
    "        count = 0\n",
    "        curr = 0\n",
    "        for i in arr:\n",
    "            curr +=i\n",
    "            if curr==avg:\n",
    "                count+=1\n",
    "                curr=0\n",
    "        if count>=3:\n",
    "            return True"
   ]
  },
  {
   "cell_type": "code",
   "execution_count": null,
   "metadata": {},
   "outputs": [],
   "source": [
    "def canThreePartsEqualSum(self, arr: List[int]) -> bool:\n",
    "\treturn(s:=[sum(arr)])[0]%3==0and len([s.append(1)for r in accumulate(arr)if r/len(s)==s[0]/3])>2"
   ]
  },
  {
   "cell_type": "code",
   "execution_count": null,
   "metadata": {},
   "outputs": [],
   "source": [
    "class Solution:\n",
    "    def canThreePartsEqualSum(self, arr: List[int]) -> bool:\n",
    "        sm=0\n",
    "        for x in arr:\n",
    "            sm+=x\n",
    "        sm/=3\n",
    "        sub=0\n",
    "        aux=0\n",
    "        for i in range(0,len(arr)):\n",
    "            if sub<2 :\n",
    "                aux+=arr[i]\n",
    "                if aux==sm:\n",
    "                    aux=0\n",
    "                    sub+=1\n",
    "                    if sub==2 and i==len(arr)-1:\n",
    "                        return False\n",
    "            else :\n",
    "                aux+=arr[i]\n",
    "                \n",
    "        return aux==sm   and sub==2"
   ]
  },
  {
   "cell_type": "code",
   "execution_count": null,
   "metadata": {},
   "outputs": [],
   "source": [
    "s = sum(arr)\n",
    "if s % 3 != 0:\n",
    "\treturn False\n",
    "average = s / 3\n",
    "cur = 0\n",
    "count = 0\n",
    "for num in arr:\n",
    "\tcur += num\n",
    "\tif cur == average:\n",
    "\t\tcur = 0\n",
    "\t\tcount += 1\n",
    "return count >= 3"
   ]
  },
  {
   "cell_type": "code",
   "execution_count": null,
   "metadata": {},
   "outputs": [],
   "source": [
    "class Solution:\n",
    "    def canThreePartsEqualSum(self, arr: List[int]) -> bool:\n",
    "        total = sum(arr)\n",
    "        if total % 3 != 0 : \n",
    "            return False\n",
    "        \n",
    "        desiredSubArrayTotal, subTotal, partition = total // 3, 0, 0        \n",
    "        \n",
    "        for num in arr : \n",
    "            subTotal += num \n",
    "            if subTotal == desiredSubArrayTotal : \n",
    "                partition += 1\n",
    "                subTotal = 0\n",
    "                \n",
    "        \n",
    "        return True if subTotal == 0 and partition >= 3 else False"
   ]
  },
  {
   "cell_type": "markdown",
   "metadata": {},
   "source": [
    "# last question acccidently saved in Day 2"
   ]
  },
  {
   "cell_type": "code",
   "execution_count": null,
   "metadata": {},
   "outputs": [],
   "source": []
  },
  {
   "cell_type": "code",
   "execution_count": null,
   "metadata": {},
   "outputs": [],
   "source": []
  },
  {
   "cell_type": "code",
   "execution_count": null,
   "metadata": {},
   "outputs": [],
   "source": []
  },
  {
   "cell_type": "code",
   "execution_count": null,
   "metadata": {},
   "outputs": [],
   "source": []
  },
  {
   "cell_type": "code",
   "execution_count": null,
   "metadata": {},
   "outputs": [],
   "source": []
  }
 ],
 "metadata": {
  "kernelspec": {
   "display_name": "Python 3",
   "language": "python",
   "name": "python3"
  },
  "language_info": {
   "codemirror_mode": {
    "name": "ipython",
    "version": 3
   },
   "file_extension": ".py",
   "mimetype": "text/x-python",
   "name": "python",
   "nbconvert_exporter": "python",
   "pygments_lexer": "ipython3",
   "version": "3.8.5"
  }
 },
 "nbformat": 4,
 "nbformat_minor": 4
}
