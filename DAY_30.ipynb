{
 "cells": [
  {
   "cell_type": "code",
   "execution_count": null,
   "metadata": {},
   "outputs": [],
   "source": [
    "s = \"aabacbebebe\"\n",
    "k=3\n",
    "i=0\n",
    "j=0\n",
    "z=\"\"\n",
    "d=\"\"\n",
    "m=[]\n",
    "while j<=len(s)-1:\n",
    "    z+= s[i:j]\n",
    "    l=len(z)\n",
    "    for i in z:\n",
    "        if i not in d:\n",
    "            d+=i\n",
    "    if len(d)==k:\n",
    "        m.append(len(z))\n",
    "print(max(m))\n"
   ]
  },
  {
   "cell_type": "code",
   "execution_count": null,
   "metadata": {},
   "outputs": [],
   "source": []
  },
  {
   "cell_type": "code",
   "execution_count": null,
   "metadata": {},
   "outputs": [],
   "source": [
    "import collections\n",
    "\n",
    "z=\"aabac\"\n",
    "d=\"\"\n",
    "for i in z:\n",
    "    if i not in d:\n",
    "        d+=i\n",
    "\n",
    "print(d)"
   ]
  },
  {
   "cell_type": "code",
   "execution_count": 2,
   "metadata": {},
   "outputs": [
    {
     "name": "stdout",
     "output_type": "stream",
     "text": [
      "Counter({'b': 4, 'a': 3, 'e': 3, 'c': 1})\n",
      "4\n",
      "11\n"
     ]
    }
   ],
   "source": [
    "import collections\n",
    "s = \"aabacbebebe\"\n",
    "k=3\n",
    "c = collections.Counter(s)\n",
    "print(c)\n",
    "print(len(c))\n",
    "print(sum(c.values()))"
   ]
  },
  {
   "cell_type": "markdown",
   "metadata": {},
   "source": [
    "# Longest substring with k disnict alphabet"
   ]
  },
  {
   "cell_type": "code",
   "execution_count": 6,
   "metadata": {},
   "outputs": [
    {
     "name": "stdout",
     "output_type": "stream",
     "text": [
      "5\n",
      "[5, 4, 3, 3, 3]\n"
     ]
    }
   ],
   "source": [
    "import collections\n",
    "s = \"aabacbebebe\"\n",
    "k=3\n",
    "i=0\n",
    "j=1\n",
    "x=[]\n",
    "while j<=len(s)-2:\n",
    "    z = s[i:j]\n",
    "    c=collections.Counter(z)\n",
    "    if k==len(c):\n",
    "        x.append(sum(c.values()))\n",
    "        i+=1\n",
    "    elif len(c)>k:\n",
    "        x.append(sum(c.values()))\n",
    "        i+=1\n",
    "    else:\n",
    "        j+=1\n",
    "print(max(x))\n",
    "print(x)\n",
    "    "
   ]
  },
  {
   "cell_type": "code",
   "execution_count": 1,
   "metadata": {},
   "outputs": [
    {
     "name": "stdout",
     "output_type": "stream",
     "text": [
      "2\n"
     ]
    }
   ],
   "source": [
    "a=[1,2,1,2,1]\n",
    "z=[]\n",
    "k=3\n",
    "i=0\n",
    "j=1\n",
    "while j<=len(a)-2:\n",
    "    s=sum(a[i:j])\n",
    "    if s==k:\n",
    "        z.append(j-i)\n",
    "        i+=1\n",
    "    else:\n",
    "        j+=1\n",
    "print(max(z))"
   ]
  },
  {
   "cell_type": "code",
   "execution_count": 4,
   "metadata": {},
   "outputs": [
    {
     "name": "stdout",
     "output_type": "stream",
     "text": [
      "Max substring is : cbebebe with length 7\n"
     ]
    }
   ],
   "source": [
    "# Python program to find the longest substring with k unique\n",
    "# characters in a given string\n",
    "MAX_CHARS = 26\n",
    "\n",
    "# This function calculates number of unique characters\n",
    "# using a associative array count[]. Returns true if\n",
    "# no. of characters are less than required else returns\n",
    "# false.\n",
    "def isValid(count, k):\n",
    "\tval = 0\n",
    "\tfor i in range(MAX_CHARS):\n",
    "\t\tif count[i] > 0:\n",
    "\t\t\tval += 1\n",
    "\n",
    "\t# Return true if k is greater than or equal to val\n",
    "\treturn (k >= val)\n",
    "\n",
    "# Finds the maximum substring with exactly k unique characters\n",
    "def kUniques(s, k):\n",
    "\tu = 0 # number of unique characters\n",
    "\tn = len(s)\n",
    "\n",
    "\t# Associative array to store the count\n",
    "\tcount = [0] * MAX_CHARS\n",
    "\n",
    "\t# Tranverse the string, fills the associative array\n",
    "\t# count[] and count number of unique characters\n",
    "\tfor i in range(n):\n",
    "\t\tif count[ord(s[i])-ord('a')] == 0:\n",
    "\t\t\tu += 1\n",
    "\t\tcount[ord(s[i])-ord('a')] += 1\n",
    "\n",
    "\t# If there are not enough unique characters, show\n",
    "\t# an error message.\n",
    "\tif u < k:\n",
    "\t\tprint (\"Not enough unique characters\")\n",
    "\t\treturn\n",
    "\n",
    "\t# Otherwise take a window with first element in it.\n",
    "\t# start and end variables.\n",
    "\tcurr_start = 0\n",
    "\tcurr_end = 0\n",
    "\n",
    "\t# Also initialize values for result longest window\n",
    "\tmax_window_size = 1\n",
    "\tmax_window_start = 0\n",
    "\n",
    "\t# Initialize associative array count[] with zero\n",
    "\tcount = [0] * len(count)\n",
    "\n",
    "\tcount[ord(s[0])-ord('a')] += 1 # put the first character\n",
    "\n",
    "\t# Start from the second character and add\n",
    "\t# characters in window according to above\n",
    "\t# explanation\n",
    "\tfor i in range(1,n):\n",
    "\n",
    "\t\t# Add the character 's[i]' to current window\n",
    "\t\tcount[ord(s[i])-ord('a')] += 1\n",
    "\t\tcurr_end+=1\n",
    "\n",
    "\t\t# If there are more than k unique characters in\n",
    "\t\t# current window, remove from left side\n",
    "\t\twhile not isValid(count, k):\n",
    "\t\t\tcount[ord(s[curr_start])-ord('a')] -= 1\n",
    "\t\t\tcurr_start += 1\n",
    "\n",
    "\t\t# Update the max window size if required\n",
    "\t\tif curr_end-curr_start+1 > max_window_size:\n",
    "\t\t\tmax_window_size = curr_end-curr_start+1\n",
    "\t\t\tmax_window_start = curr_start\n",
    "\n",
    "\tprint (\"Max substring is : \" + s[max_window_start:max_window_start + max_window_size]\n",
    "\t+ \" with length \" + str(max_window_size))\n",
    "\n",
    "# Driver function\n",
    "s = \"aabacbebebe\"\n",
    "k = 3\n",
    "kUniques(s, k)\n",
    "\n",
    "# This code is contributed by BHAVYA JAIN\n"
   ]
  },
  {
   "cell_type": "code",
   "execution_count": 10,
   "metadata": {},
   "outputs": [
    {
     "name": "stdout",
     "output_type": "stream",
     "text": [
      "aabac\n",
      "\n"
     ]
    }
   ],
   "source": [
    "import collections\n",
    "s = \"aabacbebebe\"\n",
    "k=3\n",
    "i=0\n",
    "j=1\n",
    "x=[]\n",
    "while j<=len(s)-2:\n",
    "    z = s[i:j]\n",
    "    c=collections.Counter(z)\n",
    "    if k==len(c):\n",
    "        x.append(str(z))\n",
    "        i+=1\n",
    "    elif len(c)>k:\n",
    "        x.append(str(z))\n",
    "        i+=1\n",
    "    else:\n",
    "        j+=1\n",
    "for i in x:\n",
    "    if len(i)==5:\n",
    "        print(i)\n",
    "    \n",
    "print()\n"
   ]
  },
  {
   "cell_type": "code",
   "execution_count": null,
   "metadata": {},
   "outputs": [],
   "source": [
    "import collections\n",
    "s = \"aabacbebebe\"\n",
    "k=3\n",
    "i=0\n",
    "j=1\n",
    "x=[]\n",
    "while j<=len(s)-2:\n",
    "    z = s[i:j]\n",
    "    c=collections.Counter(z)\n",
    "    if k==len(c):\n",
    "        x.append(sum(c.values()))\n",
    "        i+=1\n",
    "    elif len(c)>k:\n",
    "        x.append(sum(c.values()))\n",
    "        i+=1\n",
    "    else:\n",
    "        j+=1\n",
    "print(max(x))\n",
    "print(x)"
   ]
  },
  {
   "cell_type": "markdown",
   "metadata": {},
   "source": [
    "# Repeated Substring Pattern\n",
    "\n",
    "Given a string s, check if it can be constructed by taking a substring of it and appending multiple copies of the substring together.\n",
    "\n",
    " \n",
    "\n",
    "Example 1:\n",
    "\n",
    "Input: s = \"abab\"\n",
    "Output: true\n",
    "Explanation: It is the substring \"ab\" twice.\n",
    "Example 2:\n",
    "\n",
    "Input: s = \"aba\"\n",
    "Output: false\n",
    "Example 3:\n",
    "\n",
    "Input: s = \"abcabcabcabc\"\n",
    "Output: true\n",
    "Explanation: It is the substring \"abc\" four times or the substring \"abcabc\" twice.\n",
    " \n",
    "\n",
    "Constraints:\n",
    "\n",
    "1 <= s.length <= 104\n",
    "s consists of lowercase English letters."
   ]
  },
  {
   "cell_type": "code",
   "execution_count": null,
   "metadata": {},
   "outputs": [],
   "source": [
    "return s in s[1:]+s[:-1]"
   ]
  },
  {
   "cell_type": "code",
   "execution_count": null,
   "metadata": {},
   "outputs": [],
   "source": [
    "class Solution:\n",
    "    def repeatedSubstringPattern(self, s: str) -> bool:\n",
    "        length = len(s) # compute the length of the string\n",
    "        for i in range(1,length//2+1): # run the loop for length / 2 times\n",
    "            if length % i == 0 and s[:i] * (length//i) == s: if length mod i is equal to zero and the string upto i * length divided by i is equal to s then return True \n",
    "                return True\n",
    "        return False"
   ]
  },
  {
   "cell_type": "markdown",
   "metadata": {},
   "source": [
    "1\n",
    "prasanthksp1009's avatar\n",
    "prasanthksp1009\n",
    "\n",
    "26\n",
    "April 29, 2021 5:24 PM\n",
    "\n",
    "169 VIEWS\n",
    "\n",
    "Code:\n",
    "\n",
    "class Solution:\n",
    "    def repeatedSubstringPattern(self, s: str) -> bool:\n",
    "        length = len(s) # compute the length of the string\n",
    "        for i in range(1,length//2+1): # run the loop for length / 2 times\n",
    "            if length % i == 0 and s[:i] * (length//i) == s: if length mod i is equal to zero and the string upto i * length divided by i is equal to s then return True \n",
    "                return True\n",
    "        return False\n",
    "Example is explained below:\n",
    "s = \"abcabcabcabc\"\n",
    "Output: True\n",
    "\n",
    "Explanation :\n",
    "Step 1: length = 12\n",
    "Step 2: run the loop length by 2 times from 1\n",
    "Why we need to run loop from 1 to length //2 times?\n",
    "\n",
    "s[:i] will take the characters before i.\n",
    "length //2 times is because of to recude the loop running and we will compute our output with the length // 2 times itself.\n",
    "Step 3: enters the if length % i ==0 and s[:i] * (length //i) ==s:\n",
    "\n",
    "i:1 =>12 % 1 = 0 and s[:1] ='a' * 12 // 1(12) == 'abcabcabcabc'\n",
    "True and False = False\n",
    "i:2 =>12 % 2 = 0 and s[:2] ='ab' * 12 // 2(6) == 'abcabcabcabc'\n",
    "True and False = False\n",
    "i:1 =>12 % 3 = 0 and s[:3] ='abc' * 12 // 3(4) == 'abcabcabcabc'\n",
    "True and True = True => Enter the if returns True.\n"
   ]
  },
  {
   "cell_type": "code",
   "execution_count": null,
   "metadata": {},
   "outputs": [],
   "source": [
    "class Solution:\n",
    "    def repeatedSubstringPattern(self, s: str) -> bool:\n",
    "        \n",
    "        for i in range(len(s)//2):\n",
    "            floor, remainder = divmod(len(s), i + 1)\n",
    "            if remainder == 0:\n",
    "                if s[:i+1] * floor == s:\n",
    "                    return True\n",
    "        return False"
   ]
  },
  {
   "cell_type": "code",
   "execution_count": null,
   "metadata": {},
   "outputs": [],
   "source": [
    "class Solution:\n",
    "    def repeatedSubstringPattern(self, s: str) -> bool:\n",
    "        n = s + s\n",
    "        return n.find(s, 1) != len(s)"
   ]
  },
  {
   "cell_type": "code",
   "execution_count": null,
   "metadata": {},
   "outputs": [],
   "source": [
    "class Solution:\n",
    "    def repeatedSubstringPattern(self, s: str) -> bool:\n",
    "        n = len(s)\n",
    "        for i in range(1, round(sqrt(n))+2):\n",
    "            if n % i == 0 and i < n:\n",
    "                j = n // i\n",
    "                if ((s[:i] * j == s) and (j > 1)) or ((s[:j] * i == s) and (i > 1)) :\n",
    "                    return True\n",
    "        return False"
   ]
  },
  {
   "cell_type": "code",
   "execution_count": null,
   "metadata": {},
   "outputs": [],
   "source": [
    "class Solution:\n",
    "    def repeatedSubstringPattern(self, s: str) -> bool:\n",
    "              \n",
    "        i=0\n",
    "        j=0\n",
    "        while(j<len(s)//2):\n",
    "            temp=s[i:j+1]\n",
    "            #print(temp)\n",
    "            m=len(s)//len(temp)\n",
    "            t1=temp*m\n",
    "            if(t1==s):\n",
    "                return True\n",
    "            else:\n",
    "                j+=1\n",
    "        return False"
   ]
  },
  {
   "cell_type": "code",
   "execution_count": null,
   "metadata": {},
   "outputs": [],
   "source": [
    "class Solution:\n",
    "    def repeatedSubstringPattern(self, s: str) -> bool:        \n",
    "        for i in range(1, (len(s)//2)+1):\n",
    "            if len(s) % i != 0: continue\n",
    "            pattern = s[0:i]\n",
    "            if pattern*(len(s)//i) == s:\n",
    "                return True        \n",
    "        return False"
   ]
  },
  {
   "cell_type": "code",
   "execution_count": null,
   "metadata": {},
   "outputs": [],
   "source": []
  },
  {
   "cell_type": "code",
   "execution_count": null,
   "metadata": {},
   "outputs": [],
   "source": []
  },
  {
   "cell_type": "code",
   "execution_count": null,
   "metadata": {},
   "outputs": [],
   "source": []
  }
 ],
 "metadata": {
  "kernelspec": {
   "display_name": "Python 3",
   "language": "python",
   "name": "python3"
  },
  "language_info": {
   "codemirror_mode": {
    "name": "ipython",
    "version": 3
   },
   "file_extension": ".py",
   "mimetype": "text/x-python",
   "name": "python",
   "nbconvert_exporter": "python",
   "pygments_lexer": "ipython3",
   "version": "3.8.5"
  }
 },
 "nbformat": 4,
 "nbformat_minor": 4
}
