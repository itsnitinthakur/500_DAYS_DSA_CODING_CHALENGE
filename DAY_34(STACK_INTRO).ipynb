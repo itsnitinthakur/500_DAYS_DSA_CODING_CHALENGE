{
 "cells": [
  {
   "cell_type": "code",
   "execution_count": null,
   "metadata": {},
   "outputs": [],
   "source": []
  },
  {
   "cell_type": "code",
   "execution_count": null,
   "metadata": {},
   "outputs": [],
   "source": [
    "n = int(input())\n",
    "a=[]\n",
    "for i in range(n-1):\n",
    "    s = input()\n",
    "    a.append(s)\n",
    "print(a)   \n",
    "for i in a:\n",
    "    while i[-1]!=0:\n",
    "        if i[-1]==0:\n",
    "            i.replace(i[-1],\"\")\n",
    "    print(i[::-1])"
   ]
  },
  {
   "cell_type": "code",
   "execution_count": 2,
   "metadata": {},
   "outputs": [
    {
     "name": "stdout",
     "output_type": "stream",
     "text": [
      "2\n",
      "12314\n",
      "41321\n",
      "\n",
      "1200\n",
      "21\n",
      "\n"
     ]
    }
   ],
   "source": [
    "try:\n",
    "    T=int(input())\n",
    "    for i in range(1,T+1):\n",
    "        n=input()\n",
    "        for j in n.strip('0')[::-1]:\n",
    "            print(j,end=\"\")\n",
    "        print(\"\\n\")\n",
    "except:\n",
    "    pass"
   ]
  },
  {
   "cell_type": "code",
   "execution_count": null,
   "metadata": {},
   "outputs": [],
   "source": [
    "def reverse(n):\n",
    "    rev = 0\n",
    "    while (n > 0):\n",
    "        a = n % 10\n",
    "        rev = rev * 10 + a\n",
    "        n = n // 10\n",
    "    return rev\n",
    "k=int(input())\n",
    "\n",
    "if 1 <= k <= 1000:\n",
    "    for i in range(k):\n",
    "        n = int(input())\n",
    "        if 1 <= n <= 1000000:\n",
    "            print(reverse(n))"
   ]
  },
  {
   "cell_type": "code",
   "execution_count": 15,
   "metadata": {},
   "outputs": [
    {
     "ename": "SyntaxError",
     "evalue": "invalid syntax (<ipython-input-15-7ed414057a7d>, line 4)",
     "output_type": "error",
     "traceback": [
      "\u001b[1;36m  File \u001b[1;32m\"<ipython-input-15-7ed414057a7d>\"\u001b[1;36m, line \u001b[1;32m4\u001b[0m\n\u001b[1;33m    word.strip('2')[]\u001b[0m\n\u001b[1;37m                    ^\u001b[0m\n\u001b[1;31mSyntaxError\u001b[0m\u001b[1;31m:\u001b[0m invalid syntax\n"
     ]
    }
   ],
   "source": [
    "s = \"is2 sentence4 This1 a3\"\n",
    "s = s.split()\n"
   ]
  },
  {
   "cell_type": "markdown",
   "metadata": {},
   "source": [
    "# Sorting the Sentence\n",
    "\n",
    "A sentence is a list of words that are separated by a single space with no leading or trailing spaces. Each word consists of lowercase and uppercase English letters.\n",
    "\n",
    "A sentence can be shuffled by appending the 1-indexed word position to each word then rearranging the words in the sentence.\n",
    "\n",
    "For example, the sentence \"This is a sentence\" can be shuffled as \"sentence4 a3 is2 This1\" or \"is2 sentence4 This1 a3\".\n",
    "Given a shuffled sentence s containing no more than 9 words, reconstruct and return the original sentence.\n",
    "\n",
    " \n",
    "\n",
    "Example 1:\n",
    "\n",
    "Input: s = \"is2 sentence4 This1 a3\"\n",
    "Output: \"This is a sentence\"\n",
    "Explanation: Sort the words in s to their original positions \"This1 is2 a3 sentence4\", then remove the numbers.\n",
    "Example 2:\n",
    "\n",
    "Input: s = \"Myself2 Me1 I4 and3\"\n",
    "Output: \"Me Myself and I\"\n",
    "Explanation: Sort the words in s to their original positions \"Me1 Myself2 and3 I4\", then remove the numbers.\n",
    " \n",
    "\n",
    "Constraints:\n",
    "\n",
    "2 <= s.length <= 200\n",
    "s consists of lowercase and uppercase English letters, spaces, and digits from 1 to 9.\n",
    "The number of words in s is between 1 and 9.\n",
    "The words in s are separated by a single space.\n",
    "s contains no leading or trailing spaces."
   ]
  },
  {
   "cell_type": "code",
   "execution_count": null,
   "metadata": {},
   "outputs": [],
   "source": [
    "class Solution:\n",
    "    def sortSentence(self, s: str) -> str:\n",
    "        words = s.split()       #Get all words in input string\n",
    "        new = ['']*len(words)   #Initialize array of empty strings\n",
    "        for w in words:\n",
    "            pos = int(w[-1])    #Extract position of current word\n",
    "            new[pos-1] = w[:len(w)-1]   #Place the current word in new array\n",
    "        return ' '.join(new) "
   ]
  },
  {
   "cell_type": "code",
   "execution_count": null,
   "metadata": {},
   "outputs": [],
   "source": [
    "class Solution:\n",
    "    def sortSentence(self, s: str) -> str:\n",
    "        l = s.split(' ')\n",
    "        d = dict((i[-1],i[:len(i)-1])for i in l)\n",
    "        return ' '.join([j for i,j in sorted(d.items(),key=lambda x:x[0])])"
   ]
  },
  {
   "cell_type": "code",
   "execution_count": null,
   "metadata": {},
   "outputs": [],
   "source": [
    "def sortSentence(self, s: str) -> str:\n",
    "        splitted_string=s.split()\n",
    "        dict=[index for index in range(1,len(splitted_string)+1)]\n",
    "        for sentence in splitted_string:\n",
    "            dict[int(sentence[-1])-1]=sentence[:-1]\n",
    "        return \" \".join(dict)"
   ]
  },
  {
   "cell_type": "code",
   "execution_count": null,
   "metadata": {},
   "outputs": [],
   "source": [
    "return ' '.join(map(lambda x: x[:-1],sorted(s.split(), key = lambda x: x[-1])))"
   ]
  },
  {
   "cell_type": "code",
   "execution_count": null,
   "metadata": {},
   "outputs": [],
   "source": [
    "#fastest\n",
    "class Solution:\n",
    "    def sortSentence(self, s: str) -> str:\n",
    "        slit = s.split()\n",
    "        slit.sort(key = lambda x : int(x[-1]))\n",
    "        return \" \".join(map(lambda x: x[:-1], slit))"
   ]
  },
  {
   "cell_type": "code",
   "execution_count": null,
   "metadata": {},
   "outputs": [],
   "source": [
    "class Solution:\n",
    "    def sortSentence(self, s: str) -> str:\n",
    "        res = {}\n",
    "        a = []\n",
    "        for i in s.split():\n",
    "            res[i[-1]] = i[:len(i)-1]\n",
    "        for i in sorted(res.keys()):\n",
    "            a.append(res[i])\n",
    "        return \" \".join(a)"
   ]
  },
  {
   "cell_type": "code",
   "execution_count": null,
   "metadata": {},
   "outputs": [],
   "source": [
    "class Solution:\n",
    "    def sortSentence(self, s: str) -> str:\n",
    "        return ' '.join([i[:-1] for i in sorted(s.split(), key=lambda x: x[-1])])"
   ]
  },
  {
   "cell_type": "code",
   "execution_count": null,
   "metadata": {},
   "outputs": [],
   "source": [
    "class Solution:\n",
    "    def sortSentence(self, s: str) -> str:\n",
    "        s = s.split()\n",
    "        s.sort(key=lambda x: x[-1])\n",
    "        return ' '.join([i[:-1] for i in s])"
   ]
  },
  {
   "cell_type": "code",
   "execution_count": null,
   "metadata": {},
   "outputs": [],
   "source": [
    "    x = s.split()\n",
    "    #print(new)\n",
    "    y = []\n",
    "    for i in x:\n",
    "        y.append(int(i[-1]))\n",
    "    #print(y)\n",
    "    d = dict()\n",
    "    for i in range(len(x)):\n",
    "        d[int(y[i])] = x[i][:-1]\n",
    "    #print(d)\n",
    "    y.sort()\n",
    "    ans = []\n",
    "    for i in range(len(y)):\n",
    "        ans.append(d[y[i]])\n",
    "    #print(ans)\n",
    "    return ' '.join(ans)"
   ]
  },
  {
   "cell_type": "code",
   "execution_count": null,
   "metadata": {},
   "outputs": [],
   "source": [
    "class Solution:\n",
    "    def sortSentence(self, s: str) -> str:\n",
    "        l = s.split(\" \")\n",
    "        l.sort(key=lambda x:int(x[-1]))\n",
    "\n",
    "            ans = \"\"\n",
    "\n",
    "            for i in l:\n",
    "                ans += i[:-1]+\" \"\n",
    "\n",
    "            return ans[:-1]"
   ]
  },
  {
   "cell_type": "code",
   "execution_count": null,
   "metadata": {},
   "outputs": [],
   "source": [
    "class Solution:\n",
    "    def sortSentence(self, s: str) -> str:\n",
    "        words = s.split(' ')\n",
    "        newS = [None for _ in range(len(words))]\n",
    "        for word in words:\n",
    "            newS[int(word[-1]) - 1] = word[:len(word)-1]\n",
    "        return ' '.join(newS)"
   ]
  },
  {
   "cell_type": "code",
   "execution_count": 25,
   "metadata": {},
   "outputs": [
    {
     "name": "stdout",
     "output_type": "stream",
     "text": [
      "Counter({'a': 1, 'b': 1, 'c': 1, 'd': 1, 'e': 1, 'f': 1, 'g': 1, 'h': 1, 'i': 1, 'j': 1, 'k': 1, 'l': 1, 'm': 1, 'n': 1, 'o': 1, 'p': 1, 'q': 1, 'r': 1, 's': 1, 't': 1, 'u': 1, 'v': 1, 'w': 1, 'x': 1, 'y': 1, 'z': 1})\n",
      "Counter({'a': 1, 'b': 1, 'c': 1, 'd': 1, 'e': 1, 'f': 1, 'g': 1, 'h': 1, 'i': 1, 'j': 1, 'k': 1, 'l': 1, 'm': 1, 'n': 1, 'o': 1, 'p': 1, 'q': 1, 'r': 1, 's': 1, 't': 1, 'u': 1, 'v': 1, 'w': 1, 'x': 1, 'y': 1, 'z': 1})\n",
      "Counter({'a': 1, 'b': 1, 'c': 1, 'd': 1, 'e': 1, 'f': 1, 'g': 1, 'h': 1, 'i': 1, 'j': 1, 'k': 1, 'l': 1, 'm': 1, 'n': 1, 'o': 1, 'p': 1, 'q': 1, 'r': 1, 's': 1, 't': 1, 'u': 1, 'v': 1, 'w': 1, 'x': 1, 'y': 1, 'z': 1})\n",
      "Counter({'a': 1, 'b': 1, 'c': 1, 'd': 1, 'e': 1, 'f': 1, 'g': 1, 'h': 1, 'i': 1, 'j': 1, 'k': 1, 'l': 1, 'm': 1, 'n': 1, 'o': 1, 'p': 1, 'q': 1, 'r': 1, 's': 1, 't': 1, 'u': 1, 'v': 1, 'w': 1, 'x': 1, 'y': 1, 'z': 1})\n",
      "Counter({'a': 1, 'b': 1, 'c': 1, 'd': 1, 'e': 1, 'f': 1, 'g': 1, 'h': 1, 'i': 1, 'j': 1, 'k': 1, 'l': 1, 'm': 1, 'n': 1, 'o': 1, 'p': 1, 'q': 1, 'r': 1, 's': 1, 't': 1, 'u': 1, 'v': 1, 'w': 1, 'x': 1, 'y': 1, 'z': 1})\n",
      "Counter({'a': 1, 'b': 1, 'c': 1, 'd': 1, 'e': 1, 'f': 1, 'g': 1, 'h': 1, 'i': 1, 'j': 1, 'k': 1, 'l': 1, 'm': 1, 'n': 1, 'o': 1, 'p': 1, 'q': 1, 'r': 1, 's': 1, 't': 1, 'u': 1, 'v': 1, 'w': 1, 'x': 1, 'y': 1, 'z': 1})\n",
      "Counter({'a': 1, 'b': 1, 'c': 1, 'd': 1, 'e': 1, 'f': 1, 'g': 1, 'h': 1, 'i': 1, 'j': 1, 'k': 1, 'l': 1, 'm': 1, 'n': 1, 'o': 1, 'p': 1, 'q': 1, 'r': 1, 's': 1, 't': 1, 'u': 1, 'v': 1, 'w': 1, 'x': 1, 'y': 1, 'z': 1})\n",
      "Counter({'a': 1, 'b': 1, 'c': 1, 'd': 1, 'e': 1, 'f': 1, 'g': 1, 'h': 1, 'i': 1, 'j': 1, 'k': 1, 'l': 1, 'm': 1, 'n': 1, 'o': 1, 'p': 1, 'q': 1, 'r': 1, 's': 1, 't': 1, 'u': 1, 'v': 1, 'w': 1, 'x': 1, 'y': 1, 'z': 1})\n",
      "Counter({'a': 1, 'b': 1, 'c': 1, 'd': 1, 'e': 1, 'f': 1, 'g': 1, 'h': 1, 'i': 1, 'j': 1, 'k': 1, 'l': 1, 'm': 1, 'n': 1, 'o': 1, 'p': 1, 'q': 1, 'r': 1, 's': 1, 't': 1, 'u': 1, 'v': 1, 'w': 1, 'x': 1, 'y': 1, 'z': 1})\n",
      "Counter({'a': 1, 'b': 1, 'c': 1, 'd': 1, 'e': 1, 'f': 1, 'g': 1, 'h': 1, 'i': 1, 'j': 1, 'k': 1, 'l': 1, 'm': 1, 'n': 1, 'o': 1, 'p': 1, 'q': 1, 'r': 1, 's': 1, 't': 1, 'u': 1, 'v': 1, 'w': 1, 'x': 1, 'y': 1, 'z': 1})\n",
      "Counter({'a': 1, 'b': 1, 'c': 1, 'd': 1, 'e': 1, 'f': 1, 'g': 1, 'h': 1, 'i': 1, 'j': 1, 'k': 1, 'l': 1, 'm': 1, 'n': 1, 'o': 1, 'p': 1, 'q': 1, 'r': 1, 's': 1, 't': 1, 'u': 1, 'v': 1, 'w': 1, 'x': 1, 'y': 1, 'z': 1})\n",
      "Counter({'a': 1, 'b': 1, 'c': 1, 'd': 1, 'e': 1, 'f': 1, 'g': 1, 'h': 1, 'i': 1, 'j': 1, 'k': 1, 'l': 1, 'm': 1, 'n': 1, 'o': 1, 'p': 1, 'q': 1, 'r': 1, 's': 1, 't': 1, 'u': 1, 'v': 1, 'w': 1, 'x': 1, 'y': 1, 'z': 1})\n",
      "Counter({'a': 1, 'b': 1, 'c': 1, 'd': 1, 'e': 1, 'f': 1, 'g': 1, 'h': 1, 'i': 1, 'j': 1, 'k': 1, 'l': 1, 'm': 1, 'n': 1, 'o': 1, 'p': 1, 'q': 1, 'r': 1, 's': 1, 't': 1, 'u': 1, 'v': 1, 'w': 1, 'x': 1, 'y': 1, 'z': 1})\n",
      "Counter({'a': 1, 'b': 1, 'c': 1, 'd': 1, 'e': 1, 'f': 1, 'g': 1, 'h': 1, 'i': 1, 'j': 1, 'k': 1, 'l': 1, 'm': 1, 'n': 1, 'o': 1, 'p': 1, 'q': 1, 'r': 1, 's': 1, 't': 1, 'u': 1, 'v': 1, 'w': 1, 'x': 1, 'y': 1, 'z': 1})\n",
      "Counter({'a': 1, 'b': 1, 'c': 1, 'd': 1, 'e': 1, 'f': 1, 'g': 1, 'h': 1, 'i': 1, 'j': 1, 'k': 1, 'l': 1, 'm': 1, 'n': 1, 'o': 1, 'p': 1, 'q': 1, 'r': 1, 's': 1, 't': 1, 'u': 1, 'v': 1, 'w': 1, 'x': 1, 'y': 1, 'z': 1})\n",
      "Counter({'a': 1, 'b': 1, 'c': 1, 'd': 1, 'e': 1, 'f': 1, 'g': 1, 'h': 1, 'i': 1, 'j': 1, 'k': 1, 'l': 1, 'm': 1, 'n': 1, 'o': 1, 'p': 1, 'q': 1, 'r': 1, 's': 1, 't': 1, 'u': 1, 'v': 1, 'w': 1, 'x': 1, 'y': 1, 'z': 1})\n",
      "Counter({'a': 1, 'b': 1, 'c': 1, 'd': 1, 'e': 1, 'f': 1, 'g': 1, 'h': 1, 'i': 1, 'j': 1, 'k': 1, 'l': 1, 'm': 1, 'n': 1, 'o': 1, 'p': 1, 'q': 1, 'r': 1, 's': 1, 't': 1, 'u': 1, 'v': 1, 'w': 1, 'x': 1, 'y': 1, 'z': 1})\n",
      "Counter({'a': 1, 'b': 1, 'c': 1, 'd': 1, 'e': 1, 'f': 1, 'g': 1, 'h': 1, 'i': 1, 'j': 1, 'k': 1, 'l': 1, 'm': 1, 'n': 1, 'o': 1, 'p': 1, 'q': 1, 'r': 1, 's': 1, 't': 1, 'u': 1, 'v': 1, 'w': 1, 'x': 1, 'y': 1, 'z': 1})\n",
      "Counter({'a': 1, 'b': 1, 'c': 1, 'd': 1, 'e': 1, 'f': 1, 'g': 1, 'h': 1, 'i': 1, 'j': 1, 'k': 1, 'l': 1, 'm': 1, 'n': 1, 'o': 1, 'p': 1, 'q': 1, 'r': 1, 's': 1, 't': 1, 'u': 1, 'v': 1, 'w': 1, 'x': 1, 'y': 1, 'z': 1})\n",
      "Counter({'a': 1, 'b': 1, 'c': 1, 'd': 1, 'e': 1, 'f': 1, 'g': 1, 'h': 1, 'i': 1, 'j': 1, 'k': 1, 'l': 1, 'm': 1, 'n': 1, 'o': 1, 'p': 1, 'q': 1, 'r': 1, 's': 1, 't': 1, 'u': 1, 'v': 1, 'w': 1, 'x': 1, 'y': 1, 'z': 1})\n",
      "Counter({'a': 1, 'b': 1, 'c': 1, 'd': 1, 'e': 1, 'f': 1, 'g': 1, 'h': 1, 'i': 1, 'j': 1, 'k': 1, 'l': 1, 'm': 1, 'n': 1, 'o': 1, 'p': 1, 'q': 1, 'r': 1, 's': 1, 't': 1, 'u': 1, 'v': 1, 'w': 1, 'x': 1, 'y': 1, 'z': 1})\n",
      "Counter({'a': 1, 'b': 1, 'c': 1, 'd': 1, 'e': 1, 'f': 1, 'g': 1, 'h': 1, 'i': 1, 'j': 1, 'k': 1, 'l': 1, 'm': 1, 'n': 1, 'o': 1, 'p': 1, 'q': 1, 'r': 1, 's': 1, 't': 1, 'u': 1, 'v': 1, 'w': 1, 'x': 1, 'y': 1, 'z': 1})\n",
      "Counter({'a': 1, 'b': 1, 'c': 1, 'd': 1, 'e': 1, 'f': 1, 'g': 1, 'h': 1, 'i': 1, 'j': 1, 'k': 1, 'l': 1, 'm': 1, 'n': 1, 'o': 1, 'p': 1, 'q': 1, 'r': 1, 's': 1, 't': 1, 'u': 1, 'v': 1, 'w': 1, 'x': 1, 'y': 1, 'z': 1})\n",
      "Counter({'a': 1, 'b': 1, 'c': 1, 'd': 1, 'e': 1, 'f': 1, 'g': 1, 'h': 1, 'i': 1, 'j': 1, 'k': 1, 'l': 1, 'm': 1, 'n': 1, 'o': 1, 'p': 1, 'q': 1, 'r': 1, 's': 1, 't': 1, 'u': 1, 'v': 1, 'w': 1, 'x': 1, 'y': 1, 'z': 1})\n",
      "Counter({'a': 1, 'b': 1, 'c': 1, 'd': 1, 'e': 1, 'f': 1, 'g': 1, 'h': 1, 'i': 1, 'j': 1, 'k': 1, 'l': 1, 'm': 1, 'n': 1, 'o': 1, 'p': 1, 'q': 1, 'r': 1, 's': 1, 't': 1, 'u': 1, 'v': 1, 'w': 1, 'x': 1, 'y': 1, 'z': 1})\n",
      "Counter({'a': 1, 'b': 1, 'c': 1, 'd': 1, 'e': 1, 'f': 1, 'g': 1, 'h': 1, 'i': 1, 'j': 1, 'k': 1, 'l': 1, 'm': 1, 'n': 1, 'o': 1, 'p': 1, 'q': 1, 'r': 1, 's': 1, 't': 1, 'u': 1, 'v': 1, 'w': 1, 'x': 1, 'y': 1, 'z': 1})\n",
      "Counter({'a': 1, 'b': 1, 'c': 1, 'd': 1, 'e': 1, 'f': 1, 'g': 1, 'h': 1, 'i': 1, 'j': 1, 'k': 1, 'l': 1, 'm': 1, 'n': 1, 'o': 1, 'p': 1, 'q': 1, 'r': 1, 's': 1, 't': 1, 'u': 1, 'v': 1, 'w': 1, 'x': 1, 'y': 1, 'z': 1})\n"
     ]
    }
   ],
   "source": [
    "import collections\n",
    "sentence = \"thequickbrownfoxjumpsoverthelazydog\"\n",
    "abc= \"abcdefghijklmnopqrstuvwxyz\"\n",
    "xc=collections.Counter(abc)\n",
    "print(xc)\n",
    "zx=collections.Counter(sentence)\n",
    "for px in zx.keys():\n",
    "    if px in xc.keys():\n",
    "        zx[px]-=1\n",
    "    print(xc)\n",
    "if sum(xc.values())==0:\n",
    "    print('true')\n",
    "\n"
   ]
  },
  {
   "cell_type": "code",
   "execution_count": 26,
   "metadata": {},
   "outputs": [
    {
     "name": "stdout",
     "output_type": "stream",
     "text": [
      "Initial stack\n",
      "['a', 'b', 'c']\n",
      "\n",
      "Elements poped from stack:\n",
      "c\n",
      "b\n",
      "a\n",
      "\n",
      "Stack after elements are poped:\n",
      "[]\n"
     ]
    }
   ],
   "source": [
    "# Python program to\n",
    "# demonstrate stack implementation\n",
    "# using list\n",
    "\n",
    "\n",
    "stack = []\n",
    "\n",
    "# append() function to push\n",
    "# element in the stack\n",
    "stack.append('a')\n",
    "stack.append('b')\n",
    "stack.append('c')\n",
    "\n",
    "print('Initial stack')\n",
    "print(stack)\n",
    "\n",
    "# pop() fucntion to pop\n",
    "# element from stack in\n",
    "# LIFO order\n",
    "print('\\nElements poped from stack:')\n",
    "print(stack.pop())\n",
    "print(stack.pop())\n",
    "print(stack.pop())\n",
    "\n",
    "print('\\nStack after elements are poped:')\n",
    "print(stack)\n",
    "\n",
    "# uncommenting print(stack.pop())\n",
    "# will cause an IndexError\n",
    "# as the stack is now empty\n"
   ]
  },
  {
   "cell_type": "markdown",
   "metadata": {},
   "source": [
    "# using colllections.deque:"
   ]
  },
  {
   "cell_type": "raw",
   "metadata": {},
   "source": [
    "Python stack can be implemented using deque class from collections module. Deque is preferred over list in the cases where we need quicker append and pop operations from both the ends of the container, as deque provides an O(1) time complexity for append and pop operations as compared to list which provides O(n) time complexity. \n",
    "The same methods on deque as seen in list are used, append() and pop()"
   ]
  },
  {
   "cell_type": "code",
   "execution_count": 27,
   "metadata": {},
   "outputs": [
    {
     "name": "stdout",
     "output_type": "stream",
     "text": [
      "Initial stack:\n",
      "deque(['a', 'b', 'c'])\n",
      "\n",
      "Elements poped from stack:\n",
      "c\n",
      "b\n",
      "a\n",
      "\n",
      "Stack after elements are poped:\n",
      "deque([])\n"
     ]
    }
   ],
   "source": [
    "# Python program to\n",
    "# demonstrate stack implementation\n",
    "# using collections.deque\n",
    "\n",
    "\n",
    "from collections import deque\n",
    "\n",
    "stack = deque()\n",
    "\n",
    "# append() function to push\n",
    "# element in the stack\n",
    "stack.append('a')\n",
    "stack.append('b')\n",
    "stack.append('c')\n",
    "\n",
    "print('Initial stack:')\n",
    "print(stack)\n",
    "\n",
    "# pop() fucntion to pop\n",
    "# element from stack in\n",
    "# LIFO order\n",
    "print('\\nElements poped from stack:')\n",
    "print(stack.pop())\n",
    "print(stack.pop())\n",
    "print(stack.pop())\n",
    "\n",
    "print('\\nStack after elements are poped:')\n",
    "print(stack)\n",
    "\n",
    "# uncommenting print(stack.pop())\n",
    "# will cause an IndexError\n",
    "# as the stack is now empty\n"
   ]
  },
  {
   "cell_type": "markdown",
   "metadata": {},
   "source": [
    "### Implementation using queue module\n",
    "Queue module also has a LIFO Queue, which is basically a Stack. Data is inserted into Queue using put() function and get() takes data out from the Queue. \n",
    "There are various functions available in this module: \n",
    " \n",
    "\n",
    "### maxsize – Number of items allowed in the queue.\n",
    "### empty() – Return True if the queue is empty, False otherwise.\n",
    "### full() – Return True if there are maxsize items in the queue. If the queue was initialized with maxsize=0 (the default), then full() never returns True.\n",
    "### get() – Remove and return an item from the queue. If queue is empty, wait until an item is available.\n",
    "### get_nowait() – Return an item if one is immediately available, else raise QueueEmpty.\n",
    "### put(item) – Put an item into the queue. If the queue is full, wait until a free slot is available before adding the item.\n",
    "put_nowait(item) – Put an item into the queue without blocking.\n",
    "#### qsize() – Return the number of items in the queue. If no free slot is immediately available, raise QueueFull."
   ]
  },
  {
   "cell_type": "code",
   "execution_count": 28,
   "metadata": {},
   "outputs": [
    {
     "name": "stdout",
     "output_type": "stream",
     "text": [
      "0\n",
      "Full:  True\n",
      "Size:  3\n",
      "\n",
      "Elements poped from the stack\n",
      "c\n",
      "b\n",
      "a\n",
      "\n",
      "Empty:  True\n"
     ]
    }
   ],
   "source": [
    "# Python program to\n",
    "# demonstrate stack implementation\n",
    "# using queue module\n",
    "\n",
    "\n",
    "from queue import LifoQueue\n",
    "\n",
    "# Initializing a stack\n",
    "stack = LifoQueue(maxsize = 3)\n",
    "\n",
    "# qsize() show the number of elements\n",
    "# in the stack\n",
    "print(stack.qsize())\n",
    "\n",
    "# put() function to push\n",
    "# element in the stack\n",
    "stack.put('a')\n",
    "stack.put('b')\n",
    "stack.put('c')\n",
    "\n",
    "print(\"Full: \", stack.full())\n",
    "print(\"Size: \", stack.qsize())\n",
    "\n",
    "# get() fucntion to pop\n",
    "# element from stack in\n",
    "# LIFO order\n",
    "print('\\nElements poped from the stack')\n",
    "print(stack.get())\n",
    "print(stack.get())\n",
    "print(stack.get())\n",
    "\n",
    "print(\"\\nEmpty: \", stack.empty())\n"
   ]
  },
  {
   "cell_type": "raw",
   "metadata": {},
   "source": [
    "Implementation using singly linked list\n",
    "The linked list has two methods addHead(item) and removeHead() that run in constant time. These two methods are suitable to implement a stack. \n",
    "\n",
    "getSize()– Get the number of items in the stack.\n",
    "isEmpty() – Return True if the stack is empty, False otherwise.\n",
    "peek() – Return the top item in the stack. If the stack is empty, raise an exception.\n",
    "push(value) – Push a value into the head of the stack.\n",
    "pop() – Remove and return a value in the head of the stack. If the stack is empty, raise an exception."
   ]
  },
  {
   "cell_type": "code",
   "execution_count": null,
   "metadata": {},
   "outputs": [],
   "source": [
    "# Python program to demonstrate\n",
    "# stack implementation using a linked list.\n",
    "# node class\n",
    "class Node:\n",
    "def __init__(self, value):\n",
    "\tself.value = value\n",
    "\tself.next = None\n",
    "\n",
    "class Stack:\n",
    "\t\n",
    "# Initializing a stack.\n",
    "# Use a dummy node, which is\n",
    "# easier for handling edge cases.\n",
    "def __init__(self):\n",
    "\tself.head = Node(\"head\")\n",
    "\tself.size = 0\n",
    "\n",
    "# String representation of the stack\n",
    "def __str__(self):\n",
    "\tcur = self.head.next\n",
    "\tout = \"\"\n",
    "\twhile cur:\n",
    "\t\tout += str(cur.value) + \"->\"\n",
    "\t\tcur = cur.next\n",
    "\treturn out[:-3]\n",
    "\n",
    "# Get the current size of the stack\n",
    "def getSize(self):\n",
    "\treturn self.size\n",
    "\t\n",
    "# Check if the stack is empty\n",
    "def isEmpty(self):\n",
    "\treturn self.size == 0\n",
    "\t\n",
    "# Get the top item of the stack\n",
    "def peek(self):\n",
    "\t\n",
    "\t# Sanitary check to see if we\n",
    "\t# are peeking an empty stack.\n",
    "\tif self.isEmpty():\n",
    "\t\traise Exception(\"Peeking from an empty stack\")\n",
    "\treturn self.head.next.value\n",
    "\n",
    "# Push a value into the stack.\n",
    "def push(self, value):\n",
    "\tnode = Node(value)\n",
    "\tnode.next = self.head.next\n",
    "\tself.head.next = node\n",
    "\tself.size += 1\n",
    "\t\n",
    "# Remove a value from the stack and return.\n",
    "def pop(self):\n",
    "\tif self.isEmpty():\n",
    "\t\traise Exception(\"Popping from an empty stack\")\n",
    "\tremove = self.head.next\n",
    "\tself.head.next = self.head.next.next\n",
    "\tself.size -= 1\n",
    "\treturn remove.value\n",
    "\n",
    "# Driver Code\n",
    "if __name__ == \"__main__\":\n",
    "stack = Stack()\n",
    "for i in range(1, 11):\n",
    "\tstack.push(i)\n",
    "print(f\"Stack: {stack}\")\n",
    "\n",
    "for _ in range(1, 6):\n",
    "\tremove = stack.pop()\n",
    "\tprint(f\"Pop: {remove}\")\n",
    "print(f\"Stack: {stack}\")\n"
   ]
  },
  {
   "cell_type": "code",
   "execution_count": null,
   "metadata": {},
   "outputs": [],
   "source": []
  }
 ],
 "metadata": {
  "kernelspec": {
   "display_name": "Python 3",
   "language": "python",
   "name": "python3"
  },
  "language_info": {
   "codemirror_mode": {
    "name": "ipython",
    "version": 3
   },
   "file_extension": ".py",
   "mimetype": "text/x-python",
   "name": "python",
   "nbconvert_exporter": "python",
   "pygments_lexer": "ipython3",
   "version": "3.8.5"
  }
 },
 "nbformat": 4,
 "nbformat_minor": 4
}
