{
 "cells": [
  {
   "cell_type": "markdown",
   "metadata": {},
   "source": [
    "# List of string in list of list"
   ]
  },
  {
   "cell_type": "code",
   "execution_count": 3,
   "metadata": {},
   "outputs": [
    {
     "name": "stdout",
     "output_type": "stream",
     "text": [
      "['hello for ask python', 'hello']\n",
      "['hello for ask python', 'hello']\n"
     ]
    }
   ],
   "source": [
    "ls = ['hello for ask python','hello', 'hi']\n",
    "matches = [x for x in ls if \"hello\" in x]\n",
    "print(matches)\n",
    "m = []\n",
    "for x in ls:\n",
    "    if \"hello\" in x:\n",
    "        m.append(x)\n",
    "print(m)"
   ]
  },
  {
   "cell_type": "markdown",
   "metadata": {},
   "source": []
  },
  {
   "cell_type": "code",
   "execution_count": 8,
   "metadata": {},
   "outputs": [
    {
     "name": "stdout",
     "output_type": "stream",
     "text": [
      "2\n"
     ]
    }
   ],
   "source": [
    "items = [[\"phone\",\"blue\",\"pixel\"],[\"computer\",\"silver\",\"phone\"],[\"phone\",\"gold\",\"iphone\"]]\n",
    "ruleKey = \"type\"\n",
    "ruleValue = \"phone\"\n",
    "\n",
    "if ruleKey == \"color\":\n",
    "    a = 1\n",
    "elif ruleKey == \"type\":\n",
    "    a = 0\n",
    "elif rulekey == \"name\":\n",
    "    a = 2\n",
    "m = []\n",
    "for x in items:\n",
    "    if ruleValue in x and x[a]== ruleValue:\n",
    "        m.append(x)\n",
    "        \n",
    "print(len(m))"
   ]
  },
  {
   "cell_type": "code",
   "execution_count": null,
   "metadata": {},
   "outputs": [],
   "source": [
    "One line, reasonably efficient:\n",
    "\n",
    "class Solution: countMatches = lambda _,A,k,v: \\\n",
    "  sum(x[{'t':0,'c':1,'n':2}[k[0]]] == v for x in A)\n",
    "Slightly shorter, slightly slower:\n",
    "\n",
    "class Solution: countMatches = lambda _,A,k,v: \\\n",
    "  sum(x['tcn'.index(k[0])] == v for x in A)"
   ]
  },
  {
   "cell_type": "code",
   "execution_count": null,
   "metadata": {},
   "outputs": [],
   "source": [
    "class Solution:\n",
    "    def countMatches(self, items: List[List[str]], ruleKey: str, ruleValue: str) -> int:\n",
    "        dict = {'type': 0, 'color': 1, 'name': 2}\n",
    "        output = 0\n",
    "        \n",
    "        for i in items:\n",
    "            if i[dict[ruleKey]] == ruleValue:\n",
    "                output += 1\n",
    "        return output"
   ]
  },
  {
   "cell_type": "code",
   "execution_count": null,
   "metadata": {},
   "outputs": [],
   "source": [
    "def countMatches(self, items: List[List[str]], ruleKey: str, ruleValue: str) -> int:\n",
    "    ruleArr = [\"type\", \"color\", \"name\"]\n",
    "    count = 0\n",
    "    for i in items:\n",
    "        if (i[ruleArr.index(ruleKey)] == ruleValue):\n",
    "            count += 1\n",
    "    return count"
   ]
  },
  {
   "cell_type": "markdown",
   "metadata": {},
   "source": [
    "# Minimum Operations to Make the Array Increasing\n",
    "\n",
    "You are given an integer array nums (0-indexed). In one operation, you can choose an element of the array and increment it by 1.\n",
    "\n",
    "For example, if nums = [1,2,3], you can choose to increment nums[1] to make nums = [1,3,3].\n",
    "Return the minimum number of operations needed to make nums strictly increasing.\n",
    "\n",
    "An array nums is strictly increasing if nums[i] < nums[i+1] for all 0 <= i < nums.length - 1. An array of length 1 is trivially strictly increasing.\n",
    "\n",
    " \n",
    "\n",
    "Example 1:\n",
    "\n",
    "Input: nums = [1,1,1]\n",
    "Output: 3\n",
    "Explanation: You can do the following operations:\n",
    "1) Increment nums[2], so nums becomes [1,1,2].\n",
    "2) Increment nums[1], so nums becomes [1,2,2].\n",
    "3) Increment nums[2], so nums becomes [1,2,3].\n",
    "Example 2:\n",
    "\n",
    "Input: nums = [1,5,2,4,1]\n",
    "Output: 14\n",
    "Example 3:\n",
    "\n",
    "Input: nums = [8]\n",
    "Output: 0"
   ]
  },
  {
   "cell_type": "code",
   "execution_count": null,
   "metadata": {},
   "outputs": [],
   "source": [
    "step=0\n",
    "for i in range(len(nums)-1):\n",
    "if nums[i+1]<=nums[i]:\n",
    "temp=nums[i]-nums[i+1]+1\n",
    "step+=temp\n",
    "nums[i+1]=nums[i]+1\n",
    "return step"
   ]
  },
  {
   "cell_type": "code",
   "execution_count": null,
   "metadata": {},
   "outputs": [],
   "source": [
    "class Solution:\n",
    "    def minOperations(self, nums: List[int]) -> int:\n",
    "        if len(nums) == 1:\n",
    "            return 0\n",
    "        res = 0\n",
    "        for i in range(1, len(nums)):\n",
    "            res += (nums[i-1] + 1) - nums[i] if nums[i] <= nums[i-1] else 0\n",
    "            nums[i] = nums[i-1] + 1 if nums[i] <= nums[i-1] else nums[i]\n",
    "        return res"
   ]
  },
  {
   "cell_type": "code",
   "execution_count": null,
   "metadata": {},
   "outputs": [],
   "source": [
    "class Solution:\n",
    "    def minOperations(self, nums: List[int]) -> int:\n",
    "        ans = 0\n",
    "        \n",
    "        for i in range(1, len(nums)):\n",
    "            if nums[i] <= nums[i-1]:\n",
    "                ans += (nums[i-1] + 1 - nums[i])\n",
    "                nums[i] = nums[i-1] + 1\n",
    "        \n",
    "        return ans"
   ]
  },
  {
   "cell_type": "code",
   "execution_count": null,
   "metadata": {},
   "outputs": [],
   "source": [
    "class Solution:\n",
    "    def minOperations(self, nums: List[int]) -> int:\n",
    "        res=0\n",
    "        for i in range(1,len(nums)):\n",
    "            diff=max(nums[i-1]+1,nums[i])-nums[i]\n",
    "            res+=diff\n",
    "            nums[i]+=diff\n",
    "        return res"
   ]
  },
  {
   "cell_type": "code",
   "execution_count": null,
   "metadata": {},
   "outputs": [],
   "source": [
    "class Solution:\n",
    "    def minOperations(self, nums: List[int]) -> int:\n",
    "        n = len(nums)\n",
    "\t\t#output variable\n",
    "        op = 0\n",
    "\t\t\n",
    "\t\t#looping from 1 to n-1\n",
    "        for i in range(1,n):\n",
    "\t\t#If current elements is smaller than previous \n",
    "            if nums[i] <= nums[i-1]:\n",
    "\t\t\t#then add the difference of (prevElement + 1) and currElement into the output variable\n",
    "                op += (nums[i-1] + 1) - nums[i]\n",
    "\t\t\t\t#and also update the value of current value to be (prevElement+1) so that increasing order must be maintained\n",
    "                nums[i] = nums[i-1]+1\n",
    "        \n",
    "\t\t#return the output\n",
    "        return op"
   ]
  },
  {
   "cell_type": "code",
   "execution_count": null,
   "metadata": {},
   "outputs": [],
   "source": [
    "class Solution:\n",
    "    def minOperations(self, nums: List[int]) -> int:\n",
    "        n=len(nums)\n",
    "        s=0\n",
    "        for i in range(n-1):\n",
    "            if nums[i]>=nums[i+1]:\n",
    "                s+=nums[i]-nums[i+1]+1\n",
    "                nums[i+1]=nums[i]+1\n",
    "        return s"
   ]
  },
  {
   "cell_type": "code",
   "execution_count": null,
   "metadata": {},
   "outputs": [],
   "source": [
    "class Solution:\n",
    "    def minOperations(self, nums: List[int]) -> int:\n",
    "        ops = 0\n",
    "        for i in range(1,len(nums)):\n",
    "            if nums[i] > nums[i-1]:\n",
    "                continue\n",
    "            ops += ((nums[i-1] + 1)-nums[i]) \n",
    "            nums[i] = nums[i-1] + 1\n",
    "        return ops"
   ]
  },
  {
   "cell_type": "code",
   "execution_count": null,
   "metadata": {},
   "outputs": [],
   "source": [
    "class Solution(object):\n",
    "    def minOperations(self, nums):\n",
    "        res = 0\n",
    "        for i in range(1,len(nums)):\n",
    "            if nums[i]<=nums[i-1]:\n",
    "                diff = nums[i-1]-nums[i]+1\n",
    "                res += diff\n",
    "                nums[i] = nums[i-1]+1\n",
    "        return res"
   ]
  },
  {
   "cell_type": "code",
   "execution_count": null,
   "metadata": {},
   "outputs": [],
   "source": [
    "def minOperations(self, nums: List[int]) -> int:\n",
    "t=nums[0]\n",
    "ans=0\n",
    "for i in range(1,len(nums)):\n",
    "if nums[i]<=t:\n",
    "ans+=t-nums[i]+1\n",
    "nums[i]=t+1\n",
    "t=nums[i]\n",
    "return ans"
   ]
  },
  {
   "cell_type": "code",
   "execution_count": null,
   "metadata": {},
   "outputs": [],
   "source": []
  },
  {
   "cell_type": "code",
   "execution_count": null,
   "metadata": {},
   "outputs": [],
   "source": []
  }
 ],
 "metadata": {
  "kernelspec": {
   "display_name": "Python 3",
   "language": "python",
   "name": "python3"
  },
  "language_info": {
   "codemirror_mode": {
    "name": "ipython",
    "version": 3
   },
   "file_extension": ".py",
   "mimetype": "text/x-python",
   "name": "python",
   "nbconvert_exporter": "python",
   "pygments_lexer": "ipython3",
   "version": "3.8.5"
  }
 },
 "nbformat": 4,
 "nbformat_minor": 4
}
