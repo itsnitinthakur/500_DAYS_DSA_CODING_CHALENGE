{
 "cells": [
  {
   "cell_type": "code",
   "execution_count": null,
   "metadata": {},
   "outputs": [],
   "source": []
  },
  {
   "cell_type": "code",
   "execution_count": 4,
   "metadata": {},
   "outputs": [
    {
     "name": "stdout",
     "output_type": "stream",
     "text": [
      "13\n"
     ]
    }
   ],
   "source": [
    "a = [-1,2,-1,4,7,-1,6,8]\n",
    "k=3\n",
    "i=0\n",
    "j=k-1\n",
    "s=0\n",
    "best=0\n",
    "while j<=len(a)-1 :\n",
    "    if a[i]<0:\n",
    "        \n",
    "        s= sum(a[i:j+1])\n",
    "        best=max(best,s)\n",
    "    i+=1\n",
    "    j+=1\n",
    "print(best)"
   ]
  },
  {
   "cell_type": "code",
   "execution_count": 15,
   "metadata": {},
   "outputs": [
    {
     "name": "stdout",
     "output_type": "stream",
     "text": [
      "[0, 6]\n"
     ]
    }
   ],
   "source": [
    "import collections\n",
    "s = \"cbaebabacd\"\n",
    "p = \"abc\"\n",
    "c = collections.Counter(p)\n",
    "f=[]\n",
    "m=0\n",
    "l = len(p)\n",
    "i=0\n",
    "j=l-1\n",
    "q=\"\"\n",
    "while j<=len(s)-1:\n",
    "    q=s[i:j+1]\n",
    "    z = collections.Counter(q)\n",
    "    if z==c:\n",
    "        f.append(i)\n",
    "    z=0\n",
    "    i+=1\n",
    "    j+=1\n",
    "print(f)\n"
   ]
  },
  {
   "cell_type": "code",
   "execution_count": 10,
   "metadata": {},
   "outputs": [
    {
     "name": "stdout",
     "output_type": "stream",
     "text": [
      "Counter({'a': 1, 'b': 1, 'c': 1})\n"
     ]
    }
   ],
   "source": [
    "import collections\n",
    "p = \"abc\"\n",
    "c = collections.Counter(p)\n",
    "\n",
    "print(c)"
   ]
  },
  {
   "cell_type": "markdown",
   "metadata": {},
   "source": [
    "# REFERENCE TO DAY_24"
   ]
  },
  {
   "cell_type": "markdown",
   "metadata": {},
   "source": [
    "# Permutation in String\n",
    "\n",
    "Given two strings s1 and s2, return true if s2 contains the permutation of s1.\n",
    "\n",
    "In other words, one of s1's permutations is the substring of s2.\n",
    "\n",
    " \n",
    "\n",
    "Example 1:\n",
    "\n",
    "Input: s1 = \"ab\", s2 = \"eidbaooo\"\n",
    "Output: true\n",
    "Explanation: s2 contains one permutation of s1 (\"ba\").\n",
    "Example 2:\n",
    "\n",
    "Input: s1 = \"ab\", s2 = \"eidboaoo\"\n",
    "Output: false\n",
    " \n",
    "\n",
    "Constraints:\n",
    "\n",
    "1 <= s1.length, s2.length <= 104\n",
    "s1 and s2 consist of lowercase English letters."
   ]
  },
  {
   "cell_type": "code",
   "execution_count": null,
   "metadata": {},
   "outputs": [],
   "source": [
    "import collections\n",
    "class Solution:\n",
    "    def checkInclusion(self, s1: str, s2: str) -> bool:\n",
    "        c= collections.Counter(s1)\n",
    "        l = len(s1)\n",
    "        i=0\n",
    "        j=l-1\n",
    "        q=\"\"\n",
    "        g=0\n",
    "        while j<=len(s2)-1:\n",
    "            q=s2[i:j+1]\n",
    "            z = collections.Counter(q)\n",
    "            if z==c:\n",
    "                g+=1\n",
    "            z=0\n",
    "            i+=1\n",
    "            j+=1\n",
    "        return g!=0"
   ]
  },
  {
   "cell_type": "code",
   "execution_count": null,
   "metadata": {},
   "outputs": [],
   "source": [
    "class Solution:\n",
    "    def checkInclusion(self, s1: str, s2: str) -> bool:\n",
    "        s1=\"\".join(sorted(s1))\n",
    "        k=len(s1)\n",
    "        for i in range((len(s2)-len(s1))+1):\n",
    "            if s1==\"\".join(sorted(s2[i:k+i])):\n",
    "                return True \n",
    "        return False \n",
    "    \n",
    "    \n",
    "    #simply sort group of  charcters with size of first string and sort while doing it\n",
    "    #sliding window \n",
    "    # ei sort==ab \n",
    "    # id sort ==ab\n",
    "    # db sort ==ab \n",
    "    # ba sort==ab \n",
    "    # like that"
   ]
  },
  {
   "cell_type": "code",
   "execution_count": null,
   "metadata": {},
   "outputs": [],
   "source": [
    "class Solution:\n",
    "    def checkInclusion(self, s1: str, s2: str) -> bool:\n",
    "        c1=Counter(s1);l1=len(s1);c2=Counter(s2[0:l1]);k=0\n",
    "        if c2==c1:return True\n",
    "        for i in range(l1,len(s2)):\n",
    "            c2[s2[i]]+=1;c2[s2[k]]-=1;k+=1;\n",
    "            if all(c2[k]==c1[k] for k in c2 if c2[k]>0):return True\n",
    "        return False"
   ]
  },
  {
   "cell_type": "code",
   "execution_count": null,
   "metadata": {},
   "outputs": [],
   "source": [
    "class Solution:\n",
    "    def checkInclusion(self, s1: str, s2: str) -> bool:\n",
    "        s1=sorted(s1)\n",
    "        l=len(s2)-len(s1)\n",
    "        for i in range(l+1):\n",
    "            d=sorted(s2[i:i+len(s1)])\n",
    "            if(d==s1):\n",
    "                return True\n",
    "        return False"
   ]
  },
  {
   "cell_type": "markdown",
   "metadata": {},
   "source": [
    "#### Explanation\n",
    "A substring s in s2 is equal to a permutation of the string s1 if len(s) = len(s1) and both contain the same letters with the same frequency.\n",
    "The idea now is to use a hashtable to keep track of the balance of a letter. The first entry corresponds to \"a\", the second to \"b\" and so forth up to \"z\". The balance of a letter is defined as its frequency in s1 minus its frequency in the currently examined substring in s2. In the beginning, the balance of a letter equals to its frequency in s1.\n",
    "In the next step, we loop through the letters in s2 and for each given letter, we subtract 1 from its balance. Whenever a balance reaches 0, a counter which keeps track of the number of unbalanced characters will be reduced by one. However, if a balance reaches -1, the counter will be increased by 1 since a new letter is unbalanced. We also increase the balance of the letter by 1 which can be found len(s1) positions left from the given letter and treat the counter in the same manner as already explained. This guarantees that we only consider the letters of substrings of length len(s1). If the counter reaches 0, True will be returned since it marks that both, s1 and the substring, contain the same letters with the same frequency."
   ]
  },
  {
   "cell_type": "code",
   "execution_count": null,
   "metadata": {},
   "outputs": [],
   "source": [
    "class Solution:\n",
    "    def checkInclusion(self, s1: str, s2: str) -> bool:\n",
    "        if len(s1) > len(s2):\n",
    "            return False\n",
    "        \n",
    "        letter_to_balance = [0] * 26\n",
    "        unbalanced_letters = 0\n",
    "        offset = ord(\"a\")\n",
    "        \n",
    "        for letter in s1:\n",
    "            index = ord(letter) - offset\n",
    "            letter_to_balance[index] += 1\n",
    "            \n",
    "            if letter_to_balance[index] == 1:\n",
    "                unbalanced_letters += 1\n",
    "                \n",
    "        for i in range(len(s2)):\n",
    "            left = i - len(s1)\n",
    "            \n",
    "            if left >= 0:\n",
    "                index = ord(s2[left]) - offset\n",
    "                letter_to_balance[index] += 1\n",
    "                \n",
    "                if letter_to_balance[index] == 0:\n",
    "                    unbalanced_letters -= 1\n",
    "                elif letter_to_balance[index] == 1:\n",
    "                    unbalanced_letters += 1\n",
    "                else:\n",
    "                    pass\n",
    "                   \n",
    "            index = ord(s2[i]) - offset\n",
    "            letter_to_balance[index] -= 1\n",
    "            \n",
    "            if letter_to_balance[index] == 0:\n",
    "                unbalanced_letters -= 1\n",
    "            elif letter_to_balance[index] == -1:\n",
    "                unbalanced_letters += 1\n",
    "            else:\n",
    "                pass\n",
    "            \n",
    "            if unbalanced_letters == 0:\n",
    "                return True\n",
    "            \n",
    "        return False"
   ]
  },
  {
   "cell_type": "code",
   "execution_count": null,
   "metadata": {},
   "outputs": [],
   "source": [
    "# fastest\n",
    "class Solution:\n",
    "    def checkInclusion(self, s1: str, s2: str) -> bool:\n",
    "        s1_count = Counter(s1)\n",
    "        window_size = len(s1)\n",
    "        ddict = defaultdict(int)\n",
    "        \n",
    "        for i, s in enumerate(s2):\n",
    "            idx = i - window_size\n",
    "            if idx >= 0:\n",
    "                ddict[s2[idx]] -= 1\n",
    "                if ddict[s2[idx]] == 0:\n",
    "                    ddict.pop(s2[idx])\n",
    "            ddict[s] += 1\n",
    "            if s1_count == ddict:\n",
    "                return True\n",
    "        return False"
   ]
  },
  {
   "cell_type": "markdown",
   "metadata": {},
   "source": [
    "We make a dictionary of the first string, and then go through the second one to see if it matches the same number of characters, no matter the order. The tricky part is, if you find a character from the first string but it's already seen enough times what do you do? In this case we just go back to our current streak length until we find the repeated character, making sure to update all the characters we find along the way. This will make sure we are registering the best possible streak from our current position.\n",
    "The cost of making the first dict is O(n), going through the second string without the special case occuring is clearly O(n), and when this special case actually occurs we just go through the past characters at most once, as we update our current streak starting poisition and thus we will never go through them ever again, and thus at most O(2n) = O(n)."
   ]
  },
  {
   "cell_type": "code",
   "execution_count": null,
   "metadata": {},
   "outputs": [],
   "source": [
    "class Solution:\n",
    "    def checkInclusion(self, s1: str, s2: str) -> bool:\n",
    "        d = {}\n",
    "        for e in s1:\n",
    "            if not e in d:\n",
    "                d[e] = 1\n",
    "            else:\n",
    "                d[e] += 1\n",
    "        l = 0\n",
    "        daux = dict(d)\n",
    "        for i in range(len(s2)):\n",
    "            c = s2[i]\n",
    "            if not c in d:\n",
    "                d = dict(daux)\n",
    "                l = 0\n",
    "            elif d[c] == 0:                \n",
    "                for j in range(i - l, i):\n",
    "                    c2 = s2[j]\n",
    "                    if c2 == c:\n",
    "                        break                      \n",
    "                    d[c2] += 1\n",
    "                    l -= 1\n",
    "            else:\n",
    "                l += 1\n",
    "                if l == len(s1):\n",
    "                    return True\n",
    "                d[c] -= 1\n",
    "        return False"
   ]
  },
  {
   "cell_type": "code",
   "execution_count": null,
   "metadata": {},
   "outputs": [],
   "source": [
    "from collections import Counter\n",
    "class Solution:\n",
    "    def checkInclusion(self, s1: str, s2: str) -> bool:\n",
    "        \n",
    "        if len(s1) > len(s2):\n",
    "            return False\n",
    "            \n",
    "        m = len(s1)\n",
    "        \n",
    "        counts1 = Counter(s1)\n",
    "        \n",
    "        \n",
    "        \n",
    "        start = 0\n",
    "        while start + m <= len(s2):\n",
    "            thewindow = s2[start:start+m]\n",
    "            thewindowcount = Counter(thewindow)\n",
    "            if thewindowcount == counts1:\n",
    "                return True\n",
    "            diff = sum((thewindowcount - counts1).values())\n",
    "            start +=diff\n",
    "    \n",
    "        return False"
   ]
  },
  {
   "cell_type": "code",
   "execution_count": null,
   "metadata": {},
   "outputs": [],
   "source": []
  },
  {
   "cell_type": "code",
   "execution_count": null,
   "metadata": {},
   "outputs": [],
   "source": []
  },
  {
   "cell_type": "code",
   "execution_count": null,
   "metadata": {},
   "outputs": [],
   "source": []
  }
 ],
 "metadata": {
  "kernelspec": {
   "display_name": "Python 3",
   "language": "python",
   "name": "python3"
  },
  "language_info": {
   "codemirror_mode": {
    "name": "ipython",
    "version": 3
   },
   "file_extension": ".py",
   "mimetype": "text/x-python",
   "name": "python",
   "nbconvert_exporter": "python",
   "pygments_lexer": "ipython3",
   "version": "3.8.5"
  }
 },
 "nbformat": 4,
 "nbformat_minor": 4
}
