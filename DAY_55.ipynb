{
 "cells": [
  {
   "cell_type": "markdown",
   "metadata": {},
   "source": [
    "# Duplicates"
   ]
  },
  {
   "cell_type": "code",
   "execution_count": null,
   "metadata": {},
   "outputs": [],
   "source": [
    "# using hash tables\n",
    "class Solution:\n",
    "    def containsDuplicate(self, nums: List[int]) -> bool:\n",
    "        m={}\n",
    "        for i in nums:\n",
    "            if i not in m:\n",
    "                m[i]=True\n",
    "        return len(m)!=len(nums)"
   ]
  },
  {
   "cell_type": "markdown",
   "metadata": {},
   "source": [
    "# missing number"
   ]
  },
  {
   "cell_type": "code",
   "execution_count": null,
   "metadata": {},
   "outputs": [],
   "source": [
    "#5.82 % faster,50 percent space complexity\n",
    "class Solution:\n",
    "    def missingNumber(self, nums: List[int]):\n",
    "        n=len(nums)\n",
    "        for i in range(n+1):\n",
    "            if i not in nums:\n",
    "                return i"
   ]
  },
  {
   "cell_type": "code",
   "execution_count": null,
   "metadata": {},
   "outputs": [],
   "source": [
    "#using mathmatics\n",
    "class Solution:\n",
    "    def missingNumber(self, nums: List[int]):\n",
    "        n=len(nums)\n",
    "        s=(n*(n+1))/2\n",
    " \n",
    "    return int(s-sum(nums))"
   ]
  },
  {
   "cell_type": "markdown",
   "metadata": {},
   "source": [
    "# disppared numbers"
   ]
  },
  {
   "cell_type": "code",
   "execution_count": 4,
   "metadata": {},
   "outputs": [
    {
     "name": "stdout",
     "output_type": "stream",
     "text": [
      "[5, 6]\n"
     ]
    }
   ],
   "source": [
    "a = [4,3,2,7,8,2,3,1]\n",
    "m={}\n",
    "l=len(a)\n",
    "z=[]\n",
    "for i in a:\n",
    "    if i not in m:\n",
    "        m[i]=True\n",
    "    else:\n",
    "        pass\n",
    "for i in range(1,l+1):\n",
    "    if i not in m:\n",
    "        z.append(i)\n",
    "print(z)"
   ]
  },
  {
   "cell_type": "code",
   "execution_count": 13,
   "metadata": {},
   "outputs": [
    {
     "name": "stdout",
     "output_type": "stream",
     "text": [
      "8.0\n",
      "6.0\n"
     ]
    }
   ],
   "source": [
    "a = [4,3,2,7,8,2,3,1]\n",
    "n=len(a)\n",
    "square=[x**2 for x in a]\n",
    "sumofn1=(n*(n+1))/2\n",
    "sumofn2=(n*(n+1)*(2*n+1))/6\n",
    "sumofa1=sum(a)\n",
    "sumofa2=sum(square)\n",
    "diff1=sumofn1-sumofa1\n",
    "diff2=sumofn2-sumofa2\n",
    "bpluse=diff2/diff1\n",
    "bminuse=diff1\n",
    "print(bpluse)\n",
    "print(bminuse)"
   ]
  },
  {
   "cell_type": "code",
   "execution_count": null,
   "metadata": {},
   "outputs": [],
   "source": []
  },
  {
   "cell_type": "code",
   "execution_count": null,
   "metadata": {},
   "outputs": [],
   "source": []
  },
  {
   "cell_type": "code",
   "execution_count": null,
   "metadata": {},
   "outputs": [],
   "source": []
  }
 ],
 "metadata": {
  "kernelspec": {
   "display_name": "Python 3",
   "language": "python",
   "name": "python3"
  },
  "language_info": {
   "codemirror_mode": {
    "name": "ipython",
    "version": 3
   },
   "file_extension": ".py",
   "mimetype": "text/x-python",
   "name": "python",
   "nbconvert_exporter": "python",
   "pygments_lexer": "ipython3",
   "version": "3.8.5"
  }
 },
 "nbformat": 4,
 "nbformat_minor": 4
}
