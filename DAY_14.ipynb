{
 "cells": [
  {
   "cell_type": "code",
   "execution_count": 11,
   "metadata": {},
   "outputs": [
    {
     "name": "stdout",
     "output_type": "stream",
     "text": [
      "true\n"
     ]
    }
   ],
   "source": [
    "nums = [4,3,2]\n",
    "m = min(nums[1:len(nums)])\n",
    "if m>1:\n",
    "    print('true')\n",
    "if m==1:\n",
    "    print('false')"
   ]
  },
  {
   "cell_type": "code",
   "execution_count": 18,
   "metadata": {},
   "outputs": [],
   "source": [
    "nums = [4,3,2]\n",
    "n=len(nums)\n",
    "m = min(nums[1:n])\n",
    "c=0\n",
    "if m>1:\n",
    "    for i in range(n):\n",
    "        nums.insert(i,1)\n",
    "        for j in range(n):\n",
    "            if nums[i]<= nums[i+1]:\n",
    "                c=1\n",
    "            else:\n",
    "                c=0\n",
    "if m==1 or c==0:\n",
    "    print('False') "
   ]
  },
  {
   "cell_type": "code",
   "execution_count": 19,
   "metadata": {},
   "outputs": [
    {
     "data": {
      "text/plain": [
       "2.5"
      ]
     },
     "execution_count": 19,
     "metadata": {},
     "output_type": "execute_result"
    }
   ],
   "source": [
    "5/2"
   ]
  },
  {
   "cell_type": "code",
   "execution_count": 21,
   "metadata": {},
   "outputs": [
    {
     "data": {
      "text/plain": [
       "3"
      ]
     },
     "execution_count": 21,
     "metadata": {},
     "output_type": "execute_result"
    }
   ],
   "source": [
    "6//2"
   ]
  },
  {
   "cell_type": "markdown",
   "metadata": {},
   "source": [
    "# Distribute Candies\n",
    "\n",
    "Alice has n candies, where the ith candy is of type candyType[i]. Alice noticed that she started to gain weight, so she visited a doctor.\n",
    "\n",
    "The doctor advised Alice to only eat n / 2 of the candies she has (n is always even). Alice likes her candies very much, and she wants to eat the maximum number of different types of candies while still following the doctor's advice.\n",
    "\n",
    "Given the integer array candyType of length n, return the maximum number of different types of candies she can eat if she only eats n / 2 of them.\n",
    "\n",
    " \n",
    "\n",
    "Example 1:\n",
    "\n",
    "Input: candyType = [1,1,2,2,3,3]\n",
    "Output: 3\n",
    "Explanation: Alice can only eat 6 / 2 = 3 candies. Since there are only 3 types, she can eat one of each type.\n",
    "Example 2:\n",
    "\n",
    "Input: candyType = [1,1,2,3]\n",
    "Output: 2\n",
    "Explanation: Alice can only eat 4 / 2 = 2 candies. Whether she eats types [1,2], [1,3], or [2,3], she still can only eat 2 different types.\n",
    "Example 3:\n",
    "\n",
    "Input: candyType = [6,6,6,6]\n",
    "Output: 1\n",
    "Explanation: Alice can only eat 4 / 2 = 2 candies. Even though she can eat 2 candies, she only has 1 type.\n",
    " \n",
    "\n",
    "Constraints:\n",
    "\n",
    "n == candyType.length\n",
    "2 <= n <= 104\n",
    "n is even.\n",
    "-105 <= candyType[i] <= 105"
   ]
  },
  {
   "cell_type": "code",
   "execution_count": null,
   "metadata": {},
   "outputs": [],
   "source": [
    "\n",
    "class Solution:\n",
    "    def distributeCandies(self, candyType: List[int]) -> int:\n",
    "        d={}\n",
    "        n= len(candyType)//2\n",
    "        for i in candyType:\n",
    "            if (i in d):\n",
    "                d[i]+=1\n",
    "            else:\n",
    "                d[i] =1\n",
    "        if len(d)>=n:\n",
    "            print(n)\n",
    "        else:\n",
    "            print(len(d))"
   ]
  },
  {
   "cell_type": "code",
   "execution_count": null,
   "metadata": {},
   "outputs": [],
   "source": [
    "class Solution:\n",
    "    def distributeCandies(self, candyType: List[int]) -> int:\n",
    "        return int(min(len(candyType)/2, len(set(candyType))))"
   ]
  },
  {
   "cell_type": "code",
   "execution_count": null,
   "metadata": {},
   "outputs": [],
   "source": [
    "    for c in candyType:\n",
    "        if c in cand :\n",
    "            cand[c]+=1\n",
    "        else:\n",
    "            cand[c]=1\n",
    "            \n",
    "    tp= len(cand)\n",
    "    eat= len(candyType)//2\n",
    "    \n",
    "    if tp == eat:\n",
    "        return eat\n",
    "    \n",
    "    elif eat< tp:\n",
    "        return eat\n",
    "    \n",
    "    elif tp < eat:\n",
    "        return tp"
   ]
  },
  {
   "cell_type": "code",
   "execution_count": null,
   "metadata": {},
   "outputs": [],
   "source": [
    "class Solution:\n",
    "    '''\n",
    "    candyType[i] is given. \n",
    "    n/2 candi, maximum number of different type \n",
    "    return the maximum number of type \n",
    "    \n",
    "    Strategy (unique Candytype < n)\n",
    "    - Make a dictionary, key: type, elem: count \n",
    "    \n",
    "    Special \n",
    "    - if unique(canditype) >= n/2, then \n",
    "    '''\n",
    "    \n",
    "    def distributeCandies(self, candyType: List[int]) -> int:\n",
    "        n = int(len(candyType)/2) \n",
    "        if len( list(set(candyType)) ) >= n:\n",
    "            return n\n",
    "        if len( list(set(candyType)) ) == 1:\n",
    "            return 1\n",
    "        else:\n",
    "            return( len( list(set(candyType)) ) )"
   ]
  },
  {
   "cell_type": "code",
   "execution_count": null,
   "metadata": {},
   "outputs": [],
   "source": [
    "class Solution:\n",
    "    def distributeCandies(self, candyType: List[int]) -> int:\n",
    "        myTuple = set(candyType)\n",
    "        if (len(myTuple) > len(candyType) // 2):\n",
    "            return len(candyType) // 2\n",
    "        return (len(myTuple))"
   ]
  },
  {
   "cell_type": "code",
   "execution_count": null,
   "metadata": {},
   "outputs": [],
   "source": [
    "class Solution:\n",
    "    def distributeCandies(self, candyType: List[int]) -> int:  \n",
    "        return  len(set(candyType)) if len(set(candyType)) < len(candyType) // 2 else  len(candyType) // 2"
   ]
  },
  {
   "cell_type": "code",
   "execution_count": null,
   "metadata": {},
   "outputs": [],
   "source": [
    "class Solution:\n",
    "    def distributeCandies(self, candyType: List[int]) -> int:\n",
    "\t\n",
    "        map = Counter(candyType)\n",
    "        limit = len(candyType)/2\n",
    "        res = 0\n",
    "        \n",
    "        for k,v in map.items():\n",
    "            \n",
    "#             As long as limit of candies  alice can have,\n",
    "#             hasn't dropped down to 0 and THIS current value isn't marked \"done/exhausted\",\n",
    "#             It is safe to mark it \"done\" and increment our result\n",
    "\n",
    "            if limit > 0 and map[k] > 0:\n",
    "#               We can subtract the entry value completely to mark that this type is exhausted/done\n",
    "\n",
    "                map[k] -= v\n",
    "#               Increment the result (type of candies)    \n",
    "                res+=1\n",
    "\t\t\t\t\n",
    "                limit-=1\n",
    "        return res"
   ]
  },
  {
   "cell_type": "code",
   "execution_count": null,
   "metadata": {},
   "outputs": [],
   "source": [
    "from collections import Counter\n",
    "class Solution:\n",
    "    def distributeCandies(self, candyType: List[int]) -> int:\n",
    "        n = len(candyType)/2\n",
    "        count = 0\n",
    "        a = Counter(candyType)\n",
    "        for i in a:\n",
    "            if n > 0:\n",
    "                count += 1\n",
    "                n -= 1\n",
    "            else:\n",
    "                return count\n",
    "        return count"
   ]
  },
  {
   "cell_type": "code",
   "execution_count": null,
   "metadata": {},
   "outputs": [],
   "source": [
    "class Solution:\n",
    "    def distributeCandies(self, candyType: List[int]) -> int:\n",
    "        n = len(candyType)//2\n",
    "        x = len(set(candyType))\n",
    "        if n < x:\n",
    "            return n\n",
    "        else:\n",
    "            return x"
   ]
  },
  {
   "cell_type": "code",
   "execution_count": null,
   "metadata": {},
   "outputs": [],
   "source": []
  },
  {
   "cell_type": "code",
   "execution_count": null,
   "metadata": {},
   "outputs": [],
   "source": [
    "class Solution:\n",
    "    def findLHS(self, nums: List[int]) -> int:\n",
    "        my_dict = defaultdict(int)\n",
    "        # keep in dict the number of times each number appears:\n",
    "        for num in nums:\n",
    "            my_dict[num]+=1\n",
    "            \n",
    "        max_ = 0\n",
    "        # for each number in dict check if it+its following number is more than previous max:\n",
    "        for num in my_dict.keys():\n",
    "            if my_dict.get(num+1):\n",
    "                max_ = max(max_, my_dict[num] + my_dict.get(num+1))\n",
    "        return max_"
   ]
  },
  {
   "cell_type": "code",
   "execution_count": null,
   "metadata": {},
   "outputs": [],
   "source": [
    "class Solution:\n",
    "\tdef findLHS(self, nums: List[int]) -> int:\n",
    "\t\ttmp = Counter(nums)\n",
    "\t\tkeys = tmp.keys()\n",
    "\t\tmax = 0\n",
    "\t\tfor num in keys:\n",
    "\t\t\tif num - 1 in keys:\n",
    "\t\t\t\tif tmp[num - 1] + tmp[num] > max:\n",
    "\t\t\t\t\tmax = tmp[num - 1] + tmp[num]\n",
    "\t\treturn max"
   ]
  },
  {
   "cell_type": "markdown",
   "metadata": {},
   "source": [
    "### O(NlogN) Intuition \n",
    ":- So one of the ideas that we can apply is first sorting the array and then applying a sliding window kind of technique. The window will keep shrinking till we keep encountering the elements which are > 1 greater than the lowest element in the window. We check if a window is valid by comparing the maximum and minimum difference.\n",
    "\n",
    "Space Complexity :- O(1) since we are only storing the start and end index of the window"
   ]
  },
  {
   "cell_type": "code",
   "execution_count": null,
   "metadata": {},
   "outputs": [],
   "source": [
    "#lowest space consumed\n",
    "class Solution:\n",
    "    def findLHS(self, nums: List[int]) -> int:\n",
    "        nums.sort()\n",
    "        ind = 0\n",
    "        tup = (None, None)\n",
    "        ans = 0\n",
    "        while(ind < len(nums)):\n",
    "            st = None\n",
    "            if tup[0] is not None:\n",
    "                st = tup[0]\n",
    "                while(st <= ind):\n",
    "                    if nums[ind] - nums[st] > 1:\n",
    "                        st += 1\n",
    "                    else:\n",
    "                        break\n",
    "            start = st if st is not None else ind\n",
    "            tup = (start, ind)\n",
    "            if nums[ind] - nums[start] == 1:\n",
    "                ans = max(ans, ind - st + 1)\n",
    "            ind += 1\n",
    "        return ans"
   ]
  },
  {
   "cell_type": "markdown",
   "metadata": {},
   "source": [
    "### O(N) Intuition :- \n",
    "So the idea for this solution is that for each element val 'v' we need to know the counts of 'v + 1' and add them up to get one of the subsequence answers. We take the maximum of these subsequence answers for the final solution. Here we would need to store the counts of unique values.\n",
    "\n",
    "Space Complexity :- O(N) to store the counts of unique values."
   ]
  },
  {
   "cell_type": "code",
   "execution_count": null,
   "metadata": {},
   "outputs": [],
   "source": [
    "class Solution:\n",
    "    def findLHS(self, nums: List[int]) -> int:\n",
    "        dp = defaultdict(int)\n",
    "        for num in nums:\n",
    "            dp[num] += 1\n",
    "        ans = 0\n",
    "        for num in nums:\n",
    "            ans = max(ans, ((dp[num] + dp[num + 1]) if num + 1 in dp else 0))\n",
    "        return ans"
   ]
  },
  {
   "cell_type": "code",
   "execution_count": null,
   "metadata": {},
   "outputs": [],
   "source": [
    "class Solution:\n",
    "    def findLHS(self, nums):\n",
    "        C = Counter(nums)\n",
    "        return max((C[n] + C[n+1])*(C[n+1] != 0) for n in C)"
   ]
  },
  {
   "cell_type": "code",
   "execution_count": null,
   "metadata": {},
   "outputs": [],
   "source": [
    "class Solution:\n",
    "    def findLHS(self, nums: List[int]) -> int:\n",
    "        dic = Counter(nums)\n",
    "        \n",
    "        maxvalue = 0\n",
    "        for k, v in dic.items():\n",
    "            if k + 1 in dic:\n",
    "                maxvalue = max(dic[k+1]+dic[k], maxvalue)\n",
    "        \n",
    "        return maxvalue"
   ]
  },
  {
   "cell_type": "markdown",
   "metadata": {},
   "source": [
    "When I first looked at the problem, it seemed complicated. I thought it needed Dynamic Programming. But, funnily, the solution is extremely simple and just makes one pass using one hashmap.\n",
    "\n",
    "The key point here is that any harmonious sequence can only ever contain two unique numbers and both those numbers must be adjacent (i.e their difference equal to 1). So the longest subsequence is simply the sum of the frequencies of two numbers with a difference of 1."
   ]
  },
  {
   "cell_type": "code",
   "execution_count": null,
   "metadata": {},
   "outputs": [],
   "source": [
    "# bot speed and less memory 80 above\n",
    "class Solution(object):\n",
    "    def findLHS(self, nums):\n",
    "        \"\"\"\n",
    "        :type nums: List[int]\n",
    "        :rtype: int\n",
    "        \"\"\"\n",
    "        h = {}\n",
    "        ans = 0\n",
    "        for i in range(len(nums)):\n",
    "            if nums[i] not in h:\n",
    "                h[nums[i]] = 1\n",
    "            else:\n",
    "                h[nums[i]] += 1\n",
    "                \n",
    "        for i in range(len(nums)):\n",
    "            if nums[i]+1 in h:\n",
    "                ans = max(ans, h[nums[i]] + h[nums[i]+1])\n",
    "                \n",
    "        return ans"
   ]
  },
  {
   "cell_type": "code",
   "execution_count": null,
   "metadata": {},
   "outputs": [],
   "source": [
    "class Solution:\n",
    "    def findLHS(self, nums: List[int]) -> int:\n",
    "        d = {}\n",
    "        for num in nums:\n",
    "            d[num] = d.get(num, 0) + 1\n",
    "        res = 0\n",
    "        for num in d:\n",
    "            if num + 1 in d:\n",
    "                res = max(res, d[num] + d[num + 1])\n",
    "        return res"
   ]
  },
  {
   "cell_type": "code",
   "execution_count": null,
   "metadata": {},
   "outputs": [],
   "source": []
  },
  {
   "cell_type": "code",
   "execution_count": null,
   "metadata": {},
   "outputs": [],
   "source": []
  },
  {
   "cell_type": "code",
   "execution_count": null,
   "metadata": {},
   "outputs": [],
   "source": []
  },
  {
   "cell_type": "code",
   "execution_count": null,
   "metadata": {},
   "outputs": [],
   "source": []
  },
  {
   "cell_type": "code",
   "execution_count": null,
   "metadata": {},
   "outputs": [],
   "source": []
  },
  {
   "cell_type": "code",
   "execution_count": null,
   "metadata": {},
   "outputs": [],
   "source": []
  }
 ],
 "metadata": {
  "kernelspec": {
   "display_name": "Python 3",
   "language": "python",
   "name": "python3"
  },
  "language_info": {
   "codemirror_mode": {
    "name": "ipython",
    "version": 3
   },
   "file_extension": ".py",
   "mimetype": "text/x-python",
   "name": "python",
   "nbconvert_exporter": "python",
   "pygments_lexer": "ipython3",
   "version": "3.8.5"
  }
 },
 "nbformat": 4,
 "nbformat_minor": 4
}
