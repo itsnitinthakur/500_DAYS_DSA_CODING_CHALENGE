{
 "cells": [
  {
   "cell_type": "markdown",
   "metadata": {},
   "source": [
    "# First Bad Version\n",
    "\n",
    "You are a product manager and currently leading a team to develop a new product. Unfortunately, the latest version of your product fails the quality check. Since each version is developed based on the previous version, all the versions after a bad version are also bad.\n",
    "\n",
    "Suppose you have n versions [1, 2, ..., n] and you want to find out the first bad one, which causes all the following ones to be bad.\n",
    "\n",
    "You are given an API bool isBadVersion(version) which returns whether version is bad. Implement a function to find the first bad version. You should minimize the number of calls to the API.\n",
    "\n",
    " \n",
    "\n",
    "Example 1:\n",
    "\n",
    "Input: n = 5, bad = 4\n",
    "Output: 4\n",
    "Explanation:\n",
    "call isBadVersion(3) -> false\n",
    "call isBadVersion(5) -> true\n",
    "call isBadVersion(4) -> true\n",
    "Then 4 is the first bad version.\n",
    "Example 2:\n",
    "\n",
    "Input: n = 1, bad = 1\n",
    "Output: 1\n",
    " \n",
    "\n",
    "Constraints:\n",
    "\n",
    "1 <= bad <= n <= 231 - 1"
   ]
  },
  {
   "cell_type": "code",
   "execution_count": null,
   "metadata": {},
   "outputs": [],
   "source": [
    "# The isBadVersion API is already defined for you.\n",
    "# @param version, an integer\n",
    "# @return an integer\n",
    "# def isBadVersion(version):\n",
    "\n",
    "class Solution:\n",
    "    def firstBadVersion(self, n):\n",
    "        \"\"\"\n",
    "        :type n: int\n",
    "        :rtype: int\n",
    "        \"\"\"\n",
    "        left=1\n",
    "        right=n\n",
    "        while(left<right):\n",
    "            mid=(right+left)//2\n",
    "            if(not isBadVersion(mid)):\n",
    "                left = mid+1\n",
    "            else:\n",
    "                right=mid\n",
    "        return left"
   ]
  },
  {
   "cell_type": "code",
   "execution_count": null,
   "metadata": {},
   "outputs": [],
   "source": []
  },
  {
   "cell_type": "markdown",
   "metadata": {},
   "source": [
    "# Missing Number\n",
    "\n",
    "Given an array nums containing n distinct numbers in the range [0, n], return the only number in the range that is missing from the array.\n",
    "\n",
    "Follow up: Could you implement a solution using only O(1) extra space complexity and O(n) runtime complexity?\n",
    "\n",
    " \n",
    "\n",
    "Example 1:\n",
    "\n",
    "Input: nums = [3,0,1]\n",
    "Output: 2\n",
    "Explanation: n = 3 since there are 3 numbers, so all numbers are in the range [0,3]. 2 is the missing number in the range since it does not appear in nums.\n",
    "Example 2:\n",
    "\n",
    "Input: nums = [0,1]\n",
    "Output: 2\n",
    "Explanation: n = 2 since there are 2 numbers, so all numbers are in the range [0,2]. 2 is the missing number in the range since it does not appear in nums.\n",
    "Example 3:\n",
    "\n",
    "Input: nums = [9,6,4,2,3,5,7,0,1]\n",
    "Output: 8\n",
    "Explanation: n = 9 since there are 9 numbers, so all numbers are in the range [0,9]. 8 is the missing number in the range since it does not appear in nums.\n",
    "Example 4:\n",
    "\n",
    "Input: nums = [0]\n",
    "Output: 1\n",
    "Explanation: n = 1 since there is 1 number, so all numbers are in the range [0,1]. 1 is the missing number in the range since it does not appear in nums.\n",
    " \n",
    "\n",
    "Constraints:\n",
    "\n",
    "n == nums.length\n",
    "1 <= n <= 104\n",
    "0 <= nums[i] <= n\n",
    "All the numbers of nums are unique."
   ]
  },
  {
   "cell_type": "code",
   "execution_count": null,
   "metadata": {},
   "outputs": [],
   "source": [
    "class Solution:\n",
    "    def missingNumber(self, nums: List[int]):\n",
    "        curr = sum(nums)\n",
    "        n=len(nums)\n",
    "        sums=n*(n+1)/2\n",
    "        return int(sums-curr)"
   ]
  },
  {
   "cell_type": "code",
   "execution_count": null,
   "metadata": {},
   "outputs": [],
   "source": [
    "class Solution:\n",
    "    def missingNumber(self, nums: List[int]):\n",
    "        if len(nums)==1:\n",
    "            if nums[0]==0:\n",
    "                return 1\n",
    "            else:\n",
    "                return 0\n",
    "        for i in range(0,len(nums)+1):\n",
    "            if i not in nums:\n",
    "                return i\n",
    "                "
   ]
  },
  {
   "cell_type": "markdown",
   "metadata": {},
   "source": [
    "## Count Prime Number"
   ]
  },
  {
   "cell_type": "code",
   "execution_count": null,
   "metadata": {},
   "outputs": [],
   "source": [
    "class Solution:\n",
    "    def countPrimes(self, n: int) -> int:\n",
    "        sum, sieve = 0, ([True] * n)\n",
    "        for i in range(2, n): \n",
    "            if sieve[i]:\n",
    "                sum = sum + 1\n",
    "                for i in range(i * i, n, i):\n",
    "                    sieve[i] = False\n",
    "        return sum"
   ]
  },
  {
   "cell_type": "code",
   "execution_count": null,
   "metadata": {},
   "outputs": [],
   "source": [
    "\n",
    "class Solution:\n",
    "    def countPrimes(self, n: int) -> int:\t\t\n",
    "        \n",
    "        if n<2:\n",
    "            return 0\n",
    "        isPrime = [True]*n\n",
    "        isPrime[0] = isPrime[1] = False\n",
    "        \n",
    "        for i in range(2,math.ceil(math.sqrt(n))):\n",
    "            if isPrime[i]:\n",
    "                for multiples_of_i in range(i*i,n,i):\n",
    "                    isPrime[multiples_of_i] = False\n",
    "        \n",
    "        return sum(isPrime)"
   ]
  },
  {
   "cell_type": "markdown",
   "metadata": {},
   "source": [
    "## Single Number is list\n"
   ]
  },
  {
   "cell_type": "code",
   "execution_count": null,
   "metadata": {},
   "outputs": [],
   "source": [
    "import collections\n",
    "class Solution:\n",
    "    def singleNumber(self, nums: List[int]) -> int:\n",
    "        count = {}\n",
    "        for i in range(len(nums)):\n",
    "            if nums[i] in count:\n",
    "                count[nums[i]] += 1\n",
    "            else:\n",
    "                count[nums[i]] = 1\n",
    "        for key in count:\n",
    "            if count[key] == 1:\n",
    "                return key"
   ]
  },
  {
   "cell_type": "code",
   "execution_count": null,
   "metadata": {},
   "outputs": [],
   "source": [
    "class Solution:\n",
    "    def singleNumber(self, nums: List[int]) -> int:\n",
    "        return 2*sum(set(nums))-sum(nums)\n"
   ]
  },
  {
   "cell_type": "markdown",
   "metadata": {},
   "source": [
    "## Robot return To Origin"
   ]
  },
  {
   "cell_type": "code",
   "execution_count": null,
   "metadata": {},
   "outputs": [],
   "source": [
    "class Solution:\n",
    "    def judgeCircle(self, moves: str) -> bool:\n",
    "        i=0\n",
    "        j=0\n",
    "        for move in moves:\n",
    "            if move==\"L\":\n",
    "                i-=1\n",
    "            elif move==\"R\":\n",
    "                i+=1\n",
    "            elif move==\"U\":\n",
    "                j+=1\n",
    "            elif move==\"D\":\n",
    "                j-=1\n",
    "        if i==0 and j==0:\n",
    "            return True\n",
    "        return False"
   ]
  },
  {
   "cell_type": "markdown",
   "metadata": {},
   "source": [
    "## Add binary"
   ]
  },
  {
   "cell_type": "code",
   "execution_count": null,
   "metadata": {},
   "outputs": [],
   "source": [
    "\n",
    "class Solution(object):\n",
    "    def addBinary(self, a, b):\n",
    "        result = []\n",
    "        carry = 0\n",
    "        i = len(a)-1\n",
    "        j = len(b)-1\n",
    "\n",
    "        while i >= 0 or j >= 0 or carry:\n",
    "            total = carry\n",
    "\n",
    "            if i >= 0:\n",
    "                total += int(a[i])\n",
    "                i -= 1\n",
    "            if j >= 0:\n",
    "                total += int(b[j])\n",
    "                j -= 1\n",
    "\n",
    "            result.append(str(total % 2))\n",
    "            carry = total//2\n",
    "\n",
    "        return ''.join(reversed(result))"
   ]
  },
  {
   "cell_type": "code",
   "execution_count": null,
   "metadata": {},
   "outputs": [],
   "source": [
    "class Solution:\n",
    "    def addBinary(self, a: str, b: str) -> str:\n",
    "        max_len = max(len(a), len(b))\n",
    "        \n",
    "        a = a.zfill(max_len)\n",
    "        b = b.zfill(max_len)\n",
    "        \n",
    "        result =''\n",
    "        carry = 0\n",
    "        for i in range(max_len-1,-1,-1):\n",
    "            r =carry\n",
    "            r += 1 if a[i] == '1' else 0\n",
    "            r += 1 if b[i] == '1' else 0\n",
    "            result = ('1' if r % 2 == 1 else '0') + result\n",
    "            carry = 0 if r < 2 else 1\n",
    "        if carry !=0 :result = '1' +result\n",
    "        return result.zfill(max_len)"
   ]
  },
  {
   "cell_type": "code",
   "execution_count": null,
   "metadata": {},
   "outputs": [],
   "source": []
  }
 ],
 "metadata": {
  "kernelspec": {
   "display_name": "Python 3",
   "language": "python",
   "name": "python3"
  },
  "language_info": {
   "codemirror_mode": {
    "name": "ipython",
    "version": 3
   },
   "file_extension": ".py",
   "mimetype": "text/x-python",
   "name": "python",
   "nbconvert_exporter": "python",
   "pygments_lexer": "ipython3",
   "version": "3.8.5"
  }
 },
 "nbformat": 4,
 "nbformat_minor": 4
}
