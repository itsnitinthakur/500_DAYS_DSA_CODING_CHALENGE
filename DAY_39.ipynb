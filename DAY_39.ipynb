{
 "cells": [
  {
   "cell_type": "markdown",
   "metadata": {},
   "source": [
    "# Maximum Area of Histrogram"
   ]
  },
  {
   "cell_type": "code",
   "execution_count": 6,
   "metadata": {},
   "outputs": [
    {
     "name": "stdout",
     "output_type": "stream",
     "text": [
      "[5, 5, 5, 5, -1, 6, -1]\n"
     ]
    }
   ],
   "source": [
    "arr = [6,10,5,12,5,7,6]\n",
    "n = len(arr)\n",
    "stack = []\n",
    "result = []\n",
    "for i in range(n-1, -1, -1):\n",
    "    while len(stack) > 0 and arr[i] < stack[-1]:\n",
    "        stack.pop()\n",
    "    if len(stack) == 0:\n",
    "        result.append(-1)\n",
    "    else:\n",
    "        result.append(stack[-1])\n",
    "    stack.append(arr[i])\n",
    "result = result[::-1]\n",
    "print(result)\n",
    "\n"
   ]
  },
  {
   "cell_type": "code",
   "execution_count": 11,
   "metadata": {},
   "outputs": [
    {
     "name": "stdout",
     "output_type": "stream",
     "text": [
      "[-1, -1, 2, 2, 4, -1, 1]\n"
     ]
    }
   ],
   "source": [
    "arr = [6,2,5,4,5,1,6]\n",
    "s= list()\n",
    "n=len(arr)\n",
    "s.append(arr[0])\n",
    "z = []\n",
    "z.append(-1)\n",
    "for i in range(1,n):\n",
    "    while (len(s)>0 and s[-1]>arr[i]):\n",
    "        s.pop()\n",
    "    if len(s)==0:\n",
    "        z.append(-1)\n",
    "    else:\n",
    "        z.append(s[-1])\n",
    "    s.append(arr[i])\n",
    "print(z)\n"
   ]
  },
  {
   "cell_type": "code",
   "execution_count": 16,
   "metadata": {},
   "outputs": [
    {
     "name": "stdout",
     "output_type": "stream",
     "text": [
      "Counter({3: 2, 1: 1, 4: 1, 2: 1})\n",
      "3\n"
     ]
    }
   ],
   "source": [
    "import collections\n",
    "nums = [3,1,3,4,2]\n",
    "c = collections.Counter(nums)\n",
    "print(c)\n",
    "for key ,val in c.items():\n",
    "    if val==2:\n",
    "        print(key)\n"
   ]
  },
  {
   "cell_type": "markdown",
   "metadata": {},
   "source": [
    "# Find the Duplicate Number\n",
    "Given an array of integers nums containing n + 1 integers where each integer is in the range [1, n] inclusive.\n",
    "\n",
    "There is only one repeated number in nums, return this repeated number.\n",
    "\n",
    "You must solve the problem without modifying the array nums and uses only constant extra space.\n",
    "\n",
    " \n",
    "\n",
    "Example 1:\n",
    "\n",
    "Input: nums = [1,3,4,2,2]\n",
    "Output: 2\n",
    "Example 2:\n",
    "\n",
    "Input: nums = [3,1,3,4,2]\n",
    "Output: 3\n",
    "Example 3:\n",
    "\n",
    "Input: nums = [1,1]\n",
    "Output: 1\n",
    "Example 4:\n",
    "\n",
    "Input: nums = [1,1,2]\n",
    "Output: 1\n",
    " \n",
    "\n",
    "Constraints:\n",
    "\n",
    "1 <= n <= 105\n",
    "nums.length == n + 1\n",
    "1 <= nums[i] <= n\n",
    "All the integers in nums appear only once except for precisely one integer which appears two or more times.\n",
    " \n",
    "\n",
    "Follow up:\n",
    "\n",
    "How can we prove that at least one duplicate number must exist in nums?\n",
    "Can you solve the problem in linear runtime complexity?"
   ]
  },
  {
   "cell_type": "code",
   "execution_count": 17,
   "metadata": {},
   "outputs": [
    {
     "name": "stdout",
     "output_type": "stream",
     "text": [
      "2\n"
     ]
    }
   ],
   "source": [
    "nums = [1,3,4,2,2]\n",
    "s=[]\n",
    "for i in nums:\n",
    "    if i not in s:\n",
    "        s.append(i)\n",
    "    else:\n",
    "        print(i)"
   ]
  },
  {
   "cell_type": "code",
   "execution_count": null,
   "metadata": {},
   "outputs": [],
   "source": [
    "class Solution:\n",
    "    def findDuplicate(self, nums: List[int]) -> int:\n",
    "        d = {}\n",
    "        \n",
    "        for num in nums:\n",
    "            if num in d:\n",
    "                d[num] += 1\n",
    "            elif num not in d:\n",
    "                d[num] = 1        \n",
    "\n",
    "        for key in d:\n",
    "            if d[key] > 1:\n",
    "                return key"
   ]
  },
  {
   "cell_type": "code",
   "execution_count": null,
   "metadata": {},
   "outputs": [],
   "source": [
    "class Solution:\n",
    "    def findDuplicate(self, nums: List[int]) -> int:\n",
    "        nums.sort()\n",
    "        for i in range(len(nums)):\n",
    "            if(nums[i] == nums[i+1]):\n",
    "                return nums[i]"
   ]
  },
  {
   "cell_type": "code",
   "execution_count": null,
   "metadata": {},
   "outputs": [],
   "source": [
    "class Solution:\n",
    "    def findDuplicate(self, nums: List[int]) -> int:\n",
    "        d = {}\n",
    "        for i in nums:\n",
    "            if i in d:\n",
    "                d[i]+=1\n",
    "            else:\n",
    "                d[i] = 1\n",
    "        for i in d:\n",
    "            if d[i] >= 2:\n",
    "                return i"
   ]
  },
  {
   "cell_type": "code",
   "execution_count": null,
   "metadata": {},
   "outputs": [],
   "source": [
    "class Solution:\n",
    "    def findDuplicate(self, nums: List[int]) -> int:\n",
    "        for i in range(len(nums)):\n",
    "            if nums[i] != i +1:\n",
    "                while(nums[i] != i+1):\n",
    "                    if (tmp := nums[nums[i]-1]) == nums[i]:\n",
    "                        return nums[i]\n",
    "                    nums[nums[i]-1], nums[i] = nums[i], tmp"
   ]
  },
  {
   "cell_type": "code",
   "execution_count": null,
   "metadata": {},
   "outputs": [],
   "source": [
    "def findDuplicate(self, nums: List[int]) -> int:\n",
    "        lengthOfArr = len(nums)\n",
    "        \n",
    "        for i in range(lengthOfArr):\n",
    "            if nums[abs(nums[i]) - 1] < 0:\n",
    "                return abs(nums[i])\n",
    "            nums[abs(nums[i]) - 1] *= -1\n",
    "        return 0"
   ]
  },
  {
   "cell_type": "code",
   "execution_count": null,
   "metadata": {},
   "outputs": [],
   "source": [
    "class Solution(object):\n",
    "    def findDuplicate(self, nums):\n",
    "        \"\"\"\n",
    "        :type nums: List[int]\n",
    "        :rtype: int\n",
    "        \"\"\"\n",
    "        \n",
    "        fast_ptr = slow_ptr = nums[0]\n",
    "        \n",
    "        while(True):\n",
    "            fast_ptr = nums[nums[fast_ptr]]\n",
    "            slow_ptr = nums[slow_ptr]\n",
    "            if fast_ptr == slow_ptr :\n",
    "                break\n",
    "                \n",
    "                \n",
    "        ## Find the cycle starting point\n",
    "        \n",
    "        slow_ptr = nums[0]\n",
    "        \n",
    "        while(slow_ptr!=fast_ptr):\n",
    "            slow_ptr = nums[slow_ptr]\n",
    "            fast_ptr = nums[fast_ptr]\n",
    "            \n",
    "        return fast_ptr\n"
   ]
  },
  {
   "cell_type": "code",
   "execution_count": null,
   "metadata": {},
   "outputs": [],
   "source": [
    "class Solution:\n",
    "    def findDuplicate(self, nums: List[int]) -> int:\n",
    "        \n",
    "        for num in nums:\n",
    "            \n",
    "            if nums[abs(num) - 1] < 0:\n",
    "                return abs(num)\n",
    "            \n",
    "            nums[abs(num) - 1] *= -1"
   ]
  },
  {
   "cell_type": "code",
   "execution_count": null,
   "metadata": {},
   "outputs": [],
   "source": [
    "class Solution:\n",
    "    def findDuplicate(self, nums: List[int]) -> int:\n",
    "        n = len(nums)\n",
    "        \n",
    "        for i in range(n):\n",
    "            idx = abs(nums[i])-1\n",
    "            if nums[idx] > 0:\n",
    "                nums[idx] = -nums[idx]\n",
    "            else:\n",
    "                return abs(idx+1)\n",
    "        return 0"
   ]
  },
  {
   "cell_type": "code",
   "execution_count": null,
   "metadata": {},
   "outputs": [],
   "source": [
    "class Solution:\n",
    "    def findDuplicate(self, nums: List[int]) -> int:\n",
    "        # After checking discussion 52ms\n",
    "        arr = [0] * len(nums)\n",
    "        for i in nums:\n",
    "            if arr[i]: return i\n",
    "            else: arr[i] = 1"
   ]
  },
  {
   "cell_type": "code",
   "execution_count": null,
   "metadata": {},
   "outputs": [],
   "source": [
    "n=int(input())\n",
    "for i in range(n):\n",
    "    st=input().split(\" \")\n",
    "    z.append(st[0])\n",
    "    x.append(st[1])\n",
    "    x.append(st[2])\n",
    "    x.append(st[3])\n",
    "for key,val in d.items():\n",
    "    d[key]="
   ]
  },
  {
   "cell_type": "code",
   "execution_count": null,
   "metadata": {},
   "outputs": [],
   "source": []
  },
  {
   "cell_type": "code",
   "execution_count": null,
   "metadata": {},
   "outputs": [],
   "source": []
  }
 ],
 "metadata": {
  "kernelspec": {
   "display_name": "Python 3",
   "language": "python",
   "name": "python3"
  },
  "language_info": {
   "codemirror_mode": {
    "name": "ipython",
    "version": 3
   },
   "file_extension": ".py",
   "mimetype": "text/x-python",
   "name": "python",
   "nbconvert_exporter": "python",
   "pygments_lexer": "ipython3",
   "version": "3.8.5"
  }
 },
 "nbformat": 4,
 "nbformat_minor": 4
}
