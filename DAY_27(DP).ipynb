{
 "cells": [
  {
   "cell_type": "code",
   "execution_count": null,
   "metadata": {},
   "outputs": [],
   "source": [
    "\n"
   ]
  },
  {
   "cell_type": "code",
   "execution_count": 16,
   "metadata": {},
   "outputs": [
    {
     "name": "stdout",
     "output_type": "stream",
     "text": [
      "0\n"
     ]
    }
   ],
   "source": [
    "a = [-1,2,-1,4,7]\n",
    "k=3\n",
    "i=0\n",
    "j=k-1\n",
    "s=0\n",
    "best=0\n",
    "while j<=len(a)-1 and a[i]<0:\n",
    "    s= sum(a[i:j+1])\n",
    "    best=max(best,s)\n",
    "    i+=1\n",
    "    j+=1\n",
    "print(best)"
   ]
  },
  {
   "cell_type": "code",
   "execution_count": 2,
   "metadata": {},
   "outputs": [
    {
     "name": "stdout",
     "output_type": "stream",
     "text": [
      "5\n",
      "5\n"
     ]
    }
   ],
   "source": [
    "a = [3,2,3,4,5]\n",
    "print(len(a))\n",
    "print(a[4])"
   ]
  },
  {
   "cell_type": "code",
   "execution_count": 10,
   "metadata": {},
   "outputs": [
    {
     "data": {
      "text/plain": [
       "0"
      ]
     },
     "execution_count": 10,
     "metadata": {},
     "output_type": "execute_result"
    }
   ],
   "source": [
    "0%1"
   ]
  },
  {
   "cell_type": "code",
   "execution_count": 5,
   "metadata": {},
   "outputs": [
    {
     "data": {
      "text/plain": [
       "0"
      ]
     },
     "execution_count": 5,
     "metadata": {},
     "output_type": "execute_result"
    }
   ],
   "source": [
    "2%2\n"
   ]
  },
  {
   "cell_type": "markdown",
   "metadata": {},
   "source": [
    "4"
   ]
  },
  {
   "cell_type": "code",
   "execution_count": 6,
   "metadata": {},
   "outputs": [
    {
     "data": {
      "text/plain": [
       "0"
      ]
     },
     "execution_count": 6,
     "metadata": {},
     "output_type": "execute_result"
    }
   ],
   "source": [
    "4%2"
   ]
  },
  {
   "cell_type": "code",
   "execution_count": 11,
   "metadata": {},
   "outputs": [
    {
     "name": "stdout",
     "output_type": "stream",
     "text": [
      "3\n"
     ]
    }
   ],
   "source": [
    "nums = [2,1,1,2]\n",
    "best = 0\n",
    "se =0\n",
    "so =0\n",
    "for i in range(len(nums)):\n",
    "    if i%2==0:\n",
    "        se = se + nums[i]\n",
    "    else:\n",
    "        so = so + nums[i]\n",
    "    \n",
    "best = max(se,so)\n",
    "print(best)"
   ]
  },
  {
   "cell_type": "code",
   "execution_count": null,
   "metadata": {},
   "outputs": [],
   "source": [
    "class Solution:\n",
    "    def rob(self, nums: List[int]) -> int:\n",
    "        n=len(nums)\n",
    "        if n==1:\n",
    "            return nums[n-1]\n",
    "        dp=[0]*n\n",
    "        dp[0]=nums[0]\n",
    "        dp[1]=nums[1]\n",
    "        for i in range(2,n):\n",
    "            best=nums[i]\n",
    "            for j in range(i-1):\n",
    "                best=max(best,nums[i]+dp[j])\n",
    "            dp[i]=best\n",
    "        return max(dp)"
   ]
  },
  {
   "cell_type": "code",
   "execution_count": null,
   "metadata": {},
   "outputs": [],
   "source": [
    "class Solution:\n",
    "    def rob(self, nums: List[int]) -> int:\n",
    "        \n",
    "        \"\"\"\n",
    "        Dynamic programming solution\n",
    "        \n",
    "        The maximum profit I can make after\n",
    "        seing n homes is the maximum of the(maximum profit I can\n",
    "        make after seing n-2 homes and robbing\n",
    "        home n, the maximum profit I can make by seing n-1 houses)\n",
    "        \n",
    "        \n",
    "        \"\"\"\n",
    "        \n",
    "        \n",
    "        profits = [0]\n",
    "        \n",
    "        for i in range(len(nums)):\n",
    "            \n",
    "            if i == 0:\n",
    "                profits.append(nums[i])\n",
    "                \n",
    "            else:\n",
    "                p = max(profits[i], profits[i-1]+nums[i])\n",
    "                profits.append(p)\n",
    "                \n",
    "        return profits[-1]"
   ]
  },
  {
   "cell_type": "code",
   "execution_count": null,
   "metadata": {},
   "outputs": [],
   "source": [
    "class Solution:\n",
    "    def rob(self, nums: List[int]) -> int:\n",
    "        dp0=dp1=nums[0]\n",
    "        for i in range(1,len(nums)):\n",
    "            if i==1:\n",
    "                dp1=max(dp0,nums[i])\n",
    "            else:\n",
    "                t=dp1\n",
    "                dp1=max(dp0+nums[i],dp1)\n",
    "                dp0=t\n",
    "        return dp1"
   ]
  },
  {
   "cell_type": "markdown",
   "metadata": {},
   "source": [
    "Python DP using recursivion with memoization have O(n) time and O(n) space.\n",
    "Note that I set up a use_cache flag to turn on/off the memoization. With it off, the time complexity is O(2^n) and submission will meet the TLE error in Leetcode. The program prints total cache hit vs total recursions. The difference between those two is the len(nums), this is the proof that memoization offers O(n) time performance."
   ]
  },
  {
   "cell_type": "code",
   "execution_count": null,
   "metadata": {},
   "outputs": [],
   "source": [
    "class Solution(object):\n",
    "    def rob(self, nums):\n",
    "        \"\"\"\n",
    "        :type nums: List[int]\n",
    "        :rtype: int\n",
    "        \"\"\"\n",
    "        counter=[0,0] #Python2 does not support nonlocal var, use object to work around it. counter[0] is total loops, counter[1] is total cache hit\n",
    "        use_cache=True\n",
    "        dp=[-1]*len(nums)\n",
    "        def optiVal(i,counter):\n",
    "            counter[0]+=1\n",
    "            if dp[i]!=-1:\n",
    "                counter[1]+=1 \n",
    "                if use_cache:\n",
    "                    return dp[i]\n",
    "            if i==0:\n",
    "                t=nums[0]\n",
    "            elif i==1:\n",
    "                t=max(nums[:2])  #max of first two elems in iterable nums\n",
    "            else:\n",
    "                t=max(optiVal(i-2,counter)+nums[i],optiVal(i-1,counter))\n",
    "            dp[i]=t\n",
    "            return t\n",
    "        result=optiVal(len(nums)-1,counter)\n",
    "        print 'Input lenght\\t=\\t{0:14}\\nTotal recursion\\t=\\t{1:14}\\nCache hits\\t=\\t{2:14}\\nDifference\\t=\\t{diff:14}'.format(len(nums), counter[0],counter[1],diff=counter[0]-counter[1])\n",
    "        return result"
   ]
  },
  {
   "cell_type": "code",
   "execution_count": null,
   "metadata": {},
   "outputs": [],
   "source": [
    "class Solution:\n",
    "    def rob(self, nums: List[int]) -> int:\n",
    "        if len(nums) < 3: \n",
    "            return max(nums)\n",
    "        \n",
    "        tab = [0] * (len(nums) + 1) \n",
    "        \n",
    "        tab[1], tab[2] = nums[0], nums[1]\n",
    "        \n",
    "        \n",
    "        for i in range(2, len(nums)): \n",
    "            tab[i+1] = max(tab[i-1], tab[i-2]) + nums[i]\n",
    "            \n",
    "        return max(tab[-1], tab[-2])"
   ]
  },
  {
   "cell_type": "code",
   "execution_count": null,
   "metadata": {},
   "outputs": [],
   "source": [
    "        prev1 = 0\n",
    "        prev2 = 0\n",
    "        for i in nums:\n",
    "            temp = prev1\n",
    "            prev1 = max(prev2+i,prev1)\n",
    "            prev2 = temp\n",
    "        return prev1"
   ]
  },
  {
   "cell_type": "code",
   "execution_count": null,
   "metadata": {},
   "outputs": [],
   "source": [
    "class Solution:\n",
    "    def rob(self, nums: List[int]) -> int:\n",
    "        l = len(nums)\n",
    "        if l == 1: return nums[0]\n",
    "        elif l == 2: return max(nums)\n",
    "        elif l == 3: return max(nums[0] + nums[2], nums[1])\n",
    "        else:\n",
    "            x, y, z = nums[0], max(nums[0:2]), max(nums[0] + nums[2], nums[1])\n",
    "\n",
    "            for i in range(3, l):\n",
    "\n",
    "                #cur = max(max(x, y) + nums[i], z)\n",
    "                x, y, z = y, z, max(max(x, y) + nums[i], z)\n",
    "\n",
    "            return max(y, z)\n"
   ]
  },
  {
   "cell_type": "code",
   "execution_count": null,
   "metadata": {},
   "outputs": [],
   "source": [
    "class Solution:\n",
    "    def rob(self, nums: List[int]) -> int:\n",
    "        pre, cur = 0, 0\n",
    "        for num in nums:\n",
    "            pre, cur = cur, max(pre + num, cur)\n",
    "        return cur"
   ]
  },
  {
   "cell_type": "code",
   "execution_count": null,
   "metadata": {},
   "outputs": [],
   "source": []
  },
  {
   "cell_type": "code",
   "execution_count": null,
   "metadata": {},
   "outputs": [],
   "source": []
  },
  {
   "cell_type": "code",
   "execution_count": null,
   "metadata": {},
   "outputs": [],
   "source": []
  },
  {
   "cell_type": "code",
   "execution_count": null,
   "metadata": {},
   "outputs": [],
   "source": []
  },
  {
   "cell_type": "code",
   "execution_count": null,
   "metadata": {},
   "outputs": [],
   "source": []
  },
  {
   "cell_type": "code",
   "execution_count": null,
   "metadata": {},
   "outputs": [],
   "source": []
  },
  {
   "cell_type": "code",
   "execution_count": null,
   "metadata": {},
   "outputs": [],
   "source": []
  },
  {
   "cell_type": "code",
   "execution_count": null,
   "metadata": {},
   "outputs": [],
   "source": []
  }
 ],
 "metadata": {
  "kernelspec": {
   "display_name": "Python 3",
   "language": "python",
   "name": "python3"
  },
  "language_info": {
   "codemirror_mode": {
    "name": "ipython",
    "version": 3
   },
   "file_extension": ".py",
   "mimetype": "text/x-python",
   "name": "python",
   "nbconvert_exporter": "python",
   "pygments_lexer": "ipython3",
   "version": "3.8.5"
  }
 },
 "nbformat": 4,
 "nbformat_minor": 4
}
