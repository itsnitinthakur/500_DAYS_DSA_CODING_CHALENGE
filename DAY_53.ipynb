{
 "cells": [
  {
   "cell_type": "markdown",
   "metadata": {},
   "source": [
    "# Find the repeating and the missing\n"
   ]
  },
  {
   "cell_type": "raw",
   "metadata": {},
   "source": [
    "Find the repeating and the missing | Added 3 new methods Difficulty Level : Medium Last Updated : 08 Apr, 2021 Given an unsorted array of size n. Array elements are in the range from 1 to n. One number from set {1, 2, …n} is missing and one number occurs twice in the array. Find these two numbers.\n",
    "\n",
    "Examples:\n",
    "\n",
    "Input: arr[] = {3, 1, 3} Output: Missing = 2, Repeating = 3 Explanation: In the array, 2 is missing and 3 occurs twice\n",
    "\n",
    "Input: arr[] = {4, 3, 6, 2, 1, 1} Output: Missing = 5, Repeating = 1"
   ]
  },
  {
   "cell_type": "code",
   "execution_count": null,
   "metadata": {},
   "outputs": [],
   "source": [
    "a = [3,1,3,4,5,5]\n",
    "m={}\n",
    "l=len(a)\n",
    "z=0\n",
    "for i in a:\n",
    "    if i not in m:\n",
    "        m[i]=True\n",
    "    else:\n",
    "        z+=i\n",
    "for i in range(1,l+1):\n",
    "    if i not in m:\n",
    "        z+=i\n",
    "print(z)"
   ]
  },
  {
   "cell_type": "code",
   "execution_count": null,
   "metadata": {},
   "outputs": [],
   "source": [
    "def repeatedNumber(A):\n",
    "\t\n",
    "\tlength = len(A)\n",
    "\tSum_N = (length * (length + 1)) // 2\n",
    "\tSum_NSq = ((length * (length + 1) *\n",
    "\t\t\t\t\t(2 * length + 1)) // 6)\n",
    "\t\n",
    "\tmissingNumber, repeating = 0, 0\n",
    "\t\n",
    "\tfor i in range(len(A)):\n",
    "\t\tSum_N -= A[i]\n",
    "\t\tSum_NSq -= A[i] * A[i]\n",
    "\t\t\n",
    "\tmissingNumber = (Sum_N + Sum_NSq //\n",
    "\t\t\t\t\t\t\tSum_N) // 2\n",
    "\trepeating = missingNumber - Sum_N\n",
    "\t\n",
    "\tans = []\n",
    "\tans.append(repeating)\n",
    "\tans.append(missingNumber)\n",
    "\t\n",
    "\treturn ans\n",
    "\n",
    "# Driver code\n",
    "v = [ 4, 3, 6, 2, 1, 6, 7 ]\n",
    "res = repeatedNumber(v)\n",
    "\n",
    "for i in res:\n",
    "\tprint(i, end = \" \")"
   ]
  },
  {
   "cell_type": "code",
   "execution_count": null,
   "metadata": {},
   "outputs": [],
   "source": [
    "arr=[2,3,1,5,1]\n",
    "i=0\n",
    "while i<len(arr):\n",
    "    if arr[i]!=arr[arr[i]-1]:\n",
    "        arr[i],arr[arr[i]-1]=arr[arr[i]-1],arr[i]\n",
    "    else:\n",
    "        i+=1\n",
    "for i in range(len(arr)):\n",
    "    if(arr[i]!=i+1\n",
    "       min=i+1\n",
    "       arr[i]=duplicate\n",
    "print(arr)"
   ]
  },
  {
   "cell_type": "code",
   "execution_count": null,
   "metadata": {},
   "outputs": [],
   "source": []
  },
  {
   "cell_type": "code",
   "execution_count": null,
   "metadata": {},
   "outputs": [],
   "source": []
  },
  {
   "cell_type": "code",
   "execution_count": null,
   "metadata": {},
   "outputs": [],
   "source": []
  },
  {
   "cell_type": "code",
   "execution_count": null,
   "metadata": {},
   "outputs": [],
   "source": []
  },
  {
   "cell_type": "code",
   "execution_count": null,
   "metadata": {},
   "outputs": [],
   "source": []
  },
  {
   "cell_type": "code",
   "execution_count": null,
   "metadata": {},
   "outputs": [],
   "source": []
  },
  {
   "cell_type": "code",
   "execution_count": null,
   "metadata": {},
   "outputs": [],
   "source": []
  },
  {
   "cell_type": "code",
   "execution_count": null,
   "metadata": {},
   "outputs": [],
   "source": []
  },
  {
   "cell_type": "code",
   "execution_count": null,
   "metadata": {},
   "outputs": [],
   "source": []
  }
 ],
 "metadata": {
  "kernelspec": {
   "display_name": "Python 3",
   "language": "python",
   "name": "python3"
  },
  "language_info": {
   "codemirror_mode": {
    "name": "ipython",
    "version": 3
   },
   "file_extension": ".py",
   "mimetype": "text/x-python",
   "name": "python",
   "nbconvert_exporter": "python",
   "pygments_lexer": "ipython3",
   "version": "3.8.5"
  }
 },
 "nbformat": 4,
 "nbformat_minor": 4
}
