{
 "cells": [
  {
   "cell_type": "code",
   "execution_count": null,
   "metadata": {},
   "outputs": [],
   "source": [
    "n= [2,3,1,5,1]\n",
    "i=0\n",
    "while i<len(n):\n",
    "    if n[i]!=n(n[i]-1):\n",
    "        n.insert(n[i],n(n[i]-1))\n",
    "    else:\n",
    "        i+=1\n",
    "print()"
   ]
  },
  {
   "cell_type": "code",
   "execution_count": null,
   "metadata": {},
   "outputs": [],
   "source": [
    "class Solution:\n",
    "    def validMountainArray(self, arr: List[int]) -> bool:\n",
    "        i=1\n",
    "        while(i<len(arr) and arr[i]>arr[i-1]):\n",
    "            i+=1\n",
    "        if(i==1 or i==len(arr)):\n",
    "            return False\n",
    "        while(i<len(arr) and arr[i]<arr[i-1]):\n",
    "            i+=1\n",
    "        return i==len(arr)"
   ]
  },
  {
   "cell_type": "code",
   "execution_count": null,
   "metadata": {},
   "outputs": [],
   "source": [
    "class Solution:\n",
    "    def maxArea(self, height: List[int]) -> int:\n",
    "        maxarea=0\n",
    "        l=0\n",
    "        r= len(height)-1\n",
    "        while (l<r):\n",
    "            maxarea=max(maxarea,min(height[l],height[r])*(r-l))\n",
    "            if (height[l]<height[r]):\n",
    "                l+=1\n",
    "            else:\n",
    "                r-=1\n",
    "        return maxarea"
   ]
  },
  {
   "cell_type": "code",
   "execution_count": null,
   "metadata": {},
   "outputs": [],
   "source": [
    "class Solution:\n",
    "    def missingNumber(self, nums: List[int]):\n",
    "        if len(nums)==1:\n",
    "            if nums[0]==0:\n",
    "                return 1\n",
    "            else:\n",
    "                return 0\n",
    "        for i in range(0,len(nums)+1):\n",
    "            if i not in nums:\n",
    "                return i\n",
    "                "
   ]
  },
  {
   "cell_type": "markdown",
   "metadata": {},
   "source": [
    "# Find First and Last Position of Element in Sorted Array\n",
    "\n",
    "Given an array of integers nums sorted in ascending order, find the starting and ending position of a given target value.\n",
    "\n",
    "If target is not found in the array, return [-1, -1].\n",
    "\n",
    "You must write an algorithm with O(log n) runtime complexity.\n",
    "\n",
    " \n",
    "\n",
    "Example 1:\n",
    "\n",
    "Input: nums = [5,7,7,8,8,10], target = 8\n",
    "Output: [3,4]\n",
    "Example 2:\n",
    "\n",
    "Input: nums = [5,7,7,8,8,10], target = 6\n",
    "Output: [-1,-1]\n",
    "Example 3:\n",
    "\n",
    "Input: nums = [], target = 0\n",
    "Output: [-1,-1]\n",
    " \n",
    "\n",
    "Constraints:\n",
    "\n",
    "0 <= nums.length <= 105\n",
    "-109 <= nums[i] <= 109\n",
    "nums is a non-decreasing array.\n",
    "-109 <= target <= 109"
   ]
  },
  {
   "cell_type": "code",
   "execution_count": null,
   "metadata": {},
   "outputs": [],
   "source": [
    "\n",
    "class Solution:\n",
    "    def getLeftPosition(self, nums, target):\n",
    "        left = 0\n",
    "        right = len(nums)-1\n",
    "\n",
    "        while(left <= right):\n",
    "            mid = left+(right-left)//2\n",
    "            if(nums[mid] == target):\n",
    "                if(mid-1 >= 0 and nums[mid-1] != target or mid == 0):\n",
    "                    return mid\n",
    "                right = mid-1\n",
    "            elif(nums[mid] > target):\n",
    "                right = mid-1\n",
    "            else:\n",
    "                left = mid+1\n",
    "\n",
    "        return -1\n",
    "\n",
    "    def getRightPosition(self, nums, target):\n",
    "        left = 0\n",
    "        right = len(nums)-1\n",
    "\n",
    "        while(left <= right):\n",
    "            mid = left+(right-left)//2\n",
    "            if(nums[mid] == target):\n",
    "                if(mid+1 < len(nums) and nums[mid+1] != target or mid == len(nums)-1):\n",
    "                    return mid\n",
    "                left = mid+1\n",
    "            elif(nums[mid] > target):\n",
    "                right = mid-1\n",
    "            else:\n",
    "                left = mid+1\n",
    "\n",
    "        return -1\n",
    "\n",
    "    def searchRange(self, nums: List[int], target: int) -> List[int]:\n",
    "        left = self.getLeftPosition(nums, target)\n",
    "        right = self.getRightPosition(nums, target)\n",
    "\n",
    "        return [left, right]\n"
   ]
  },
  {
   "cell_type": "code",
   "execution_count": null,
   "metadata": {},
   "outputs": [],
   "source": [
    "class Solution:\n",
    "    def searchRange(self, nums: List[int], target: int) -> List[int]:\n",
    "        if target in nums:\n",
    "            start_point = nums.index(target)\n",
    "            end_point = start_point + nums.count(target) - 1\n",
    "            return [start_point, end_point]\n",
    "        else:\n",
    "            return [-1, -1]\n",
    "        "
   ]
  },
  {
   "cell_type": "code",
   "execution_count": null,
   "metadata": {},
   "outputs": [],
   "source": []
  },
  {
   "cell_type": "code",
   "execution_count": null,
   "metadata": {},
   "outputs": [],
   "source": []
  },
  {
   "cell_type": "code",
   "execution_count": null,
   "metadata": {},
   "outputs": [],
   "source": []
  },
  {
   "cell_type": "code",
   "execution_count": null,
   "metadata": {},
   "outputs": [],
   "source": []
  },
  {
   "cell_type": "code",
   "execution_count": null,
   "metadata": {},
   "outputs": [],
   "source": []
  },
  {
   "cell_type": "code",
   "execution_count": null,
   "metadata": {},
   "outputs": [],
   "source": []
  },
  {
   "cell_type": "code",
   "execution_count": null,
   "metadata": {},
   "outputs": [],
   "source": []
  },
  {
   "cell_type": "code",
   "execution_count": null,
   "metadata": {},
   "outputs": [],
   "source": []
  }
 ],
 "metadata": {
  "kernelspec": {
   "display_name": "Python 3",
   "language": "python",
   "name": "python3"
  },
  "language_info": {
   "codemirror_mode": {
    "name": "ipython",
    "version": 3
   },
   "file_extension": ".py",
   "mimetype": "text/x-python",
   "name": "python",
   "nbconvert_exporter": "python",
   "pygments_lexer": "ipython3",
   "version": "3.8.5"
  }
 },
 "nbformat": 4,
 "nbformat_minor": 4
}
