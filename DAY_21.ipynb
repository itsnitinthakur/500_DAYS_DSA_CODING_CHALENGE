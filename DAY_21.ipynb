{
 "cells": [
  {
   "cell_type": "markdown",
   "metadata": {},
   "source": [
    "## Jump Game\n",
    "\n",
    "\n",
    "Given an array of non-negative integers nums, you are initially positioned at the first index of the array.\n",
    "\n",
    "Each element in the array represents your maximum jump length at that position.\n",
    "\n",
    "Determine if you are able to reach the last index.\n",
    "\n",
    " \n",
    "\n",
    "Example 1:\n",
    "\n",
    "Input: nums = [2,3,1,1,4]\n",
    "Output: true\n",
    "Explanation: Jump 1 step from index 0 to 1, then 3 steps to the last index.\n",
    "Example 2:\n",
    "\n",
    "Input: nums = [3,2,1,0,4]\n",
    "Output: false\n",
    "Explanation: You will always arrive at index 3 no matter what. Its maximum jump length is 0, which makes it impossible to reach the last index.\n",
    " \n",
    "\n",
    "Constraints:\n",
    "\n",
    "1 <= nums.length <= 3 * 104\n",
    "0 <= nums[i] <= 105"
   ]
  },
  {
   "cell_type": "code",
   "execution_count": null,
   "metadata": {},
   "outputs": [],
   "source": [
    "    remaining = 0\n",
    "    for i in range(len(nums) - 1): # Skip Last num becuase you have reached end\n",
    "        remaining = max(nums[i], remaining)\n",
    "        if remaining <= 0: return(False)\n",
    "        remaining -= 1\n",
    "    \n",
    "    return(True)"
   ]
  },
  {
   "cell_type": "code",
   "execution_count": null,
   "metadata": {},
   "outputs": [],
   "source": [
    "class Solution:\n",
    "    def canJump(self, nums: List[int]) -> bool:\n",
    "        if len(nums)==1:\n",
    "            return True\n",
    "        n=len(nums)\n",
    "        a=nums[0]\n",
    "        b=nums[0]\n",
    "        i=1\n",
    "        while i<n:\n",
    "            a-=1\n",
    "            b-=1\n",
    "            if a<0:\n",
    "                return False\n",
    "            if i==n-1:\n",
    "                return True\n",
    "            if b<nums[i]:\n",
    "                b=nums[i]\n",
    "            if a==0:\n",
    "                a=b\n",
    "            i+=1"
   ]
  },
  {
   "cell_type": "code",
   "execution_count": null,
   "metadata": {},
   "outputs": [],
   "source": [
    "\n",
    "#fastest\n",
    "\n",
    "class Solution:\n",
    "    def canJump(self, array: List[int]) -> bool:\n",
    "        if(array[0]==0 and len(array)==1):\n",
    "            return(True)\n",
    "        if(array[0]==0):\n",
    "            return(False)\n",
    "        reachable=0\n",
    "        n=len(array)\n",
    "        if(0 not in array[:n-1]):\n",
    "            return(True)\n",
    "        for i in range(n-1):\n",
    "            reach=i+array[i]\n",
    "            reachable=max(reachable,reach)\n",
    "            if(array[i]==0 and reachable==i):\n",
    "                return(False)\n",
    "        if(reachable>=n-1):\n",
    "            return(True)\n",
    "        else:\n",
    "            return(False)"
   ]
  },
  {
   "cell_type": "code",
   "execution_count": null,
   "metadata": {},
   "outputs": [],
   "source": [
    "class Solution(object):\n",
    "    def canJump(self, nums):\n",
    "        last = len(nums)-1\n",
    "        first = last-1\n",
    "        while first >=0:\n",
    "            if nums[first]+first >= last:\n",
    "                last = first\n",
    "                first-=1\n",
    "            else:\n",
    "                first-=1\n",
    "        return last==0"
   ]
  },
  {
   "cell_type": "code",
   "execution_count": null,
   "metadata": {},
   "outputs": [],
   "source": [
    "    def canJump(self, nums: List[int]) -> bool:\n",
    "        if nums == [0]:\n",
    "            return True\n",
    "        \n",
    "        nums = nums[::-1]\n",
    "        counter = 0\n",
    "        had_num0 = False\n",
    "        is_first = nums[0] == 0\n",
    "        for i in nums:\n",
    "            if i == 0:\n",
    "                counter += 1\n",
    "                had_num0 = True\n",
    "            if is_first and i >= counter:\n",
    "                had_num0 = False\n",
    "                counter = 0\n",
    "            if i > counter:\n",
    "                is_first = False\n",
    "                had_num0 = False\n",
    "                counter = 0\n",
    "            if had_num0 and i < counter + 1 and i != 0:\n",
    "                counter += 1\n",
    "        return not(had_num0)"
   ]
  },
  {
   "cell_type": "code",
   "execution_count": null,
   "metadata": {},
   "outputs": [],
   "source": [
    "class Solution:\n",
    "    def canJump(self, nums: List[int]) -> bool:\n",
    "        max_reach = 0\n",
    "        for idx in range(len(nums)):\n",
    "            if max_reach > idx:\n",
    "                max_reach = max(max_reach, nums[idx]+idx)\n",
    "            elif max_reach == idx:\n",
    "                max_reach = nums[idx] + idx\n",
    "            else:\n",
    "                return False\n",
    "        return True"
   ]
  },
  {
   "cell_type": "code",
   "execution_count": null,
   "metadata": {},
   "outputs": [],
   "source": [
    "index = 0\n",
    "for i, num in enumerate(nums):\n",
    "\tif i > index:\n",
    "\t\treturn False\n",
    "\tindex = max(num + i, index)\n",
    "return True"
   ]
  },
  {
   "cell_type": "code",
   "execution_count": null,
   "metadata": {},
   "outputs": [],
   "source": []
  },
  {
   "cell_type": "code",
   "execution_count": null,
   "metadata": {},
   "outputs": [],
   "source": []
  },
  {
   "cell_type": "code",
   "execution_count": null,
   "metadata": {},
   "outputs": [],
   "source": []
  },
  {
   "cell_type": "code",
   "execution_count": null,
   "metadata": {},
   "outputs": [],
   "source": []
  },
  {
   "cell_type": "code",
   "execution_count": null,
   "metadata": {},
   "outputs": [],
   "source": []
  },
  {
   "cell_type": "code",
   "execution_count": null,
   "metadata": {},
   "outputs": [],
   "source": []
  },
  {
   "cell_type": "code",
   "execution_count": null,
   "metadata": {},
   "outputs": [],
   "source": []
  },
  {
   "cell_type": "code",
   "execution_count": null,
   "metadata": {},
   "outputs": [],
   "source": [
    "\n"
   ]
  }
 ],
 "metadata": {
  "kernelspec": {
   "display_name": "Python 3",
   "language": "python",
   "name": "python3"
  },
  "language_info": {
   "codemirror_mode": {
    "name": "ipython",
    "version": 3
   },
   "file_extension": ".py",
   "mimetype": "text/x-python",
   "name": "python",
   "nbconvert_exporter": "python",
   "pygments_lexer": "ipython3",
   "version": "3.8.5"
  }
 },
 "nbformat": 4,
 "nbformat_minor": 4
}
