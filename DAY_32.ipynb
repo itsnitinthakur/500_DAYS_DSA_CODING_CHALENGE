{
 "cells": [
  {
   "cell_type": "markdown",
   "metadata": {},
   "source": [
    "# pick max toys but with only two types"
   ]
  },
  {
   "cell_type": "code",
   "execution_count": 5,
   "metadata": {},
   "outputs": [
    {
     "name": "stdout",
     "output_type": "stream",
     "text": [
      "['ab', 'aba', 'ac', 'acc', 'acca', 'ab']\n",
      "4\n",
      "acca\n"
     ]
    }
   ],
   "source": [
    "s =\"abaccab\"\n",
    "i=0\n",
    "j=1\n",
    "l=[]\n",
    "st=[]\n",
    "\n",
    "while j<=len(s):\n",
    "    z = s[i:j]\n",
    "    if len(set(z))==2:\n",
    "        l.append(len(z))\n",
    "        st.append(z)\n",
    "        j+=1\n",
    "    elif len(set(z))>2:\n",
    "        i+=1\n",
    "    else:\n",
    "        j+=1\n",
    "print(st)\n",
    "print(max(l))\n",
    "for i in st:\n",
    "    if len(i)==max(l):\n",
    "        print(i)"
   ]
  },
  {
   "cell_type": "code",
   "execution_count": null,
   "metadata": {},
   "outputs": [],
   "source": [
    "s =\"bflabisbvie\"\n",
    "i=0\n",
    "j=1\n",
    "l=[]\n",
    "st=[]\n",
    "\n",
    "while j<=len(s)-2:\n",
    "    z = s[i:j]\n",
    "    while z!=\"\":\n",
    "        \n",
    "    if len(z)== len(set(z)):\n",
    "        l.append(len(z))\n",
    "        st.append(z)\n",
    "        j+=1\n",
    "    elif len(z)!= len(set(z)):\n",
    "        i+=1\n",
    "print(st)\n",
    "print(max(l))\n",
    "for i in st:\n",
    "    if len(i)==max(l):\n",
    "        print(i)\n",
    " "
   ]
  },
  {
   "cell_type": "code",
   "execution_count": 8,
   "metadata": {},
   "outputs": [
    {
     "name": "stdout",
     "output_type": "stream",
     "text": [
      "abc12321cba\n"
     ]
    }
   ],
   "source": [
    "s = 'abc12321cba'\n",
    "print(s.replace('0', ''))"
   ]
  },
  {
   "cell_type": "code",
   "execution_count": 54,
   "metadata": {},
   "outputs": [
    {
     "ename": "TypeError",
     "evalue": "slice indices must be integers or None or have an __index__ method",
     "output_type": "error",
     "traceback": [
      "\u001b[1;31m---------------------------------------------------------------------------\u001b[0m",
      "\u001b[1;31mTypeError\u001b[0m                                 Traceback (most recent call last)",
      "\u001b[1;32m<ipython-input-54-46a4999b1ba7>\u001b[0m in \u001b[0;36m<module>\u001b[1;34m\u001b[0m\n\u001b[0;32m     10\u001b[0m \u001b[1;33m\u001b[0m\u001b[0m\n\u001b[0;32m     11\u001b[0m \u001b[1;32mwhile\u001b[0m \u001b[0mj\u001b[0m\u001b[1;33m<=\u001b[0m\u001b[0mlen\u001b[0m\u001b[1;33m(\u001b[0m\u001b[0ms\u001b[0m\u001b[1;33m)\u001b[0m\u001b[1;33m-\u001b[0m\u001b[1;36m2\u001b[0m\u001b[1;33m:\u001b[0m\u001b[1;33m\u001b[0m\u001b[1;33m\u001b[0m\u001b[0m\n\u001b[1;32m---> 12\u001b[1;33m     \u001b[0mz\u001b[0m\u001b[1;33m=\u001b[0m\u001b[0ms\u001b[0m\u001b[1;33m[\u001b[0m\u001b[0mi\u001b[0m\u001b[1;33m:\u001b[0m\u001b[0mj\u001b[0m\u001b[1;33m]\u001b[0m\u001b[1;33m\u001b[0m\u001b[1;33m\u001b[0m\u001b[0m\n\u001b[0m\u001b[0;32m     13\u001b[0m     \u001b[1;32mif\u001b[0m \u001b[0mlen\u001b[0m\u001b[1;33m(\u001b[0m\u001b[0mz\u001b[0m\u001b[1;33m)\u001b[0m\u001b[1;33m>=\u001b[0m\u001b[0mlen\u001b[0m\u001b[1;33m(\u001b[0m\u001b[0mt\u001b[0m\u001b[1;33m)\u001b[0m\u001b[1;33m:\u001b[0m\u001b[1;33m\u001b[0m\u001b[1;33m\u001b[0m\u001b[0m\n\u001b[0;32m     14\u001b[0m \u001b[1;33m\u001b[0m\u001b[0m\n",
      "\u001b[1;31mTypeError\u001b[0m: slice indices must be integers or None or have an __index__ method"
     ]
    }
   ],
   "source": [
    "import collections\n",
    "s =\"vkxtocndtozc\"\n",
    "t=\"toc\"\n",
    "c = collections.Counter(t)\n",
    "i=1\n",
    "j=2\n",
    "l=[]\n",
    "st=[]\n",
    "\n",
    "\n",
    "while j<=len(s)-2:\n",
    "    z=s[i:j]\n",
    "    if len(z)>=len(t):\n",
    "        \n",
    "        z=collections.Counter(z)\n",
    "        for i in z.keys():\n",
    "            if i in c.keys():\n",
    "                c[i]-=1\n",
    "        if sum(c.values())==0:\n",
    "            l.append(len(z))\n",
    "            st.append(z)\n",
    "            i+=1\n",
    "        elif sum(c.values())>0:\n",
    "            j+=1\n",
    "    else:\n",
    "        j+=1\n",
    "#print(st)\n",
    "#print(min(l))\n",
    "for i in st:\n",
    "    if len(i)==max(l):\n",
    "        print(i)"
   ]
  },
  {
   "cell_type": "code",
   "execution_count": 31,
   "metadata": {},
   "outputs": [
    {
     "name": "stdout",
     "output_type": "stream",
     "text": [
      "Counter({'t': 2, 'o': 1, 'c': 1})\n",
      "Counter({'t': 1, 'o': 0, 'c': 0})\n"
     ]
    }
   ],
   "source": [
    "import collections\n",
    "s =\"vkxtocndtozc\"\n",
    "t=\"ttoc\"\n",
    "c = collections.Counter(t)\n",
    "z = collections.Counter(s)\n",
    "print(c)\n",
    "for i in z.keys():\n",
    "    if i in c.keys():\n",
    "        c[i]-=1\n",
    "print(c)\n",
    "        \n",
    "        "
   ]
  },
  {
   "cell_type": "code",
   "execution_count": 46,
   "metadata": {},
   "outputs": [
    {
     "name": "stdout",
     "output_type": "stream",
     "text": [
      "k\n",
      "wfs\n",
      "wfs\n"
     ]
    }
   ],
   "source": [
    "s =\"kwfssosflvs\"\n",
    "i=1\n",
    "j=4\n",
    "print(s[0:1])\n",
    "z = s[1:4]\n",
    "print(z)\n",
    "print(s[i:j])"
   ]
  },
  {
   "cell_type": "code",
   "execution_count": null,
   "metadata": {},
   "outputs": [],
   "source": []
  }
 ],
 "metadata": {
  "kernelspec": {
   "display_name": "Python 3",
   "language": "python",
   "name": "python3"
  },
  "language_info": {
   "codemirror_mode": {
    "name": "ipython",
    "version": 3
   },
   "file_extension": ".py",
   "mimetype": "text/x-python",
   "name": "python",
   "nbconvert_exporter": "python",
   "pygments_lexer": "ipython3",
   "version": "3.8.5"
  }
 },
 "nbformat": 4,
 "nbformat_minor": 4
}
