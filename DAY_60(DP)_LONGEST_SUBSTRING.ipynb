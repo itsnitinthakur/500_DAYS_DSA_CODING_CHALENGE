{
 "cells": [
  {
   "cell_type": "markdown",
   "metadata": {},
   "source": [
    "# Longest Palindromic Substring\n",
    "\n",
    "Given a string s, return the longest palindromic substring in s.\n",
    "\n",
    " \n",
    "\n",
    "Example 1:\n",
    "\n",
    "Input: s = \"babad\"\n",
    "Output: \"bab\"\n",
    "Note: \"aba\" is also a valid answer.\n",
    "Example 2:\n",
    "\n",
    "Input: s = \"cbbd\"\n",
    "Output: \"bb\"\n",
    "Example 3:\n",
    "\n",
    "Input: s = \"a\"\n",
    "Output: \"a\"\n",
    "Example 4:\n",
    "\n",
    "Input: s = \"ac\"\n",
    "Output: \"a\"\n",
    " \n",
    "\n",
    "Constraints:\n",
    "\n",
    "1 <= s.length <= 1000\n",
    "s consist of only digits and English letters (lower-case and/or upper-case),"
   ]
  },
  {
   "cell_type": "code",
   "execution_count": 7,
   "metadata": {},
   "outputs": [
    {
     "data": {
      "text/plain": [
       "'ggggggggg'"
      ]
     },
     "execution_count": 7,
     "metadata": {},
     "output_type": "execute_result"
    }
   ],
   "source": [
    "class Solution:\n",
    "    def longestPalindrome(self, s: str) -> str:\n",
    "        n = len(s)\n",
    "        if(n<2):\n",
    "            return s\n",
    "        left = 0\n",
    "        right = 0\n",
    "\n",
    "        palindrome = [[0]*n for _ in range(n)]\n",
    "\n",
    "        for j in range(1,n):\n",
    "            for i in range(0,j):\n",
    "                innerIsPalindrome = palindrome[i+1][j-1] or j-i<=2\n",
    "                if(s[i] == s[j] and innerIsPalindrome):\n",
    "                    palindrome[i][j] = True\n",
    "                    if(j-i>right-left):\n",
    "                        left = i\n",
    "                        right = j\n",
    "\n",
    "        return s[left:right+1] \n",
    "s=Solution()\n",
    "s.longestPalindrome(\"sasogaognpaalggggggggg\")"
   ]
  },
  {
   "cell_type": "code",
   "execution_count": null,
   "metadata": {},
   "outputs": [],
   "source": [
    "class Solution(object):\n",
    "    def longestPalindrome(self, s):\n",
    "        \"\"\"\n",
    "        :type s: str\n",
    "        :rtype: str\n",
    "        \"\"\"\n",
    "        n = len(s)        \n",
    "        pos = [[True]*n for i in range(n)]\n",
    "        \n",
    "        max_str = s[0]\n",
    "        for d in range(1, n):\n",
    "            for i in range(n-d):\n",
    "                if pos[i+1][i+d-1] and s[i]==s[i+d]:\n",
    "                    pos[i][i+d] = True\n",
    "                    if d+1>len(max_str):\n",
    "                        max_str = s[i:i+d+1]\n",
    "                else:\n",
    "                    pos[i][i+d] = False\n",
    "        return max_str"
   ]
  },
  {
   "cell_type": "code",
   "execution_count": 9,
   "metadata": {},
   "outputs": [],
   "source": [
    "#speed 92% and space above 82 %\n",
    "class Solution:\n",
    "    def longestPalindrome(self, s: str) -> str:\n",
    "        res=\"\"\n",
    "        size=0\n",
    "        center = 0\n",
    "        n=len(s)\n",
    "        while center<n:\n",
    "            left = center-1\n",
    "            right= center+1\n",
    "            while right<n and s[right]==s[center]:\n",
    "                right+=1\n",
    "            while left>=0 and right<n and s[left]==s[right]:\n",
    "                left-=1\n",
    "                right+=1\n",
    "            if right-left-1>size:\n",
    "                size=right-left-1\n",
    "                res = s[left+1:right]\n",
    "            center+=1\n",
    "        return res"
   ]
  },
  {
   "cell_type": "code",
   "execution_count": 8,
   "metadata": {},
   "outputs": [],
   "source": [
    "# speed 65% and space 99%\n",
    "class Solution:\n",
    "    def longestPalindrome(self, s: str) -> str:\n",
    "        def pali(idx1, idx2):\n",
    "            l = idx1\n",
    "            r = idx2 \n",
    "            while l>=0 and r<=len(s)-1 and s[l] == s[r]:\n",
    "                l -= 1\n",
    "                r += 1\n",
    "            return s[l+1: r]\n",
    "        \n",
    "        maxglobal = ''\n",
    "        for i in range(len(s)):\n",
    "            word1 = pali(i, i)\n",
    "            word2 = pali(i, i+1)\n",
    "            maxsofar = word1 if len(word1) > len(word2) else word2\n",
    "            maxglobal = maxglobal if len(maxglobal) > len(maxsofar) else maxsofar\n",
    "\n",
    "        return maxglobal"
   ]
  },
  {
   "cell_type": "code",
   "execution_count": null,
   "metadata": {},
   "outputs": [],
   "source": [
    "class Solution:\n",
    "    def longestPalindrome(self, s: str) -> str:\n",
    "        arr=[]\n",
    "        for i in range(len(s)):\n",
    "            k=''\n",
    "            o=''\n",
    "            for j in range(i,len(s)):\n",
    "                k=s[j]+k\n",
    "                o+=s[j]\n",
    "                if k==o:\n",
    "                    arr.append(k)\n",
    "        arr.sort(key=len,reverse=True)\n",
    "        return arr[0]"
   ]
  },
  {
   "cell_type": "code",
   "execution_count": null,
   "metadata": {},
   "outputs": [],
   "source": []
  },
  {
   "cell_type": "code",
   "execution_count": null,
   "metadata": {},
   "outputs": [],
   "source": []
  },
  {
   "cell_type": "code",
   "execution_count": null,
   "metadata": {},
   "outputs": [],
   "source": []
  },
  {
   "cell_type": "code",
   "execution_count": null,
   "metadata": {},
   "outputs": [],
   "source": []
  },
  {
   "cell_type": "code",
   "execution_count": null,
   "metadata": {},
   "outputs": [],
   "source": []
  },
  {
   "cell_type": "code",
   "execution_count": null,
   "metadata": {},
   "outputs": [],
   "source": []
  },
  {
   "cell_type": "code",
   "execution_count": null,
   "metadata": {},
   "outputs": [],
   "source": []
  },
  {
   "cell_type": "code",
   "execution_count": null,
   "metadata": {},
   "outputs": [],
   "source": []
  },
  {
   "cell_type": "code",
   "execution_count": null,
   "metadata": {},
   "outputs": [],
   "source": []
  }
 ],
 "metadata": {
  "kernelspec": {
   "display_name": "Python 3",
   "language": "python",
   "name": "python3"
  },
  "language_info": {
   "codemirror_mode": {
    "name": "ipython",
    "version": 3
   },
   "file_extension": ".py",
   "mimetype": "text/x-python",
   "name": "python",
   "nbconvert_exporter": "python",
   "pygments_lexer": "ipython3",
   "version": "3.8.5"
  }
 },
 "nbformat": 4,
 "nbformat_minor": 4
}
